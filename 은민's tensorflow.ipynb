{
 "cells": [
  {
   "cell_type": "code",
   "execution_count": null,
   "metadata": {},
   "outputs": [],
   "source": [
    "# 개념"
   ]
  },
  {
   "cell_type": "code",
   "execution_count": null,
   "metadata": {},
   "outputs": [],
   "source": [
    "# 신경망 학습\n",
    "# 신경망에서는 가중치를 학습한다 ( 가중치는 행렬로 이루어져있다 ) \n",
    "# 입력dats 도 행렬로 이루어져있다 , 계수도 행렬로 이루어져있다. \n",
    "# 둘이곱하는 것(=내적) : 내적을 통해서 설명력을 표현할 수 있다 \n",
    "\n",
    "# 선형문제를 비선형문제로 풀기위해서는 activation function 을 달아준다\n",
    "# activation function 에는 sigmoid(0~1사이의 값을 값는다), tanh (-1~1 사이의 값을 갖는다), softmax( 분류기라고 보자 )\n",
    "# 위와 같은 3가지의 activation function 을 이용하면 선형문제를 비선형문제로 푼다 . 행렬곱을 하고 나서 activation function을 달아준다. 근데 요새는 연산을 하고 나서도 거의 activation function 을 달아준다 \n",
    "# 즉 activaiton function 을 달아줘야 xor 문제가 해결이된다 ( 가중치와 가중치를 곱하고 activation function 을 곱해줘야한다)\n",
    "\n",
    "# tensorflow 로 가중치를 풀 수 있기 때문에 요새는 딥러닝이 각광받고 있다\n",
    "# 가중치 사이즈만 잘 구해주면 된다. 가중치 학습만 끝나면 예측, 분류를 쉽게 할 수 있다 , 데이터를 통해 가중치를 학습한다  \n",
    "\n",
    "# 예측 : mse/ 분류 : enthrophy ( 엔트로피나 mse 나 같다고 보자 ) \n",
    "\n",
    "# cost function 를 통해서 가중치를 학습하게 된다 ( 역전파 )\n",
    "\n",
    "# 데이터를 잘라서 넘기는 것을 mini batch 라고 한다. \n",
    "#(하나하나씩 가중치를 수정하다보면 복잡하니까 일정한 사이즈로 나누는 미니배치를 사용하면 지역해문제를 해결하고 속도가 빨라진다 ) \n",
    "\n",
    "# optimizer 가 control 하는 것은 learning rate(얼마나학습할것인지 ) 와  기울기 이다 \n",
    "# 학습률이 크면 빨리빨리 학습이 되나 미세하게 넘어가지 못하고 크게크게 넘어간다\n",
    "# 너무 미세하게 확인하고 넘어가면 시간이 오래걸린다 . 이런것을 조절하는 것이 optimizer 이다. \n",
    "## learning rate 와 모멘텀 전부 고려해서 만든 optimizer 가 adam 이다 \n"
   ]
  },
  {
   "cell_type": "code",
   "execution_count": null,
   "metadata": {},
   "outputs": [],
   "source": [
    "#오늘 내일, 가중치를 조절하는 것, 가중치 조절 전 행렬에 대한 지식을 볼 것이다 , 예측과 분류를 해볼것이다. "
   ]
  },
  {
   "cell_type": "code",
   "execution_count": null,
   "metadata": {},
   "outputs": [],
   "source": [
    "# scikits 에서 특성추출을 할떈 pca 로 했다 ( 근데 pca 는 선형으로 뽑아낸다. 그래서 비선형에는 약하다 )\n",
    "# 비지도학습에서는 GAN 이나 AZ 를 이용함"
   ]
  },
  {
   "cell_type": "code",
   "execution_count": null,
   "metadata": {},
   "outputs": [],
   "source": []
  },
  {
   "cell_type": "code",
   "execution_count": null,
   "metadata": {},
   "outputs": [],
   "source": []
  },
  {
   "cell_type": "code",
   "execution_count": null,
   "metadata": {},
   "outputs": [],
   "source": [
    "# anaconda prompt : \n",
    "# conda install tensorflow=1.14.0"
   ]
  },
  {
   "cell_type": "code",
   "execution_count": 2,
   "metadata": {},
   "outputs": [
    {
     "name": "stdout",
     "output_type": "stream",
     "text": [
      "1.14.0\n"
     ]
    }
   ],
   "source": [
    "import tensorflow as tf\n",
    "print(tf.__version__)"
   ]
  },
  {
   "cell_type": "code",
   "execution_count": null,
   "metadata": {},
   "outputs": [],
   "source": [
    "# cuda, cudnn 을 설치를 하고 세팅을 해야 gpu 를 이용해서 고속으로 처리할수있다 "
   ]
  },
  {
   "cell_type": "code",
   "execution_count": null,
   "metadata": {},
   "outputs": [],
   "source": [
    "# constant, variables( 변수 ), placeholder(미니배치만큼 데이터를 넘겨준다)\n",
    "#  feeding 을 할땐 for문이 들어간다 (반복되기때문에)\n",
    "# 데이터가 많으면 메모리에 다 올라올수 없다. 메모리에 미니배치사이즈만큼 queue 를 만들어놓고,  queue 에 넣어뒀다가 뺐다가 한다."
   ]
  },
  {
   "cell_type": "code",
   "execution_count": null,
   "metadata": {},
   "outputs": [],
   "source": [
    "# tensorflow 도 대용량데이터를 처리하기떄문에 데이터가 잘게나누어져있다 "
   ]
  },
  {
   "cell_type": "code",
   "execution_count": null,
   "metadata": {},
   "outputs": [],
   "source": []
  },
  {
   "cell_type": "code",
   "execution_count": 8,
   "metadata": {},
   "outputs": [
    {
     "name": "stdout",
     "output_type": "stream",
     "text": [
      "Tensor(\"Const_5:0\", shape=(), dtype=string)\n",
      "b'Hello, TensorFlow!'\n"
     ]
    }
   ],
   "source": [
    "# 데이터 타입\n",
    "import tensorflow as tf\n",
    "hello = tf.constant('Hello, TensorFlow!')  # 상수로 선언을 했다\n",
    "\n",
    "# tensorflow 에는 constant, variables, placeholder 가 있다 \n",
    "\n",
    "sess= tf.Session() # session 을 연결했다\n",
    "\n",
    "print(hello) # tensorflow 의 데이터는 직접 확인이 불가능하다  ( tensor라는 것만 알려주고, 내용은 안보여준다 )\n",
    "print(sess.run(hello)) # sess.run 하면 numpy 데이터로 변경해서 출력이 된다 ."
   ]
  },
  {
   "cell_type": "code",
   "execution_count": null,
   "metadata": {},
   "outputs": [],
   "source": [
    "# anaconda propmpt 에서 가상화면 깔아보자 (안해도 될듯)\n",
    "# conda create --name tf_test python anaconda\n",
    "# 깔고 나서 \n",
    "# activate tf_test 해보면 tf_test 라고 앞에 띈다 ( 가상화면 으로 바뀐것)\n",
    "# conda update conda\n",
    "##conda update pip\n",
    "# conda install numpy\n",
    "# conda install pandas\n",
    "# conda install jupyter\n",
    "#conda install scipy \n",
    "#conda install scikit-image\n",
    "# conda install seaborn\n",
    "# conda install tensorflow=1.14.0\n",
    "# jupyter kernel install "
   ]
  },
  {
   "cell_type": "code",
   "execution_count": 16,
   "metadata": {},
   "outputs": [
    {
     "name": "stdout",
     "output_type": "stream",
     "text": [
      "<tf.Variable 'y_4:0' shape=() dtype=int32_ref>\n",
      "40\n"
     ]
    }
   ],
   "source": [
    "#\n",
    "x=tf.constant(35,name='x')  \n",
    "##35라고 주면되는데 왜 또 name 에 이름을 주고있는건가 이유는? \n",
    "# 1. model 의 그래프 구조에서 확인하기 위해서 \n",
    "# 2. 모델을 그대로 저장할때 메모리 위치를 확인하기 위해서 \n",
    "\n",
    "y=tf.Variable(x+5, name='y') # 이번엔 variable 을 선언함  \n",
    "## name='y' 에서 꼭  y 라고 안해도 된다 \n",
    "print(y)  # 이거역시 마찬가지로 내용이 안보인다\n",
    "\n",
    "# 변수가 있는 경우 ( variable 에 있는 경우)  반드시 초기화를 해줘야한다.\n",
    "model=tf.global_variables_initializer() # <- 이문장을 통해서 '변수초기화' 한다.(constant 일때는 안했지만 variable 일때는 해야한다)\n",
    "\n",
    "######\n",
    "with tf.Session() as session:  # 이 3줄은 학습을 시키는 과정이라고 생각하자\n",
    "               session.run(model)\n",
    "               print (session.run(y)) # 내용이 인쇄가 된다. "
   ]
  },
  {
   "cell_type": "code",
   "execution_count": 17,
   "metadata": {},
   "outputs": [
    {
     "name": "stdout",
     "output_type": "stream",
     "text": [
      "[5 7 9]\n"
     ]
    }
   ],
   "source": [
    "# pandas 에서 데이터를 초기화할때 list 나 dict 에 넣어서 초기화했었는데 탠설플로우도 마찬가지다\n",
    "a=tf.constant([1,2,3], name='a')  # 이 constant 는 gpu공간에 만들어진다고 생각하자!!\n",
    "b=tf.constant([4,5,6], name='b')\n",
    "add_op = a+b\n",
    "\n",
    "with tf.Session() as session:\n",
    "    print(session.run(add_op))  # 요소끼리 계산이 된것을 확인할수있다 (즉 행렬연산이 아니라 배열연산이다 )"
   ]
  },
  {
   "cell_type": "code",
   "execution_count": 18,
   "metadata": {},
   "outputs": [],
   "source": [
    "# 주입변수\n",
    "a = tf.placeholder(tf.int16) # 텐설프로우에서 placeholder 을 호출한다,  # 데이터 없이 공간만 확보  \n",
    "b=  tf.placeholder(tf.int16)\n",
    "add= tf.add(a,b) # 더했다\n",
    "mul=tf.multiply(a,b) # 곱했다 \n",
    "total=tf.multiply(add,mul) # 곱했다  \n",
    "\n",
    "## -->순차적으로 게산이 된다 , 자료구조가 graph 로 구성이 된다 \n",
    "# 위와 같이 구조를 만들었다. (즉 골격을 생성하는 것이다 ) # 이제 session 을 연결해야 실행이 된다  "
   ]
  },
  {
   "cell_type": "code",
   "execution_count": 21,
   "metadata": {},
   "outputs": [
    {
     "name": "stdout",
     "output_type": "stream",
     "text": [
      "feed 변수합 : 5\n",
      "feed 변수합 : 6\n",
      "feed 변수합 : 30\n"
     ]
    }
   ],
   "source": [
    "with tf.Session() as sess: # with 의 좋은점 : with 하고 그 안에 session 을 쓰면 with가 끝나면 자동으로 메모리가 삭제가 된다 \n",
    "    print(\"feed 변수합 : %i\" % sess.run(add,   # 데이터 주입을 호출 \n",
    "                                     feed_dict={a:2, b:3}))  # feed_dict 이라는 옵션에 dictionary로 데이터를 준다 \n",
    "    print(\"feed 변수합 : %i\" % sess.run(mul, feed_dict={a:2, b:3}))\n",
    "    print(\"feed 변수합 : %i\" % sess.run(total, feed_dict={a:2, b:3}))"
   ]
  },
  {
   "cell_type": "code",
   "execution_count": 22,
   "metadata": {},
   "outputs": [
    {
     "name": "stdout",
     "output_type": "stream",
     "text": [
      "feed 변수합 : 30\n"
     ]
    }
   ],
   "source": [
    "with tf.Session() as sess:  # 이렇게 total 만 써도,  위에 주렁주렁 연결된 add , mul 도 다 계산이 되므로 출력이 된다 (graph 구조로 연결이 되어있는것!!)     \n",
    "    print(\"feed 변수합 : %i\" % sess.run(total, feed_dict={a:2, b:3}))"
   ]
  },
  {
   "cell_type": "code",
   "execution_count": null,
   "metadata": {},
   "outputs": [],
   "source": []
  },
  {
   "cell_type": "code",
   "execution_count": 24,
   "metadata": {},
   "outputs": [
    {
     "name": "stdout",
     "output_type": "stream",
     "text": [
      "[[12.]]\n"
     ]
    }
   ],
   "source": [
    "matrix1 =tf.constant([[3.,3.]]) # constant-> 상수-> 1x2 이다\n",
    "matrix2 = tf.constant([[2.],[2.]]) # 이건 2x1 이다.  \n",
    "product = tf.matmul(matrix1, matrix2) # matrix multiply  (둘이 곱하면 1x1 이 나와야한다)\n",
    "# product 에는 결과가 들어가있는것이 아니다. 아래에서 sess.run 을 해야 결과가 나온다 \n",
    "# 그래프로 연결되어있는것이다. 아래 session 부분이 실행부분이다 \n",
    "\n",
    "with tf.Session() as sess:\n",
    "    result = sess.run(product)\n",
    "    print (result)"
   ]
  },
  {
   "cell_type": "code",
   "execution_count": 28,
   "metadata": {},
   "outputs": [],
   "source": [
    "zeros=tf.zeros([2,2]) # zeros 는 2x2 즉 4개의 요소를 0으로 만든다\n",
    "ones=tf.ones([6]) # 1로 초기화된다 \n",
    "uniform = tf.random_uniform([3,3,3], minval=0.0, maxval=10)  # random_uniform -> 균등분포\n",
    "normal = tf.random_normal([3,3,3], mean=0.0, stddev=2.0) # 정규분포\n",
    "trunc = tf.truncated_normal([2,2],mean=5.0, stddev=1.0) # truncatedf_normal -->정규분포는 정규분포인데 표준편차 2배내의 숫자로만 초기화된다 \n",
    "random_var = tf.Variable(tf.truncated_normal([2,2]))"
   ]
  },
  {
   "cell_type": "code",
   "execution_count": 31,
   "metadata": {},
   "outputs": [
    {
     "name": "stdout",
     "output_type": "stream",
     "text": [
      "[[3.4709134 4.1622953]\n",
      " [3.6762419 6.011849 ]]\n",
      "변수초기화 [[ 0.13659897 -1.0395554 ]\n",
      " [ 0.41003177 -0.06150906]]\n"
     ]
    }
   ],
   "source": [
    "init=tf.global_variables_initializer() # 이것을 통해서 초기화된다\n",
    "sess=tf.Session()\n",
    "sess.run(init) # init 은 초기화함수이고 sess.run 에 넣어서 실행을 시킨다 \n",
    "print(sess.run(trunc))\n",
    "print('변수초기화', sess.run(random_var)) # 2x2 로 초기화된다 "
   ]
  },
  {
   "cell_type": "code",
   "execution_count": null,
   "metadata": {},
   "outputs": [],
   "source": []
  },
  {
   "cell_type": "code",
   "execution_count": 33,
   "metadata": {},
   "outputs": [
    {
     "name": "stdout",
     "output_type": "stream",
     "text": [
      "<class 'tensorflow.python.framework.tensor_shape.TensorShape'>\n",
      "(6, 2)\n",
      "(2, 6)\n"
     ]
    }
   ],
   "source": [
    "import tensorflow as tf\n",
    "my_tensor = tf.constant(0, shape=[6,2]) # constant 로 0으로 초기화하고 shape 를 6x2 로 주었다 (즉 6x2 의 행렬로 되고 상수화돼서 저장이된다) , 상수화되면 값을 못바꿈 \n",
    "my_static_shape = my_tensor.get_shape()\n",
    "print(type(my_static_shape))\n",
    "print(my_static_shape) # 내용은 sess.run 으로 확인하는데 shape 즉 차수는 그냥 함수(get_shape) 로 호출할수있다\n",
    "\n",
    "# 전치시켜보자\n",
    "my_tensor_transposed=tf.transpose(my_tensor)\n",
    "print(my_tensor_transposed.get_shape())"
   ]
  },
  {
   "cell_type": "code",
   "execution_count": 35,
   "metadata": {},
   "outputs": [
    {
     "name": "stdout",
     "output_type": "stream",
     "text": [
      "[0. 0.]\n"
     ]
    },
    {
     "name": "stderr",
     "output_type": "stream",
     "text": [
      "C:\\Users\\ICT01_01\\Anaconda3\\lib\\site-packages\\tensorflow\\python\\client\\session.py:1735: UserWarning: An interactive session is already active. This can cause out-of-memory errors in some cases. You must explicitly call `InteractiveSession.close()` to release resources held by the other session(s).\n",
      "  warnings.warn('An interactive session is already active. This can '\n"
     ]
    }
   ],
   "source": [
    "import tensorflow as tf\n",
    "tf.InteractiveSession() # 대화형 세션을 호출하는 중임 \n",
    "tf.zeros(2)\n",
    "a=tf.zeros(2)\n",
    "print(a.eval()) # 바로 값이 보인다. 즉 대화형세션일떄는 호출하고나서 eval 함수를 쓰면 바로 값을 출력해준다 "
   ]
  },
  {
   "cell_type": "code",
   "execution_count": 36,
   "metadata": {},
   "outputs": [],
   "source": [
    "def showvalue(t):\n",
    "    sess=tf.InteractiveSession()\n",
    "    tf.global_variables_initializer().run() #chaining\n",
    "    print(t.eval())\n",
    "    sess.close() \n",
    "    \n",
    "    # 프로그램이 길어졌을떄 interactivession 을 이용해서 이렇게 쓰면 값을 확인할수있다 (아래참고)"
   ]
  },
  {
   "cell_type": "code",
   "execution_count": 38,
   "metadata": {},
   "outputs": [
    {
     "name": "stdout",
     "output_type": "stream",
     "text": [
      "[ 3.5 10.1]\n",
      "[-8  5 17]\n"
     ]
    }
   ],
   "source": [
    "c2,c3=tf.constant([1.2, 5.6]), tf.constant([-4,-1,7])\n",
    "v2,v3 = tf.Variable([2.3,4.5]), tf.Variable([-2, 3,5])\n",
    "showvalue(tf.add_n([c2,v2]))  \n",
    "showvalue(tf.add_n([c3,v3,v3])) # add_n 이면 2개말고도 더 많이 계산가능함 "
   ]
  },
  {
   "cell_type": "code",
   "execution_count": null,
   "metadata": {},
   "outputs": [],
   "source": [
    "# 2x +y+z=1\n",
    "# 4x+3y+4x=2\n",
    "# -4x+2y+2z=-6 을 풀어보자\n",
    "\n",
    "# A dot x =[1,2,-6]   이런꼴이다 --> 이걸 풀려면 A의 역행렬을 양변에 곱한다. 그럼  x,y,z 를 구할 수 있다 \n",
    "#       y\n",
    "#       z"
   ]
  },
  {
   "cell_type": "code",
   "execution_count": 41,
   "metadata": {},
   "outputs": [
    {
     "name": "stdout",
     "output_type": "stream",
     "text": [
      "[[ 2.  1.  1.]\n",
      " [ 4.  3.  4.]\n",
      " [-4.  2.  2.]]\n",
      "[[ 1.]\n",
      " [ 2.]\n",
      " [-6.]]\n"
     ]
    }
   ],
   "source": [
    "sess=tf.Session()\n",
    "\n",
    "x=tf.constant([2.0, 1.0, 1.0, 4,3,4,-4,2,2],shape=[3,3]) # 일단초기화한다  (앞에있는것을 행렬로 만든다)\n",
    "print(sess.run(x))\n",
    "y=tf.constant([1.0, 2,-6], shape=[3,1]) # 뒤에있는 것을 행렬로 만든다\n",
    "print(sess.run(y))\n",
    "\n"
   ]
  },
  {
   "cell_type": "code",
   "execution_count": 43,
   "metadata": {},
   "outputs": [
    {
     "name": "stdout",
     "output_type": "stream",
     "text": [
      "계수: [[ 1.0000001]\n",
      " [-2.0000002]\n",
      " [ 1.0000001]]\n",
      "[[ 1.0000001]\n",
      " [-2.0000002]\n",
      " [ 1.0000001]]\n"
     ]
    }
   ],
   "source": [
    "z= tf.matrix_solve(x,y)  # matrix_solve 는 앞에 있는 데이터의 역행렬을 구해서 그걸 곱해서 결과를 구해주는 함수이다 \n",
    "# 즉 위에서 구한 행렬을 가져와서 역행렬을 구하고 곱해서 답을 구하는 것\n",
    "\n",
    "result=sess.run(z)\n",
    "print('계수:',result)\n",
    "print(sess.run(z))"
   ]
  },
  {
   "cell_type": "code",
   "execution_count": null,
   "metadata": {},
   "outputs": [],
   "source": [
    "## 맞는지확인해보자ㅑ\n",
    "# 2*1 +(-2)+1 = 1 이므로 맞다 "
   ]
  },
  {
   "cell_type": "code",
   "execution_count": null,
   "metadata": {},
   "outputs": [],
   "source": [
    "\n",
    "# 즉 행렬을 이용해서 다차방정식을 풀어내는 것을 확인했다 "
   ]
  },
  {
   "cell_type": "code",
   "execution_count": 45,
   "metadata": {},
   "outputs": [
    {
     "name": "stdout",
     "output_type": "stream",
     "text": [
      "[1.0000001]\n",
      "[[ 1.0000001]\n",
      " [ 2.       ]\n",
      " [-6.000001 ]]\n"
     ]
    }
   ],
   "source": [
    "print(2.0 * result[0] + 1.0*result[1]+1.0 *result[2])\n",
    "print(sess.run(tf.matmul(x,z))) # matmul 하면 [1,2,-6] 이란 결과 즉 y 가 나온다 "
   ]
  },
  {
   "cell_type": "code",
   "execution_count": null,
   "metadata": {},
   "outputs": [],
   "source": []
  },
  {
   "cell_type": "code",
   "execution_count": 47,
   "metadata": {},
   "outputs": [
    {
     "name": "stdout",
     "output_type": "stream",
     "text": [
      "해: [[ 1.0000002]\n",
      " [-2.0000005]\n",
      " [ 1.0000002]]\n"
     ]
    }
   ],
   "source": [
    "# matrix_solve 는 앞에있는 것의 역행렬을 구하는 것이라했다\n",
    "# 맞는지 직접 아래계산을 통해서 확인해보자!!!\n",
    "\n",
    "x_1= tf.matrix_inverse(x) # x 의 역행렬 구함\n",
    "z= tf.matmul(x_1,y)\n",
    "print(\"해:\", sess.run(z))"
   ]
  },
  {
   "cell_type": "code",
   "execution_count": 53,
   "metadata": {},
   "outputs": [
    {
     "name": "stdout",
     "output_type": "stream",
     "text": [
      "[9.508034   0.77286935] \n",
      "\n",
      "[[-0.38631773 -0.92236584]\n",
      " [-0.92236584  0.38631773]] \n",
      "\n",
      "[[-0.42866713  0.8059641 ]\n",
      " [-0.56630695  0.1123824 ]\n",
      " [-0.70394677 -0.58119917]] \n",
      "\n"
     ]
    }
   ],
   "source": [
    "\n",
    "a=tf.constant([1,2,3,4,5,6], shape=[2,3])\n",
    "a=tf.to_float(a)\n",
    "s,u,v=tf.svd(a) # svd 를 통해서 3개로 나누어짐 (3개를 singula value 라고 한다)  \n",
    "# 실제로는 u,s,v 순으로 정렬됨 ->  u(2x2), s, v(3x2) 이고 s 는 연결해주는 것이므로 1x2 로 나온다 \n",
    " # u 는 왼쪽, v 는 오른쪽, s 는 가운데임 \n",
    "# v는 3x3 이 나와야하는데 선생님이 잘못쓰신듯! shape 가 2x3 이였는데 그거에 따라서 u 는 2x2 . v 는 3 x3 그리고 s 는 그거에 맞게 나옴\n",
    "    \n",
    "# svd 는 특이행렬분해를 말하는 것이다 (singular value decomposition )  특이행렬분해는 행열이 다를때도 가능(같을때도 가능) \n",
    "# pca 할때는 고유값분해를 했다 ( eigenvalue + eigenvector 로 나누어진다) , 고유값분해는 정방행렬에만 가능하다 \n",
    "\n",
    "\n",
    "print(sess.run(s),'\\n')\n",
    "\n",
    "print(sess.run(u),'\\n')\n",
    "print(sess.run(v),'\\n')"
   ]
  },
  {
   "cell_type": "code",
   "execution_count": 54,
   "metadata": {},
   "outputs": [
    {
     "name": "stdout",
     "output_type": "stream",
     "text": [
      "[[1 0 0 0]\n",
      " [0 2 0 0]\n",
      " [0 0 3 0]\n",
      " [0 0 0 4]]\n"
     ]
    }
   ],
   "source": [
    "diagnoal = [1,2,3,4]\n",
    "dia=tf.diag(diagnoal) #diag 는  대각행렬을 만들어준다 ( one-hot encoding 할떄 많이 쓰인다 )\n",
    "print(sess.run(dia)) "
   ]
  },
  {
   "cell_type": "code",
   "execution_count": 55,
   "metadata": {},
   "outputs": [
    {
     "name": "stdout",
     "output_type": "stream",
     "text": [
      "[1 2 3 4]\n",
      "10\n"
     ]
    }
   ],
   "source": [
    "print(sess.run(tf.diag_part(dia))) # diag_part 하면 대각행렬 원소를 뽑아준다\n",
    "print(sess.run(tf.trace(dia))) # trace 하면 뽑아준 대각행렬원소를 전부 더해준다 "
   ]
  },
  {
   "cell_type": "code",
   "execution_count": null,
   "metadata": {},
   "outputs": [],
   "source": []
  },
  {
   "cell_type": "code",
   "execution_count": 56,
   "metadata": {},
   "outputs": [
    {
     "data": {
      "text/plain": [
       "array([[ 58,  64],\n",
       "       [139, 154]])"
      ]
     },
     "execution_count": 56,
     "metadata": {},
     "output_type": "execute_result"
    }
   ],
   "source": [
    "import numpy as np\n",
    "a=tf.constant([1,2,3,4,5,6], shape=[2,3])\n",
    "b=tf.constant([7,8,9,10,11,12], shape=[3,2])\n",
    "c=tf.matmul(a,b)\n",
    "\n",
    "sess.run(c) # 2x2 가 나옴"
   ]
  },
  {
   "cell_type": "code",
   "execution_count": 58,
   "metadata": {},
   "outputs": [
    {
     "name": "stdout",
     "output_type": "stream",
     "text": [
      "[[[ 1  2  3]\n",
      "  [ 4  5  6]]\n",
      "\n",
      " [[ 7  8  9]\n",
      "  [10 11 12]]]\n",
      "[[[13 14]\n",
      "  [15 16]\n",
      "  [17 18]]\n",
      "\n",
      " [[19 20]\n",
      "  [21 22]\n",
      "  [23 24]]]\n"
     ]
    },
    {
     "data": {
      "text/plain": [
       "array([[[ 94, 100],\n",
       "        [229, 244]],\n",
       "\n",
       "       [[508, 532],\n",
       "        [697, 730]]])"
      ]
     },
     "execution_count": 58,
     "metadata": {},
     "output_type": "execute_result"
    }
   ],
   "source": [
    "a=tf.constant(np.arange(1,13,dtype=np.int32),\n",
    "              shape=[2,2,3])# 이건 2x3 이 2개가 있다는 것이다    # 뒤에있는 2개 2,3 과 아래있는 것이 일치하면 계산가능  (e뒤에있는 2개가 행열이다) 그 앞에 있는것들은 갯수이다 \n",
    "print(sess.run(a))\n",
    "\n",
    "b=tf.constant(np.arange(13,25,dtype=np.int32),\n",
    "              shape=[2,3,2])   # 여기 뒤에있는 3x2   가 일치하면 계산이 가능하다 \n",
    "\n",
    "print(sess.run(b))\n",
    "c=tf.matmul(a,b)\n",
    "sess.run(c) # 결과는 2x2x2 가 나온다 \n",
    "\n",
    "\n",
    "# 만약 shape 가 [3,4,2,3] 이면  행과 열은 2x3 이다->  그리고 2x3 이 4개가 있고 그게 또 3개가 있다는 것이다 \n",
    "# 즉 맨뒤에 2개가 행과 열을 의미하는 것으로 가장 중요하다 \n",
    "# 행과 열이 일치하면 당연히 곱을 할 수 있는 것이다. 행열을 제외하고 앞에있는 숫자들은 어떻게 층을 이루고있는지 보여주는 것일뿐이다 "
   ]
  },
  {
   "cell_type": "code",
   "execution_count": 60,
   "metadata": {},
   "outputs": [
    {
     "name": "stdout",
     "output_type": "stream",
     "text": [
      "[[[[ 1  2  3]\n",
      "   [ 4  5  6]]\n",
      "\n",
      "  [[ 7  8  9]\n",
      "   [10 11 12]]]\n",
      "\n",
      "\n",
      " [[[13 14 15]\n",
      "   [16 17 18]]\n",
      "\n",
      "  [[19 20 21]\n",
      "   [22 23 24]]]]\n",
      "[[[[25 26]\n",
      "   [27 28]\n",
      "   [29 30]]\n",
      "\n",
      "  [[31 32]\n",
      "   [33 34]\n",
      "   [35 36]]]\n",
      "\n",
      "\n",
      " [[[37 38]\n",
      "   [39 40]\n",
      "   [41 42]]\n",
      "\n",
      "  [[43 44]\n",
      "   [45 46]\n",
      "   [47 48]]]]\n"
     ]
    },
    {
     "data": {
      "text/plain": [
       "array([[[[ 166,  172],\n",
       "         [ 409,  424]],\n",
       "\n",
       "        [[ 796,  820],\n",
       "         [1093, 1126]]],\n",
       "\n",
       "\n",
       "       [[[1642, 1684],\n",
       "         [1993, 2044]],\n",
       "\n",
       "        [[2704, 2764],\n",
       "         [3109, 3178]]]])"
      ]
     },
     "execution_count": 60,
     "metadata": {},
     "output_type": "execute_result"
    }
   ],
   "source": [
    "a=tf.constant(np.arange(1,25,dtype=np.int32),\n",
    "              shape=[2,2,2,3]) \n",
    "print(sess.run(a))\n",
    "\n",
    "b=tf.constant(np.arange(25,49,dtype=np.int32),\n",
    "              shape=[2,2,3,2])                 # 2x3 과 3x2 니까 결과는 2x2 이고 2x2 가 4개가 생긴다 ( 앞에있는 것들은 갯수라고 생각하자!)\n",
    "                                              # 즉 다차원계산도 쉽다 ! 행열 개수만 맞으면 \n",
    "print(sess.run(b))\n",
    "c=tf.matmul(a,b)\n",
    "sess.run(c) "
   ]
  },
  {
   "cell_type": "code",
   "execution_count": null,
   "metadata": {},
   "outputs": [],
   "source": []
  },
  {
   "cell_type": "code",
   "execution_count": 64,
   "metadata": {},
   "outputs": [
    {
     "data": {
      "text/plain": [
       "<tf.Tensor 'MatMul_12:0' shape=(2, 2, 2, 2) dtype=int32>"
      ]
     },
     "execution_count": 64,
     "metadata": {},
     "output_type": "execute_result"
    }
   ],
   "source": [
    "# a 를 제곱한다면 ?  자기자신을 제곱하려면??\n",
    "# 전치시켜야한다!\n",
    "# 앞에있는 갯수는 고려하지 않고, 행렬만 바꿔주면 된다 ( 다차원이여도 쉽다)\n",
    "\n",
    "d=tf.matmul(a,tf.transpose(a,perm=[0,1,3,2])) # 원래는 0,1,2,3 순인데 뒤에 2개만 순서바꿔준다\n",
    "sess.run(d)\n",
    "\n",
    "tf.matmul(a,a,transpose_b=True) # 전치해서 자기 제곱한다는 것"
   ]
  },
  {
   "cell_type": "code",
   "execution_count": null,
   "metadata": {},
   "outputs": [],
   "source": [
    "# 다른예제를 봐보자 "
   ]
  },
  {
   "cell_type": "code",
   "execution_count": 67,
   "metadata": {},
   "outputs": [
    {
     "name": "stdout",
     "output_type": "stream",
     "text": [
      "[2 2 3]\n"
     ]
    },
    {
     "data": {
      "text/plain": [
       "array([[[ 1,  7],\n",
       "        [ 4, 10]],\n",
       "\n",
       "       [[ 2,  8],\n",
       "        [ 5, 11]],\n",
       "\n",
       "       [[ 3,  9],\n",
       "        [ 6, 12]]])"
      ]
     },
     "execution_count": 67,
     "metadata": {},
     "output_type": "execute_result"
    }
   ],
   "source": [
    "x=tf.constant([[[1,2,3],\n",
    "               [4,5,6]],\n",
    "              [[7,8,9],\n",
    "              [10,11,12]]]) # 2x2x3 이다  # 0: 면, 1 : 행, 2 : 열이다  \n",
    "print(sess.run(tf.shape(x)))\n",
    "\n",
    "#  그냥 전치를 하면 어떻게 되는지보자\n",
    "sess.run(tf.transpose(x))    # 그냥 transpose 하면 결과가 3x2x2 가 나온다.  즉 순서가 2,1,0 으로 바뀐것이다 (열과 면이 바뀐것) \n",
    "\n",
    "# 근데 2x2x3 이 제곱이 되려면 2x3x2 으로 모양을 바꿔줘야한다 - (앞에는 볼필요없다)-> 데이터번호가 0,2,1 로 바꿔야함( 아래 참고) "
   ]
  },
  {
   "cell_type": "code",
   "execution_count": 69,
   "metadata": {},
   "outputs": [
    {
     "data": {
      "text/plain": [
       "array([[[ 1,  7],\n",
       "        [ 2,  8],\n",
       "        [ 3,  9]],\n",
       "\n",
       "       [[ 4, 10],\n",
       "        [ 5, 11],\n",
       "        [ 6, 12]]])"
      ]
     },
     "execution_count": 69,
     "metadata": {},
     "output_type": "execute_result"
    }
   ],
   "source": [
    "y=tf.transpose(x,perm=[0,2,1])\n",
    "sess.run(tf.transpose(y))"
   ]
  },
  {
   "cell_type": "code",
   "execution_count": 70,
   "metadata": {},
   "outputs": [
    {
     "data": {
      "text/plain": [
       "array([[[ 14,  32],\n",
       "        [ 32,  77]],\n",
       "\n",
       "       [[194, 266],\n",
       "        [266, 365]]])"
      ]
     },
     "execution_count": 70,
     "metadata": {},
     "output_type": "execute_result"
    }
   ],
   "source": [
    "sess.run(tf.matmul(x,tf.transpose(x, perm=[0,2,1])))"
   ]
  },
  {
   "cell_type": "code",
   "execution_count": 71,
   "metadata": {},
   "outputs": [
    {
     "data": {
      "text/plain": [
       "array([[[[[[1]],\n",
       "\n",
       "          [[2]],\n",
       "\n",
       "          [[3]]]],\n",
       "\n",
       "\n",
       "\n",
       "        [[[[4]],\n",
       "\n",
       "          [[5]],\n",
       "\n",
       "          [[6]]]]]])"
      ]
     },
     "execution_count": 71,
     "metadata": {},
     "output_type": "execute_result"
    }
   ],
   "source": [
    "t=[1,2,3,4,5,6]\n",
    "t=tf.reshape(t,[1,2,1,3,1,1])  # 1개, 2개... 이런식  # 행열로 이루어진것이 3개임 (1,2,3 각각 3개라는 것) \n",
    "sess.run(t) # 6차원 "
   ]
  },
  {
   "cell_type": "code",
   "execution_count": 72,
   "metadata": {},
   "outputs": [
    {
     "name": "stdout",
     "output_type": "stream",
     "text": [
      "t의 차원은 [1 2 1 3 1 1]\n"
     ]
    }
   ],
   "source": [
    "print('t의 차원은', sess.run(tf.shape(t)))"
   ]
  },
  {
   "cell_type": "code",
   "execution_count": 73,
   "metadata": {},
   "outputs": [
    {
     "name": "stdout",
     "output_type": "stream",
     "text": [
      "차원의 수를 축소할때 [2 3]\n"
     ]
    }
   ],
   "source": [
    "print('차원의 수를 축소할때', sess.run(tf.shape(tf.squeeze(t)))) # squeeze 하면 쥐어짠다  요소수가1인 것들을 없애고 2x3 으로 축소됨"
   ]
  },
  {
   "cell_type": "code",
   "execution_count": 76,
   "metadata": {},
   "outputs": [
    {
     "name": "stdout",
     "output_type": "stream",
     "text": [
      "[[ 1  2  3  4  5  6]\n",
      " [ 7  8  9 10 11 12]]\n",
      "[[[ 1  2  3]\n",
      "  [ 4  5  6]]\n",
      "\n",
      " [[ 7  8  9]\n",
      "  [10 11 12]]]\n"
     ]
    }
   ],
   "source": [
    "tensor=[1,2,3,4,5,6,7,8,9,10,11,12]\n",
    "# reshape 에서 -1 의 의미를 보자\n",
    "print(sess.run(tf.reshape(tensor,[2,-1])))  # -1 에 6이 들어가고있다. -1 이 들어가면 데이터로부터 계산으로 채우라는 것이다 \n",
    "\n",
    "tf.reshape(tensor,[-1,6]) # 여기에는 -1 자리에 2가 들어간다 \n",
    "print(sess.run(tf.reshape(tensor, [2,-1,3]))) # 여기도 -1 자리에 2가 들어간다 (2x3 이 6이니까 12/6 은 2 ) "
   ]
  },
  {
   "cell_type": "code",
   "execution_count": 78,
   "metadata": {},
   "outputs": [
    {
     "name": "stdout",
     "output_type": "stream",
     "text": [
      "Tensor(\"ExpandDims_1:0\", shape=(1, 1, 2, 1, 3, 1, 1), dtype=int32)\n"
     ]
    }
   ],
   "source": [
    "# t: 1,1,2,1,3,1,1\n",
    "print(tf.expand_dims(t,0)) # 차원확대\n",
    "\n",
    "# g행렬곱을 하기위해서는 차원을 축소하고 확대하는 작업이 필요함 "
   ]
  },
  {
   "cell_type": "code",
   "execution_count": 81,
   "metadata": {},
   "outputs": [
    {
     "name": "stdout",
     "output_type": "stream",
     "text": [
      "[[0 0 0 0 0 0 0]\n",
      " [0 0 1 2 3 0 0]\n",
      " [0 0 4 5 6 0 0]\n",
      " [0 0 0 0 0 0 0]]\n"
     ]
    }
   ],
   "source": [
    " # padding : 충전재\n",
    "t=[[1,2,3],[4,5,6]] # 원래 2x3 으로 존재함\n",
    "paddings = [[1,1,],[2,2]] # 행을 위에하나, 아래 하나 추가,  열을 왼쪽 오른쪽 2개씩 추가  -> 4x7 로 바뀜\n",
    "print(sess.run(tf.pad(t,paddings,'CONSTANT')))   # 4x7 로 바꾸는데 constant 로 만들어라 "
   ]
  },
  {
   "cell_type": "code",
   "execution_count": 82,
   "metadata": {},
   "outputs": [
    {
     "name": "stdout",
     "output_type": "stream",
     "text": [
      "[[5 4 5 6 5]\n",
      " [2 1 2 3 2]\n",
      " [5 4 5 6 5]\n",
      " [2 1 2 3 2]]\n"
     ]
    }
   ],
   "source": [
    "paddings=[[1,1,],[1,1,]] # 위1개 아래1개 왼쪽1개 오른쪽1개\n",
    "\n",
    "print(sess.run(tf.pad(t,paddings,'REFLECT'))) # reflect : 반사해서 채우는 것이라고 생각하자 (수를 채우는 방법이다) "
   ]
  },
  {
   "cell_type": "code",
   "execution_count": 84,
   "metadata": {},
   "outputs": [
    {
     "name": "stdout",
     "output_type": "stream",
     "text": [
      "[[1 1 2 3 3]\n",
      " [1 1 2 3 3]\n",
      " [4 4 5 6 6]\n",
      " [4 4 5 6 6]]\n"
     ]
    }
   ],
   "source": [
    "print(sess.run(tf.pad(t,paddings,'SYMMETRIC')))  # 끝이 확장된다 "
   ]
  },
  {
   "cell_type": "code",
   "execution_count": null,
   "metadata": {},
   "outputs": [],
   "source": [
    "# 지금까지 방정식의 행을 풀어봤다\n",
    "# 다차방정식의 해를  구하는 방법 \n",
    "# 1. 무작위대입법 ( 무작위로 넣어서 답을 찾아냄)\n",
    "# 2. 역행렬을 구함 ( 계수들도 알고 y 값도 알아야 사용할 수 있는 방법)\n",
    "# 3. 근데 입출력 데이터만 있을때는?? ->> 계수를 결정해야한다 -> 가중치 학습을 통해서 학습한다 ."
   ]
  },
  {
   "cell_type": "code",
   "execution_count": 85,
   "metadata": {},
   "outputs": [
    {
     "data": {
      "text/plain": [
       "100"
      ]
     },
     "execution_count": 85,
     "metadata": {},
     "output_type": "execute_result"
    }
   ],
   "source": [
    "import numpy as np\n",
    "import tensorflow as tf\n",
    "x_data = np.random.rand(100).astype(np.float32) # 데이티ㅓ 100개를 임의적으로 만들었음\n",
    "y_data = x_data * 0.1 + 0.3  # 선형방정식이다   \n",
    "len(y_data) \n",
    "\n",
    "#  위에 같이 y_data 의 값이 주어진것이 아니면  0.1 이나 0.3 을 어떻게 알아내느냐??? "
   ]
  },
  {
   "cell_type": "code",
   "execution_count": 86,
   "metadata": {},
   "outputs": [],
   "source": [
    "W = tf.Variable(tf.random_uniform([1], -1.0, 1.0))  #  -1~1 의 균등분포를 가지고 값을 초기화함 \n",
    "b=tf.Variable(tf.zeros([1]))  # 바이어스다 \n",
    "sess=tf.Session()  \n",
    "y= W*x_data + b  # W 는 가중치 , b 는 바이어스   ( 가중치와 바이어스 를 주고 수식을 만들었다 ) "
   ]
  },
  {
   "cell_type": "code",
   "execution_count": 89,
   "metadata": {},
   "outputs": [],
   "source": [
    " # loss function : mse를 말함  \n",
    "loss=tf.reduce_mean(tf.square(y-y_data))  # y는 예측치, y_data 는 실제값 이다. square 은 제곱하라는 것. reduce 는 전부합해라 -> 즉 이건 mse 의 식이다 \n",
    "optimizer= tf.train.GradientDescentOptimizer(0.5) # 경사하강법의 optimizer 을 말함! \n",
    "# 2차원인경우 포물선을 이루고, 최적점은 1개이다 !\n",
    "#  gradientdescent는 어디서시작하든 그 최적점을 구하라는 것이다 (어떻게 구하냐? 기울기를 이용해서 구함. 미분을 이용해서 구함 \n",
    "# 마이너스면 가중치에 차를 더해주고, 기울기가 플러스이면 가중치에 감하는 연산을 통해서 최적점을 찾아가는 것이 gradiantDescentoptimizer 임)\n",
    "# 0.5 는 학습율이다! (learning rate)\n",
    "\n",
    "\n",
    "train= optimizer.minimize(loss)  # loss 함수를 최적화하라 ! ( loss 값을 가장 적게하는 것을 찾아내라는 뜻! )\n",
    "\n",
    "# train 을 호출하게 되면  'y= W*x_data + b '  를 이용해서 예측을 하고 경사하강법을 통해서 찾아내는것 (아래에서 호출함)"
   ]
  },
  {
   "cell_type": "code",
   "execution_count": 92,
   "metadata": {},
   "outputs": [],
   "source": [
    "init=tf.global_variables_initializer()  # 초기화시켜라 ( Variable 에 가중치들이 들어가기때문에 반드시 초기화시켜야한다!! ) \n",
    "sess.run(init)"
   ]
  },
  {
   "cell_type": "code",
   "execution_count": 91,
   "metadata": {},
   "outputs": [
    {
     "name": "stdout",
     "output_type": "stream",
     "text": [
      "0 [0.7090013] [-0.06775327]\n",
      "20 [0.2633955] [0.20863906]\n",
      "40 [0.14301956] [0.27594605]\n",
      "60 [0.1113264] [0.29366696]\n",
      "80 [0.10298207] [0.29833263]\n",
      "100 [0.10078514] [0.299561]\n",
      "120 [0.10020673] [0.2998844]\n",
      "140 [0.10005441] [0.29996958]\n",
      "160 [0.10001431] [0.299992]\n",
      "180 [0.10000376] [0.2999979]\n",
      "200 [0.10000099] [0.29999945]\n"
     ]
    }
   ],
   "source": [
    "for step in range(201):  # 200번 돌아가면서 train 을 호출한다 \n",
    "    sess.run(train)  \n",
    "    if step % 20 ==0: \n",
    "        print(step, sess.run(W), sess.run(b)) # step 마다 가중치와 바이어스를 출력한다 값을 확인했을때, 0.1 과 0.3 에 수렴해가고 있는 것을 보여준다!!! \n",
    "        \n",
    "        \n",
    "##  분류와 예측을 하기 위해서  -> 데이터로부터 규칙을 발견한다 \n",
    "#  (가중치들은 설명력이다) 직선을 얼마나 설명하는지 보여주기떄문이다 \n",
    "# bias 는 activation  즉 활성화시키는 계수이다 \n",
    "# 모든 가중치 변수에는 꼭 ! bias 가 하나씩 붙는다!! \n"
   ]
  },
  {
   "cell_type": "markdown",
   "metadata": {},
   "source": [
    "#\n",
    "#### 기본 순서!!! : 예측함수(ex:y= W*x_data + b ) 나오고 loss function 나오고 optimizer 지정되고 minimize 호출되어야한다 (작업할 그래프를 완성했다!)\n",
    "\n",
    "#### 그리고 나서 반복하면서 데이터를 호출한다 (반복문 사용한다)\n",
    "\n",
    "\n",
    "#(데이터 많을때) 데이터 생성할때 minibatch 로 만들어서 feeding 한다! (feeding 은 위의 과정을 말하는 것)"
   ]
  },
  {
   "cell_type": "code",
   "execution_count": null,
   "metadata": {},
   "outputs": [],
   "source": []
  },
  {
   "cell_type": "code",
   "execution_count": 95,
   "metadata": {},
   "outputs": [],
   "source": [
    "# 위에서는 데이터를 바로 썼었는데 이번엔 외부에서 데이터를 주입하면서 실행시켜보자 (placeholder이용) \n",
    "# 바로데이터를 받는게 아니라 주입시켜보자.\n",
    " # 주입시키려면 공간을 확보해야함 \n",
    "x= tf.placeholder(tf.float32, name='x')\n",
    "y=tf.placeholder(tf.float32)\n",
    "\n",
    "W = tf.Variable(tf.random_uniform([1], -1.0, 1.0))   \n",
    "b=tf.Variable(tf.zeros([1]))  \n",
    "sess=tf.Session()  \n",
    "\n",
    "y_model = W*x + b  # 예측 \n",
    "\n",
    "# 이제 x, y 로 데이터 넣으면 됨"
   ]
  },
  {
   "cell_type": "code",
   "execution_count": 105,
   "metadata": {},
   "outputs": [],
   "source": [
    "loss = tf.reduce_mean(tf.square(y_model - y))   # 여기 변수명만 바꿔주고 나머지 기본순서는 그대로 간다 \n",
    "optimizer= tf.train.GradientDescentOptimizer(0.5)\n",
    "train= optimizer.minimize(loss) \n",
    "init=tf.global_variables_initializer()  \n",
    "sess.run(init)"
   ]
  },
  {
   "cell_type": "code",
   "execution_count": 106,
   "metadata": {},
   "outputs": [
    {
     "name": "stdout",
     "output_type": "stream",
     "text": [
      "0 [0.6427349] [-0.0138484]\n",
      "20 [0.24405852] [0.21945113]\n",
      "40 [0.13792847] [0.27879268]\n",
      "60 [0.10998599] [0.29441646]\n",
      "80 [0.10262916] [0.29852995]\n",
      "100 [0.10069221] [0.29961297]\n",
      "120 [0.10018224] [0.29989812]\n",
      "140 [0.10004796] [0.2999732]\n",
      "160 [0.10001265] [0.29999295]\n",
      "180 [0.10000333] [0.29999816]\n",
      "200 [0.10000087] [0.29999954]\n"
     ]
    }
   ],
   "source": [
    "for step in range(201):  # 200번 돌아가면서 train 을 호출한다 \n",
    "    sess.run(train, {x:x_data, y:y_data})  \n",
    "    if step % 20 ==0: \n",
    "        print(step, sess.run(W), sess.run(b))\n",
    "        \n",
    "        # 위랑 똑같지만 이건 주입을 시켰을뿐이다 "
   ]
  },
  {
   "cell_type": "code",
   "execution_count": 107,
   "metadata": {},
   "outputs": [],
   "source": [
    "#이제 예측을 해보자 \n",
    "predicted = sess.run(y_model, {x: [i for i in range(100)]}) # 만들어진 y model 에 1~100 사이 값을 넣어봄 (예측이 됨) "
   ]
  },
  {
   "cell_type": "code",
   "execution_count": 108,
   "metadata": {},
   "outputs": [
    {
     "data": {
      "image/png": "[encoded data removed]",
      "text/plain": [
       "<Figure size 432x288 with 1 Axes>"
      ]
     },
     "metadata": {
      "needs_background": "light"
     },
     "output_type": "display_data"
    }
   ],
   "source": [
    "%matplotlib inline\n",
    "import matplotlib.pyplot as plt\n",
    "plt.plot(x_data,y_data, 'o', markersize=2)\n",
    "plt.plot(predicted,'r')\n",
    "\n",
    "plt.show()  # 일반화되서 선형회귀선이 만들어졌다는 것을 확인할수 있다 ! "
   ]
  },
  {
   "cell_type": "code",
   "execution_count": null,
   "metadata": {},
   "outputs": [],
   "source": []
  },
  {
   "cell_type": "code",
   "execution_count": 112,
   "metadata": {},
   "outputs": [],
   "source": [
    "from tensorflow.python.framework import ops\n",
    "import os\n",
    "ops.reset_default_graph()\n"
   ]
  },
  {
   "cell_type": "code",
   "execution_count": 113,
   "metadata": {},
   "outputs": [
    {
     "name": "stdout",
     "output_type": "stream",
     "text": [
      "[1. 3. 5. 7. 9.]\n",
      "[ 3.  9. 15. 21. 27.]\n",
      "[ 5. 15. 25. 35. 45.]\n",
      "[ 7. 21. 35. 49. 63.]\n",
      "[ 9. 27. 45. 63. 81.]\n"
     ]
    }
   ],
   "source": [
    "sess=tf.Session()\n",
    "x_vals = np.array([1., 3., 5., 7., 9.])\n",
    "y_vals = np.array([1., 3., 5., 7., 9.])\n",
    "x_data = tf.placeholder(tf.float32)\n",
    "y_data = tf.placeholder(tf.float32)\n",
    "m=tf.constant(3.)\n",
    "prod=tf.multiply(x_data, y_data)\n",
    "for x_val in x_vals:\n",
    "    print(sess.run(prod, feed_dict={x_data : x_val,\n",
    "                                    y_data:y_vals}))"
   ]
  },
  {
   "cell_type": "code",
   "execution_count": 114,
   "metadata": {},
   "outputs": [],
   "source": [
    "merged = tf.summary.merge_all()\n",
    "if not os.path.exists('c://tmp/tensorboard_logs/'):\n",
    "    os.makedirs('c://tmp/tensorboard_logs/')\n",
    "    \n",
    "my_writer = tf.summary.FileWriter('c://tmp/tensorboard_logs/',sess.graph)"
   ]
  },
  {
   "cell_type": "code",
   "execution_count": null,
   "metadata": {},
   "outputs": [],
   "source": [
    "# c->tmp 밑에 가면 데이터가 저장된 것을 확인 할 수 있다"
   ]
  },
  {
   "cell_type": "code",
   "execution_count": null,
   "metadata": {},
   "outputs": [],
   "source": [
    "# anaconda prompt ( tf_test) 에 들어가서\n",
    "# > tensorboard --logdir=/tmp  라고 입력\n",
    "# z크롬에서 주소 입력 ( http://localhost:6006)"
   ]
  },
  {
   "cell_type": "code",
   "execution_count": null,
   "metadata": {},
   "outputs": [],
   "source": [
    "# 그럼 그래프가 뜨는것을 볼 수 있다\n",
    "# 마지막에 multiply 를 불렀었는데 placeholder 에서 가져온 것이다 "
   ]
  },
  {
   "cell_type": "code",
   "execution_count": null,
   "metadata": {},
   "outputs": [],
   "source": []
  },
  {
   "cell_type": "code",
   "execution_count": null,
   "metadata": {},
   "outputs": [],
   "source": []
  },
  {
   "cell_type": "code",
   "execution_count": 127,
   "metadata": {},
   "outputs": [],
   "source": [
    "import numpy\n",
    "rng = numpy.random\n",
    "\n",
    "learning_rate = 0.01\n",
    "training_epochs = 400\n",
    "display_step = 50    # 이런것들을 상수화 해준다  (상수화할때 좋은 점 : 나중에 바꾸기 쉽다 하나하나 값 찾아서 안바꿔도 됨) \n",
    "\n",
    "# 아래와 같은 데이터를 준비했다\n",
    "train_X = numpy.asarray([3.3,4.4,5.5,6.71,6.93,4.168,9.779,6.182,7.59,2.167,7.042,10.791,5.313,7.997,5.654,9.27,3.1])\n",
    "train_Y = numpy.asarray([1.7,2.76,2.09,3.19,1.694,1.573,3.366,2.596,2.53,1.221,2.827,3.465,1.65,2.904,2.42,2.94,1.3]) "
   ]
  },
  {
   "cell_type": "code",
   "execution_count": 129,
   "metadata": {},
   "outputs": [
    {
     "name": "stdout",
     "output_type": "stream",
     "text": [
      "ERROR:tensorflow:==================================\n",
      "Object was never used (type <class 'tensorflow.python.framework.ops.Operation'>):\n",
      "<tf.Operation 'init_6' type=NoOp>\n",
      "If you want to mark it as used call its \"mark_used()\" method.\n",
      "It was originally created here:\n",
      "  File \"C:\\Users\\ICT01_01\\Anaconda3\\lib\\site-packages\\IPython\\core\\interactiveshell.py\", line 3346, in run_code\n",
      "    return outflag  File \"<ipython-input-128-9cdf17cb23eb>\", line 18, in <module>\n",
      "    init=tf.initialize_all_variables()  File \"C:\\Users\\ICT01_01\\Anaconda3\\lib\\site-packages\\tensorflow\\python\\util\\tf_should_use.py\", line 193, in wrapped\n",
      "    return _add_should_use_warning(fn(*args, **kwargs))\n",
      "==================================\n"
     ]
    }
   ],
   "source": [
    "n_samples = train_X.shape[0]  # x 데이터의 shape 를 하면 차수가 나온다. 차수중에 0 은 행을 의미한다  (1은 열을 의미한다 ) \n",
    "#행은 data point : 관측치 를 결정한다/ 열은 변수개수를 결정한다 \n",
    "\n",
    "X= tf.placeholder('float')\n",
    "Y=tf.placeholder('float')\n",
    "W=tf.Variable(rng.randn(), name='weight') # 가중치를 통해서 설명한다\n",
    "b= tf.Variable(rng.randn(), name='bias')  # bias 는 activation 을 한다 ( 활성화)  # 가중치가 있으면 bias도 같이 온다!!\n",
    "\n",
    "activation = tf.add(tf.multiply(X,W),b)  # X 와 w 를 곱하고 b를 더한다 -> y= ax+b 를 의미하는 것이다!! \n",
    "\n",
    "cost= tf.reduce_sum(tf.pow(activation-Y, 2))/(2*n_samples) # 여기서 activation 은 예측치, y는 실제값을 말함  # pow 는 제곱해주는것, 2니까 2제곱, 3이면 3제곱\n",
    "## 2 를 곱한이유: 미니배치 사이즈를 고려한 것이다!  (2*n_samples 를 하고 나서 해야 적합한 결과가 나왔음)\n",
    "\n",
    "optimizer = tf.train.GradientDescentOptimizer(learning_rate).minimize(cost) # learning_rate 는 하이퍼파라미터 ( 우리가 결정하는 것도 아님)\n",
    "# 경사하강법이 뭐인지 이해만 하면 된다 !!  (optimizer 가 역전파를 자동으로 수행함)\n",
    "# optimizer 자체도 hyperparameter 가 된다. (이게좋겠다 저게좋겠다 하는 것이 아니다 우리가 결정하는 것이 아니다)\n",
    "#oiptimizer 식을 쓰면 :>>>  경사하강법을 통해서 알아서 최소값이 되는 점을 찾아간다 \n",
    "\n",
    "init=tf.initialize_all_variables()  # 변수가 있는경우 이 문장을 통해서 초기화해준다 \n",
    "\n",
    "# 기울기를 어떻게 찾아가느냐 = 모멘텀 ( 가던방향으로 데이터를 고려해서 모멘텀해줌 ) "
   ]
  },
  {
   "cell_type": "code",
   "execution_count": 130,
   "metadata": {},
   "outputs": [],
   "source": [
    "# 지금까지 위에서 그라프를 정의했다 ( node와 edge 를 이용해서 ) \n",
    "### node 는 연산을 말하는 것 edge 는 데이터 전달을 말하는 것( 데이터 전달은 tensor 를 이용해서 한다 ) (tensor 는 배열적요소와 행렬적요소가 들어가있다) \n",
    "#>> 즉 multiply 와 같은 것이 node 이고 W 나 b 같은 것이 tensor임\n",
    "\n",
    "# 그래프를 정의한 후에 아래처럼 session 을 연결한다 !! "
   ]
  },
  {
   "cell_type": "code",
   "execution_count": 132,
   "metadata": {},
   "outputs": [
    {
     "name": "stdout",
     "output_type": "stream",
     "text": [
      "Epoch: 0001 cost= 49.165092468 W= -1.13871 b= 0.10085287\n",
      "Epoch: 0051 cost= 0.090213947 W= 0.3140449 b= 0.33780852\n",
      "Epoch: 0101 cost= 0.088682435 W= 0.31021166 b= 0.36538455\n",
      "Epoch: 0151 cost= 0.087327980 W= 0.3066062 b= 0.39132133\n",
      "Epoch: 0201 cost= 0.086130194 W= 0.30321556 b= 0.41571411\n",
      "Epoch: 0251 cost= 0.085070923 W= 0.3000264 b= 0.4386564\n",
      "Epoch: 0301 cost= 0.084134176 W= 0.29702693 b= 0.46023434\n",
      "Epoch: 0351 cost= 0.083305776 W= 0.29420573 b= 0.48052967\n",
      "최적화 종료\n",
      "cost= 0.08258698 W= 0.29160398 b= 0.49924698\n"
     ]
    },
    {
     "data": {
      "image/png": "[encoded data removed]",
      "text/plain": [
       "<Figure size 432x288 with 1 Axes>"
      ]
     },
     "metadata": {
      "needs_background": "light"
     },
     "output_type": "display_data"
    }
   ],
   "source": [
    "with tf.Session() as sess:  # session 을 연결해준다 = 실행한다=작업한다  -> 즉 이곳은 실행부인것!! \n",
    "    sess.run(init)  # 초기화시킴\n",
    "    for epoch in range(training_epochs): # 반복해서 돌아간다는 뜻 (epoch 는 세대라고 이해하자 )>> # 동일한데이터를 400번 돌려준다 \n",
    "        for (x,y) in zip(train_X, train_Y): # 데이터를 집해서 묶는다 (3.3, 1.7 이 하나로 들어감 ... ), 식보면 데이터를 한개씩  feeding 함 \n",
    "            sess.run(optimizer, feed_dict={X: x, Y: y})   ## 주입하고있는것!\n",
    "            \n",
    "        if epoch % display_step ==0:  # 50번에 한번씩 출력됨 \n",
    "            print(\"Epoch:\", '%04d' % (epoch+1),'cost=', '{:.9f}'.format(sess.run(cost,feed_dict={  # cost 즉 비용함수를 구해주고 있다 (점점 줄어들어야함) / accuray 는 증가해야함\n",
    "                X:train_X, Y:train_Y})),\n",
    "                 \"W=\", sess.run(W), 'b=', sess.run(b)) # 가중치와 바이어스 값도 확인 함-> 수렴값 확인할수있다 \n",
    "    print(\"최적화 종료\")\n",
    "    print('cost=', sess.run(cost, feed_dict={X:train_X, Y: train_Y}), 'W=', sess.run(W), 'b=', sess.run(b)) # 다시 데이터넣어서 확인해본다\n",
    "    plt.plot(train_X, train_Y, 'ro', label='Original data')  # 원본데이터로 여기저기 흩어져있따 \n",
    "    plt.plot(train_X, sess.run(W) * train_X + sess.run(b),  # 이건 predict 한 값을 찍고 있는 것!! (-> 회귀식 등장) \n",
    "            label='Fitted line')\n",
    "    plt.legend()\n",
    "    plt.show()\n",
    "    \n",
    "    # cost?? loss??"
   ]
  },
  {
   "cell_type": "code",
   "execution_count": null,
   "metadata": {},
   "outputs": [],
   "source": []
  },
  {
   "cell_type": "code",
   "execution_count": 135,
   "metadata": {},
   "outputs": [],
   "source": [
    "# tensor 를 직접 시각화하는 것이 불가능하다고 배웠다 -\n",
    "import tensorflow as tf\n",
    "\n",
    "def run_variable(variable):  # 이것을 통해서 numpy 포맷으로 변경함\n",
    "    tf.global_variables_initializer()\n",
    "    with tf.Session() as sess:\n",
    "        return sess.run(variable)"
   ]
  },
  {
   "cell_type": "code",
   "execution_count": 138,
   "metadata": {},
   "outputs": [],
   "source": [
    "my_distribution = tf.random_uniform((6,4), seed=42)  # 24개의 데이터를 뽑음 (6행4열)\n",
    "uniform = run_variable(my_distribution) # 랜덤생성한 데이터는 tensor 였지만 numpy 로 바뀜 "
   ]
  },
  {
   "cell_type": "code",
   "execution_count": 139,
   "metadata": {},
   "outputs": [
    {
     "data": {
      "image/png": "[encoded data removed]",
      "text/plain": [
       "<Figure size 432x288 with 1 Axes>"
      ]
     },
     "metadata": {
      "needs_background": "light"
     },
     "output_type": "display_data"
    }
   ],
   "source": [
    "from matplotlib import pyplot as plt\n",
    "plt.hist(uniform.flatten())  # flatten : 데이터가 메모리에 저장될때는 1차원으로 저장된다 1차원으로 저장되는 포맷을 바꾸라라는 의미이다 . -> 24개의 데이터가 일렬로 나온다  \n",
    "plt.show() \n",
    "# 균등분포가 되어야하는데 아래그림은 그렇게 안보인다 ( 이유: 데이터가 몇개없기때문이다) 600x400 으로 바꾸면 균등분포가 됨 \n",
    "\n",
    "# 즉 flatten 의 개념 : 1차원으로 데이터를 만들라! "
   ]
  },
  {
   "cell_type": "code",
   "execution_count": null,
   "metadata": {},
   "outputs": [],
   "source": []
  },
  {
   "cell_type": "code",
   "execution_count": null,
   "metadata": {},
   "outputs": [],
   "source": [
    "# activation 함수 (=활성화함수의 역할 : 회귀인지 분류인지를 결정해준다 ) \n",
    "# 1. 비선형 매핑을 해준다 (선형대수를 비선형문제로 변경해준다!!)\n",
    "# 2. 가중치를 깊게하고, 활성화함수 매핑으로 XOR 문제를 해결한다!"
   ]
  },
  {
   "cell_type": "code",
   "execution_count": 140,
   "metadata": {},
   "outputs": [
    {
     "name": "stdout",
     "output_type": "stream",
     "text": [
      "[-10.          -9.7979798   -9.5959596   -9.39393939  -9.19191919\n",
      "  -8.98989899  -8.78787879  -8.58585859  -8.38383838  -8.18181818\n",
      "  -7.97979798  -7.77777778  -7.57575758  -7.37373737  -7.17171717\n",
      "  -6.96969697  -6.76767677  -6.56565657  -6.36363636  -6.16161616\n",
      "  -5.95959596  -5.75757576  -5.55555556  -5.35353535  -5.15151515\n",
      "  -4.94949495  -4.74747475  -4.54545455  -4.34343434  -4.14141414\n",
      "  -3.93939394  -3.73737374  -3.53535354  -3.33333333  -3.13131313\n",
      "  -2.92929293  -2.72727273  -2.52525253  -2.32323232  -2.12121212\n",
      "  -1.91919192  -1.71717172  -1.51515152  -1.31313131  -1.11111111\n",
      "  -0.90909091  -0.70707071  -0.50505051  -0.3030303   -0.1010101\n",
      "   0.1010101    0.3030303    0.50505051   0.70707071   0.90909091\n",
      "   1.11111111   1.31313131   1.51515152   1.71717172   1.91919192\n",
      "   2.12121212   2.32323232   2.52525253   2.72727273   2.92929293\n",
      "   3.13131313   3.33333333   3.53535354   3.73737374   3.93939394\n",
      "   4.14141414   4.34343434   4.54545455   4.74747475   4.94949495\n",
      "   5.15151515   5.35353535   5.55555556   5.75757576   5.95959596\n",
      "   6.16161616   6.36363636   6.56565657   6.76767677   6.96969697\n",
      "   7.17171717   7.37373737   7.57575758   7.77777778   7.97979798\n",
      "   8.18181818   8.38383838   8.58585859   8.78787879   8.98989899\n",
      "   9.19191919   9.39393939   9.5959596    9.7979798   10.        ]\n"
     ]
    }
   ],
   "source": [
    "# 신경망은 한번 정의된 변수를 다시 쓸 수 없다 그러므로 그래프를 리셋해줘야한다.\n",
    "# 시그모이드 \n",
    "import tensorflow as tf\n",
    "import numpy as np\n",
    "import matplotlib.pyplot as plt \n",
    "from tensorflow.python.framework import ops\n",
    "ops.reset_default_graph() # 그라프 초기화\n",
    "sess = tf.Session() # 그라프 초기화하고 다시 세션연결함\n",
    "\n",
    "x_vals = np.linspace(start=-10., stop=10., num=100)\n",
    "print(x_vals)"
   ]
  },
  {
   "cell_type": "code",
   "execution_count": 145,
   "metadata": {},
   "outputs": [
    {
     "name": "stdout",
     "output_type": "stream",
     "text": [
      "[ 0.  3. 10.]\n",
      "[0.26894143 0.5        0.7310586 ]\n",
      "[-0.7615942  0.         0.7615942]\n",
      "[-0.63212055  0.          1.        ]\n",
      "[-0.9999546  -0.99994444 -0.999932   -0.99991677 -0.99989814 -0.99987534\n",
      " -0.99984743 -0.99981327 -0.99977147 -0.99972031 -0.99965769 -0.99958106\n",
      " -0.99948727 -0.99937248 -0.999232   -0.99906006 -0.99884964 -0.9985921\n",
      " -0.99827691 -0.99789116 -0.99741905 -0.99684124 -0.99613408 -0.99526861\n",
      " -0.99420938 -0.99291301 -0.99132643 -0.98938465 -0.98700817 -0.98409965\n",
      " -0.98053999 -0.97618343 -0.97085155 -0.96432601 -0.95633957 -0.94656519\n",
      " -0.9346026  -0.9199619  -0.90204355 -0.88011378 -0.85327452 -0.82042669\n",
      " -0.78022512 -0.73102351 -0.67080701 -0.59710968 -0.50691352 -0.3965249\n",
      " -0.26142329 -0.0960761   0.1010101   0.3030303   0.50505051  0.70707071\n",
      "  0.90909091  1.11111111  1.31313131  1.51515152  1.71717172  1.91919192\n",
      "  2.12121212  2.32323232  2.52525253  2.72727273  2.92929293  3.13131313\n",
      "  3.33333333  3.53535354  3.73737374  3.93939394  4.14141414  4.34343434\n",
      "  4.54545455  4.74747475  4.94949495  5.15151515  5.35353535  5.55555556\n",
      "  5.75757576  5.95959596  6.16161616  6.36363636  6.56565657  6.76767677\n",
      "  6.96969697  7.17171717  7.37373737  7.57575758  7.77777778  7.97979798\n",
      "  8.18181818  8.38383838  8.58585859  8.78787879  8.98989899  9.19191919\n",
      "  9.39393939  9.5959596   9.7979798  10.        ]\n",
      "[0.31326166 0.6931472  1.3132616 ]\n",
      "[4.53988992e-05 5.55621925e-05 6.80006294e-05 8.32234827e-05\n",
      " 1.01854002e-04 1.24654915e-04 1.52559623e-04 1.86710374e-04\n",
      " 2.28504961e-04 2.79653838e-04 3.42249995e-04 4.18854392e-04\n",
      " 5.12600439e-04 6.27321712e-04 7.67708042e-04 9.39496227e-04\n",
      " 1.14970295e-03 1.40690911e-03 1.72160671e-03 2.10662180e-03\n",
      " 2.57762963e-03 3.15378152e-03 3.85846667e-03 4.72023638e-03\n",
      " 5.77392318e-03 7.06199264e-03 8.63617122e-03 1.05593993e-02\n",
      " 1.29081631e-02 1.57752639e-02 1.92730804e-02 2.35373794e-02\n",
      " 2.87317129e-02 3.50524161e-02 4.27341757e-02 5.20560700e-02\n",
      " 6.33478781e-02 7.69963170e-02 9.34506760e-02 1.13227094e-01\n",
      " 1.36910472e-01 1.65152775e-01 1.98666320e-01 2.38210660e-01\n",
      " 2.84571982e-01 3.38534624e-01 4.00845440e-01 4.72173209e-01\n",
      " 5.53066799e-01 6.43916968e-01 7.44927069e-01 8.56097102e-01\n",
      " 9.77223714e-01 1.10791615e+00 1.24762553e+00 1.39568309e+00\n",
      " 1.55134197e+00 1.71381783e+00 1.88232449e+00 2.05610239e+00\n",
      " 2.23443922e+00 2.41668300e+00 2.60224884e+00 2.79062061e+00\n",
      " 2.98134900e+00 3.17404731e+00 3.36838575e+00 3.56408525e+00\n",
      " 3.76091112e+00 3.95866702e+00 4.15718941e+00 4.35634251e+00\n",
      " 4.55601394e+00 4.75611092e+00 4.95655694e+00 5.15728907e+00\n",
      " 5.35825559e+00 5.55941402e+00 5.76072954e+00 5.96217359e+00\n",
      " 6.16372278e+00 6.36535797e+00 6.56706347e+00 6.76882647e+00\n",
      " 6.97063647e+00 7.17248488e+00 7.37436470e+00 7.57627018e+00\n",
      " 7.77819663e+00 7.98014023e+00 8.18209784e+00 8.38406689e+00\n",
      " 8.58604530e+00 8.78803135e+00 8.99002364e+00 9.19202105e+00\n",
      " 9.39402262e+00 9.59602760e+00 9.79803536e+00 1.00000454e+01]\n"
     ]
    },
    {
     "data": {
      "image/png": "[encoded data removed]",
      "text/plain": [
       "<Figure size 432x288 with 1 Axes>"
      ]
     },
     "metadata": {
      "needs_background": "light"
     },
     "output_type": "display_data"
    },
    {
     "data": {
      "image/png": "[encoded data removed]",
      "text/plain": [
       "<Figure size 432x288 with 1 Axes>"
      ]
     },
     "metadata": {
      "needs_background": "light"
     },
     "output_type": "display_data"
    }
   ],
   "source": [
    "# 렐루는 0 이하는 전부 0으로 만들어 버리고 \n",
    "# 일루 함수는 음수중에서 -1 까지는 보여주겠다. \n",
    "\n",
    "print(sess.run(tf.nn.relu([-3., 3., 10.])))  # 값의 범위: 0에서 무한대 -> relu 가 제일많이 쓰인다. relu 는 속도도 빠르고 빨리 최적화함  ( relu 수정본 : elu, softplus )\n",
    "y_relu = sess.run(tf.nn.relu(x_vals))   # relu 의 단점 : 마이너스 값이 없다 ( 그것을 보완한 것이 elu) \n",
    "\n",
    "print(sess.run(tf.nn.sigmoid([-1., 0., 1.]))) # 값의 범위 0~1\n",
    "y_sigmoid=sess.run(tf.nn.sigmoid(x_vals))\n",
    "\n",
    "print(sess.run(tf.nn.tanh([-1., 0., 1.]))) # 값의 범위 -1~1\n",
    "y_tanh = sess.run(tf.nn.tanh(x_vals))\n",
    "\n",
    "print(sess.run(tf.nn.elu([-1., 0., 1.])))  # -1~무한대 까지 ( relu 의 수정본이다 ) \n",
    "y_elu=sess.run(tf.nn.elu(x_vals))\n",
    "print(y_elu)\n",
    "print(sess.run(tf.nn.softplus([-1., 0., 1.]))) # relu 의 각진단점을 보완한것이 softplus\n",
    "y_softplus=sess.run(tf.nn.softplus(x_vals))\n",
    "print(y_softplus)\n",
    "\n",
    "plt.plot(x_vals, y_relu, 'b:', label='ReLU', linewidth=2)\n",
    "plt.plot(x_vals,y_elu, 'k-', label='ExpLU', linewidth=0.5)\n",
    "plt.ylim([-1.5,7])\n",
    "plt.legend(loc='upper left')\n",
    "plt.show()\n",
    "\n",
    "plt.plot(x_vals, y_sigmoid,'r--', label=\"Sigmoid\", linewidth=2)\n",
    "plt.plot(x_vals, y_tanh, 'b:', label='Tanh', linewidth=2)\n",
    "plt.ylim([-2,2])\n",
    "plt.legend(loc='upper left')\n",
    "plt.show()"
   ]
  },
  {
   "cell_type": "code",
   "execution_count": null,
   "metadata": {},
   "outputs": [],
   "source": []
  },
  {
   "cell_type": "code",
   "execution_count": 185,
   "metadata": {},
   "outputs": [],
   "source": [
    "ops.reset_default_graph()  # 그라프 초기화\n",
    "sess= tf.Session()\n",
    "tf.set_random_seed(5) # 시드의 초기값\n",
    "np.random.seed(42)\n",
    "batch_size=50  \n",
    "a1= tf.Variable(tf.random_normal(shape=[1,1])) # a1, a2 는 가중치\n",
    "b1= tf.Variable(tf.random_uniform(shape=[1,1])) # b1, b2 는 바이어스 \n",
    "a2= tf.Variable(tf.random_normal(shape=[1,1]))   \n",
    "b2= tf.Variable(tf.random_uniform(shape=[1,1]))  \n",
    "x= np.random.normal(2, 0.1, 500) # 500개 데이터를 랜덤으로 만들었다.\n",
    "x_data =tf.placeholder(shape=[None,1], dtype=tf.float32) # >>> 사이즈를 fix 하지 않고 입력데이터로부터 계산한다 -> [None,1] 을 했다는 것은 행데이터로 생성하라는 소리이다 (사이즈는 들어오는 데이터로부터 결정한다 ) \n",
    "\n",
    "# 예를들면 한행으로 데이터가 들어오면 [2,3,2,12,2,1,232,21,3] 이런식으로 들어오면 행데이터로 생성하라는것!"
   ]
  },
  {
   "cell_type": "code",
   "execution_count": 1,
   "metadata": {},
   "outputs": [
    {
     "ename": "NameError",
     "evalue": "name 'tf' is not defined",
     "output_type": "error",
     "traceback": [
      "\u001b[1;31m---------------------------------------------------------------------------\u001b[0m",
      "\u001b[1;31mNameError\u001b[0m                                 Traceback (most recent call last)",
      "\u001b[1;32m<ipython-input-1-2f536875d893>\u001b[0m in \u001b[0;36m<module>\u001b[1;34m\u001b[0m\n\u001b[1;32m----> 1\u001b[1;33m \u001b[0msigmoid_activation\u001b[0m \u001b[1;33m=\u001b[0m \u001b[0mtf\u001b[0m\u001b[1;33m.\u001b[0m\u001b[0msigmoid\u001b[0m\u001b[1;33m(\u001b[0m\u001b[0mtf\u001b[0m\u001b[1;33m.\u001b[0m\u001b[0madd\u001b[0m\u001b[1;33m(\u001b[0m\u001b[0mtf\u001b[0m\u001b[1;33m.\u001b[0m\u001b[0mmatmul\u001b[0m\u001b[1;33m(\u001b[0m\u001b[0mx_data\u001b[0m\u001b[1;33m,\u001b[0m \u001b[0ma1\u001b[0m\u001b[1;33m)\u001b[0m\u001b[1;33m,\u001b[0m \u001b[0mb1\u001b[0m\u001b[1;33m)\u001b[0m\u001b[1;33m)\u001b[0m \u001b[1;31m# y= ax+ b 는 아까랑 똑같음 ( 근데 시그모이드를 달았음) ->어떤값이 들어오더라도 시그모이드를 통과하면서 0~1 사이의 값으로 매핑됨\u001b[0m\u001b[1;33m\u001b[0m\u001b[1;33m\u001b[0m\u001b[0m\n\u001b[0m\u001b[0;32m      2\u001b[0m \u001b[0mrelu_activation\u001b[0m \u001b[1;33m=\u001b[0m \u001b[0mtf\u001b[0m\u001b[1;33m.\u001b[0m\u001b[0mnn\u001b[0m\u001b[1;33m.\u001b[0m\u001b[0mrelu\u001b[0m\u001b[1;33m(\u001b[0m\u001b[0mtf\u001b[0m\u001b[1;33m.\u001b[0m\u001b[0madd\u001b[0m\u001b[1;33m(\u001b[0m\u001b[0mtf\u001b[0m\u001b[1;33m.\u001b[0m\u001b[0mmatmul\u001b[0m\u001b[1;33m(\u001b[0m\u001b[0mx_data\u001b[0m\u001b[1;33m,\u001b[0m \u001b[0ma2\u001b[0m\u001b[1;33m)\u001b[0m\u001b[1;33m,\u001b[0m \u001b[0mb2\u001b[0m\u001b[1;33m)\u001b[0m\u001b[1;33m)\u001b[0m  \u001b[1;31m## 시그모이드랑 렐루 2개 만들었음  # relu 달았음-> 어떤 값이 들어오더라도 0에서 무한대깞을 갖는다\u001b[0m\u001b[1;33m\u001b[0m\u001b[1;33m\u001b[0m\u001b[0m\n\u001b[0;32m      3\u001b[0m \u001b[1;33m\u001b[0m\u001b[0m\n\u001b[0;32m      4\u001b[0m \u001b[1;33m\u001b[0m\u001b[0m\n\u001b[0;32m      5\u001b[0m \u001b[0mloss1\u001b[0m \u001b[1;33m=\u001b[0m \u001b[0mtf\u001b[0m\u001b[1;33m.\u001b[0m\u001b[0mreduce_mean\u001b[0m\u001b[1;33m(\u001b[0m\u001b[0mtf\u001b[0m\u001b[1;33m.\u001b[0m\u001b[0msquare\u001b[0m\u001b[1;33m(\u001b[0m\u001b[0mtf\u001b[0m\u001b[1;33m.\u001b[0m\u001b[0msubtract\u001b[0m\u001b[1;33m(\u001b[0m\u001b[0msigmoid_activation\u001b[0m\u001b[1;33m,\u001b[0m \u001b[1;36m0.75\u001b[0m\u001b[1;33m)\u001b[0m\u001b[1;33m)\u001b[0m\u001b[1;33m)\u001b[0m  \u001b[1;31m#loss 함수로 mse 를 구하고 있다.\u001b[0m\u001b[1;33m\u001b[0m\u001b[1;33m\u001b[0m\u001b[0m\n",
      "\u001b[1;31mNameError\u001b[0m: name 'tf' is not defined"
     ]
    }
   ],
   "source": [
    "sigmoid_activation = tf.sigmoid(tf.add(tf.matmul(x_data, a1), b1)) # y= ax+ b 는 아까랑 똑같음 ( 근데 시그모이드를 달았음) ->어떤값이 들어오더라도 시그모이드를 통과하면서 0~1 사이의 값으로 매핑됨 \n",
    "relu_activation = tf.nn.relu(tf.add(tf.matmul(x_data, a2), b2))  ## 시그모이드랑 렐루 2개 만들었음  # relu 달았음-> 어떤 값이 들어오더라도 0에서 무한대깞을 갖는다 \n",
    "\n",
    "\n",
    "loss1 = tf.reduce_mean(tf.square(tf.subtract(sigmoid_activation, 0.75)))  #loss 함수로 mse 를 구하고 있다.\n",
    "loss2 = tf.reduce_mean(tf.square(tf.subtract(relu_activation, 0.75)))\n",
    "# subtract 0.75에서 잘라주겠다. \n",
    "\n",
    "init = tf.global_variables_initializer()\n",
    "sess.run(init)\n",
    "my_opt = tf.train.GradientDescentOptimizer(0.01) # 학습률은 0.01 로 주고 minimize 함 \n",
    "train_step_sigmoid = my_opt.minimize(loss1)\n",
    "train_step_relu = my_opt.minimize(loss2)\n",
    "print('\\n Sigmoid AND Relu 함수의 최적화 0.75')"
   ]
  },
  {
   "cell_type": "code",
   "execution_count": 187,
   "metadata": {},
   "outputs": [],
   "source": [
    "loss_vec_sigmoid = []  # 로스값을 저장하기 위해서 만들었음 밑에서 append 시킬것이다!  (append 하면 뒤로 데이터가 추가됨!)\n",
    "loss_vec_relu = []\n"
   ]
  },
  {
   "cell_type": "code",
   "execution_count": 188,
   "metadata": {},
   "outputs": [
    {
     "name": "stdout",
     "output_type": "stream",
     "text": [
      "sigmoid :  0.12655206 relu : 2.0227606\n",
      "sigmoid :  0.17863758 relu : 0.7530296\n",
      "sigmoid :  0.24769813 relu : 0.7492897\n",
      "sigmoid :  0.3446748 relu : 0.7499546\n",
      "sigmoid :  0.4400661 relu : 0.7539999\n",
      "sigmoid :  0.5236898 relu : 0.754772\n",
      "sigmoid :  0.58373857 relu : 0.7508698\n",
      "sigmoid :  0.62733483 relu : 0.7470234\n",
      "sigmoid :  0.6549499 relu : 0.75180537\n",
      "sigmoid :  0.67452586 relu : 0.75470716\n"
     ]
    }
   ],
   "source": [
    "for i in range(500):             # 500번을 돈다.\n",
    "    rand_indices = np.random.choice(len(x), size=batch_size)  # 500개에서 50개를 랜덤으로 초이스한다 . \n",
    "    x_vals = np.transpose([x[rand_indices]])  # 전치시킴( 입력데이터의 모양을 맞추기 위해서 전치를 시켰음) \n",
    "    sess.run(train_step_sigmoid, feed_dict={x_data:x_vals})# 그리고 나서 feeding 데이터 넣음 \n",
    "    sess.run(train_step_relu, feed_dict={x_data:x_vals})   # 렐루를 집어넣고 0.75로 수렴하는 로스 값 구함? \n",
    "    loss_vec_sigmoid.append(sess.run(loss1, feed_dict={x_data:x_vals}))\n",
    "    loss_vec_relu.append(sess.run(loss2, feed_dict={x_data:x_vals}))\n",
    "    \n",
    "    sigmoid_output = np.mean(sess.run(sigmoid_activation, feed_dict={x_data:x_vals})) # feed 값을 또 준다!  \n",
    "    relu_output = np.mean(sess.run(relu_activation, feed_dict={x_data:x_vals})) # \n",
    "    \n",
    "    if i % 50 ==0:\n",
    "        print('sigmoid : ',str(np.mean(sigmoid_output))+' relu : '+str(np.mean(relu_output)))\n",
    "        \n",
    "        \n",
    "        # 0.75 로 수렴하는 과정이다  (relu 는 빨리 수렴해가는 것을 폴수있다)  \n",
    "        # 시그모이드가 더 늦다"
   ]
  },
  {
   "cell_type": "code",
   "execution_count": 189,
   "metadata": {},
   "outputs": [
    {
     "data": {
      "image/png": "[encoded data removed]",
      "text/plain": [
       "<Figure size 432x288 with 1 Axes>"
      ]
     },
     "metadata": {
      "needs_background": "light"
     },
     "output_type": "display_data"
    }
   ],
   "source": [
    "plt.plot(loss_vec_sigmoid, 'k-', label='Sigmoid Activation')\n",
    "plt.plot(loss_vec_relu, 'r--', label='Relu Activation')\n",
    "plt.ylim([0, 1.0])\n",
    "plt.title(' loss per Generation')\n",
    "plt.xlabel('Generation')\n",
    "plt.ylabel('Loss')\n",
    "plt.legend(loc='upper right')\n",
    "plt.show() "
   ]
  },
  {
   "cell_type": "code",
   "execution_count": null,
   "metadata": {},
   "outputs": [],
   "source": []
  },
  {
   "cell_type": "code",
   "execution_count": null,
   "metadata": {},
   "outputs": [],
   "source": []
  },
  {
   "cell_type": "code",
   "execution_count": null,
   "metadata": {},
   "outputs": [],
   "source": []
  },
  {
   "cell_type": "code",
   "execution_count": null,
   "metadata": {},
   "outputs": [],
   "source": [
    "# 오늘 수업정리"
   ]
  },
  {
   "cell_type": "code",
   "execution_count": null,
   "metadata": {},
   "outputs": [],
   "source": [
    "# 데이터 입력할때 미니배치를 이용하는 이유? : 속도빠르게, 지역해문제해결\n",
    "# 입력데이터의 가중치를 deep 하게 줬을떄 좋은 점 ?  정확도 올라간다, 특징소실이 줄어든다 , 비선형을 이용해서 xor 문제 해결할수있다\n",
    "# activation 함수가 하는 역할 : 선형을 비선형으로 맵핑하면서 회귀와 분류를 구분해준다 . \n",
    "# accuracy 를 이용해서 경사하강법 쓰지 못하고, cost function 을 써야하는 이유\n",
    "#     : accuracy 는 0으로 하는 경우가 많다 이때는 미분이 안되므로 cost function 을 정의하게 된다 .\n",
    "#          (회귀일때는 mse, 분류일떄는 enthropy 를 이용해서 cost function 을 정의한다 ) \n",
    "# 경사하강법이 컨트롤 하는 2가지 : learning rate, 기울기를 어떻게 할것인지 컨트롤한다 \n",
    "\n",
    "# 기본 포맷 : 그라프만들고 세션연결해서 실행하면 결과를 확인할 수 있다 . "
   ]
  },
  {
   "cell_type": "code",
   "execution_count": null,
   "metadata": {},
   "outputs": [],
   "source": []
  },
  {
   "cell_type": "code",
   "execution_count": null,
   "metadata": {},
   "outputs": [],
   "source": []
  },
  {
   "cell_type": "code",
   "execution_count": null,
   "metadata": {},
   "outputs": [],
   "source": []
  },
  {
   "cell_type": "code",
   "execution_count": null,
   "metadata": {},
   "outputs": [],
   "source": []
  }
 ],
 "metadata": {
  "kernelspec": {
   "display_name": "Python 3",
   "language": "python",
   "name": "python3"
  },
  "language_info": {
   "codemirror_mode": {
    "name": "ipython",
    "version": 3
   },
   "file_extension": ".py",
   "mimetype": "text/x-python",
   "name": "python",
   "nbconvert_exporter": "python",
   "pygments_lexer": "ipython3",
   "version": "3.7.4"
  }
 },
 "nbformat": 4,
 "nbformat_minor": 2
}
