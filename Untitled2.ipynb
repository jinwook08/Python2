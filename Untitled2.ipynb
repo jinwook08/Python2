{
 "cells": [
  {
   "cell_type": "code",
   "execution_count": 9,
   "metadata": {},
   "outputs": [],
   "source": [
    "import requests   # 웹페이지 획득 (브라우저)\n",
    "from bs4 import BeautifulSoup\n",
    "import re\n",
    "class HTMLTableParser:\n",
    "    def parse_url(self, url):\n",
    "        response = requests.get(url)       # 여기에 주소를 적으면 가져온다 \n",
    "        # html tag를 파싱해서 계층적으로 데이터를 보유 --> BeautifulSoup\n",
    "        soup = BeautifulSoup(response.text, 'html.parser')\n",
    "        # html 태그는 id(웹페이지에서 유일), name(중복가능, 서버)\n",
    "        return [(table('id'), self.parse_html_table(table)) #파싱\n",
    "               for table in soup.find_all('table')]\n",
    "    def parse_html_table(self, table):\n",
    "        n_columns = 0          # 몇열인지 \n",
    "        n_rows = 0           # 몇행인지 --> 공간확보 \n",
    "        column_names =[] # 열이름 저장\n",
    "        for row in table.find_all('tr'):    # <tr></tr> 사이의 값들을 찾아서 가져온다. \n",
    "            td_tags = row.find_all('td')       # <td></td> 사이의 값들을 찾아서 가져온다 \n",
    "            if len(td_tags)> 0:\n",
    "                n_rows+=1  # 행수를 카운트 한다. \n",
    "                if n_columns ==0:     # 첫행이면 \n",
    "                    n_columns = len(td_tags)      # 열 개수를 결정한다. \n",
    "            th_tags = row.find_all('th')      # 컬럼 이름을 결정한다. \n",
    "            if len(th_tags)>0 and len(column_names) ==0:\n",
    "                for th in th_tags:\n",
    "                    column_names.append(th.get_text())  # 여기서 결정\n",
    "        if len(column_names)>0 and len(column_names)!= n_columns:\n",
    "            raise Exception('컬럼 타이틀 컬럼 숫자와 안맞음')\n",
    "            # 강제로 예외 발생 시켜라 \n",
    "        columns = column_names  if len(column_names)>0 else range(0, n_columns)     # 문자로 주던지 #숫자로 주던지\n",
    "        df = pd.DataFrame(columns = columns, index = range(0, n_rows))             \n",
    "        row_marker = 0      # 행수에 따라서 \n",
    "        for row in table.find_all('tr'):\n",
    "            column_marker = 0    # 열수에 따라서 \n",
    "            columns = row.find_all('td')  #데이터를 가져옴\n",
    "            for column in columns :\n",
    "                re_text = column.get_text().replace('\\n', '')\n",
    "                re_text = re_text.replace('\\t','')\n",
    "                re_text = re_text.replace('\\r','')\n",
    "                df.iloc[row_marker, column_marker] = re_text     # 순서대로  # 가져온 텍스트를 넣어준다. \n",
    "                column_marker +=1\n",
    "            if len(columns)>0:      # 아직도 데이터가 있다 --> 행추가를 해줘라 \n",
    "                row_marker +=1   # 행추가 \n",
    "        for col in df:      # 채워진 데이터에서 \n",
    "            try:\n",
    "                df[col] = df[col].astype(float) #숫자형으로 변경 \n",
    "            except ValueError:  # 숫자만 바꿔주고 문자는  에러가 나면 그냥 pass\n",
    "                pass\n",
    "        return df"
   ]
  },
  {
   "cell_type": "code",
   "execution_count": 10,
   "metadata": {},
   "outputs": [
    {
     "data": {
      "text/html": [
       "<div>\n",
       "<style scoped>\n",
       "    .dataframe tbody tr th:only-of-type {\n",
       "        vertical-align: middle;\n",
       "    }\n",
       "\n",
       "    .dataframe tbody tr th {\n",
       "        vertical-align: top;\n",
       "    }\n",
       "\n",
       "    .dataframe thead th {\n",
       "        text-align: right;\n",
       "    }\n",
       "</style>\n",
       "<table border=\"1\" class=\"dataframe\">\n",
       "  <thead>\n",
       "    <tr style=\"text-align: right;\">\n",
       "      <th></th>\n",
       "      <th>0</th>\n",
       "      <th>1</th>\n",
       "    </tr>\n",
       "  </thead>\n",
       "  <tbody>\n",
       "    <tr>\n",
       "      <td>0</td>\n",
       "      <td></td>\n",
       "      <td></td>\n",
       "    </tr>\n",
       "  </tbody>\n",
       "</table>\n",
       "</div>"
      ],
      "text/plain": [
       "  0  1\n",
       "0     "
      ]
     },
     "execution_count": 10,
     "metadata": {},
     "output_type": "execute_result"
    }
   ],
   "source": [
    "import pandas as pd\n",
    "url_part1 = \"\"\"https://www.weather.go.kr/weather/observation/aws_table_popup.jsp\"\"\"      # date 기준으로 나눈다. \n",
    "\n",
    "url = url_part1 \n",
    "hp = HTMLTableParser() # 인스턴스\n",
    "table = hp.parse_url(url)[0][1]\n",
    "table"
   ]
  },
  {
   "cell_type": "code",
   "execution_count": null,
   "metadata": {},
   "outputs": [],
   "source": []
  }
 ],
 "metadata": {
  "kernelspec": {
   "display_name": "Python 3",
   "language": "python",
   "name": "python3"
  },
  "language_info": {
   "codemirror_mode": {
    "name": "ipython",
    "version": 3
   },
   "file_extension": ".py",
   "mimetype": "text/x-python",
   "name": "python",
   "nbconvert_exporter": "python",
   "pygments_lexer": "ipython3",
   "version": "3.7.4"
  }
 },
 "nbformat": 4,
 "nbformat_minor": 2
}
