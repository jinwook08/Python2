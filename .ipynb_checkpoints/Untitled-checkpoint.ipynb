{
 "cells": [
  {
   "cell_type": "markdown",
   "metadata": {},
   "source": [
    "# 파이썬 연습 "
   ]
  },
  {
   "cell_type": "code",
   "execution_count": null,
   "metadata": {},
   "outputs": [],
   "source": [
    "print('Hello world!')   ## 문자열은 ' '으로 표시해야 나타난다.  \n",
    "\n",
    "#print(Hello world)                 ##이렇게 적으면 구문 에러가 나온다 ==> invalid syntax 옆에 따옴표 해주면된다. "
   ]
  },
  {
   "cell_type": "markdown",
   "metadata": {},
   "source": [
    "# 들여쓰기 "
   ]
  },
  {
   "cell_type": "code",
   "execution_count": null,
   "metadata": {},
   "outputs": [],
   "source": [
    "# 들여쓰기는 코드를 일기 쉽도록 일정한 간격을 띄워서 작성하는 방법이다. \n",
    "# 특히 파이썬은 들여쓰기 자체가 문법임.\n",
    "# 예를 들어 if의 다음 줄은 항상 들여쓰기를 해야한다. \n",
    "# 만약에 들여 쓰기를 하지 않으면 문법 에러가 발생한다. "
   ]
  },
  {
   "cell_type": "code",
   "execution_count": null,
   "metadata": {},
   "outputs": [],
   "source": [
    "a = 10\n",
    "if a == 10:\n",
    "    print('10')                                          ## 현재 셀에서는 값이 나오는데 \n",
    "                                                        ## 아래 에서는 들여쓰기가 되어 있지 않아서 \n",
    "                                                        ## 에러가 나는것을 볼 수 있다. "
   ]
  },
  {
   "cell_type": "code",
   "execution_count": null,
   "metadata": {},
   "outputs": [],
   "source": [
    "if a == 10:\n",
    "print('10')                                      # if 아래에 스페이스바로 공백이 4칸이여야 한다. "
   ]
  },
  {
   "cell_type": "markdown",
   "metadata": {},
   "source": [
    "# 숫자 계산하기 "
   ]
  },
  {
   "cell_type": "code",
   "execution_count": null,
   "metadata": {},
   "outputs": [],
   "source": [
    "#파이썬에서 숫자의 자료형이 여러개가 있다,\n",
    "# int = 정수형 \n",
    "# float = 실수형\n",
    "# complex 복소수 \n",
    "# 거의 정수와 실수 위주로 사용하기는 한다. "
   ]
  },
  {
   "cell_type": "code",
   "execution_count": null,
   "metadata": {},
   "outputs": [],
   "source": [
    "1+1\n"
   ]
  },
  {
   "cell_type": "code",
   "execution_count": null,
   "metadata": {},
   "outputs": [],
   "source": [
    "1-2\n"
   ]
  },
  {
   "cell_type": "code",
   "execution_count": null,
   "metadata": {},
   "outputs": [],
   "source": [
    "2*2\n"
   ]
  },
  {
   "cell_type": "code",
   "execution_count": null,
   "metadata": {},
   "outputs": [],
   "source": [
    "4/2  # 결과 값이 실수가 나온다 // 파이썬에서는 정수끼리 나누어도 실수가 나옴"
   ]
  },
  {
   "cell_type": "markdown",
   "metadata": {},
   "source": [
    "# 나눗셈 후 소수점 이하를 버리는///연산자\n"
   ]
  },
  {
   "cell_type": "code",
   "execution_count": null,
   "metadata": {
    "scrolled": true
   },
   "outputs": [],
   "source": [
    "5//2   ##원래는 2.5 인데 0.5를 버린다"
   ]
  },
  {
   "cell_type": "markdown",
   "metadata": {},
   "source": [
    "##참고로  실수 // 실수의 경우"
   ]
  },
  {
   "cell_type": "code",
   "execution_count": null,
   "metadata": {},
   "outputs": [],
   "source": [
    "5.5//2.0                ## 소숫점 이하를 무조건 버리므로 .0으로 항상 끝난다. "
   ]
  },
  {
   "cell_type": "markdown",
   "metadata": {},
   "source": [
    "# 나눗셈 후 나머지를 구하는 % 연산자"
   ]
  },
  {
   "cell_type": "code",
   "execution_count": null,
   "metadata": {},
   "outputs": [],
   "source": [
    "5 % 2"
   ]
  },
  {
   "cell_type": "markdown",
   "metadata": {},
   "source": [
    "# 거듭제곱을 구하는 연산자 "
   ]
  },
  {
   "cell_type": "code",
   "execution_count": null,
   "metadata": {},
   "outputs": [],
   "source": [
    "2 ** 10"
   ]
  },
  {
   "cell_type": "markdown",
   "metadata": {},
   "source": [
    "# 값을 정수로 만들기 "
   ]
  },
  {
   "cell_type": "code",
   "execution_count": null,
   "metadata": {},
   "outputs": [],
   "source": [
    "int(3.3)                            ## 3.3은 실수 인데 int를 사용하여 정수로 만들어주면 3이 된다. "
   ]
  },
  {
   "cell_type": "code",
   "execution_count": null,
   "metadata": {},
   "outputs": [],
   "source": [
    "int(5/2)                                # 계산식에서도 사용가능"
   ]
  },
  {
   "cell_type": "code",
   "execution_count": null,
   "metadata": {},
   "outputs": [],
   "source": [
    "int('10')                               # 문자열에서도 사용"
   ]
  },
  {
   "cell_type": "markdown",
   "metadata": {},
   "source": [
    "# 객체의 자료형 알아내기 \n"
   ]
  },
  {
   "cell_type": "code",
   "execution_count": null,
   "metadata": {},
   "outputs": [],
   "source": [
    "type(10)   #정수"
   ]
  },
  {
   "cell_type": "code",
   "execution_count": null,
   "metadata": {},
   "outputs": [],
   "source": [
    "type(10.0)    #실수"
   ]
  },
  {
   "cell_type": "code",
   "execution_count": null,
   "metadata": {},
   "outputs": [],
   "source": [
    "type('10.0')         #문자열"
   ]
  },
  {
   "cell_type": "markdown",
   "metadata": {},
   "source": [
    "# 몫과 나머지 함께 구하기\n"
   ]
  },
  {
   "cell_type": "code",
   "execution_count": null,
   "metadata": {},
   "outputs": [],
   "source": [
    "divmod(5,2)                # divmod(5, 2)-> 5나누기 2 /// (2, 1 )--> 몫이 2이고 나머지가 1"
   ]
  },
  {
   "cell_type": "markdown",
   "metadata": {},
   "source": [
    "# 2진수 , 8진수 , 16진수 \n"
   ]
  },
  {
   "cell_type": "code",
   "execution_count": null,
   "metadata": {},
   "outputs": [],
   "source": [
    "# 2진수 : 숫자 앞에 0b를 붙이면 0과 1을 사용합니다. \n",
    "# 8진수 : 숫자 앞에 0o(숫자 0과 소문자 o) 를 붙이면 0부터 7까지 사용합니다.\n",
    "# 16진수 : 숫자 앞에 0x 또는 0X를 붙이면 0부터 9, A부터 F까지 사용합니다 "
   ]
  },
  {
   "cell_type": "code",
   "execution_count": null,
   "metadata": {},
   "outputs": [],
   "source": [
    "# 2진수\n",
    "\n",
    "0b110                   ## 2^2 + 2^1 = 6"
   ]
  },
  {
   "cell_type": "code",
   "execution_count": null,
   "metadata": {},
   "outputs": [],
   "source": [
    "# 8진수\n",
    "\n",
    "0o10"
   ]
  },
  {
   "cell_type": "code",
   "execution_count": null,
   "metadata": {},
   "outputs": [],
   "source": [
    "# 16진수\n",
    "\n",
    "0xF             # 0xF= 0xf"
   ]
  },
  {
   "cell_type": "markdown",
   "metadata": {},
   "source": [
    "# 값을 실수로 만들기 "
   ]
  },
  {
   "cell_type": "code",
   "execution_count": null,
   "metadata": {},
   "outputs": [],
   "source": [
    "float(5) #숫자"
   ]
  },
  {
   "cell_type": "code",
   "execution_count": null,
   "metadata": {},
   "outputs": [],
   "source": [
    "float(1+2)    #계산식"
   ]
  },
  {
   "cell_type": "code",
   "execution_count": null,
   "metadata": {},
   "outputs": [],
   "source": [
    "float('5.5')           #문자열"
   ]
  },
  {
   "cell_type": "code",
   "execution_count": null,
   "metadata": {},
   "outputs": [],
   "source": [
    "type(3.5)"
   ]
  },
  {
   "cell_type": "markdown",
   "metadata": {},
   "source": [
    "# 변수와 입력 사용하기"
   ]
  },
  {
   "cell_type": "code",
   "execution_count": null,
   "metadata": {},
   "outputs": [],
   "source": [
    "# 변수 이름 = 값 \n",
    "\n",
    "x = 10\n",
    "\n",
    "x"
   ]
  },
  {
   "cell_type": "code",
   "execution_count": null,
   "metadata": {},
   "outputs": [],
   "source": [
    "# 변수 이름 지정 규칙\n",
    "\n",
    "# 영문 문자와 숫자를 사용할 수 있다\n",
    "# 대소문자를 구분합니다. \n",
    "# 문자부터 시작해야 하며 숫자부터 시작하면 안됩니다. \n",
    "# _ (밑줄 문자)로 시작할 수 있습니다. \n",
    "# 특수문자는 사용할 수 없습니다.\n",
    "# 파이썬의 키워드는 사용할 수 없습니다. "
   ]
  },
  {
   "cell_type": "code",
   "execution_count": null,
   "metadata": {},
   "outputs": [],
   "source": [
    "y = 'hello, world!'\n",
    "y"
   ]
  },
  {
   "cell_type": "markdown",
   "metadata": {},
   "source": [
    "# 변수의 자료형 알아내기"
   ]
  },
  {
   "cell_type": "code",
   "execution_count": null,
   "metadata": {},
   "outputs": [],
   "source": [
    "type(x)"
   ]
  },
  {
   "cell_type": "code",
   "execution_count": null,
   "metadata": {},
   "outputs": [],
   "source": [
    "type(y)        # 변수의 자료형은 변수에 뭘 넣느냐에 따라 달라진다. "
   ]
  },
  {
   "cell_type": "markdown",
   "metadata": {},
   "source": [
    "# 변수 여러개를 한번에 만들기"
   ]
  },
  {
   "cell_type": "code",
   "execution_count": null,
   "metadata": {},
   "outputs": [],
   "source": [
    "x,y,z = 10,20,30             # 변수이름1, 변수이름2, 변수이름3, = 값1, 값2, 값3 \n",
    "print(x)                    # 변수와 값의 개수는 동일하게 맞춰주어야 한다. \n",
    "print(y)                     #나열된 순서로 값이 할당된다. \n",
    "print(z)"
   ]
  },
  {
   "cell_type": "code",
   "execution_count": null,
   "metadata": {},
   "outputs": [],
   "source": [
    "# 값이 모두 같을떄 \n",
    "x = y = z = 10\n",
    "print(x)\n",
    "print(y)\n",
    "print(z)"
   ]
  },
  {
   "cell_type": "code",
   "execution_count": null,
   "metadata": {},
   "outputs": [],
   "source": [
    "# 변수끼리 바꾸기\n",
    "\n",
    "x,y = 10,20            #여기서 x= 10 y= 20\n",
    "x,y = y,x                #여기서 다시 x= 20 , y= 10\n",
    "\n",
    "print(x)\n",
    "print(y)"
   ]
  },
  {
   "cell_type": "code",
   "execution_count": null,
   "metadata": {},
   "outputs": [],
   "source": [
    "# 변수 삭제하게\n",
    "\n",
    "del x\n",
    "\n",
    "x       ## 변수가 사라졌다."
   ]
  },
  {
   "cell_type": "code",
   "execution_count": null,
   "metadata": {},
   "outputs": [],
   "source": [
    "# 빈 변수 만들기\n",
    "\n",
    "x= None\n",
    "print(x)\n",
    "  ## R에서의 Null형태 "
   ]
  },
  {
   "cell_type": "code",
   "execution_count": null,
   "metadata": {},
   "outputs": [],
   "source": [
    "# 변수로 계산하기 \n",
    "\n",
    "a = 10\n",
    "b = 20\n",
    "c = a + b\n",
    "c"
   ]
  },
  {
   "cell_type": "code",
   "execution_count": null,
   "metadata": {},
   "outputs": [],
   "source": [
    "#산술 연산 후 할당 연산자 사용\n",
    "\n",
    "a = 10\n",
    "d = a+ 20\n",
    "print(d)\n",
    "print(a)"
   ]
  },
  {
   "cell_type": "code",
   "execution_count": null,
   "metadata": {},
   "outputs": [],
   "source": [
    "a +=20             ## 더한 값을 다시 a에다가 저장  += 이라고 사용한다 \n",
    "a                  ## 다시 한번 a를 적을 필요가 없음"
   ]
  },
  {
   "cell_type": "markdown",
   "metadata": {},
   "source": [
    "# 입력 값을 변수에 저장하기 "
   ]
  },
  {
   "cell_type": "code",
   "execution_count": null,
   "metadata": {},
   "outputs": [],
   "source": [
    "# input 함수 사용하기\n",
    "\n",
    "input()"
   ]
  },
  {
   "cell_type": "code",
   "execution_count": null,
   "metadata": {},
   "outputs": [],
   "source": [
    "x = input()"
   ]
  },
  {
   "cell_type": "code",
   "execution_count": null,
   "metadata": {},
   "outputs": [],
   "source": [
    "x"
   ]
  },
  {
   "cell_type": "code",
   "execution_count": null,
   "metadata": {},
   "outputs": [],
   "source": [
    "x = input('문자열을 입력하세요:')"
   ]
  },
  {
   "cell_type": "code",
   "execution_count": null,
   "metadata": {},
   "outputs": [],
   "source": [
    "x"
   ]
  },
  {
   "cell_type": "code",
   "execution_count": null,
   "metadata": {},
   "outputs": [],
   "source": [
    "# 입력해서 값 구하기\n"
   ]
  },
  {
   "cell_type": "code",
   "execution_count": null,
   "metadata": {},
   "outputs": [],
   "source": [
    "a = input('첫 번째 숫자를 입력하세요')\n",
    "b = input('두 번째 숫자를 입력하세요')\n",
    " \n",
    "print(a+b)                 ### 숫자가 더해지지 않고 합해져 있다. "
   ]
  },
  {
   "cell_type": "code",
   "execution_count": null,
   "metadata": {},
   "outputs": [],
   "source": [
    "type(a)        #a의 타입이 str 즉 문자열임을 알 수 있다. "
   ]
  },
  {
   "cell_type": "code",
   "execution_count": null,
   "metadata": {},
   "outputs": [],
   "source": [
    "# 입력 값을 정수로 변환하기 \n",
    "\n",
    "a= int(input('첫 번째 숫자를 입력하세요:'))\n",
    "b= int(input('두 번째 숫자를 입력하세요:'))\n",
    "\n",
    "print(a + b)"
   ]
  },
  {
   "cell_type": "code",
   "execution_count": null,
   "metadata": {},
   "outputs": [],
   "source": [
    "# 입력 값을 변수 두 개에 저장하기\n",
    "\n",
    "#변수1,변수2= input().split()\n",
    "#변수1,변수2= input().split(' 기준 문자열 ')\n",
    "#변수1, 변수2 = input('문자열').split()\n",
    "#변수1, 변수2= input('문자열').split('기준문자열')"
   ]
  },
  {
   "cell_type": "code",
   "execution_count": null,
   "metadata": {},
   "outputs": [],
   "source": [
    "a,b= input('문자열 두 개를 입력하세요:').split( )   ## 공백을 기준으로 나눈다. \n",
    "print(a)                                           #공백을 기준으로 hello와    a = hello\n",
    "print(b)                                           # python으로 나온다         b = python"
   ]
  },
  {
   "cell_type": "markdown",
   "metadata": {},
   "source": [
    "# map을 사용하여 정수로 변환하기 "
   ]
  },
  {
   "cell_type": "markdown",
   "metadata": {},
   "source": [
    "#### 스플릿 결과를 매번 int로 바꾸기 귀찮을때 사용하자.\n",
    "\n",
    "#### 변수1, 변수2 = map(int,input('문자열').split('기준문자열'))\n"
   ]
  },
  {
   "cell_type": "code",
   "execution_count": 7,
   "metadata": {},
   "outputs": [
    {
     "name": "stdout",
     "output_type": "stream",
     "text": [
      "문자열 두 개를 입력하세요:10,20\n",
      "30\n"
     ]
    },
    {
     "data": {
      "text/plain": [
       "int"
      ]
     },
     "execution_count": 7,
     "metadata": {},
     "output_type": "execute_result"
    }
   ],
   "source": [
    "a,b = map(int, input('문자열 두 개를 입력하세요:').split(','))\n",
    "\n",
    "\n",
    "print(a + b)\n",
    "type(a)\n",
    "type(b)"
   ]
  },
  {
   "cell_type": "markdown",
   "metadata": {},
   "source": [
    "# sep 로 값 사이에 문자 넣기 \n",
    "\n",
    "### 값 사이에 공백이 아닌 다른 문자를 넣고 싶을때 사용할 수 있다. "
   ]
  },
  {
   "cell_type": "code",
   "execution_count": 13,
   "metadata": {},
   "outputs": [
    {
     "name": "stdout",
     "output_type": "stream",
     "text": [
      "1 2 3\n",
      "1,2,3\n",
      "1\n",
      "2\n",
      "3\n",
      "1\t2\t3\n"
     ]
    }
   ],
   "source": [
    "print(1,2,3, sep= ' ')\n",
    "\n",
    "print(1,2,3, sep= ',')\n",
    "\n",
    "print(1,2,3, sep='\\n')  #하나 끝날때 마다 엔터를 쳐라 \n",
    "\n",
    "print(1,2,3, sep= '\\t')     #문자 하나마다 탭키를 쳐라 "
   ]
  },
  {
   "cell_type": "markdown",
   "metadata": {},
   "source": [
    "# end  사용하기 "
   ]
  },
  {
   "cell_type": "markdown",
   "metadata": {},
   "source": [
    "### print는 기본적으로 출력하는 값 끝에 \\n을 붙인다. 그래서 print를 여러 번 사용하면 값이 여러 줄에 출력된다. "
   ]
  },
  {
   "cell_type": "code",
   "execution_count": 15,
   "metadata": {},
   "outputs": [
    {
     "name": "stdout",
     "output_type": "stream",
     "text": [
      "10\n",
      "20\n",
      "30\n"
     ]
    }
   ],
   "source": [
    "c= 30\n",
    "print(a)\n",
    "print(b)\n",
    "print(c)"
   ]
  },
  {
   "cell_type": "code",
   "execution_count": 17,
   "metadata": {},
   "outputs": [
    {
     "name": "stdout",
     "output_type": "stream",
     "text": [
      "10 20 30\n"
     ]
    }
   ],
   "source": [
    "### end에 빈 문자열을 지정하면 다음번 츨력이 바로 뒤에 오게 된다. \n",
    "print(a, end=' ')      \n",
    "print(b, end=' ')\n",
    "print(c)"
   ]
  },
  {
   "cell_type": "code",
   "execution_count": null,
   "metadata": {},
   "outputs": [],
   "source": []
  },
  {
   "cell_type": "code",
   "execution_count": null,
   "metadata": {},
   "outputs": [],
   "source": []
  },
  {
   "cell_type": "code",
   "execution_count": null,
   "metadata": {},
   "outputs": [],
   "source": []
  },
  {
   "cell_type": "code",
   "execution_count": null,
   "metadata": {},
   "outputs": [],
   "source": []
  },
  {
   "cell_type": "code",
   "execution_count": null,
   "metadata": {},
   "outputs": [],
   "source": []
  },
  {
   "cell_type": "code",
   "execution_count": null,
   "metadata": {},
   "outputs": [],
   "source": []
  },
  {
   "cell_type": "code",
   "execution_count": null,
   "metadata": {},
   "outputs": [],
   "source": []
  },
  {
   "cell_type": "code",
   "execution_count": null,
   "metadata": {},
   "outputs": [],
   "source": []
  },
  {
   "cell_type": "code",
   "execution_count": null,
   "metadata": {},
   "outputs": [],
   "source": []
  },
  {
   "cell_type": "code",
   "execution_count": null,
   "metadata": {},
   "outputs": [],
   "source": []
  },
  {
   "cell_type": "code",
   "execution_count": null,
   "metadata": {},
   "outputs": [],
   "source": []
  },
  {
   "cell_type": "code",
   "execution_count": null,
   "metadata": {},
   "outputs": [],
   "source": []
  }
 ],
 "metadata": {
  "kernelspec": {
   "display_name": "Python 3",
   "language": "python",
   "name": "python3"
  },
  "language_info": {
   "codemirror_mode": {
    "name": "ipython",
    "version": 3
   },
   "file_extension": ".py",
   "mimetype": "text/x-python",
   "name": "python",
   "nbconvert_exporter": "python",
   "pygments_lexer": "ipython3",
   "version": "3.7.4"
  }
 },
 "nbformat": 4,
 "nbformat_minor": 2
}
