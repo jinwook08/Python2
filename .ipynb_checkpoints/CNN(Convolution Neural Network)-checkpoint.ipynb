{
 "cells": [
  {
   "cell_type": "markdown",
   "metadata": {},
   "source": [
    "# CNN\n",
    "\n",
    "- 이미지는 사각형임... 이미지가 100X100이라면 100000개의 픽셀이 존재하고 있다. \n",
    "- 둥근 이미지는 투명처리를 통해서 둥글게 만드는거임. \n",
    "- 만약에 사진이 바래서 다시 살리고 싶다 그래서 사진관에 갔는데 어떻게 해야지 살릴수 있느냐?\n",
    "- 주변에 컬러값을 평균해서 넣어준다..\n",
    "\n",
    "- 신경망 --> 변수와  Data point로 이루어짐 \n",
    "- 이미지는 신경망에 들어갈려면 모양을 바꿔서 들어가야한다 (FNN에 들어갈려면 )\n",
    "- flatten 시켜서 일렬로 쭉 만들어서 쌓아서 다시 원상태로 만드는거임. \n",
    "- 그런데 이상태로 하면 특징 추출이 안된다 ( 왜냐하면 얼굴의 이목구비가 전부 왔다갔다 한다. )\n",
    "\n",
    "- 이미지를 그대로 둔 상태에서 특징을 추출해서 ( 필터를 적용한다. )\n",
    "- 이미지에 필터를 적용하면 같은 요소끼리 곱해서 전부 더해준다 //// 주변에 값을 보고 다시 값을 계산해준다 \n",
    "- 이렇게 필터를 하게되면 주변의 컬러 값을 고려한 특징을 추출이 가능해진다. \n",
    "- 필터 사이즈를 작게하면 작은 특징을 찾아내고\n",
    "- 필터 사이즈를 크게하면 큰 특징을 찾아낸다. \n",
    "- 필터를 여러개 사용해서 특징을 찾아내기 때문에 채널이 증가하게 된다. \n",
    "- 처음에는 랜덤으로 초기화 시켜서 어떤 필터를 적용하면 좋을지에 대한 학습을 한다.\n",
    "- 즉 CNN은 앞단에서의 특징을 추출하는것. \n",
    "- CNN으로 앞에서 특징 추출 --> FFNN 으로 \n",
    "- 끝의 특징을 얻고 싶다면 패딩으로 값을 채워놓고 끝쪽의 특징을 뽑을 수 있다. ( 본래사이즈를 보장할 수 있음 )\n",
    "- 이렇게 뽑으면 100X100 인데 중복의 값이 만들어져 있으므로 색을 줄이더라도 특징을 추출하는데 있어서 문제가 없다. \n",
    "- 이런것을 pooling이라고 한다. --> 사이즈를 줄여준다. --> 채널수는 변화가 없음. \n",
    "- MAX나 AVERAGE를 이용하여 사이즈를 줄여준다. \n",
    "\n",
    "-  가로, 세로, RGB 세개의 채널이 있다. "
   ]
  },
  {
   "cell_type": "code",
   "execution_count": 1,
   "metadata": {},
   "outputs": [],
   "source": [
    "import warnings\n",
    "warnings.filterwarnings(action='ignore')"
   ]
  },
  {
   "cell_type": "code",
   "execution_count": 2,
   "metadata": {},
   "outputs": [],
   "source": [
    "#FFNN\n",
    "# 이미지의 숫자 예측\n",
    "# 0~9 까지의 숫자를 이미지화 인식 --> 자동차 번호판"
   ]
  },
  {
   "cell_type": "code",
   "execution_count": 3,
   "metadata": {
    "scrolled": true
   },
   "outputs": [
    {
     "name": "stdout",
     "output_type": "stream",
     "text": [
      "WARNING:tensorflow:From <ipython-input-3-eee6e41f9abd>:3: read_data_sets (from tensorflow.contrib.learn.python.learn.datasets.mnist) is deprecated and will be removed in a future version.\n",
      "Instructions for updating:\n",
      "Please use alternatives such as official/mnist/dataset.py from tensorflow/models.\n",
      "WARNING:tensorflow:From C:\\Users\\ICT01_20\\Anaconda3\\lib\\site-packages\\tensorflow\\contrib\\learn\\python\\learn\\datasets\\mnist.py:260: maybe_download (from tensorflow.contrib.learn.python.learn.datasets.base) is deprecated and will be removed in a future version.\n",
      "Instructions for updating:\n",
      "Please write your own downloading logic.\n",
      "WARNING:tensorflow:From C:\\Users\\ICT01_20\\Anaconda3\\lib\\site-packages\\tensorflow\\contrib\\learn\\python\\learn\\datasets\\mnist.py:262: extract_images (from tensorflow.contrib.learn.python.learn.datasets.mnist) is deprecated and will be removed in a future version.\n",
      "Instructions for updating:\n",
      "Please use tf.data to implement this functionality.\n",
      "Extracting /tmp/data/train-images-idx3-ubyte.gz\n",
      "WARNING:tensorflow:From C:\\Users\\ICT01_20\\Anaconda3\\lib\\site-packages\\tensorflow\\contrib\\learn\\python\\learn\\datasets\\mnist.py:267: extract_labels (from tensorflow.contrib.learn.python.learn.datasets.mnist) is deprecated and will be removed in a future version.\n",
      "Instructions for updating:\n",
      "Please use tf.data to implement this functionality.\n",
      "Extracting /tmp/data/train-labels-idx1-ubyte.gz\n",
      "WARNING:tensorflow:From C:\\Users\\ICT01_20\\Anaconda3\\lib\\site-packages\\tensorflow\\contrib\\learn\\python\\learn\\datasets\\mnist.py:110: dense_to_one_hot (from tensorflow.contrib.learn.python.learn.datasets.mnist) is deprecated and will be removed in a future version.\n",
      "Instructions for updating:\n",
      "Please use tf.one_hot on tensors.\n",
      "Extracting /tmp/data/t10k-images-idx3-ubyte.gz\n",
      "Extracting /tmp/data/t10k-labels-idx1-ubyte.gz\n",
      "WARNING:tensorflow:From C:\\Users\\ICT01_20\\Anaconda3\\lib\\site-packages\\tensorflow\\contrib\\learn\\python\\learn\\datasets\\mnist.py:290: DataSet.__init__ (from tensorflow.contrib.learn.python.learn.datasets.mnist) is deprecated and will be removed in a future version.\n",
      "Instructions for updating:\n",
      "Please use alternatives such as official/mnist/dataset.py from tensorflow/models.\n"
     ]
    }
   ],
   "source": [
    "from tensorflow.examples.tutorials.mnist import input_data\n",
    "# traget : 1 빵빵빵 빵빵빵\n",
    "mnist = input_data.read_data_sets(\"/tmp/data/\", one_hot= True)\n",
    "import tensorflow as tf"
   ]
  },
  {
   "cell_type": "code",
   "execution_count": 4,
   "metadata": {},
   "outputs": [
    {
     "name": "stdout",
     "output_type": "stream",
     "text": [
      "(128, 784)\n"
     ]
    }
   ],
   "source": [
    "# next_batch 128장의 이미지를 랜덤하게 가져와라 엠니스트에서\n",
    "\n",
    "batch_x, batch_y = mnist.train.next_batch(128)\n",
    "print(batch_x.shape)  # 784 --> (28 X 28를 하면 이렇게 나옴 즉 일렬로 플래튼(flatten)이 되어 되어 있다. )\n",
    "learning_rate = 0.1  # hyper parameter 이므로 나중에 조절\n",
    "num_steps = 500  # epoch 몇번 반복할것이냐., \n",
    "batch_size = 128  # 미니 배치 사이즈: 속도를 고속으로 , 지역해를 극복하기 위해서. 배치 사이즈의 평균을 이용해서 하면 \n",
    "display_step =100  # 시각화. \n"
   ]
  },
  {
   "cell_type": "code",
   "execution_count": 5,
   "metadata": {},
   "outputs": [],
   "source": [
    "# 히든레이어가 2개 \n",
    "# 첫번쨰 가중치는 픽셀 1개를 변수로 보는중임. 784x256\n",
    "# 두번째 가중치는 256X256\n",
    "# 세번째 가중치는 256X10\n",
    "\n",
    "n_hidden_1 = 256\n",
    "n_hidden_2 = 256 \n",
    "num_input = 784\n",
    "num_classes = 10  # 이게 나가는 놈임 그래서 세번째 가중치가 저렇게 된다., \n",
    "# 그런데 왜 10개냐?> 바로 타겟이 10개이기 때문에. \n",
    "X = tf.placeholder('float', [None, num_input])  # 미니 배치 사이즈 x 784. 128X 784\n",
    "Y = tf.placeholder('float', [None, num_classes]) # 원핫 인코딩 된 놈이 들어온다, \n",
    "\n",
    "# with tf.Session() as sess:\n",
    "#     print(sess.run(X))"
   ]
  },
  {
   "cell_type": "code",
   "execution_count": 6,
   "metadata": {},
   "outputs": [],
   "source": [
    "# 가중치 == 설명령, 다차방정식의 계수\n",
    "\n",
    "weights = {\n",
    "    'h1':tf.Variable(tf.random_normal([num_input, n_hidden_1])),  # 가중치 사이즈 #784x256\n",
    "    'h2':tf.Variable(tf.random_normal([n_hidden_1, n_hidden_2])),    # 가중치 사이즈 256X256\n",
    "    'out':tf.Variable(tf.random_normal([n_hidden_2, num_classes]))     # 가중치 사이즈 X 256X 10\n",
    "}\n",
    "\n",
    "# 바이어스 == activation을 결정한다. \n",
    "# 가중치 하나당 바이어스가 하나씩 있어야 한다.\n",
    "biases = {\n",
    "    'b1': tf.Variable(tf.random_normal([n_hidden_1])),   # 변수의 계수 만큼 존재한다. \n",
    "    'b2': tf.Variable(tf.random_normal([n_hidden_2])),\n",
    "    'out': tf.Variable(tf.random_normal([num_classes]))\n",
    "}"
   ]
  },
  {
   "cell_type": "code",
   "execution_count": 7,
   "metadata": {},
   "outputs": [],
   "source": [
    "def neural_net(x):\n",
    "    layer_1 = tf.add(tf.matmul(x, weights['h1']), biases['b1'])  ## ??? 전달 데이터,,,? 128X 784 , 784X 256이 들어왓는데 \n",
    "    # 나가는건 128X256이란다...\n",
    "    layer_2 = tf.add(tf.matmul(layer_1, weights['h2']), biases['b2']) # 128 X 256 , 256 X 256 \n",
    "    # 애도 128 X 256이라네//??\n",
    "    out_layer = tf.matmul(layer_2, weights['out'])+biases['out']  # 128X 256, 256 X10 --> 128 X10으로 나온다는데..?\n",
    "    return out_layer"
   ]
  },
  {
   "cell_type": "code",
   "execution_count": 8,
   "metadata": {},
   "outputs": [],
   "source": [
    "logits = neural_net(X)  # 128X 10\n",
    "# 경사하강법을 하려면 미분이 가능해야한다. --> 분류?\n",
    "loss_op = tf.reduce_mean(  # 원핫 인코딩 된 값 * log(확률값)\n",
    "    tf.nn.softmax_cross_entropy_with_logits_v2(         # softmax가 들어가있다. 그럼 확률 값으로 계산한다는 것임. \n",
    "    logits = logits,labels = Y))\n",
    "optimizer = tf.train.AdamOptimizer(learning_rate = learning_rate)   # AdamOptimizer 최적화기 --> 기울기 학습률\n",
    "# AdamOptimizer ==> momentum + propagrad()\n",
    "# 처음에는 adagrad가 있었음 ==> learning- rate 를 처음에는 크게 ==> 점점 작게 그러다 보니 그냥 0이 되어버리는 경우가 있었음.\n",
    "# propagrd(): adaptive : 적응적으로 한다. \n",
    "train_op = optimizer.minimize(loss_op)  # loss_op값을 줄여준다 ( 최적화 )\n",
    "correct_pred = tf.equal(tf.argmax(logits, 1), tf.argmax(Y, 1))  #  argmax 가장 큰 값의 인덱스를 구한다. --> 원핫인코딩이므로 \n",
    "# 1 값만을 찾는다. \n",
    "# 가장 큰 값의 인덱스가 바로 여기서는 타겟임\n",
    "accuracy = tf.reduce_mean(tf.cast(correct_pred, tf.float32))  # cast --> 데이터 형변환을 하자. \n",
    "\n",
    "\n",
    "\n",
    "##########여기 위에 까지가 model  이다######################################################\n",
    "init = tf.global_variables_initializer()"
   ]
  },
  {
   "cell_type": "code",
   "execution_count": 9,
   "metadata": {},
   "outputs": [
    {
     "name": "stdout",
     "output_type": "stream",
     "text": [
      "Step1Minibatch Loss = 11542.6387. Training Accuracy = 0.453\n",
      "테스트 정확도: 0.3733\n",
      "Step100Minibatch Loss = 298.2660. Training Accuracy = 0.875\n",
      "테스트 정확도: 0.848\n",
      "Step200Minibatch Loss = 157.5751. Training Accuracy = 0.867\n",
      "테스트 정확도: 0.8586\n",
      "Step300Minibatch Loss = 66.2272. Training Accuracy = 0.906\n",
      "테스트 정확도: 0.8552\n",
      "Step400Minibatch Loss = 46.6976. Training Accuracy = 0.875\n",
      "테스트 정확도: 0.8626\n",
      "Step500Minibatch Loss = 46.0531. Training Accuracy = 0.852\n",
      "테스트 정확도: 0.8401\n"
     ]
    }
   ],
   "source": [
    "with tf.Session() as sess:      # GPU네트워크 연결을 염두에 두고 만들었다. \n",
    "    sess.run(init)  # Variable을 초기화 시킨다. \n",
    "    for step in range(1, num_steps +1):  # epch 반복횟수\n",
    "        batch_x, batch_y = mnist.train.next_batch(batch_size)\n",
    "        # 128 X784, 128X10\n",
    "        sess.run(train_op, feed_dict = {X:batch_x, Y:batch_y})\n",
    "        if step % display_step == 0 or step ==1:\n",
    "            loss, acc =sess.run([loss_op, accuracy], \n",
    "                               feed_dict ={X:batch_x, Y:batch_y})\n",
    "            print(\"Step\"+str(step) + \"Minibatch Loss = \"+\n",
    "                 \"{:.4f}\".format(loss)+ \". Training Accuracy = \"+\n",
    "                 \"{:.3f}\".format(acc))\n",
    "            print('테스트 정확도:',\n",
    "                 sess.run(accuracy, feed_dict = {X:mnist.test.images,\n",
    "                                                Y: mnist.test.labels}))"
   ]
  },
  {
   "cell_type": "code",
   "execution_count": 10,
   "metadata": {},
   "outputs": [],
   "source": [
    "# 역행렬을 이용해서 가중치를 결정하고 그에 따라서 \n",
    "# 회귀식을 결정. "
   ]
  },
  {
   "cell_type": "code",
   "execution_count": 11,
   "metadata": {
    "scrolled": true
   },
   "outputs": [
    {
     "data": {
      "text/html": [
       "<div>\n",
       "<style scoped>\n",
       "    .dataframe tbody tr th:only-of-type {\n",
       "        vertical-align: middle;\n",
       "    }\n",
       "\n",
       "    .dataframe tbody tr th {\n",
       "        vertical-align: top;\n",
       "    }\n",
       "\n",
       "    .dataframe thead th {\n",
       "        text-align: right;\n",
       "    }\n",
       "</style>\n",
       "<table border=\"1\" class=\"dataframe\">\n",
       "  <thead>\n",
       "    <tr style=\"text-align: right;\">\n",
       "      <th></th>\n",
       "      <th>CRIM</th>\n",
       "      <th>ZN</th>\n",
       "      <th>INDUS</th>\n",
       "      <th>CHAS</th>\n",
       "      <th>NOX</th>\n",
       "      <th>RM</th>\n",
       "      <th>AGE</th>\n",
       "      <th>DIS</th>\n",
       "      <th>RAD</th>\n",
       "      <th>TAX</th>\n",
       "      <th>PTRATIO</th>\n",
       "      <th>B</th>\n",
       "      <th>LSTAT</th>\n",
       "      <th>const</th>\n",
       "    </tr>\n",
       "  </thead>\n",
       "  <tbody>\n",
       "    <tr>\n",
       "      <td>501</td>\n",
       "      <td>0.06263</td>\n",
       "      <td>0.0</td>\n",
       "      <td>11.93</td>\n",
       "      <td>0.0</td>\n",
       "      <td>0.573</td>\n",
       "      <td>6.593</td>\n",
       "      <td>69.1</td>\n",
       "      <td>2.4786</td>\n",
       "      <td>1.0</td>\n",
       "      <td>273.0</td>\n",
       "      <td>21.0</td>\n",
       "      <td>391.99</td>\n",
       "      <td>9.67</td>\n",
       "      <td>1.0</td>\n",
       "    </tr>\n",
       "    <tr>\n",
       "      <td>502</td>\n",
       "      <td>0.04527</td>\n",
       "      <td>0.0</td>\n",
       "      <td>11.93</td>\n",
       "      <td>0.0</td>\n",
       "      <td>0.573</td>\n",
       "      <td>6.120</td>\n",
       "      <td>76.7</td>\n",
       "      <td>2.2875</td>\n",
       "      <td>1.0</td>\n",
       "      <td>273.0</td>\n",
       "      <td>21.0</td>\n",
       "      <td>396.90</td>\n",
       "      <td>9.08</td>\n",
       "      <td>1.0</td>\n",
       "    </tr>\n",
       "    <tr>\n",
       "      <td>503</td>\n",
       "      <td>0.06076</td>\n",
       "      <td>0.0</td>\n",
       "      <td>11.93</td>\n",
       "      <td>0.0</td>\n",
       "      <td>0.573</td>\n",
       "      <td>6.976</td>\n",
       "      <td>91.0</td>\n",
       "      <td>2.1675</td>\n",
       "      <td>1.0</td>\n",
       "      <td>273.0</td>\n",
       "      <td>21.0</td>\n",
       "      <td>396.90</td>\n",
       "      <td>5.64</td>\n",
       "      <td>1.0</td>\n",
       "    </tr>\n",
       "    <tr>\n",
       "      <td>504</td>\n",
       "      <td>0.10959</td>\n",
       "      <td>0.0</td>\n",
       "      <td>11.93</td>\n",
       "      <td>0.0</td>\n",
       "      <td>0.573</td>\n",
       "      <td>6.794</td>\n",
       "      <td>89.3</td>\n",
       "      <td>2.3889</td>\n",
       "      <td>1.0</td>\n",
       "      <td>273.0</td>\n",
       "      <td>21.0</td>\n",
       "      <td>393.45</td>\n",
       "      <td>6.48</td>\n",
       "      <td>1.0</td>\n",
       "    </tr>\n",
       "    <tr>\n",
       "      <td>505</td>\n",
       "      <td>0.04741</td>\n",
       "      <td>0.0</td>\n",
       "      <td>11.93</td>\n",
       "      <td>0.0</td>\n",
       "      <td>0.573</td>\n",
       "      <td>6.030</td>\n",
       "      <td>80.8</td>\n",
       "      <td>2.5050</td>\n",
       "      <td>1.0</td>\n",
       "      <td>273.0</td>\n",
       "      <td>21.0</td>\n",
       "      <td>396.90</td>\n",
       "      <td>7.88</td>\n",
       "      <td>1.0</td>\n",
       "    </tr>\n",
       "  </tbody>\n",
       "</table>\n",
       "</div>"
      ],
      "text/plain": [
       "        CRIM   ZN  INDUS  CHAS    NOX     RM   AGE     DIS  RAD    TAX  \\\n",
       "501  0.06263  0.0  11.93   0.0  0.573  6.593  69.1  2.4786  1.0  273.0   \n",
       "502  0.04527  0.0  11.93   0.0  0.573  6.120  76.7  2.2875  1.0  273.0   \n",
       "503  0.06076  0.0  11.93   0.0  0.573  6.976  91.0  2.1675  1.0  273.0   \n",
       "504  0.10959  0.0  11.93   0.0  0.573  6.794  89.3  2.3889  1.0  273.0   \n",
       "505  0.04741  0.0  11.93   0.0  0.573  6.030  80.8  2.5050  1.0  273.0   \n",
       "\n",
       "     PTRATIO       B  LSTAT  const  \n",
       "501     21.0  391.99   9.67    1.0  \n",
       "502     21.0  396.90   9.08    1.0  \n",
       "503     21.0  396.90   5.64    1.0  \n",
       "504     21.0  393.45   6.48    1.0  \n",
       "505     21.0  396.90   7.88    1.0  "
      ]
     },
     "execution_count": 11,
     "metadata": {},
     "output_type": "execute_result"
    }
   ],
   "source": [
    "from sklearn.datasets import load_boston\n",
    "import pandas as pd\n",
    "import numpy as np\n",
    "import tensorflow as tf\n",
    "boston = load_boston()\n",
    "df = pd.DataFrame(boston.data, columns =boston.feature_names)\n",
    "df['const'] = np.ones(df.shape[0])\n",
    "df.tail()"
   ]
  },
  {
   "cell_type": "code",
   "execution_count": 12,
   "metadata": {},
   "outputs": [],
   "source": [
    "n, m = df.shape\n",
    "X = tf.placeholder(tf.float64, shape = (n,m))\n",
    "y = tf.placeholder(tf.float64, shape = (n,1))\n",
    "XT = tf.transpose(X)"
   ]
  },
  {
   "cell_type": "code",
   "execution_count": 13,
   "metadata": {},
   "outputs": [
    {
     "name": "stdout",
     "output_type": "stream",
     "text": [
      "예측한 집값\n",
      "[18.40613603]\n",
      "\n",
      "\n",
      "실제 집값\n",
      "18.2\n"
     ]
    }
   ],
   "source": [
    "# 행렬식으로 가중치를 구하고 있다. \n",
    "# 거듭제곱을 하게되면 상관계수가 만들어진다. \n",
    "# data point(관측치) = 506   \n",
    "# 변수 = 14\n",
    "#14X 506, 506 X 14 ==>14X 14 상관행렬 --> 14X14\n",
    "# 14 X 14 , 14 X 506 ==> 14 X 506 \n",
    "# y = 506 X 1 ==> 14 X 1 \n",
    "\n",
    "# 역행렬을 이용해서 가중치를 결정 \n",
    "# y = ax  y값이 존재하므로\n",
    "# a = y/x  ## 변수간의 관계 ==> 역행렬\n",
    "w = tf.matmul(tf.matmul(tf.matrix_inverse(tf.matmul(XT, X)), XT), y)\n",
    "y_pred = tf.matmul(X, w)  # 가중치가 506 X 14 , 14 X 1 ==> 506 X 1 회귀식. \n",
    "with tf.Session() as sess:\n",
    "    y_pred_ = sess.run(y_pred, feed_dict = {X: df.values, y:boston.target.reshape(-1,1)})\n",
    "print('예측한 집값')\n",
    "print(y_pred_[19])\n",
    "print('\\n')\n",
    "print('실제 집값')\n",
    "print(boston.target[19])"
   ]
  },
  {
   "cell_type": "code",
   "execution_count": 14,
   "metadata": {},
   "outputs": [
    {
     "name": "stdout",
     "output_type": "stream",
     "text": [
      "홀일 때  [0 2 3 0 2 3 0 2 3 0 2 3 0 2 3]\n"
     ]
    }
   ],
   "source": [
    "import tensorflow as tf\n",
    "sess = tf.Session()\n",
    "\n",
    "val = [0,2,3]\n",
    "val = tf.tile(val, [5])\n",
    "print('홀일 때 ', sess.run(val))"
   ]
  },
  {
   "cell_type": "code",
   "execution_count": 18,
   "metadata": {},
   "outputs": [
    {
     "name": "stdout",
     "output_type": "stream",
     "text": [
      "2차원일떄\n",
      "[[0 1 1 0 1 1]\n",
      " [2 2 2 2 2 2]\n",
      " [3 3 3 3 3 3]\n",
      " [0 1 1 0 1 1]\n",
      " [2 2 2 2 2 2]\n",
      " [3 3 3 3 3 3]\n",
      " [0 1 1 0 1 1]\n",
      " [2 2 2 2 2 2]\n",
      " [3 3 3 3 3 3]\n",
      " [0 1 1 0 1 1]\n",
      " [2 2 2 2 2 2]\n",
      " [3 3 3 3 3 3]\n",
      " [0 1 1 0 1 1]\n",
      " [2 2 2 2 2 2]\n",
      " [3 3 3 3 3 3]]\n"
     ]
    }
   ],
   "source": [
    "# 타일은 차원을 확대하지는 않는다... \n",
    "# 차수만을 확대한다. \n",
    "val = [[0,1,1], [2,2,2], [3,3,3]]\n",
    "val = tf.tile(val, [5,2])  # 아래쪽으로 5번 옆으로 두번  15 X 6으로 확대 된다. \n",
    "print('2차원일떄')\n",
    "print(sess.run(val))"
   ]
  },
  {
   "cell_type": "code",
   "execution_count": 20,
   "metadata": {},
   "outputs": [
    {
     "name": "stdout",
     "output_type": "stream",
     "text": [
      "[[ 1.  2.  1.  2.  1.  2.]\n",
      " [ 2.  1.  2.  1.  2.  1.]\n",
      " [-2. -1. -2. -1. -2. -1.]]\n",
      "[[ 1.  2.  1.  2.  1.  2.]\n",
      " [ 2.  1.  2.  1.  2.  1.]\n",
      " [-2. -1. -2. -1. -2. -1.]\n",
      " [ 1.  2.  1.  2.  1.  2.]\n",
      " [ 2.  1.  2.  1.  2.  1.]\n",
      " [-2. -1. -2. -1. -2. -1.]]\n"
     ]
    }
   ],
   "source": [
    "input_vecs = [[1., 2.], [2.,1.], [-2., -1.]]\n",
    "tiled_vecs = tf.tile(input_vecs, [1,3])\n",
    "print(sess.run(tiled_vecs))\n",
    "tiled_vecs = tf.tile(input_vecs, [2,3])\n",
    "print(sess.run(tiled_vecs))"
   ]
  },
  {
   "cell_type": "markdown",
   "metadata": {},
   "source": [
    "# kmeans ==> k가 결정되어져야한다. --> 중심값이 발생한다. \n",
    "- 각 데이터의 중심값을 빼서 거리값을 계산한다. \n",
    "- "
   ]
  },
  {
   "cell_type": "code",
   "execution_count": 23,
   "metadata": {},
   "outputs": [],
   "source": [
    "import numpy as np\n",
    "import matplotlib.pyplot as plt\n",
    "import tensorflow as tf\n",
    "from sklearn import datasets\n",
    "from sklearn.preprocessing import scale\n",
    "from tensorflow.python.framework import ops\n",
    "ops.reset_default_graph()  # 그래프 초기화 \n",
    "sess = tf.Session()\n",
    "iris = datasets.load_iris()  # 4개의 변수 - 2개의 타겟"
   ]
  },
  {
   "cell_type": "code",
   "execution_count": 30,
   "metadata": {},
   "outputs": [],
   "source": [
    "num_pts = len(iris.data)  # 행의 갯수\n",
    "num_feats = len(iris.data[0])   # 열의 갯수\n",
    "k = 3  # 군집수\n",
    "generations= 25   # eopch 가 25\n",
    "data_points = tf.Variable(iris.data)  \n",
    "# 레이블 변수 \n",
    "cluster_labels = tf.Variable(tf.zeros([num_pts], dtype = tf.int64))\n",
    "rand_starts = np.array([iris.data[np.random.choice( len(iris.data))] for _ in range(k)])\n",
    "# 중심데이터를 랜덤으로 취하고 있다. \n",
    "# 중심의 열 변수의 개수는 4개가된다. \n",
    "centroids = tf.Variable(rand_starts)\n",
    "# 중심을 저장한 변수 \n",
    "centroid_matrix = tf.reshape(tf.tile(centroids, [num_pts, 1]), [num_pts, k, num_feats])\n",
    "point_matrix = tf.reshape(tf.tile(data_points, [1,k]),[num_pts, k, num_feats])\n",
    "distances = tf.reduce_sum(tf.square(point_matrix - centroid_matrix),axis = 2)\n",
    "# 2개 전제( 인덱스 , 실제값비교 )\n",
    "centroid_group = tf.argmin(distances, 1) # 중심거리1, 중심거리2, 중심거리3?????\n",
    "# 값을 이용해서 인덱스를 뺀다?????? 뭔말이여라..."
   ]
  },
  {
   "cell_type": "code",
   "execution_count": 33,
   "metadata": {},
   "outputs": [],
   "source": [
    "def data_group_avg(group_ids, data):  # 대표성을 뛴 라벨을 결정한다. \n",
    "    # 그룹별로 거리의 평균을 내겠다. \n",
    "    sum_total = tf.unsorted_segment_sum(data, group_ids, 3)  # unsorted_segment_sum 라벨번호로  값의 합계 \n",
    "    num_total = tf.unsorted_segment_sum(tf.ones_like(data), group_ids, 3) # data와 구조는 같은데 행령의 모든 값이 1로 통일\n",
    "    \n",
    "    avg_by_group = sum_total/num_total\n",
    "    return(avg_by_group)\n",
    "means = data_group_avg(centroid_group, data_points)  # 그룹의 평균거리 \n",
    "update = tf.group(centroids.assign(means), cluster_labels.assign( centroid_group))  # 중심거리를 재계산해서 중심값을 재할당. \n",
    "# 업데이트 노드를 재 결정. \n",
    "init = tf.global_variables_initializer()\n",
    "sess.run(init)"
   ]
  },
  {
   "cell_type": "code",
   "execution_count": 36,
   "metadata": {},
   "outputs": [
    {
     "name": "stdout",
     "output_type": "stream",
     "text": [
      "Calculating gen 0, out of 25.\n",
      "Group counts: [61, 39, 50]\n",
      "Calculating gen 1, out of 25.\n",
      "Group counts: [62, 38, 50]\n",
      "Calculating gen 2, out of 25.\n",
      "Group counts: [62, 38, 50]\n",
      "Calculating gen 3, out of 25.\n",
      "Group counts: [62, 38, 50]\n",
      "Calculating gen 4, out of 25.\n",
      "Group counts: [62, 38, 50]\n",
      "Calculating gen 5, out of 25.\n",
      "Group counts: [62, 38, 50]\n",
      "Calculating gen 6, out of 25.\n",
      "Group counts: [62, 38, 50]\n",
      "Calculating gen 7, out of 25.\n",
      "Group counts: [62, 38, 50]\n",
      "Calculating gen 8, out of 25.\n",
      "Group counts: [62, 38, 50]\n",
      "Calculating gen 9, out of 25.\n",
      "Group counts: [62, 38, 50]\n",
      "Calculating gen 10, out of 25.\n",
      "Group counts: [62, 38, 50]\n",
      "Calculating gen 11, out of 25.\n",
      "Group counts: [62, 38, 50]\n",
      "Calculating gen 12, out of 25.\n",
      "Group counts: [62, 38, 50]\n",
      "Calculating gen 13, out of 25.\n",
      "Group counts: [62, 38, 50]\n",
      "Calculating gen 14, out of 25.\n",
      "Group counts: [62, 38, 50]\n",
      "Calculating gen 15, out of 25.\n",
      "Group counts: [62, 38, 50]\n",
      "Calculating gen 16, out of 25.\n",
      "Group counts: [62, 38, 50]\n",
      "Calculating gen 17, out of 25.\n",
      "Group counts: [62, 38, 50]\n",
      "Calculating gen 18, out of 25.\n",
      "Group counts: [62, 38, 50]\n",
      "Calculating gen 19, out of 25.\n",
      "Group counts: [62, 38, 50]\n",
      "Calculating gen 20, out of 25.\n",
      "Group counts: [62, 38, 50]\n",
      "Calculating gen 21, out of 25.\n",
      "Group counts: [62, 38, 50]\n",
      "Calculating gen 22, out of 25.\n",
      "Group counts: [62, 38, 50]\n",
      "Calculating gen 23, out of 25.\n",
      "Group counts: [62, 38, 50]\n",
      "Calculating gen 24, out of 25.\n",
      "Group counts: [62, 38, 50]\n"
     ]
    }
   ],
   "source": [
    "# 실행의 마지막 결과값\n",
    "for i in range(generations):  # 25번 epoch\n",
    "    print('Calculating gen {}, out of {}.'.format(i, generations))\n",
    "    _, centroid_group_count = sess.run([update, centroid_group])\n",
    "    group_count = []\n",
    "    #centroid_group : 그룹번호가 결정\n",
    "    # updata: 군집의 중심값을 재계산하고 그룹을 변경. \n",
    "    for ix in range(k):  # 군집별 카운트 \n",
    "        group_count.append(np.sum(centroid_group_count == ix))\n",
    "    print('Group counts: {}'.format(group_count))\n",
    "#결정된 중심값, 할당된 군집번호를 받는다. \n",
    "[centers, assignments] = sess.run([centroids, cluster_labels])"
   ]
  },
  {
   "cell_type": "code",
   "execution_count": 39,
   "metadata": {},
   "outputs": [
    {
     "name": "stdout",
     "output_type": "stream",
     "text": [
      "Accuracy:0.89\n"
     ]
    }
   ],
   "source": [
    "def most_common(my_list):  \n",
    "    return(max(set(my_list), key = my_list.count))  # set --> 키의 중복을 불허한다. \n",
    "label0 = most_common(list(assignments[0:50]))  # 라벨링. \n",
    "label1 = most_common(list(assignments[50:100]))\n",
    "label2 = most_common(list(assignments[100:150]))\n",
    "group0_count = np.sum(assignments[0:50] == label0)\n",
    "group1_count = np.sum(assignments[50:100]== label1)\n",
    "group2_count = np.sum(assignments[100:150] == label2)\n",
    "accuracy = (group0_count + group1_count + group2_count)/150\n",
    "print('Accuracy:{:.2}'.format(accuracy))"
   ]
  },
  {
   "cell_type": "markdown",
   "metadata": {},
   "source": [
    "# TIC TACTOE 게임"
   ]
  },
  {
   "cell_type": "code",
   "execution_count": 40,
   "metadata": {},
   "outputs": [],
   "source": [
    "import csv\n",
    "import random\n",
    "import numpy as np\n",
    "from tensorflow.python.framework import ops\n",
    "ops.reset_default_graph()"
   ]
  },
  {
   "cell_type": "code",
   "execution_count": 41,
   "metadata": {},
   "outputs": [],
   "source": [
    "response = 6\n",
    "batch_size = 50\n",
    "symmetry = ['rotate180', 'rotate90', 'rotate270', 'flip_v'\n",
    "           , 'flip_h']"
   ]
  },
  {
   "cell_type": "code",
   "execution_count": 42,
   "metadata": {},
   "outputs": [],
   "source": [
    "# 말판\n",
    "\n",
    "def print_board(board):\n",
    "    symbols = ['O','','X']\n",
    "    board_plus1 = [int(x) + 1 for x in board]\n",
    "    print(' '+ symbols[board_plus1[0]] + '|' + symbols[board_plus1[1]] +'|'+\n",
    "         symbols[board_plus1[2]])\n",
    "    print('____________')\n",
    "    print(' ' + symbols[board_plus[3]] + '|'+ symbols[board_plus[4]] + '|'+\n",
    "         symbols[board_plus1[5]])\n",
    "    print('____________')\n",
    "    print(' '+ symbols[board_plus[6]] + '|' + symbols[board_plus[7]] + '|'+\n",
    "         symbols[board_plus[8]])\n",
    "    "
   ]
  },
  {
   "cell_type": "code",
   "execution_count": 80,
   "metadata": {},
   "outputs": [],
   "source": [
    "# 다양한 경우를 충족하기 위해 변화\n",
    "\n",
    "def get_symmetry(board, response , transformation):\n",
    "    if transformation =='rotate180':\n",
    "        new_response = 8- response\n",
    "        return(board[::-1], new_response)\n",
    "    elif transformation == 'rotate90':\n",
    "        new_response = [6,3,0,7,4,1,8,5,2].index(response)\n",
    "        tuple_board = list(zip(*[board[6:9], board[3:6], board[0:3]]))\n",
    "        return([value for item in tuple_board for value in item], new_response)\n",
    "    elif transformation == 'rotate270':\n",
    "        new_response = [2,5,8,1,4,7,0,3,6].index(response)\n",
    "        tuple_board = list(zip(*[board[0:3], board[3:6], board[6:9]]))[::-1]\n",
    "        return ([value for item in tuple_board for value in item], new_response)\n",
    "    elif transformation == 'flip_v':\n",
    "        new_response = [6,7,8,3,4,5,0,1,2].index(response)\n",
    "        return(board[6:9] + board[3:6] + board[0:3], new_response)\n",
    "    elif transformation == 'flip_h':\n",
    "        new_response = [2,1,0,5,4,3,8,7,6].index(response)\n",
    "        new_board = board[::-1]\n",
    "        return(new_board[6:9] + new_board[3:6]+ new_board[0:3], new_response)\n",
    "    else:\n",
    "        raise ValueError('해당하는 경우가 없음')"
   ]
  },
  {
   "cell_type": "code",
   "execution_count": 81,
   "metadata": {},
   "outputs": [],
   "source": [
    "# 화일로부터 말 규칙 로딩\n",
    "\n",
    "def get_moves_from_csv(csv_file):\n",
    "    moves = []\n",
    "    with open(csv_file, 'rt') as csvfile:\n",
    "        reader = csv.reader(csvfile, delimiter = ',')\n",
    "        for row in reader:\n",
    "            moves.append(([[int(x)for x in row[0:9]] ,int(row[9])]))\n",
    "        return(moves)"
   ]
  },
  {
   "cell_type": "code",
   "execution_count": 82,
   "metadata": {},
   "outputs": [],
   "source": [
    "def  get_rand_move(moves, n = 1, rand_transforms = 2):\n",
    "    (board, response) = random.choice(moves)\n",
    "    possible_transforms = ['rotate180', 'rotate90', 'rotate270', 'flip_v'\n",
    "           , 'flip_h']\n",
    "    for i in range(rand_transforms):\n",
    "        rand_transforms = random.choice(possible_transforms)\n",
    "        (board, response) = get_symmetry(board, response, rand_transforms)\n",
    "        return(board, response)"
   ]
  },
  {
   "cell_type": "code",
   "execution_count": 83,
   "metadata": {},
   "outputs": [],
   "source": [
    "moves = get_moves_from_csv('tictactoe_moves.csv')\n",
    "train_length = 500\n",
    "train_set = []\n",
    "for t in range(train_length):\n",
    "    train_set.append(get_rand_move(moves))"
   ]
  },
  {
   "cell_type": "code",
   "execution_count": 84,
   "metadata": {},
   "outputs": [],
   "source": [
    "def init_weights(shape):\n",
    "    return(tf.Variable(tf.random_normal(shape)))"
   ]
  },
  {
   "cell_type": "code",
   "execution_count": 85,
   "metadata": {},
   "outputs": [],
   "source": [
    "def model(X, A1, A2, bias1, bias2):\n",
    "    layer1 = tf.nn.sigmoid(tf.add(tf.matmul(X, A1), bias1))\n",
    "    layer2 = tf.add(tf.matmul(layer1, A2), bias2)\n",
    "    return(layer2)"
   ]
  },
  {
   "cell_type": "code",
   "execution_count": 89,
   "metadata": {},
   "outputs": [
    {
     "ename": "SyntaxError",
     "evalue": "invalid syntax (<ipython-input-89-bdcf7f75a01d>, line 10)",
     "output_type": "error",
     "traceback": [
      "\u001b[1;36m  File \u001b[1;32m\"<ipython-input-89-bdcf7f75a01d>\"\u001b[1;36m, line \u001b[1;32m10\u001b[0m\n\u001b[1;33m    loss = tf.reduce_mean(tf.nn.sparse_softmax_cross_entropy_with_logits(logits=model_output, labels=Y))\u001b[0m\n\u001b[1;37m       ^\u001b[0m\n\u001b[1;31mSyntaxError\u001b[0m\u001b[1;31m:\u001b[0m invalid syntax\n"
     ]
    }
   ],
   "source": [
    "X = tf.placeholder(dtype = tf.float32, shape = [None, 9])\n",
    "Y = tf.placeholder(dtype = tf.float32, shape = [None])\n",
    "A1 = init_weights([9, 81])\n",
    "bias1 = init_weights([81])\n",
    "A2 = init_weights([81, 9])\n",
    "bias2 = init_weights([9])\n",
    "\n",
    "model_output = model(X, A1, A2, bias1, bias\n",
    "\n",
    "loss = tf.reduce_mean(tf.nn.sparse_softmax_cross_entropy_with_logits(logits=model_output, labels=Y))\n",
    "\n",
    "train_step = tf.train.GradientDescentOptimizer(0.025).minimize(loss)\n",
    "prediction = tf.argmax(model_output, 1)\n",
    "\n",
    "sess = tf.Session()\n",
    "init = tf.global_variables_initializer()\n",
    "sess.run(init)"
   ]
  },
  {
   "cell_type": "code",
   "execution_count": 60,
   "metadata": {},
   "outputs": [
    {
     "ename": "SyntaxError",
     "evalue": "invalid syntax (<ipython-input-60-c957be6ed98f>, line 4)",
     "output_type": "error",
     "traceback": [
      "\u001b[1;36m  File \u001b[1;32m\"<ipython-input-60-c957be6ed98f>\"\u001b[1;36m, line \u001b[1;32m4\u001b[0m\n\u001b[1;33m    batch_data = [train_set[i] for i rand_indices]\u001b[0m\n\u001b[1;37m                                                ^\u001b[0m\n\u001b[1;31mSyntaxError\u001b[0m\u001b[1;31m:\u001b[0m invalid syntax\n"
     ]
    }
   ],
   "source": [
    "loss_vec = []\n",
    "for i in range(10000):\n",
    "    rand_indice =np.random.choice(range(len(train_set)), batch_size, replace = False)\n",
    "    batch_data = [train_set[i] for i rand_indices]\n",
    "    x_input = [x[0] for x in batch_data]\n",
    "    y_target = np.array([y[1] for y in batch_data])\n",
    "    sess.run(trin_step, feed_dict ={ X:x_input, Y:y_target})\n",
    "    temp_loss = sess.run(loss, feed_dict = {X:x_input, Y:y_target})\n",
    "    loss_vec.append(temp_loss)\n",
    "    if i%500 ==0:\n",
    "        print('iteration' + str(i)+ 'Loss:' + str(temp_loss))"
   ]
  },
  {
   "cell_type": "code",
   "execution_count": 61,
   "metadata": {},
   "outputs": [],
   "source": [
    "tesst_board = [-1,0,0,1,-1,-1,0,0,1]\n",
    "train_set = [x for x in train_set if x[0] != test_board]"
   ]
  },
  {
   "cell_type": "code",
   "execution_count": 62,
   "metadata": {},
   "outputs": [],
   "source": [
    "# 게임 승패 결정\n",
    "\n",
    "def check(board):\n",
    "    wins = [[0,1,2], [3,4,5], [6,7,8], [0,3,6], [1,4,7], [2,5,8],[0,4,8], [2,4,6]]\n",
    "    for i in range(len(win)):\n",
    "        if board[wins[i][0]] == board[wins[i][1]] == board[wins[i][2]] ==1.:\n",
    "            return(1)\n",
    "        elif board[wins[i][0]] == board[win[i][1]] ==board[wins[i][2]] == -1.:\n",
    "            return(-1)\n",
    "        return(0)"
   ]
  },
  {
   "cell_type": "code",
   "execution_count": 63,
   "metadata": {},
   "outputs": [
    {
     "name": "stdout",
     "output_type": "stream",
     "text": [
      "이동하고 싶은 인덱스를 입력하시오(0-8):0\n"
     ]
    },
    {
     "ename": "TypeError",
     "evalue": "Cannot interpret feed_dict key as Tensor: Tensor Tensor(\"Placeholder_2:0\", shape=(?, 9), dtype=float32) is not an element of this graph.",
     "output_type": "error",
     "traceback": [
      "\u001b[1;31m---------------------------------------------------------------------------\u001b[0m",
      "\u001b[1;31mValueError\u001b[0m                                Traceback (most recent call last)",
      "\u001b[1;32m~\\Anaconda3\\lib\\site-packages\\tensorflow\\python\\client\\session.py\u001b[0m in \u001b[0;36m_run\u001b[1;34m(self, handle, fetches, feed_dict, options, run_metadata)\u001b[0m\n\u001b[0;32m   1112\u001b[0m             subfeed_t = self.graph.as_graph_element(\n\u001b[1;32m-> 1113\u001b[1;33m                 subfeed, allow_tensor=True, allow_operation=False)\n\u001b[0m\u001b[0;32m   1114\u001b[0m           \u001b[1;32mexcept\u001b[0m \u001b[0mException\u001b[0m \u001b[1;32mas\u001b[0m \u001b[0me\u001b[0m\u001b[1;33m:\u001b[0m\u001b[1;33m\u001b[0m\u001b[1;33m\u001b[0m\u001b[0m\n",
      "\u001b[1;32m~\\Anaconda3\\lib\\site-packages\\tensorflow\\python\\framework\\ops.py\u001b[0m in \u001b[0;36mas_graph_element\u001b[1;34m(self, obj, allow_tensor, allow_operation)\u001b[0m\n\u001b[0;32m   3795\u001b[0m     \u001b[1;32mwith\u001b[0m \u001b[0mself\u001b[0m\u001b[1;33m.\u001b[0m\u001b[0m_lock\u001b[0m\u001b[1;33m:\u001b[0m\u001b[1;33m\u001b[0m\u001b[1;33m\u001b[0m\u001b[0m\n\u001b[1;32m-> 3796\u001b[1;33m       \u001b[1;32mreturn\u001b[0m \u001b[0mself\u001b[0m\u001b[1;33m.\u001b[0m\u001b[0m_as_graph_element_locked\u001b[0m\u001b[1;33m(\u001b[0m\u001b[0mobj\u001b[0m\u001b[1;33m,\u001b[0m \u001b[0mallow_tensor\u001b[0m\u001b[1;33m,\u001b[0m \u001b[0mallow_operation\u001b[0m\u001b[1;33m)\u001b[0m\u001b[1;33m\u001b[0m\u001b[1;33m\u001b[0m\u001b[0m\n\u001b[0m\u001b[0;32m   3797\u001b[0m \u001b[1;33m\u001b[0m\u001b[0m\n",
      "\u001b[1;32m~\\Anaconda3\\lib\\site-packages\\tensorflow\\python\\framework\\ops.py\u001b[0m in \u001b[0;36m_as_graph_element_locked\u001b[1;34m(self, obj, allow_tensor, allow_operation)\u001b[0m\n\u001b[0;32m   3874\u001b[0m       \u001b[1;32mif\u001b[0m \u001b[0mobj\u001b[0m\u001b[1;33m.\u001b[0m\u001b[0mgraph\u001b[0m \u001b[1;32mis\u001b[0m \u001b[1;32mnot\u001b[0m \u001b[0mself\u001b[0m\u001b[1;33m:\u001b[0m\u001b[1;33m\u001b[0m\u001b[1;33m\u001b[0m\u001b[0m\n\u001b[1;32m-> 3875\u001b[1;33m         \u001b[1;32mraise\u001b[0m \u001b[0mValueError\u001b[0m\u001b[1;33m(\u001b[0m\u001b[1;34m\"Tensor %s is not an element of this graph.\"\u001b[0m \u001b[1;33m%\u001b[0m \u001b[0mobj\u001b[0m\u001b[1;33m)\u001b[0m\u001b[1;33m\u001b[0m\u001b[1;33m\u001b[0m\u001b[0m\n\u001b[0m\u001b[0;32m   3876\u001b[0m       \u001b[1;32mreturn\u001b[0m \u001b[0mobj\u001b[0m\u001b[1;33m\u001b[0m\u001b[1;33m\u001b[0m\u001b[0m\n",
      "\u001b[1;31mValueError\u001b[0m: Tensor Tensor(\"Placeholder_2:0\", shape=(?, 9), dtype=float32) is not an element of this graph.",
      "\nDuring handling of the above exception, another exception occurred:\n",
      "\u001b[1;31mTypeError\u001b[0m                                 Traceback (most recent call last)",
      "\u001b[1;32m<ipython-input-63-fdaace9046bf>\u001b[0m in \u001b[0;36m<module>\u001b[1;34m\u001b[0m\n\u001b[0;32m      6\u001b[0m     \u001b[0mnum_moves\u001b[0m \u001b[1;33m+=\u001b[0m \u001b[1;36m1\u001b[0m\u001b[1;33m\u001b[0m\u001b[1;33m\u001b[0m\u001b[0m\n\u001b[0;32m      7\u001b[0m     \u001b[0mgame_tracker\u001b[0m\u001b[1;33m[\u001b[0m\u001b[0mint\u001b[0m\u001b[1;33m(\u001b[0m\u001b[0mplayer_index\u001b[0m\u001b[1;33m)\u001b[0m\u001b[1;33m]\u001b[0m \u001b[1;33m=\u001b[0m\u001b[1;36m1.\u001b[0m\u001b[1;33m\u001b[0m\u001b[1;33m\u001b[0m\u001b[0m\n\u001b[1;32m----> 8\u001b[1;33m     \u001b[1;33m[\u001b[0m\u001b[0mpotential_moves\u001b[0m\u001b[1;33m]\u001b[0m \u001b[1;33m=\u001b[0m \u001b[0msess\u001b[0m\u001b[1;33m.\u001b[0m\u001b[0mrun\u001b[0m\u001b[1;33m(\u001b[0m\u001b[0mmodel_output\u001b[0m\u001b[1;33m,\u001b[0m \u001b[0mfeed_dict\u001b[0m \u001b[1;33m=\u001b[0m \u001b[1;33m{\u001b[0m\u001b[0mX\u001b[0m\u001b[1;33m:\u001b[0m\u001b[1;33m[\u001b[0m\u001b[0mgame_tracker\u001b[0m\u001b[1;33m]\u001b[0m\u001b[1;33m}\u001b[0m\u001b[1;33m)\u001b[0m\u001b[1;33m\u001b[0m\u001b[1;33m\u001b[0m\u001b[0m\n\u001b[0m\u001b[0;32m      9\u001b[0m     allowed_move = np.argmax([x if ix in allowed_moves else -999.0 for ix, x in \n\u001b[0;32m     10\u001b[0m                              enumerate( potential_moves)])\n",
      "\u001b[1;32m~\\Anaconda3\\lib\\site-packages\\tensorflow\\python\\client\\session.py\u001b[0m in \u001b[0;36mrun\u001b[1;34m(self, fetches, feed_dict, options, run_metadata)\u001b[0m\n\u001b[0;32m    948\u001b[0m     \u001b[1;32mtry\u001b[0m\u001b[1;33m:\u001b[0m\u001b[1;33m\u001b[0m\u001b[1;33m\u001b[0m\u001b[0m\n\u001b[0;32m    949\u001b[0m       result = self._run(None, fetches, feed_dict, options_ptr,\n\u001b[1;32m--> 950\u001b[1;33m                          run_metadata_ptr)\n\u001b[0m\u001b[0;32m    951\u001b[0m       \u001b[1;32mif\u001b[0m \u001b[0mrun_metadata\u001b[0m\u001b[1;33m:\u001b[0m\u001b[1;33m\u001b[0m\u001b[1;33m\u001b[0m\u001b[0m\n\u001b[0;32m    952\u001b[0m         \u001b[0mproto_data\u001b[0m \u001b[1;33m=\u001b[0m \u001b[0mtf_session\u001b[0m\u001b[1;33m.\u001b[0m\u001b[0mTF_GetBuffer\u001b[0m\u001b[1;33m(\u001b[0m\u001b[0mrun_metadata_ptr\u001b[0m\u001b[1;33m)\u001b[0m\u001b[1;33m\u001b[0m\u001b[1;33m\u001b[0m\u001b[0m\n",
      "\u001b[1;32m~\\Anaconda3\\lib\\site-packages\\tensorflow\\python\\client\\session.py\u001b[0m in \u001b[0;36m_run\u001b[1;34m(self, handle, fetches, feed_dict, options, run_metadata)\u001b[0m\n\u001b[0;32m   1114\u001b[0m           \u001b[1;32mexcept\u001b[0m \u001b[0mException\u001b[0m \u001b[1;32mas\u001b[0m \u001b[0me\u001b[0m\u001b[1;33m:\u001b[0m\u001b[1;33m\u001b[0m\u001b[1;33m\u001b[0m\u001b[0m\n\u001b[0;32m   1115\u001b[0m             raise TypeError(\n\u001b[1;32m-> 1116\u001b[1;33m                 'Cannot interpret feed_dict key as Tensor: ' + e.args[0])\n\u001b[0m\u001b[0;32m   1117\u001b[0m \u001b[1;33m\u001b[0m\u001b[0m\n\u001b[0;32m   1118\u001b[0m           \u001b[1;32mif\u001b[0m \u001b[0misinstance\u001b[0m\u001b[1;33m(\u001b[0m\u001b[0msubfeed_val\u001b[0m\u001b[1;33m,\u001b[0m \u001b[0mops\u001b[0m\u001b[1;33m.\u001b[0m\u001b[0mTensor\u001b[0m\u001b[1;33m)\u001b[0m\u001b[1;33m:\u001b[0m\u001b[1;33m\u001b[0m\u001b[1;33m\u001b[0m\u001b[0m\n",
      "\u001b[1;31mTypeError\u001b[0m: Cannot interpret feed_dict key as Tensor: Tensor Tensor(\"Placeholder_2:0\", shape=(?, 9), dtype=float32) is not an element of this graph."
     ]
    }
   ],
   "source": [
    "game_tracker = [0.,0.,0.,0.,0.,0.,0.,0.,0.]\n",
    "win_logical = False\n",
    "num_moves = 0\n",
    "while not win_logical:\n",
    "    player_index = input('이동하고 싶은 인덱스를 입력하시오(0-8):')\n",
    "    num_moves += 1\n",
    "    game_tracker[int(player_index)] =1.\n",
    "    [potential_moves] = sess.run(model_output, feed_dict = {X:[game_tracker]})\n",
    "    allowed_move = np.argmax([x if ix in allowed_moves else -999.0 for ix, x in \n",
    "                             enumerate( potential_moves)])\n",
    "    game_tracker[int(model_move)] = -1.\n",
    "    print('모델이 이동하였습니다.')\n",
    "    print_board(game_tracker)\n",
    "    if check(game_tracker) ==1 or num_moves >=20:\n",
    "        print('게임 종료 ! 승리하셨습니다. ')\n",
    "        win_logical = True\n",
    "    elif check(game_tracker) == -1:\n",
    "        print('게임 종료 ! 게임에 지셨습니다. ')\n",
    "        win_logical = True"
   ]
  },
  {
   "cell_type": "code",
   "execution_count": 93,
   "metadata": {},
   "outputs": [
    {
     "name": "stdout",
     "output_type": "stream",
     "text": [
      "Iteration: 0, Loss: 4.735570907592773\n",
      "Iteration: 500, Loss: 1.7929714918136597\n",
      "Iteration: 1000, Loss: 1.4644449949264526\n",
      "Iteration: 1500, Loss: 1.6321262121200562\n",
      "Iteration: 2000, Loss: 1.277401328086853\n",
      "Iteration: 2500, Loss: 1.5948820114135742\n",
      "Iteration: 3000, Loss: 1.20367431640625\n",
      "Iteration: 3500, Loss: 1.2027736902236938\n",
      "Iteration: 4000, Loss: 1.1238677501678467\n",
      "Iteration: 4500, Loss: 1.0812358856201172\n",
      "Iteration: 5000, Loss: 1.0522534847259521\n",
      "Iteration: 5500, Loss: 0.785168468952179\n",
      "Iteration: 6000, Loss: 0.8255587816238403\n",
      "Iteration: 6500, Loss: 0.9095143675804138\n",
      "Iteration: 7000, Loss: 0.7330402135848999\n",
      "Iteration: 7500, Loss: 0.9578374624252319\n",
      "Iteration: 8000, Loss: 0.7223829030990601\n",
      "Iteration: 8500, Loss: 0.7977632880210876\n",
      "Iteration: 9000, Loss: 0.8584303259849548\n",
      "Iteration: 9500, Loss: 0.8795594573020935\n"
     ]
    },
    {
     "data": {
      "image/png": "[encoded data removed]",
      "text/plain": [
       "<Figure size 432x288 with 1 Axes>"
      ]
     },
     "metadata": {
      "needs_background": "light"
     },
     "output_type": "display_data"
    },
    {
     "name": "stdout",
     "output_type": "stream",
     "text": [
      "[7]\n",
      "Input index of your move (0-8): 1\n",
      "Model has moved\n",
      "   | X |  \n",
      "___________\n",
      "   |   |  \n",
      "___________\n",
      "   |   | O\n",
      "Input index of your move (0-8): 2\n",
      "Model has moved\n",
      " O | X | X\n",
      "___________\n",
      "   |   |  \n",
      "___________\n",
      "   |   | O\n",
      "Input index of your move (0-8): 4\n",
      "Model has moved\n",
      " O | X | X\n",
      "___________\n",
      "   | X | O\n",
      "___________\n",
      "   |   | O\n",
      "Input index of your move (0-8): 7\n",
      "Model has moved\n",
      " O | X | X\n",
      "___________\n",
      " O | X | O\n",
      "___________\n",
      "   | X | O\n",
      "Game Over!\n"
     ]
    }
   ],
   "source": [
    "import tensorflow as tf\n",
    "import matplotlib.pyplot as plt\n",
    "import csv\n",
    "import numpy as np\n",
    "import random\n",
    "from tensorflow.python.framework import ops\n",
    "ops.reset_default_graph()\n",
    "\n",
    "# Definition of X's, O's, and empty spots:\n",
    "# X = 1\n",
    "# O = -1\n",
    "# empty = 0\n",
    "# response on 1-9 grid for placement of next '1'\n",
    "\n",
    "# For example, the 'test_board' is:\n",
    "#\n",
    "#   O  |  -  |  -\n",
    "# -----------------\n",
    "#   X  |  O  |  O\n",
    "# -----------------\n",
    "#   -  |  -  |  X\n",
    "#\n",
    "# board above = [-1, 0, 0, 1, -1, -1, 0, 0, 1]\n",
    "# Optimal response would be position 6, where\n",
    "# the position numbers are:\n",
    "#\n",
    "#   0  |  1  |  2\n",
    "# -----------------\n",
    "#   3  |  4  |  5\n",
    "# -----------------\n",
    "#   6  |  7  |  8\n",
    "\n",
    "# Test board optimal response:\n",
    "response = 6\n",
    "# Set batch size and five different symmetries of board positions\n",
    "batch_size = 50\n",
    "symmetry = ['rotate180', 'rotate90', 'rotate270', 'flip_v', 'flip_h']\n",
    "\n",
    "\n",
    "# Print a board\n",
    "def print_board(board):\n",
    "    symbols = ['O', ' ', 'X']\n",
    "    board_plus1 = [int(x) + 1 for x in board]\n",
    "    board_line1 = ' {} | {} | {}'.format(symbols[board_plus1[0]],\n",
    "                                         symbols[board_plus1[1]],\n",
    "                                         symbols[board_plus1[2]])\n",
    "    board_line2 = ' {} | {} | {}'.format(symbols[board_plus1[3]],\n",
    "                                         symbols[board_plus1[4]],\n",
    "                                         symbols[board_plus1[5]])\n",
    "    board_line3 = ' {} | {} | {}'.format(symbols[board_plus1[6]],\n",
    "                                         symbols[board_plus1[7]],\n",
    "                                         symbols[board_plus1[8]])\n",
    "    print(board_line1)\n",
    "    print('___________')\n",
    "    print(board_line2)\n",
    "    print('___________')\n",
    "    print(board_line3)\n",
    "\n",
    "\n",
    "# Given a board, a response, and a transformation, get the new board+response\n",
    "def get_symmetry(board, play_response, transformation):\n",
    "    \"\"\"\n",
    "    :param board: list of integers 9 long:\n",
    "     opposing mark = -1\n",
    "     friendly mark = 1\n",
    "     empty space = 0\n",
    "    :param play_response: integer of where response is (0-8)\n",
    "    :param transformation: one of five transformations on a board:\n",
    "     'rotate180', 'rotate90', 'rotate270', 'flip_v', 'flip_h'\n",
    "    :return: tuple: (new_board, new_response)\n",
    "    \"\"\"\n",
    "    if transformation == 'rotate180':\n",
    "        new_response = 8 - play_response\n",
    "        return board[::-1], new_response\n",
    "    elif transformation == 'rotate90':\n",
    "        new_response = [6, 3, 0, 7, 4, 1, 8, 5, 2].index(play_response)\n",
    "        tuple_board = list(zip(*[board[6:9], board[3:6], board[0:3]]))\n",
    "        return [value for item in tuple_board for value in item], new_response\n",
    "    elif transformation == 'rotate270':\n",
    "        new_response = [2, 5, 8, 1, 4, 7, 0, 3, 6].index(play_response)\n",
    "        tuple_board = list(zip(*[board[0:3], board[3:6], board[6:9]]))[::-1]\n",
    "        return [value for item in tuple_board for value in item], new_response\n",
    "    elif transformation == 'flip_v':\n",
    "        new_response = [6, 7, 8, 3, 4, 5, 0, 1, 2].index(play_response)\n",
    "        return board[6:9] + board[3:6] + board[0:3], new_response\n",
    "    elif transformation == 'flip_h':  # flip_h = rotate180, then flip_v\n",
    "        new_response = [2, 1, 0, 5, 4, 3, 8, 7, 6].index(play_response)\n",
    "        new_board = board[::-1]\n",
    "        return new_board[6:9] + new_board[3:6] + new_board[0:3], new_response\n",
    "    else:\n",
    "        raise ValueError('Method not implemented.')\n",
    "\n",
    "\n",
    "# Read in board move csv file\n",
    "def get_moves_from_csv(csv_file):\n",
    "    \"\"\"\n",
    "    :param csv_file: csv file location containing the boards w/ responses\n",
    "    :return: moves: list of moves with index of best response\n",
    "    \"\"\"\n",
    "    play_moves = []\n",
    "    with open(csv_file, 'rt') as csvfile:\n",
    "        reader = csv.reader(csvfile, delimiter=',')\n",
    "        for row in reader:\n",
    "            play_moves.append(([int(x) for x in row[0:9]], int(row[9])))\n",
    "    return play_moves\n",
    "\n",
    "\n",
    "# Get random board with optimal move\n",
    "def get_rand_move(play_moves, rand_transforms=2):\n",
    "    \"\"\"\n",
    "    :param play_moves: list of the boards w/responses\n",
    "    :param rand_transforms: how many random transforms performed on each\n",
    "    :return: (board, response), board is a list of 9 integers, response is 1 int\n",
    "    \"\"\"\n",
    "    (board, play_response) = random.choice(play_moves)\n",
    "    possible_transforms = ['rotate90', 'rotate180', 'rotate270', 'flip_v', 'flip_h']\n",
    "    for _ in range(rand_transforms):\n",
    "        random_transform = random.choice(possible_transforms)\n",
    "        (board, play_response) = get_symmetry(board, play_response, random_transform)\n",
    "    return board, play_response\n",
    "\n",
    "# Get list of optimal moves w/ responses\n",
    "\n",
    "\n",
    "# Create a train set:\n",
    "moves = get_moves_from_csv('tictactoe_moves.csv')\n",
    "train_length = 500\n",
    "train_set = []\n",
    "for t in range(train_length):\n",
    "    train_set.append(get_rand_move(moves))\n",
    "\n",
    "# To see if the network learns anything new, we will remove\n",
    "# all instances of the board [-1, 0, 0, 1, -1, -1, 0, 0, 1],\n",
    "# which the optimal response will be the index '6'.  We will\n",
    "# Test this at the end.\n",
    "test_board = [-1, 0, 0, 1, -1, -1, 0, 0, 1]\n",
    "train_set = [x for x in train_set if x[0] != test_board]\n",
    "\n",
    "\n",
    "def init_weights(shape):\n",
    "    return tf.Variable(tf.random_normal(shape))\n",
    "\n",
    "\n",
    "def model(X, A1, A2, bias1, bias2):\n",
    "    layer1 = tf.nn.sigmoid(tf.add(tf.matmul(X, A1), bias1))\n",
    "    layer2 = tf.add(tf.matmul(layer1, A2), bias2)\n",
    "    # Note: we don't take the softmax at the end because our cost function does that for us\n",
    "    return layer2\n",
    "\n",
    "X = tf.placeholder(dtype=tf.float32, shape=[None, 9])\n",
    "Y = tf.placeholder(dtype=tf.int32, shape=[None])\n",
    "\n",
    "A1 = init_weights([9, 81])\n",
    "bias1 = init_weights([81])\n",
    "A2 = init_weights([81, 9])\n",
    "bias2 = init_weights([9])\n",
    "\n",
    "model_output = model(X, A1, A2, bias1, bias2)\n",
    "\n",
    "loss = tf.reduce_mean(tf.nn.sparse_softmax_cross_entropy_with_logits(logits=model_output, labels=Y))\n",
    "train_step = tf.train.GradientDescentOptimizer(0.025).minimize(loss)\n",
    "prediction = tf.argmax(model_output, 1)\n",
    "\n",
    "sess = tf.Session()\n",
    "init = tf.global_variables_initializer()\n",
    "sess.run(init)\n",
    "\n",
    "loss_vec = []\n",
    "for i in range(10000):\n",
    "    rand_indices = np.random.choice(range(len(train_set)), batch_size, replace=False)\n",
    "    batch_data = [train_set[i] for i in rand_indices]\n",
    "    x_input = [x[0] for x in batch_data]\n",
    "    y_target = np.array([y[1] for y in batch_data])\n",
    "    sess.run(train_step, feed_dict={X: x_input, Y: y_target})\n",
    "    \n",
    "    temp_loss = sess.run(loss, feed_dict={X: x_input, Y: y_target})\n",
    "    loss_vec.append(temp_loss)\n",
    "    if i % 500 == 0:\n",
    "        print('Iteration: {}, Loss: {}'.format(i, temp_loss))\n",
    "\n",
    "\n",
    "# Print loss\n",
    "plt.plot(loss_vec, 'k-', label='Loss')\n",
    "plt.title('Loss (MSE) per Generation')\n",
    "plt.xlabel('Generation')\n",
    "plt.ylabel('Loss')\n",
    "plt.show()\n",
    "\n",
    "# Make Prediction:\n",
    "test_boards = [test_board]\n",
    "feed_dict = {X: test_boards}\n",
    "logits = sess.run(model_output, feed_dict=feed_dict)\n",
    "predictions = sess.run(prediction, feed_dict=feed_dict)\n",
    "print(predictions)\n",
    "\n",
    "\n",
    "# Declare function to check for win\n",
    "def check(board):\n",
    "    wins = [[0, 1, 2], [3, 4, 5], [6, 7, 8], [0, 3, 6], [1, 4, 7], [2, 5, 8], [0, 4, 8], [2, 4, 6]]\n",
    "    for ix in range(len(wins)):\n",
    "        if board[wins[ix][0]] == board[wins[ix][1]] == board[wins[ix][2]] == 1.:\n",
    "            return 1\n",
    "        elif board[wins[ix][0]] == board[wins[ix][1]] == board[wins[ix][2]] == -1.:\n",
    "            return 1\n",
    "    return 0\n",
    "\n",
    "# Let's play against our model\n",
    "game_tracker = [0., 0., 0., 0., 0., 0., 0., 0., 0.]\n",
    "win_logical = False\n",
    "num_moves = 0\n",
    "while not win_logical:\n",
    "    player_index = input('Input index of your move (0-8): ')\n",
    "    num_moves += 1\n",
    "    # Add player move to game\n",
    "    game_tracker[int(player_index)] = 1.\n",
    "    \n",
    "    # Get model's move by first getting all the logits for each index\n",
    "    [potential_moves] = sess.run(model_output, feed_dict={X: [game_tracker]})\n",
    "    # Now find allowed moves (where game tracker values = 0.0)\n",
    "    allowed_moves = [ix for ix, x in enumerate(game_tracker) if x == 0.0]\n",
    "    # Find best move by taking argmax of logits if they are in allowed moves\n",
    "    model_move = np.argmax([x if ix in allowed_moves else -999.0 for ix, x in enumerate(potential_moves)])\n",
    "    \n",
    "    # Add model move to game\n",
    "    game_tracker[int(model_move)] = -1.\n",
    "    print('Model has moved')\n",
    "    print_board(game_tracker)\n",
    "    # Now check for win or too many moves\n",
    "    if check(game_tracker) == 1 or num_moves >= 5:\n",
    "        print('Game Over!')\n",
    "        win_logical = True"
   ]
  },
  {
   "cell_type": "code",
   "execution_count": 96,
   "metadata": {},
   "outputs": [],
   "source": [
    "# CNN\n"
   ]
  },
  {
   "cell_type": "code",
   "execution_count": 135,
   "metadata": {},
   "outputs": [],
   "source": [
    "import os\n",
    "def save_fig(fig_id, tight_layout = True):\n",
    "    path = os.path.join(\"./images/\", fig_id + \".png\")\n",
    "    print(\"Saving figure\", fig_id)\n",
    "    if tight_layout:\n",
    "        plt.tight_layout()\n",
    "    plt.savefig(path, format = 'png', dpi = 300) #dot per inch"
   ]
  },
  {
   "cell_type": "code",
   "execution_count": 136,
   "metadata": {},
   "outputs": [],
   "source": [
    "def reset_graph(seed = 42):\n",
    "    tf.reset_default_graph()\n",
    "    tf.set_random_seed(seed)\n",
    "    np.random.seed(seed)"
   ]
  },
  {
   "cell_type": "code",
   "execution_count": 137,
   "metadata": {},
   "outputs": [],
   "source": [
    "from sklearn.datasets import load_sample_image\n",
    "china = load_sample_image('china.jpg')\n",
    "#70( 높이 : 행)  # 120 ( 가로 : 열)\n",
    "image = china[150:200, 130:250]  # 이미지 전체중에 일부만 클리핑\n",
    "height, width, channels = image.shape\n",
    "image_grayscale = image.mean(axis = 2).astype(np.float32)  #height , width, channel\n",
    "# 순이니까 axis = 2라면 channel\n",
    "images = image_grayscale.reshape(1, height, width, 1)"
   ]
  },
  {
   "cell_type": "code",
   "execution_count": 138,
   "metadata": {},
   "outputs": [],
   "source": [
    "def plot_image(image):\n",
    "    plt.imshow(image, cmap = 'gray', interpolation = 'nearest')\n",
    "    plt.axis('off')\n",
    "def plt_color_image(image): \n",
    "    plt.imshow(image.astype(np.unit8), interpolation = 'nearest')\n",
    "    plt.axis('off')"
   ]
  },
  {
   "cell_type": "code",
   "execution_count": 139,
   "metadata": {},
   "outputs": [
    {
     "data": {
      "text/plain": [
       "array([[0., 0., 0., 1., 0., 0., 0.],\n",
       "       [0., 0., 0., 1., 0., 0., 0.],\n",
       "       [0., 0., 0., 1., 0., 0., 0.],\n",
       "       [0., 0., 0., 1., 0., 0., 0.],\n",
       "       [0., 0., 0., 1., 0., 0., 0.],\n",
       "       [0., 0., 0., 1., 0., 0., 0.],\n",
       "       [0., 0., 0., 1., 0., 0., 0.]], dtype=float32)"
      ]
     },
     "execution_count": 139,
     "metadata": {},
     "output_type": "execute_result"
    }
   ],
   "source": [
    "import numpy as np\n",
    "fmap = np.zeros(shape =(7,7,1,2), dtype = np.float32)\n",
    "fmap[:, 3, 0, 0] = 1\n",
    "fmap[3, :, 0, 1] = 1\n",
    "fmap[:, :, 0, 0]"
   ]
  },
  {
   "cell_type": "code",
   "execution_count": 140,
   "metadata": {},
   "outputs": [
    {
     "data": {
      "image/png": "[encoded data removed]",
      "text/plain": [
       "<Figure size 432x288 with 1 Axes>"
      ]
     },
     "metadata": {
      "needs_background": "light"
     },
     "output_type": "display_data"
    },
    {
     "data": {
      "image/png": "[encoded data removed]",
      "text/plain": [
       "<Figure size 432x288 with 1 Axes>"
      ]
     },
     "metadata": {
      "needs_background": "light"
     },
     "output_type": "display_data"
    },
    {
     "name": "stdout",
     "output_type": "stream",
     "text": [
      "[[0. 0. 0. 1. 0. 0. 0.]\n",
      " [0. 0. 0. 1. 0. 0. 0.]\n",
      " [0. 0. 0. 1. 0. 0. 0.]\n",
      " [0. 0. 0. 1. 0. 0. 0.]\n",
      " [0. 0. 0. 1. 0. 0. 0.]\n",
      " [0. 0. 0. 1. 0. 0. 0.]\n",
      " [0. 0. 0. 1. 0. 0. 0.]]\n"
     ]
    }
   ],
   "source": [
    "# 0은 검은색 1은 흰색임. \n",
    "plot_image(fmap[:, :, 0, 0])\n",
    "plt.show()\n",
    "plot_image(fmap[:,:,0,1])\n",
    "plt.show()\n",
    "print(fmap[:, :, 0, 0])"
   ]
  },
  {
   "cell_type": "code",
   "execution_count": 141,
   "metadata": {},
   "outputs": [],
   "source": [
    "reset_graph()\n",
    "\n",
    "# 장수, 높이 , 가로 , 채널수 \n",
    "X = tf.placeholder(tf.float32, shape = (None, height, width, 1))\n",
    "feature_maps = tf.constant(fmap) # 필터를 상수로\n",
    "# convolution은 1d(text), 2d(image), 3d(동영상)\n",
    "\n",
    "# 70 x 120 ==> same 이므로  70x 120 으로 나온다 .\n",
    "# same이 아니라면 64 X 114--> 70-7(필터사이즈)+1 == 64,, 114도 마찬가지. \n",
    "convolution = tf.nn.conv2d(X, feature_maps, strides = [1,1,1,1], \n",
    "                          padding = 'SAME', use_cudnn_on_gpu = False)\n",
    "                                    #SAME말고 VALID\n",
    "# convolution 안에 filter , padding, strides @@\n",
    "# 그 안에 pooling만 별도로 진행한다. "
   ]
  },
  {
   "cell_type": "code",
   "execution_count": 142,
   "metadata": {},
   "outputs": [],
   "source": [
    "with tf.Session() as sess:\n",
    "    output = convolution.eval(feed_dict = {X: images})"
   ]
  },
  {
   "cell_type": "code",
   "execution_count": 143,
   "metadata": {},
   "outputs": [
    {
     "name": "stdout",
     "output_type": "stream",
     "text": [
      "Saving figure china_original\n"
     ]
    },
    {
     "data": {
      "image/png": "[encoded data removed]",
      "text/plain": [
       "<Figure size 432x288 with 1 Axes>"
      ]
     },
     "metadata": {
      "needs_background": "light"
     },
     "output_type": "display_data"
    }
   ],
   "source": [
    "plot_image(images[0,:,:,0])\n",
    "save_fig(\"china_original\", tight_layout = False)\n",
    "plt.show()"
   ]
  },
  {
   "cell_type": "code",
   "execution_count": 144,
   "metadata": {},
   "outputs": [
    {
     "name": "stdout",
     "output_type": "stream",
     "text": [
      "Saving figure china_vertical\n"
     ]
    },
    {
     "data": {
      "image/png": "[encoded data removed]",
      "text/plain": [
       "<Figure size 432x288 with 1 Axes>"
      ]
     },
     "metadata": {
      "needs_background": "light"
     },
     "output_type": "display_data"
    }
   ],
   "source": [
    "\n",
    "# 2장의 이미지: 필터가 다르면 특징도 다르게 잡힌다. \n",
    "plot_image(output[0,:,:,0])  # 0번 필터 적용: 세로줄 \n",
    "save_fig(\"china_vertical\", tight_layout = False)\n",
    "plt.show()"
   ]
  },
  {
   "cell_type": "code",
   "execution_count": 145,
   "metadata": {
    "scrolled": true
   },
   "outputs": [
    {
     "name": "stdout",
     "output_type": "stream",
     "text": [
      "Saving figure china_vertical\n"
     ]
    },
    {
     "data": {
      "image/png": "[encoded data removed]",
      "text/plain": [
       "<Figure size 432x288 with 1 Axes>"
      ]
     },
     "metadata": {
      "needs_background": "light"
     },
     "output_type": "display_data"
    }
   ],
   "source": [
    "# 2장의 이미지:\n",
    "plot_image(output[0,:,:,1])  # 0번 필터 적용: 세로줄 \n",
    "save_fig(\"china_vertical\", tight_layout = False)\n",
    "plt.show()"
   ]
  },
  {
   "cell_type": "code",
   "execution_count": null,
   "metadata": {},
   "outputs": [],
   "source": []
  }
 ],
 "metadata": {
  "kernelspec": {
   "display_name": "Python 3",
   "language": "python",
   "name": "python3"
  },
  "language_info": {
   "codemirror_mode": {
    "name": "ipython",
    "version": 3
   },
   "file_extension": ".py",
   "mimetype": "text/x-python",
   "name": "python",
   "nbconvert_exporter": "python",
   "pygments_lexer": "ipython3",
   "version": "3.7.4"
  }
 },
 "nbformat": 4,
 "nbformat_minor": 2
}
