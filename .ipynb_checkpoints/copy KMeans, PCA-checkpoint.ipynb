{
 "cells": [
  {
   "cell_type": "markdown",
   "metadata": {},
   "source": [
    "## 지도학습과 비지도학습의 차이: 종속변수의 유무이다\n",
    "## 비지도학습 --> 차원축소, target 결정\n",
    "##  vector 와  matrix를 통해 데이터를 표현한다. \n",
    "## vector의 크기 . 방향을 이용해서 문제해석. \n",
    "### vector의 크기를 중심으로 문제해석: KMeans, Knn\n",
    "### vector의 방향을 중심으로 문제해석: PCA, MDS, FNN \n",
    "- KMeans--> 비지도 학습이므로 종속변수 없다, 데이터 가까운것 끼리 그룹핑한다.\n",
    "    - center 점을 정해주고 데이터 들어온다 --> 지속적으로 center점이 움직여 가면서 군집화한다.\n",
    "    - 문제점: 데이터도 모르는데 중심값을 정하는게 문제이다. \n",
    "        - 이상치의 영향을 많이 받는다. \n",
    "        - 그래서 나온것이 바로 (median kmeans)\n",
    "    - 활용되는 곳: 종속변수를 결정한다. (종속변수가 없으면 지도 학습을 할 수 ㅇ벗다. \n",
    "                 종속변수를 결정하는데 사용하는것이 kmeans), 압축용으로 사용(이미지 같은것들\n",
    "                , color 값을 몇개 빼서 비슷한것 끼리 군집화함, 군집주변에 있는 놈들은 번호하나로 부여 )\n",
    "    - 원형 이상치제거, 챗봇같은것에서 활용( 예를들어서 챗봇을 만든다 모든문제에 다 응답하게 하려면\n",
    "            속도가 느려짐, 들어온 대화에 대해 그룹핑을 해준다(앞단에서 kmeans가 돌아가서 \n",
    "                                        경제문제 챗봇, IT문제 챗봇 이런식으로 분활시켜줌))\n",
    "\n",
    "- KNN : 미리학습된 데이터 분포가 있다. 새로운 데이터가 들어온다면 가장 가까운 데이터를 몇개 확인해본다.ㅣ\n",
    "그래서 맞는 군집에 분류한다. KNN 은 속도가 빠르다 (그래서 결측치의 값을 빠르게 찾아준다. )\n",
    "\n",
    "- PCA: 들어오는 데이터로부터, 데이터들의 상관계수나 공분산을 구한다. 이를 통해서 변수간의 다중공산성\n",
    "    , 종속변수에 얼마나 영향을 미치는지 확인해본다. \n",
    "    상관계수나 공분산행렬에 고유값 분해를 하게되면 고유값과 고유벡터가 나온다, model 전단계에서 사용하며\n",
    "    노이즈 제거하는 용도이다.\n",
    "\n",
    "- MDS: 시각화용도로 사용되어진다., 50X10 이 있는데 여기에 10x2의 임의의 직교행렬을 곱한다. \n",
    "    --> 그럼 변수(특성)이 축소된다. --> 데이터가 정직교하는 축으로 재해석되는데 이때 시각화를 통해 확인하자. \n",
    "\n",
    "- FNN: 이건 그냥 모델임. 가중치를 학습하는 신경망이다. (행렬을 이용해 문제를 풀어서 나간다. )\n",
    "    \n",
    "### PCA -> 노이즈제거, \n",
    "### MDS -> 시각화용도\n",
    "### FNN -> 모델용도 \n",
    "\n",
    "- Matrix -> 데이터 변환용으로 쓴다, 차원축소되는 용도로 쓰인다 (= 특징을 추출한다)"
   ]
  },
  {
   "cell_type": "code",
   "execution_count": 4,
   "metadata": {},
   "outputs": [],
   "source": [
    "%matplotlib inline\n",
    "import matplotlib.pyplot as plt\n",
    "import seaborn as sns\n",
    "sns.set()\n",
    "import numpy as np\n",
    "\n",
    "def make_hello(N= 1000, rseed = 42):\n",
    "    fig, ax = plt.subplots(figsize =(4,1))\n",
    "    fig.subplots_adjust(left = 0, right =1, bottom = 0 , top = 1)\n",
    "    ax.axis('off')\n",
    "    ax.text(0.5, 0.4, 'CHA', va = 'center', ha = 'center', weight = 'bold', size = 85 )\n",
    "    fig.savefig('hello.png')\n",
    "    plt.close(fig)\n",
    "    \n",
    "    from matplotlib.image import imread\n",
    "    data = imread('hello.png')[::-1,:,0].T\n",
    "    print('이미지 차원', data.shape)\n",
    "    print(data)\n",
    "    rng = np.random.RandomState(rseed)\n",
    "    X = rng.rand(4*N, 2)\n",
    "    print('만든갯수', X.shape)\n",
    "    print((X*data.shape).shape)\n",
    "    i, j = (X*data.shape).astype(int).T\n",
    "    \n",
    "    mask = (data[i,j]<1)\n",
    "    X = X[mask]\n",
    "    print('새로운 X 갯수', X.shape)\n",
    "    print('원래이미지의 차수', data.shape)\n",
    "    X[:, 0] *= (data.shape[0]/data.shape[1])\n",
    "    X = X[:N]\n",
    "    \n",
    "    return X[np.argsort(X[:,0])]"
   ]
  },
  {
   "cell_type": "code",
   "execution_count": null,
   "metadata": {},
   "outputs": [],
   "source": []
  }
 ],
 "metadata": {
  "kernelspec": {
   "display_name": "Python 3",
   "language": "python",
   "name": "python3"
  },
  "language_info": {
   "codemirror_mode": {
    "name": "ipython",
    "version": 3
   },
   "file_extension": ".py",
   "mimetype": "text/x-python",
   "name": "python",
   "nbconvert_exporter": "python",
   "pygments_lexer": "ipython3",
   "version": "3.7.4"
  }
 },
 "nbformat": 4,
 "nbformat_minor": 2
}
