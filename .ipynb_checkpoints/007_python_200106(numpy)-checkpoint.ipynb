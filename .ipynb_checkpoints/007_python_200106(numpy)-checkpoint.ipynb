{
 "cells": [
  {
   "cell_type": "code",
   "execution_count": null,
   "metadata": {},
   "outputs": [],
   "source": [
    "#20/01/06\n",
    "\n",
    "#numpy --> pandas --> scipy, statsmodels  --> scikits --> tensorflow  --> keras \n",
    "\n",
    "\n",
    "\n",
    "\n",
    "#pythone core : 중심 자료구조가 list 였다. ( 지금까지 배운 것 ) -> 빅데이터, 딥러닝을 처리하기는 어렵다. -> 그래서 만든 것 : array\n",
    "\n",
    "#numpy :  배열 (1차원일땐 vector/ 2차원일땐 matrix/ 3차원이상일땐 temsor ) -> 앞으로 선형대수를 처리하는 것을 배우겠다. \n",
    "#            numpy 에 자료구조+연산자+제어문+함수 다 있다. \n",
    "#\tnumpy 행중심이다. ( 검색을 할 때는 행중심을 하는게 맞다. 김은민의 데이터를 찾아오라하면 행으로 쭉 가져옴 )\n",
    "#            국어점수의 평균등을 처리하려면 열중심으로 봐야한다. -> pandas 는 열중심이다.\n",
    "#\tnumpy : 동질적데이터만 있어야한다.( 문자는 문자끼리 )\n",
    "\n",
    "#pandas : 열중심이다. \n",
    "#\t1차원은 series, 2차원 dataframe (series를 모은것), 3차원은 panel \n",
    "#\t열내 동질적 (series 는 동질적) + 열간 이질적 \n",
    "\n",
    "\n",
    "#numpy , pandas 에서 데이터전처리를 주로 한다.!!\n",
    "\n",
    "\n",
    "\n",
    "#scipy :  최적화가 뭔지, interpolation ( 보강법이 뭔지 ) , integrate ( 적분이 뭔지 ) , differential ( 미분이 뭔지 ) 를 배운다.\n",
    "\n",
    "#statsmodel : R 의 내용을 가져오려고했음\n",
    "\n",
    "#scikits : 머신러닝\n",
    "\n",
    "#tensorflow : 딥러닝"
   ]
  },
  {
   "cell_type": "code",
   "execution_count": null,
   "metadata": {},
   "outputs": [],
   "source": [
    "# model \n",
    "# 1. 정보기반 학습 : 의사결정나무, random forest( 시간 많이 걸리고 속도도 느리다 ) 그래서 나온게 Ada boost, gradian boost , XG boost등\n",
    "#                sicikits 에서 XG boost, random forest 등을 다룰것이다.\n",
    "# 2. 확률기반 학습 : Naive Bayes ( 도수기반이므로 갯수만 세면 된다 ) \n",
    "# 3. 오차기반 학습  : ANN , SVM  \n",
    "# 4. 유사도기반학습 : ex ) 마트에서 이걸 샀었다. 그래서 비슷한 것을 추천해준다 ( 모델 : K-means, KNN 등등)\n"
   ]
  },
  {
   "cell_type": "code",
   "execution_count": 1,
   "metadata": {},
   "outputs": [],
   "source": [
    "# 통계 : 추정과 검정 \n",
    "#        카에지곱,  anova , manova, amkova, 구조방정식 등\n",
    "#        회귀분석, 상관분석  중요"
   ]
  },
  {
   "cell_type": "code",
   "execution_count": null,
   "metadata": {},
   "outputs": [],
   "source": []
  },
  {
   "cell_type": "code",
   "execution_count": null,
   "metadata": {},
   "outputs": [],
   "source": [
    "#  flask\n",
    "import flask   # 플라스크 : 웹서버 기능이 있다. "
   ]
  },
  {
   "cell_type": "code",
   "execution_count": null,
   "metadata": {},
   "outputs": [],
   "source": []
  },
  {
   "cell_type": "code",
   "execution_count": null,
   "metadata": {},
   "outputs": [],
   "source": [
    "# 넘파이 간단한 것부터 해보자"
   ]
  },
  {
   "cell_type": "code",
   "execution_count": 2,
   "metadata": {},
   "outputs": [
    {
     "name": "stdout",
     "output_type": "stream",
     "text": [
      "1.16.5\n",
      "type:<class 'numpy.ndarray'>\n",
      "shape:(3,), dimension:1, dtype:int32\n",
      "Array's Data:\n",
      " [1 2 3]\n"
     ]
    }
   ],
   "source": [
    "import matplotlib  # 시각화 패키지이다. \n",
    "import numpy as np   # 별칭으로 정한 것이다.\n",
    "print(np.__version__)  # .__version__  는 상위오브젝트가 가진 속성을 보여준다.  (이름.__version__을 통해서)\n",
    "def pprint(arr):     # ndarray  : numpy 의 기본데이터 배열이다. \n",
    "    print(\"type:{}\".format(type(arr)))\n",
    "    print(\"shape:{}, dimension:{}, dtype:{}\".format(arr.shape, arr.ndim, arr.dtype))  \n",
    "                                        # shape : 차수(2차원인지,3차원인지), ndim : 몇차원인지 보여줌. dtype : 데이터타입뭔지 \n",
    "    print(\"Array's Data:\\n\", arr)\n",
    "arr=[1,2,3]        \n",
    "a=np.array([1,2,3])  \n",
    "pprint(a)   \n",
    "#넘바이 버전이 1.16.5\n",
    "#shape = 3 -> 요소 수 3개, dimension = 1 -> 1차원, dtype = int32 -> 숫자는 디폴트가 32 이다.!"
   ]
  },
  {
   "cell_type": "code",
   "execution_count": 3,
   "metadata": {},
   "outputs": [
    {
     "name": "stdout",
     "output_type": "stream",
     "text": [
      "type:<class 'numpy.ndarray'>\n",
      "shape:(3,), dimension:1, dtype:int32\n",
      "Array's Data:\n",
      " [1 2 3]\n"
     ]
    }
   ],
   "source": [
    "arr=[1.0,2.0,3.0]  ## 리스트\n",
    "a=np.array([1,2,3]) # array 는 ndarray 생성함수이다(매개변수로는 리스트가 필요하다)\n",
    "pprint(a)   "
   ]
  },
  {
   "cell_type": "code",
   "execution_count": 8,
   "metadata": {},
   "outputs": [
    {
     "name": "stdout",
     "output_type": "stream",
     "text": [
      "2732928516944\n",
      "10\n",
      "[0. 1. 2. 3. 4. 5. 6. 7. 8. 9.]\n",
      "40\n"
     ]
    },
    {
     "data": {
      "text/plain": [
       "array([  0,   1,   2,   3,   4,   5,   6,   7,   8,   9,  10,  11,  12,\n",
       "        13,  14,  15,  16,  17,  18,  19,  20,  21,  22,  23,  24,  25,\n",
       "        26,  27,  28,  29,  30,  31,  32,  33,  34,  35,  36,  37,  38,\n",
       "        39,  40,  41,  42,  43,  44,  45,  46,  47,  48,  49,  50,  51,\n",
       "        52,  53,  54,  55,  56,  57,  58,  59,  60,  61,  62,  63,  64,\n",
       "        65,  66,  67,  68,  69,  70,  71,  72,  73,  74,  75,  76,  77,\n",
       "        78,  79,  80,  81,  82,  83,  84,  85,  86,  87,  88,  89,  90,\n",
       "        91,  92,  93,  94,  95,  96,  97,  98,  99, 100, 101, 102, 103,\n",
       "       104, 105, 106, 107, 108, 109, 110, 111, 112, 113, 114, 115, 116,\n",
       "       117, 118, 119, 120, 121, 122, 123, 124, 125, 126, 127, 128, 129,\n",
       "       130, 131, 132, 133, 134, 135, 136, 137, 138, 139, 140, 141, 142,\n",
       "       143, 144, 145, 146, 147, 148, 149, 150, 151, 152, 153, 154, 155,\n",
       "       156, 157, 158, 159, 160, 161, 162, 163, 164, 165, 166, 167, 168,\n",
       "       169, 170, 171, 172, 173, 174, 175, 176, 177, 178, 179, 180, 181,\n",
       "       182, 183, 184, 185, 186, 187, 188, 189, 190, 191, 192, 193, 194,\n",
       "       195, 196, 197, 198, 199, 200, 201, 202, 203, 204, 205, 206, 207,\n",
       "       208, 209, 210, 211, 212, 213, 214, 215, 216, 217, 218, 219, 220,\n",
       "       221, 222, 223, 224, 225, 226, 227, 228, 229, 230, 231, 232, 233,\n",
       "       234, 235, 236, 237, 238, 239, 240, 241, 242, 243, 244, 245, 246,\n",
       "       247, 248, 249, 250, 251, 252, 253, 254, 255, 256, 257, 258, 259,\n",
       "       260, 261, 262, 263, 264, 265, 266, 267, 268, 269, 270, 271, 272,\n",
       "       273, 274, 275, 276, 277, 278, 279, 280, 281, 282, 283, 284, 285,\n",
       "       286, 287, 288, 289, 290, 291, 292, 293, 294, 295, 296, 297, 298,\n",
       "       299, 300, 301, 302, 303, 304, 305, 306, 307, 308, 309, 310, 311,\n",
       "       312, 313, 314, 315, 316, 317, 318, 319, 320, 321, 322, 323, 324,\n",
       "       325, 326, 327, 328, 329, 330, 331, 332, 333, 334, 335, 336, 337,\n",
       "       338, 339, 340, 341, 342, 343, 344, 345, 346, 347, 348, 349, 350,\n",
       "       351, 352, 353, 354, 355, 356, 357, 358, 359, 360, 361, 362, 363,\n",
       "       364, 365, 366, 367, 368, 369, 370, 371, 372, 373, 374, 375, 376,\n",
       "       377, 378, 379, 380, 381, 382, 383, 384, 385, 386, 387, 388, 389,\n",
       "       390, 391, 392, 393, 394, 395, 396, 397, 398, 399, 400, 401, 402,\n",
       "       403, 404, 405, 406, 407, 408, 409, 410, 411, 412, 413, 414, 415,\n",
       "       416, 417, 418, 419, 420, 421, 422, 423, 424, 425, 426, 427, 428,\n",
       "       429, 430, 431, 432, 433, 434, 435, 436, 437, 438, 439, 440, 441,\n",
       "       442, 443, 444, 445, 446, 447, 448, 449, 450, 451, 452, 453, 454,\n",
       "       455, 456, 457, 458, 459, 460, 461, 462, 463, 464, 465, 466, 467,\n",
       "       468, 469, 470, 471, 472, 473, 474, 475, 476, 477, 478, 479, 480,\n",
       "       481, 482, 483, 484, 485, 486, 487, 488, 489, 490, 491, 492, 493,\n",
       "       494, 495, 496, 497, 498, 499, 500, 501, 502, 503, 504, 505, 506,\n",
       "       507, 508, 509, 510, 511, 512, 513, 514, 515, 516, 517, 518, 519,\n",
       "       520, 521, 522, 523, 524, 525, 526, 527, 528, 529, 530, 531, 532,\n",
       "       533, 534, 535, 536, 537, 538, 539, 540, 541, 542, 543, 544, 545,\n",
       "       546, 547, 548, 549, 550, 551, 552, 553, 554, 555, 556, 557, 558,\n",
       "       559, 560, 561, 562, 563, 564, 565, 566, 567, 568, 569, 570, 571,\n",
       "       572, 573, 574, 575, 576, 577, 578, 579, 580, 581, 582, 583, 584,\n",
       "       585, 586, 587, 588, 589, 590, 591, 592, 593, 594, 595, 596, 597,\n",
       "       598, 599, 600, 601, 602, 603, 604, 605, 606, 607, 608, 609, 610,\n",
       "       611, 612, 613, 614, 615, 616, 617, 618, 619, 620, 621, 622, 623,\n",
       "       624, 625, 626, 627, 628, 629, 630, 631, 632, 633, 634, 635, 636,\n",
       "       637, 638, 639, 640, 641, 642, 643, 644, 645, 646, 647, 648, 649,\n",
       "       650, 651, 652, 653, 654, 655, 656, 657, 658, 659, 660, 661, 662,\n",
       "       663, 664, 665, 666, 667, 668, 669, 670, 671, 672, 673, 674, 675,\n",
       "       676, 677, 678, 679, 680, 681, 682, 683, 684, 685, 686, 687, 688,\n",
       "       689, 690, 691, 692, 693, 694, 695, 696, 697, 698, 699, 700, 701,\n",
       "       702, 703, 704, 705, 706, 707, 708, 709, 710, 711, 712, 713, 714,\n",
       "       715, 716, 717, 718, 719, 720, 721, 722, 723, 724, 725, 726, 727,\n",
       "       728, 729, 730, 731, 732, 733, 734, 735, 736, 737, 738, 739, 740,\n",
       "       741, 742, 743, 744, 745, 746, 747, 748, 749, 750, 751, 752, 753,\n",
       "       754, 755, 756, 757, 758, 759, 760, 761, 762, 763, 764, 765, 766,\n",
       "       767, 768, 769, 770, 771, 772, 773, 774, 775, 776, 777, 778, 779,\n",
       "       780, 781, 782, 783, 784, 785, 786, 787, 788, 789, 790, 791, 792,\n",
       "       793, 794, 795, 796, 797, 798, 799, 800, 801, 802, 803, 804, 805,\n",
       "       806, 807, 808, 809, 810, 811, 812, 813, 814, 815, 816, 817, 818,\n",
       "       819, 820, 821, 822, 823, 824, 825, 826, 827, 828, 829, 830, 831,\n",
       "       832, 833, 834, 835, 836, 837, 838, 839, 840, 841, 842, 843, 844,\n",
       "       845, 846, 847, 848, 849, 850, 851, 852, 853, 854, 855, 856, 857,\n",
       "       858, 859, 860, 861, 862, 863, 864, 865, 866, 867, 868, 869, 870,\n",
       "       871, 872, 873, 874, 875, 876, 877, 878, 879, 880, 881, 882, 883,\n",
       "       884, 885, 886, 887, 888, 889, 890, 891, 892, 893, 894, 895, 896,\n",
       "       897, 898, 899, 900, 901, 902, 903, 904, 905, 906, 907, 908, 909,\n",
       "       910, 911, 912, 913, 914, 915, 916, 917, 918, 919, 920, 921, 922,\n",
       "       923, 924, 925, 926, 927, 928, 929, 930, 931, 932, 933, 934, 935,\n",
       "       936, 937, 938, 939, 940, 941, 942, 943, 944, 945, 946, 947, 948,\n",
       "       949, 950, 951, 952, 953, 954, 955, 956, 957, 958, 959, 960, 961,\n",
       "       962, 963, 964, 965, 966, 967, 968, 969, 970, 971, 972, 973, 974,\n",
       "       975, 976, 977, 978, 979, 980, 981, 982, 983, 984, 985, 986, 987,\n",
       "       988, 989, 990, 991, 992, 993, 994, 995, 996, 997, 998, 999])"
      ]
     },
     "execution_count": 8,
     "metadata": {},
     "output_type": "execute_result"
    }
   ],
   "source": [
    "a=np.array([0,1,2,3,4,5,6,7,8,9])  # np는 별칭을 준 것으로 인스턴스 상태이다. array 라는 함수를 점을찍어서 호출했다.\n",
    "                                    # array 라는 함수는 리스트를 매개변수로 받아서 ndarray 를 만든다. \n",
    "print(id(a))      #python core 에서 사용하던 것으로 주소값을 확인한다.\n",
    "print(a.size)      # size 는 데이터 갯수를 세주는 함수. \n",
    "print(a.astype(np.float32))  # astype 은 데이터타입을 변경해준다.   numpy 는 행중심 이고 동질적인 데이터이다. (float32 형으로 바꿈)\n",
    "                            # a는 ndarray 이고, np 는 numpy 패키지 그대로이다. \n",
    "print(a.dtype.itemsize*a.size)   # 전체 메모리 사이즈 (바이트)\n",
    "\n",
    "# iterator for in range => list \n",
    "\n",
    "a = np.arange(1000)  # range 를 사용하면 리스트를 만들고 arange 를 사용하면 ndarray 를 만든다.\n",
    "a\n"
   ]
  },
  {
   "cell_type": "code",
   "execution_count": 9,
   "metadata": {},
   "outputs": [
    {
     "name": "stdout",
     "output_type": "stream",
     "text": [
      "[[0. 0. 0. 0.]\n",
      " [0. 0. 0. 0.]\n",
      " [0. 0. 0. 0.]]\n",
      "[[[1 1 1 1]\n",
      "  [1 1 1 1]\n",
      "  [1 1 1 1]]\n",
      "\n",
      " [[1 1 1 1]\n",
      "  [1 1 1 1]\n",
      "  [1 1 1 1]]]\n",
      "[[7 7]\n",
      " [7 7]]\n",
      "[[1. 0. 0. 0.]\n",
      " [0. 1. 0. 0.]\n",
      " [0. 0. 1. 0.]\n",
      " [0. 0. 0. 1.]]\n",
      "[[0.000e+000 0.000e+000]\n",
      " [0.000e+000 0.000e+000]\n",
      " [0.000e+000 6.304e-321]\n",
      " [0.000e+000 0.000e+000]]\n"
     ]
    }
   ],
   "source": [
    "# ndarray 초기화 함수들\n",
    "\n",
    "print(np.zeros((3,4)))  # zeros -> 요소값이 전부 0\n",
    "print(np.ones((2,3,4),dtype=np.int16))  # ones -> 값이 전부 1, dtype=에 형식을 넣으면 데이터 타입을 바꿔준다, -> int16으로 한다. \n",
    "                                        # 면, 행, 열 ??\n",
    "print(np.full((2,2),7))   #full-> 2행2열인데 7로 채운다.\n",
    "print(np.eye(4))   # eye -> 대각행렬  ( 행렬연산에서 대각행렬은 항등원이다 )\n",
    "print(np.empty((4,2)))  #empty -> 쓰레기값이다. "
   ]
  },
  {
   "cell_type": "code",
   "execution_count": 11,
   "metadata": {},
   "outputs": [
    {
     "name": "stdout",
     "output_type": "stream",
     "text": [
      "[1, 5, -1]\n",
      "[ 0 10 20 30 40 50 60 70 80 90]\n",
      "[10 50 90]\n"
     ]
    }
   ],
   "source": [
    "a = np.arange(0,100,10) #ndarray 를 만들고 있다.\n",
    "indices = [1,5,-1] # 리스트이다.\n",
    "print(indices) \n",
    "b = a[indices] # 이건 ndarray 이다.  리스트를 첨자로 사용함.\n",
    "print(a)\n",
    "print(b)"
   ]
  },
  {
   "cell_type": "code",
   "execution_count": 15,
   "metadata": {},
   "outputs": [
    {
     "name": "stdout",
     "output_type": "stream",
     "text": [
      "[11 12 13 14 15 16 17 18 19 20 21 22 23 24 25 26 27 28 29 30 31 32 33 34\n",
      " 35]\n",
      "[[11 12 13 14 15]\n",
      " [16 17 18 19 20]\n",
      " [21 22 23 24 25]\n",
      " [26 27 28 29 30]\n",
      " [31 32 33 34 35]]\n",
      "<class 'numpy.ndarray'>\n"
     ]
    }
   ],
   "source": [
    "a=np.arange(11,36)   # 이렇게 하면 데이터가 1차원으로 생성된다.\n",
    "print(a)\n",
    "\n",
    "a.shape = (5,5)  # ndarray 가 가지고있는 shape속성을 이용해서 5x5 로 바꿀 것이다.\n",
    "print(a)      # 2차원으로 바뀐다.\n",
    "print(type(a))"
   ]
  },
  {
   "cell_type": "code",
   "execution_count": 18,
   "metadata": {},
   "outputs": [
    {
     "name": "stdout",
     "output_type": "stream",
     "text": [
      "int32\n",
      "25\n",
      "(5, 5)\n",
      "2\n",
      "100\n",
      "(20, 4)\n"
     ]
    }
   ],
   "source": [
    "print(a.dtype)\n",
    "print(a.size)\n",
    "print(a.shape)    # 차수 (5x5)\n",
    "print(a.ndim)     # 2차원\n",
    "print(a.nbytes)   # 100 이 나온다. 왜 100? ==> 100바이트이기때문에 (25개*각각 4byte)\n",
    "print(a.strides)  # 다음열의 데이터는 몇바이트를 건너뛰어야하는가?  4바이트를 건너뛰어야 나온다. \n",
    "                  # 다음행은 몇바이트를 건너뛰어야하는가.  한행이 5개(5열) 이므로 , 4*5 = 20\n"
   ]
  },
  {
   "cell_type": "code",
   "execution_count": 14,
   "metadata": {},
   "outputs": [
    {
     "name": "stdout",
     "output_type": "stream",
     "text": [
      "[11 12 13 14 15 16 17 18 19 20 21 22 23 24 25 26 27 28 29 30 31 32 33 34]\n"
     ]
    },
    {
     "ename": "ValueError",
     "evalue": "cannot reshape array of size 24 into shape (5,5)",
     "output_type": "error",
     "traceback": [
      "\u001b[1;31m---------------------------------------------------------------------------\u001b[0m",
      "\u001b[1;31mValueError\u001b[0m                                Traceback (most recent call last)",
      "\u001b[1;32m<ipython-input-14-fc4a1a9efba7>\u001b[0m in \u001b[0;36m<module>\u001b[1;34m\u001b[0m\n\u001b[0;32m      2\u001b[0m \u001b[0mprint\u001b[0m\u001b[1;33m(\u001b[0m\u001b[0ma\u001b[0m\u001b[1;33m)\u001b[0m\u001b[1;33m\u001b[0m\u001b[1;33m\u001b[0m\u001b[0m\n\u001b[0;32m      3\u001b[0m \u001b[1;33m\u001b[0m\u001b[0m\n\u001b[1;32m----> 4\u001b[1;33m \u001b[0ma\u001b[0m\u001b[1;33m.\u001b[0m\u001b[0mshape\u001b[0m \u001b[1;33m=\u001b[0m \u001b[1;33m(\u001b[0m\u001b[1;36m5\u001b[0m\u001b[1;33m,\u001b[0m\u001b[1;36m5\u001b[0m\u001b[1;33m)\u001b[0m\u001b[1;33m\u001b[0m\u001b[1;33m\u001b[0m\u001b[0m\n\u001b[0m\u001b[0;32m      5\u001b[0m \u001b[0mprint\u001b[0m\u001b[1;33m(\u001b[0m\u001b[0ma\u001b[0m\u001b[1;33m)\u001b[0m\u001b[1;33m\u001b[0m\u001b[1;33m\u001b[0m\u001b[0m\n\u001b[0;32m      6\u001b[0m \u001b[0mprint\u001b[0m\u001b[1;33m(\u001b[0m\u001b[0mtype\u001b[0m\u001b[1;33m(\u001b[0m\u001b[0ma\u001b[0m\u001b[1;33m)\u001b[0m\u001b[1;33m)\u001b[0m\u001b[1;33m\u001b[0m\u001b[1;33m\u001b[0m\u001b[0m\n",
      "\u001b[1;31mValueError\u001b[0m: cannot reshape array of size 24 into shape (5,5)"
     ]
    }
   ],
   "source": [
    "a=np.arange(11,35)     # 갯수가 안맞으면 에러가 난다.\n",
    "print(a)\n",
    "\n",
    "a.shape = (5,5)    \n",
    "print(a)       \n",
    "print(type(a))"
   ]
  },
  {
   "cell_type": "code",
   "execution_count": 19,
   "metadata": {},
   "outputs": [
    {
     "name": "stdout",
     "output_type": "stream",
     "text": [
      "<class 'numpy.ndarray'>\n",
      "[0 1 2 3 4 5 6 7 8 9]\n",
      "5\n",
      "[5 6 7]\n",
      "[ 1  2  3  4 12]\n"
     ]
    }
   ],
   "source": [
    "# 인덱싱을 해보자\n",
    "arr=np.arange(10)# 10개를 만드는데 시작은 0\n",
    "print(type(arr))  # type 하니까 ndarray 가 나온다.\n",
    "print(arr)\n",
    "print(arr[5]) # 5번째 요소\n",
    "print(arr[5:8]) # 5~8까지 접근하는데 마지막은 포함하지 않는다.\n",
    "arr[5:8]=12 # 데이터 업데이트 하는 것이다. \n",
    "print(arr[1:6])"
   ]
  },
  {
   "cell_type": "code",
   "execution_count": 21,
   "metadata": {},
   "outputs": [
    {
     "name": "stdout",
     "output_type": "stream",
     "text": [
      "[1 2 3]\n",
      "3\n",
      "3\n",
      "[[1 2 3]\n",
      " [4 5 6]]\n",
      "[[2 3]\n",
      " [5 6]]\n",
      "[[2 3]\n",
      " [5 6]\n",
      " [8 9]]\n",
      "[4 5]\n",
      "[7]\n",
      "[[0 2 3]\n",
      " [0 5 6]\n",
      " [7 8 9]]\n"
     ]
    }
   ],
   "source": [
    "#3차원도 보고가자\n",
    "# numpy 에서는 첨자생략이 불가능하다. (ex [,4] 이런건 r에서는 되지만 v여기서는 안된다\n",
    "arr2d = np.array([[1,2,3],[4,5,6],[7,8,9]])\n",
    "\n",
    "print(arr2d[0])  #행우선이므로 첫번째 행을 의미하는 것이다.\n",
    "print(arr2d[0][2]) # 첫번째 행의 2열\n",
    "print(arr2d[0,2]) \n",
    "print(arr2d[:2]) #0,1행\n",
    "print(arr2d[:2,1:])  # : 를 꼭 표현해줘야 한다. 모든 을 의미하는 것이다.(파이썬에서는 첨자생략이 불가능) \n",
    "print(arr2d[:,1:]) # 모든행\n",
    "print(arr2d[1,:2])   \n",
    "print(arr2d[2,:1])\n",
    "arr2d[:2,:1]=0\n",
    "arr2d[:2,:1]=0\n",
    "print(arr2d)"
   ]
  },
  {
   "cell_type": "code",
   "execution_count": 25,
   "metadata": {},
   "outputs": [
    {
     "name": "stdout",
     "output_type": "stream",
     "text": [
      "스트라이드의 값 (160, 40, 8)\n"
     ]
    }
   ],
   "source": [
    "# 실제 저장은 일렬로 , 사람이 데이터를 다루는 것은 입체로 다루기때문에 스트라이드 값을 구한다.\n",
    "\n",
    "print(\"스트라이드의 값\", np.ones((3,4,5), dtype=np.float64).strides) #3면 4행 5열의 형태이다.\n",
    "\n",
    "#160,40,8  이 나왔다  -> 8이 나오는 이유 : 단일데이터가 float64 니까 8byte 이다. 8바이트를 가야 다음데이터가 있다.\n",
    "                    # 한 행을 지나가려면 5개를 지나가야 다음 행이 나온다. 5*8=40\n",
    "                # 다음 면을 지나가려면 5열을 지나고 4행을 지나가야 하므로 5*4*8\n",
    "        \n",
    "               # 총 160*3 (3면) = 480 바이트"
   ]
  },
  {
   "cell_type": "code",
   "execution_count": null,
   "metadata": {},
   "outputs": [],
   "source": [
    "# 나중에 행렬연산에서 앞의 행렬열수와 뒤의 행렬의 행수를 일치 시켜야 행렬곱이 가능하다.\n",
    "# 행렬곱에서 행렬 앞뒤를 바꾸면 안된다. \n"
   ]
  },
  {
   "cell_type": "code",
   "execution_count": 36,
   "metadata": {},
   "outputs": [
    {
     "name": "stdout",
     "output_type": "stream",
     "text": [
      "[[[ 1  2  3]\n",
      "  [ 4  5  6]]\n",
      "\n",
      " [[ 7  8  9]\n",
      "  [10 11 12]]]\n",
      "첫면 [[1 2 3]\n",
      " [4 5 6]]\n",
      "첫맨 첫행은 = [1 2 3]\n",
      "첫면 첫행, 첫요소는 =  1\n",
      "8\n",
      "12\n"
     ]
    }
   ],
   "source": [
    "#문제\n",
    "arr3d = np.array([[[1,2,3],[4,5,6]],[[7,8,9],[10,11,12]]]) # 이것은 면이 2개, 행이 2개, 열이 3개 (2,2,3)\n",
    "print(arr3d)\n",
    "\n",
    "print(\"첫면\",arr3d[0])  # 0번 면\n",
    "print(\"첫맨 첫행은 =\", arr3d[0][0])\n",
    "print(\"첫면 첫행, 첫요소는 = \",arr3d[0][0][0])\n",
    "\n",
    "## 그럼 8을 출력해보시오\n",
    "print(arr3d[1][0][1])\n",
    "## 12를출력하라\n",
    "print(arr3d[1][1][2])  #2번째면, 1행, 마지막 요소 "
   ]
  },
  {
   "cell_type": "code",
   "execution_count": 38,
   "metadata": {},
   "outputs": [
    {
     "name": "stdout",
     "output_type": "stream",
     "text": [
      "값의 변경후\n",
      "[[[42 42 42]\n",
      "  [42 42 42]]\n",
      "\n",
      " [[ 7  8  9]\n",
      "  [10 11 12]]]\n",
      "이전 값으로 복구\n",
      "[[[42 42 42]\n",
      "  [42 42 42]]\n",
      "\n",
      " [[ 7  8  9]\n",
      "  [10 11 12]]]\n"
     ]
    }
   ],
   "source": [
    "\n",
    "old_values=arr3d  # 대입하고있다. 대입하면 주소를 복사한다. (대입하면 같은 주소를 가리키기 때문에)\n",
    "arr3d[0]=42 #0번면을 42로 바꿨다. \n",
    "print(\"값의 변경후\")\n",
    "print(arr3d)\n",
    "print(\"이전 값으로 복구\")\n",
    "arr3d=old_values\n",
    "print(arr3d) # 복구가 안된다. 그 이유는 ? old_value 와 arr3d 가 같은 주소이므로 값을 바꿔봐도 이전값으로 복구가 안된다. \n",
    "            # 즉 백업이 안된다. "
   ]
  },
  {
   "cell_type": "code",
   "execution_count": 39,
   "metadata": {},
   "outputs": [
    {
     "name": "stdout",
     "output_type": "stream",
     "text": [
      "값의 변경후\n",
      "[[[42 42 42]\n",
      "  [42 42 42]]\n",
      "\n",
      " [[ 7  8  9]\n",
      "  [10 11 12]]]\n",
      "이전 값으로 복구\n",
      "[[[ 1  2  3]\n",
      "  [ 4  5  6]]\n",
      "\n",
      " [[ 7  8  9]\n",
      "  [10 11 12]]]\n"
     ]
    }
   ],
   "source": [
    "# 백업이 안되므로 쓰는 함수 -> copy\n",
    "arr3d = np.array([[[1,2,3],[4,5,6]],[[7,8,9],[10,11,12]]])\n",
    "old_values = arr3d.copy() \n",
    "arr3d[0]=42\n",
    "print(\"값의 변경후\")\n",
    "print(arr3d)\n",
    "print(\"이전 값으로 복구\")\n",
    "arr3d=old_values\n",
    "print(arr3d)"
   ]
  },
  {
   "cell_type": "code",
   "execution_count": 41,
   "metadata": {},
   "outputs": [
    {
     "name": "stdout",
     "output_type": "stream",
     "text": [
      "[ 0  1  2  3  4  5  6  7  8  9 10 11 12 13 14 15 16 17 18 19 20 21 22 23\n",
      " 24 25 26 27 28 29 30 31 32 33 34 35]\n",
      "[[[ 0  1  2  3  4  5]\n",
      "  [ 6  7  8  9 10 11]\n",
      "  [12 13 14 15 16 17]]\n",
      "\n",
      " [[18 19 20 21 22 23]\n",
      "  [24 25 26 27 28 29]\n",
      "  [30 31 32 33 34 35]]]\n"
     ]
    }
   ],
   "source": [
    "Z = np.arange(36) #36개 데이터 만들었다. \n",
    "print(Z)\n",
    "\n",
    "Z = Z.reshape((6,6))  # 6x6 으로 바꿨다. \n",
    "reshape2 = Z.reshape((2,3,6))  #2,3,6으로 변경했다. (이런식으로 바꾸는 것을 가능하게 하는 함수가 reshape 함수이다)\n",
    "print(reshape2)\n"
   ]
  },
  {
   "cell_type": "code",
   "execution_count": 47,
   "metadata": {
    "scrolled": true
   },
   "outputs": [
    {
     "name": "stdout",
     "output_type": "stream",
     "text": [
      "[[ 0  1  2  3]\n",
      " [ 4  5  6  7]\n",
      " [ 8  9 10 11]\n",
      " [12 13 14 15]\n",
      " [16 17 18 19]\n",
      " [20 21 22 23]\n",
      " [24 25 26 27]\n",
      " [28 29 30 31]]\n",
      "[[ 4  5  6  7]\n",
      " [20 21 22 23]\n",
      " [28 29 30 31]\n",
      " [ 8  9 10 11]]\n",
      "\n",
      "[[28 29 30 31]\n",
      " [12 13 14 15]\n",
      " [ 4  5  6  7]\n",
      " [24 25 26 27]]\n",
      "\n",
      "[ 4 23 29 10]\n"
     ]
    }
   ],
   "source": [
    "arr = np.arange(32).reshape((8,4))\n",
    "print(arr)\n",
    "print(arr[[1,5,7,2]])  # 행중심\n",
    "print() \n",
    "print(arr[[-1,-5,-7,-2]])    # 거꾸로 인덱싱\n",
    "print()\n",
    "print(arr[[1,5,7,2],[0,3,1,2]])  \n",
    "\n"
   ]
  },
  {
   "cell_type": "code",
   "execution_count": 48,
   "metadata": {},
   "outputs": [
    {
     "name": "stdout",
     "output_type": "stream",
     "text": [
      "[[ 4  5  6  7]\n",
      " [ 8  9 10 11]\n",
      " [20 21 22 23]\n",
      " [28 29 30 31]]\n",
      "\n",
      "[[ 4  7  5  6]\n",
      " [20 23 21 22]\n",
      " [28 31 29 30]\n",
      " [ 8 11  9 10]]\n"
     ]
    }
   ],
   "source": [
    "# fancy 인덱싱\n",
    "print(arr[[1,2,5,7]][:,[0,1,2,3]])  #1,2,5,7행을 출력하고, 그것의 전체에 대해서 (:을 썼음) 0번행,1번행,2번행,3번행을 출력한다. \n",
    "print()\n",
    "print(arr[[1,5,7,2]][:,[0,3,1,2]])"
   ]
  },
  {
   "cell_type": "code",
   "execution_count": 52,
   "metadata": {},
   "outputs": [
    {
     "data": {
      "text/plain": [
       "array([ 0,  1,  2,  3,  4,  5,  6,  7,  8,  9, 10, 11, 12, 13, 14, 15, 16,\n",
       "       17, 18, 19, 20, 21, 22, 23, 24, 25, 26, 27, 28, 29, 30, 31, 32, 33,\n",
       "       34, 35, 36, 37, 38, 39, 40, 41, 42, 43, 44, 45, 46, 47, 48, 49, 50,\n",
       "       51, 52, 53, 54, 55])"
      ]
     },
     "execution_count": 52,
     "metadata": {},
     "output_type": "execute_result"
    }
   ],
   "source": [
    "#문제  0~25+30~55 로 만들기 ( 이중 for 문 이용하라 ) \n"
   ]
  },
  {
   "cell_type": "code",
   "execution_count": 56,
   "metadata": {},
   "outputs": [
    {
     "name": "stdout",
     "output_type": "stream",
     "text": [
      "[[0, 1, 2, 3, 4, 5], [10, 11, 12, 13, 14, 15], [20, 21, 22, 23, 24, 25], [30, 31, 32, 33, 34, 35], [40, 41, 42, 43, 44, 45], [50, 51, 52, 53, 54, 55]]\n",
      "[[ 0  1  2  3  4  5]\n",
      " [10 11 12 13 14 15]\n",
      " [20 21 22 23 24 25]\n",
      " [30 31 32 33 34 35]\n",
      " [40 41 42 43 44 45]\n",
      " [50 51 52 53 54 55]]\n"
     ]
    }
   ],
   "source": [
    "arr=[]     #성적 프로그램 하는 것이랑 비슷 \n",
    "for i in range(6):\n",
    "    ad=[]\n",
    "    for j in range(6):\n",
    "        ad.append(i*10 + j)\n",
    "    arr.append(ad)\n",
    "print(arr)\n",
    "\n",
    "arr=np.array(arr)\n",
    "print(arr)"
   ]
  },
  {
   "cell_type": "code",
   "execution_count": 84,
   "metadata": {},
   "outputs": [
    {
     "name": "stdout",
     "output_type": "stream",
     "text": [
      "주황색 [ 1 12 23 34 45]\n",
      "\n",
      "빨간색 [ 2 22 52]\n",
      "\n",
      "하늘색 [[30 32 35]\n",
      " [40 42 45]\n",
      " [50 52 55]]\n",
      "하늘색 [[30 32 35]\n",
      " [40 42 45]\n",
      " [50 52 55]]\n"
     ]
    }
   ],
   "source": [
    "print(\"주황색\",arr[[0,1,2,3,4],[1,2,3,4,5]])\n",
    "print()\n",
    "print('빨간색',arr[[0,2,5],[2]])     \n",
    "# print(arr[[0,2,5],2])\n",
    "print()\n",
    "print(\"하늘색\",arr[[3,4,5]][:,[0,2,5]]) \n",
    "# print(\"하늘색\",arr[3:6][:,[0,2,5]])  "
   ]
  },
  {
   "cell_type": "code",
   "execution_count": 94,
   "metadata": {},
   "outputs": [
    {
     "name": "stdout",
     "output_type": "stream",
     "text": [
      "빨간색 [ 2 12 22 32 42 52]\n",
      "빨강색 [ 2 12 22 32 42 52]\n"
     ]
    }
   ],
   "source": [
    "# 사진 참고\n",
    "print(\"빨간색\",arr[[0,1,2,3,4,5],[2]])\n",
    "# 선생님 답 \n",
    "print(\"빨강색\",arr[:,2])  # 전체에 대해 2열만"
   ]
  },
  {
   "cell_type": "code",
   "execution_count": 98,
   "metadata": {},
   "outputs": [
    {
     "name": "stdout",
     "output_type": "stream",
     "text": [
      "주황색 [3 4]\n",
      "녹색 [[20 22 24]\n",
      " [40 42 44]]\n",
      "green= [[44 45]\n",
      " [54 55]]\n"
     ]
    }
   ],
   "source": [
    "# 선생님답\n",
    "print(\"주황색\",arr[0,[3,4]])\n",
    "print(\"녹색\",arr[[2,4]][:,[0,2,4]])  # 2행 4열 전체뽑고, 전체에 대해서 0,2,4,열 뽑느다. arr[[2,4]] 인것을 주목한다!! 끝난것이다!\n",
    "print(\"green=\",arr[4:][:,[4,5]])"
   ]
  },
  {
   "cell_type": "code",
   "execution_count": 105,
   "metadata": {},
   "outputs": [
    {
     "name": "stdout",
     "output_type": "stream",
     "text": [
      "타일출력\n",
      "[[1 0 1]\n",
      " [1 0 1]\n",
      " [1 0 1]\n",
      " [1 0 1]]\n",
      "[[ 2  2  4]\n",
      " [ 5  5  7]\n",
      " [ 8  8 10]\n",
      " [11 11 13]]\n"
     ]
    },
    {
     "data": {
      "text/plain": [
       "array([[ 4,  5,  6],\n",
       "       [ 7,  8,  9],\n",
       "       [10, 11, 12],\n",
       "       [13, 14, 15]])"
      ]
     },
     "execution_count": 105,
     "metadata": {},
     "output_type": "execute_result"
    }
   ],
   "source": [
    "x=np.array([[1,2,3],[4,5,6],[7,8,9],[10,11,12]])  # 4x3 행렬이다.\n",
    "#[1,2,3]\n",
    "#[4,5,6]\n",
    "#[7,8,9]\n",
    "#[10,11,12]  이렇게 나온다는 것을 알아야한다!! 반대로도 알아야한다!!\n",
    "v=np.array([1,0,1])\n",
    "\n",
    "print(\"타일출력\")\n",
    "vv=np.tile(v,(4,1))\n",
    "#[1 0 1]\n",
    "#[1 0 1]\n",
    "#[1 0 1]\n",
    "#[1 0 1]  가 된다. (4x3의 꼴이다)\n",
    "\n",
    "print(vv)\n",
    "y=x+vv # 4x3 과 4x3 을 연산하고 있다. #요소별로 연산된다. (요소별 연산할때는 + - * / 를 사용한다. )\n",
    "print(y)\n",
    "\n",
    "x+v  # x는 4x3 , v 는 1x3  -> 모양이 안맞지만 더하기 된다 -> 이것을 broadcasting 이라고 한다. \n",
    "                 # broadcasting =(1x3 을 자동으로 4번 돌리면서 연산함) ==> 즉 배열연산을 할 때는 양쪽 차원이 일치해야한다. \n",
    "x+3"
   ]
  },
  {
   "cell_type": "code",
   "execution_count": 117,
   "metadata": {},
   "outputs": [
    {
     "name": "stdout",
     "output_type": "stream",
     "text": [
      "[[0 1]\n",
      " [2 3]\n",
      " [4 5]]\n"
     ]
    },
    {
     "ename": "ValueError",
     "evalue": "matmul: Input operand 1 has a mismatch in its core dimension 0, with gufunc signature (n?,k),(k,m?)->(n?,m?) (size 3 is different from 2)",
     "output_type": "error",
     "traceback": [
      "\u001b[1;31m---------------------------------------------------------------------------\u001b[0m",
      "\u001b[1;31mValueError\u001b[0m                                Traceback (most recent call last)",
      "\u001b[1;32m<ipython-input-117-97b6be61932b>\u001b[0m in \u001b[0;36m<module>\u001b[1;34m\u001b[0m\n\u001b[0;32m      3\u001b[0m \u001b[1;31m# x 는 3x2 행렬인데 거듭제곱을 하고 싶다\u001b[0m\u001b[1;33m\u001b[0m\u001b[1;33m\u001b[0m\u001b[1;33m\u001b[0m\u001b[0m\n\u001b[0;32m      4\u001b[0m \u001b[1;31m# 행렬끼리 곱을 할 때는 x@x 로 표현한다.  요소별연산을 할 때는 * 를 이용한다.\u001b[0m\u001b[1;33m\u001b[0m\u001b[1;33m\u001b[0m\u001b[1;33m\u001b[0m\u001b[0m\n\u001b[1;32m----> 5\u001b[1;33m \u001b[0mx\u001b[0m\u001b[1;33m@\u001b[0m\u001b[0mx\u001b[0m  \u001b[1;31m# error 가 난다. why? 앞의 행렬 열수와 뒤의 행렬의 행 수가 일치해야 한다.\u001b[0m\u001b[1;33m\u001b[0m\u001b[1;33m\u001b[0m\u001b[0m\n\u001b[0m\u001b[0;32m      6\u001b[0m \u001b[1;31m# 3x2  3x2 이므로 안 맞다.\u001b[0m\u001b[1;33m\u001b[0m\u001b[1;33m\u001b[0m\u001b[1;33m\u001b[0m\u001b[0m\n",
      "\u001b[1;31mValueError\u001b[0m: matmul: Input operand 1 has a mismatch in its core dimension 0, with gufunc signature (n?,k),(k,m?)->(n?,m?) (size 3 is different from 2)"
     ]
    }
   ],
   "source": [
    "x=np.arange(6).reshape((3,2))\n",
    "print(x)        \n",
    "# x 는 3x2 행렬인데 거듭제곱을 하고 싶다 \n",
    "# 행렬끼리 곱을 할 때는 x@x 로 표현한다.  요소별연산을 할 때는 * 를 이용한다. \n",
    "x@x  # error 가 난다. why? 앞의 행렬 열수와 뒤의 행렬의 행 수가 일치해야 한다.\n",
    "# 3x2  3x2 이므로 안 맞다.  \n"
   ]
  },
  {
   "cell_type": "code",
   "execution_count": 114,
   "metadata": {},
   "outputs": [
    {
     "data": {
      "text/plain": [
       "array([[ 1,  3,  5],\n",
       "       [ 3, 13, 23],\n",
       "       [ 5, 23, 41]])"
      ]
     },
     "execution_count": 114,
     "metadata": {},
     "output_type": "execute_result"
    }
   ],
   "source": [
    "# 전치행렬을 사용하면 곱할 수 있다. \n",
    "x@x.T   # 3x2  2X3 --> 3 x 3"
   ]
  },
  {
   "cell_type": "code",
   "execution_count": 116,
   "metadata": {},
   "outputs": [
    {
     "name": "stdout",
     "output_type": "stream",
     "text": [
      "[[0 2 4]\n",
      " [1 3 5]]\n"
     ]
    }
   ],
   "source": [
    "print(np.transpose(x))"
   ]
  },
  {
   "cell_type": "code",
   "execution_count": 123,
   "metadata": {},
   "outputs": [
    {
     "name": "stdout",
     "output_type": "stream",
     "text": [
      "[[[ 0  1  2  3]\n",
      "  [ 4  5  6  7]\n",
      "  [ 8  9 10 11]]\n",
      "\n",
      " [[12 13 14 15]\n",
      "  [16 17 18 19]\n",
      "  [20 21 22 23]]]\n",
      "\n",
      "\n",
      "\n",
      "[[[ 0  1  2  3]\n",
      "  [12 13 14 15]]\n",
      "\n",
      " [[ 4  5  6  7]\n",
      "  [16 17 18 19]]\n",
      "\n",
      " [[ 8  9 10 11]\n",
      "  [20 21 22 23]]]\n",
      "\n",
      "\n",
      "\n",
      "[[[ 0  4  8]\n",
      "  [ 1  5  9]\n",
      "  [ 2  6 10]\n",
      "  [ 3  7 11]]\n",
      "\n",
      " [[12 16 20]\n",
      "  [13 17 21]\n",
      "  [14 18 22]\n",
      "  [15 19 23]]]\n"
     ]
    }
   ],
   "source": [
    "arr = np.arange(24).reshape((2,3,4)) #2면, 3행, 4열의 꼴이다. \n",
    "print(arr)\n",
    "print()\n",
    "print()\n",
    "print()\n",
    "print(arr.transpose((1,0,2)))  #1,0,2 로 transpose 해라 ! -> 면과 행을 바꾸라는 뜻 !! -> 3면 2행 4열 (3x2x4)\n",
    "print()\n",
    "print()\n",
    "print()\n",
    "print(arr.transpose((0,2,1))) # 2x4x3 "
   ]
  },
  {
   "cell_type": "code",
   "execution_count": 130,
   "metadata": {},
   "outputs": [
    {
     "name": "stdout",
     "output_type": "stream",
     "text": [
      "[ True False False False False False False]\n",
      "[[ 1.20010413 -0.09920369 -1.85381315  0.75547707]]\n",
      "[[-1.85381315  0.75547707]]\n",
      "[0.75547707]\n",
      "[False  True  True  True  True  True  True]\n",
      "[False  True  True  True  True  True  True]\n",
      "[ True False  True False  True False False]\n",
      "[[ 1.20010413 -0.09920369 -1.85381315  0.75547707]\n",
      " [-0.85105341 -1.04428179  1.57114059 -0.40969879]\n",
      " [-1.13463821  1.070798    0.25537509 -0.01752056]]\n"
     ]
    }
   ],
   "source": [
    "# Boolean indexing (True/False)\n",
    "names = np.array(['Seoul','Daejun','chungju','seoul','chungju','Daejun','Daejun'])\n",
    "data = np.random.randn(7,4)\n",
    "print(names=='Seoul')  #문자열 대소문자 구별한다! #1,0,0,0,0,0,0  이다. \n",
    "\n",
    "print(data[names=='Seoul'])  #0번행을 출력하라는 의미이다. (이런게 boolean indexing 이다)\n",
    "\n",
    "print(data[names=='Seoul',2:]) # 첫번쩅에서 2번째부터 끝까지\n",
    "print(data[names=='Seoul',3]) \n",
    "print(names != 'Seoul') # 같지않는것 으로 0,1,1,1,1,1,1 이 된다. \n",
    "print(~(names=='Seoul')) # ~은 전체에 대해 부정하는 것이다. 즉 서울이 아닌 것->  위의 != 과 같은 의미이다. \n",
    "mask = (names == 'Seoul') | (names=='chungju') # 충주와 서울 출력하라.\n",
    "print(mask)\n",
    "print(data[mask])  # 충주와 서울이니까 3행이 출력된다. "
   ]
  },
  {
   "cell_type": "code",
   "execution_count": 134,
   "metadata": {},
   "outputs": [
    {
     "name": "stdout",
     "output_type": "stream",
     "text": [
      "<zip object at 0x0000027C4F3DF108>\n",
      "[(1.1, 2.1, True), (1.2, 2.2, False), (1.3, 2.3, True), (1.4, 2.4, True), (1.5, 2.5, False)]\n",
      "result =  [1.1, 2.2, 1.3, 1.4, 2.5]\n",
      "[1.1 2.2 1.3 1.4 2.5]\n"
     ]
    }
   ],
   "source": [
    "xarr = np.array([1.1, 1.2, 1.3, 1.4, 1.5])\n",
    "yarr = np.array([2.1, 2.2, 2.3, 2.4, 2.5])\n",
    "cond = np.array([True, False, True, True, False])\n",
    "print(zip(xarr,yarr,cond))  # zip 은 요소별로 데이터를 묶는 것이다. \n",
    "print(list(zip(xarr,yarr,cond))) # zip 을 한다고 인쇄가 안되므로 리스트로 바꿔준다. \n",
    "result = [(x if c else y) for x,y,c in zip(xarr,yarr,cond)] # x가 true 이면 c, false 이면 y   \n",
    "print(\"result = \",result)\n",
    "# 위를 넘파이의 where 문으로 표현하면?\n",
    "result = np.where(cond,xarr,yarr)  #cond 에 따라서 참이면 xarr 이 출력, 거짓이면 yarr 이 출력된다는 의미이다\n",
    "print(result)"
   ]
  },
  {
   "cell_type": "code",
   "execution_count": 135,
   "metadata": {},
   "outputs": [
    {
     "name": "stdout",
     "output_type": "stream",
     "text": [
      "[[ 0.21972271 -1.0856261  -1.7840051  -1.5374371 ]\n",
      " [ 1.56095615 -0.56188747  0.34815711 -2.26040007]\n",
      " [ 1.92204541  1.46221947 -0.71485167  0.05664753]\n",
      " [ 1.37762273 -0.44793211 -0.2261687   0.75640118]]\n",
      "[[ 2 -2 -2 -2]\n",
      " [ 2 -2  2 -2]\n",
      " [ 2  2 -2  2]\n",
      " [ 2 -2 -2  2]]\n"
     ]
    }
   ],
   "source": [
    "# random 난수 정규분포에서 출력 (16개 출력) \n",
    "arr = np.random.randn(4,4) # 4x4 로 되어있는 데이터를 \n",
    "print(arr)\n",
    "print(np.where(arr>0,2,-2)) # 2,-2 로 구성된 데이터로 바꿀 수 있다. "
   ]
  },
  {
   "cell_type": "code",
   "execution_count": null,
   "metadata": {},
   "outputs": [],
   "source": [
    "# 문제 ) 다음데이터를 이용하여 두개 다 참일때는 0, cond1 이 참일때는 1, cond2 가 참일때는 2\n",
    "#       그 외일때는 3으로 처리하여 출력하라\n",
    "#0,1,2,3\n",
    "# 조건문으로 풀면 4가지 경우를확인하면 되고, where 로 하면 3번을 쓰면 된다"
   ]
  },
  {
   "cell_type": "code",
   "execution_count": 138,
   "metadata": {},
   "outputs": [],
   "source": [
    "result = []\n",
    "cond1 = np.array([1,0,1,1,0,0,1],dtype=bool)\n",
    "cond2 = np.array([0,1,1,1,0,1,1],dtype=bool)"
   ]
  },
  {
   "cell_type": "code",
   "execution_count": 142,
   "metadata": {},
   "outputs": [
    {
     "name": "stdout",
     "output_type": "stream",
     "text": [
      "[1 2 0 0 3 2 0]\n"
     ]
    }
   ],
   "source": [
    "# 내가 쓴 답\n",
    "print(np.where(cond1>0,np.where(cond2>0,0,1),np.where(cond2>0,2,3)))"
   ]
  },
  {
   "cell_type": "code",
   "execution_count": 147,
   "metadata": {},
   "outputs": [
    {
     "name": "stdout",
     "output_type": "stream",
     "text": [
      "조건문 [1, 2, 0, 0, 3, 2, 0]\n"
     ]
    }
   ],
   "source": [
    "result=[]\n",
    "# 선생님 답\n",
    "for i in range(len(cond1)):\n",
    "    if(cond1[i] and cond2[i]):\n",
    "        result.append(0)\n",
    "    elif cond1[i]:\n",
    "        result.append(1)\n",
    "    elif cond2[i]:\n",
    "        result.append(2)\n",
    "    else:\n",
    "        result.append(3)\n",
    "    \n",
    "print(\"조건문\",result)"
   ]
  },
  {
   "cell_type": "code",
   "execution_count": 149,
   "metadata": {},
   "outputs": [
    {
     "name": "stdout",
     "output_type": "stream",
     "text": [
      "3항연산자 [1 2 0 0 3 2 0]\n"
     ]
    }
   ],
   "source": [
    "#선생님답\n",
    "result=np.where(cond1&cond2,0,np.where(cond1,1,np.where(cond2,2,3)))\n",
    "print(\"3항연산자\",result)"
   ]
  },
  {
   "cell_type": "code",
   "execution_count": 151,
   "metadata": {},
   "outputs": [
    {
     "name": "stdout",
     "output_type": "stream",
     "text": [
      "수식을 이용한 [1 2 0 0 3 2 0]\n"
     ]
    }
   ],
   "source": [
    "# 서ㅏㄴ생님답\n",
    "result = 1* (cond1& ~cond2) + 2*(cond2&~cond1) + 3*~(cond1 | cond2)  \n",
    "#cond1은 참, cond2 가 거짓이면 1을 곱하고, cond2 만 참이면 2를 곱하면 cond1,cond 둘다 아니면 3을 곱해라  그리고 1,2,3 외에 나머지는 0\n",
    "print(\"수식을 이용한\",result)"
   ]
  },
  {
   "cell_type": "code",
   "execution_count": 153,
   "metadata": {},
   "outputs": [],
   "source": [
    "x = np.arange(1,10001)\n",
    "y = np.arange(10001,20001)\n",
    "\n",
    "z= np.zeros_like(x)  # zeros_like 는 다른 행렬과 같은 사이즈로 초기화 시켜주는 것이다. \n",
    "                     #(x와 같은 놈이 필요할때 이렇게 쓴다)-> x와 같은 사이즈를 만들어주고, 0으로 초기화함\n",
    "                     # 1로 초기화할거면 ones 라고 쓴다. \n",
    "for i in range(10000):\n",
    "    z[i] = x[i] + y[i]"
   ]
  },
  {
   "cell_type": "code",
   "execution_count": 158,
   "metadata": {},
   "outputs": [
    {
     "name": "stdout",
     "output_type": "stream",
     "text": [
      "False\n",
      "True\n",
      "[ 2.71828183  7.3890561  20.08553692 54.59815003]\n"
     ]
    }
   ],
   "source": [
    "a= np.array([1,2,3,4])\n",
    "b=np.array([4,2,2,4])\n",
    "print(np.all(a==b))    #전체가 참일때 참\n",
    "print(np.any(a==b))         # 하나라도 참이면 참\n",
    "print(np.exp(a))  #지수함수(자연대수 : 2.718)\n"
   ]
  },
  {
   "cell_type": "code",
   "execution_count": null,
   "metadata": {},
   "outputs": [],
   "source": []
  },
  {
   "cell_type": "code",
   "execution_count": null,
   "metadata": {},
   "outputs": [],
   "source": []
  },
  {
   "cell_type": "code",
   "execution_count": 160,
   "metadata": {},
   "outputs": [],
   "source": [
    "# 선형대수 : 선형으로 해결하자 -> 비선형도 잘게 나누면 선형"
   ]
  },
  {
   "cell_type": "code",
   "execution_count": 161,
   "metadata": {},
   "outputs": [],
   "source": [
    "# 내적, 외적, 코사인사이각 , 내적유사도 "
   ]
  },
  {
   "cell_type": "code",
   "execution_count": 184,
   "metadata": {},
   "outputs": [],
   "source": [
    "# 싸인 코사인 : 각도, 주기문제"
   ]
  },
  {
   "cell_type": "code",
   "execution_count": null,
   "metadata": {},
   "outputs": [],
   "source": [
    "# 푸리변환 fft\n",
    "# cos세타 의미는 꼭 알자. \n",
    "# 각도를 라디언으로 바꿔줘야한다. (라디언  : 호의 길이로 각도를 표현 ) \n",
    "#내적 : 두벡터의 사이각  (의미만 알자. 함수가 다 구해준다.)\n",
    "\n",
    "#고유값분해 -0ㅔ> 음성인식"
   ]
  },
  {
   "cell_type": "code",
   "execution_count": null,
   "metadata": {},
   "outputs": [],
   "source": [
    "# 고유값 분해 (정방행렬,대칭행렬인 곳에 쓰인다.)\n",
    "# SVO (특이행렬분해 , 특징추출하는데 쓰인다)\n",
    "\n",
    "# 상관분석 : 공분산 ,상관계수 중요"
   ]
  },
  {
   "cell_type": "code",
   "execution_count": null,
   "metadata": {},
   "outputs": [],
   "source": [
    "# 주성분분석 : 잡음을 걸러내기 위해 쓰는것 \n",
    " "
   ]
  },
  {
   "cell_type": "code",
   "execution_count": null,
   "metadata": {},
   "outputs": [],
   "source": []
  },
  {
   "cell_type": "code",
   "execution_count": null,
   "metadata": {},
   "outputs": [],
   "source": [
    "# ndarray(vector, matrix, tensor) "
   ]
  },
  {
   "cell_type": "code",
   "execution_count": null,
   "metadata": {},
   "outputs": [],
   "source": [
    "# 벡터에서 크기, 방향을 알아야한다. \n",
    "# 2개의 벡터간에 거리를 구하라하면 : 피타고라스 정리 \n",
    "# 2개의 방향 구하려면 : 내적이용\n",
    "\n",
    "# 벡터를 여러개 모은 것 = matrix\n",
    "# 벡터에 멕트릭스를 곱한다 -> 공간을 변환한다.\n",
    "# 멕트릭스 x 멕트릭스 -> 변환의 합이다. \n",
    "\n",
    "# 특징, 추출을 어떻게 하는 가?\n",
    "# 앞에 있는 행렬  4x5 , 뒤에 있는 행렬 5x2 라고 하자.  -> 곱하면 4 x 2  (변수가 2개가 됨 ) 즉 5개의 변수가 2개로 특징 추출된 것이다.\n",
    "# 행렬을 곱하기만 해도 특징, 추출이 되는 것이다.!!!! \n",
    "#  \n",
    "## 시각화 할떄 차원축소, 뭔가 의사결정을 할 땐 특징 추출하고 차원축소한다고 생각하자. "
   ]
  },
  {
   "cell_type": "code",
   "execution_count": null,
   "metadata": {},
   "outputs": [],
   "source": [
    "#사진\n",
    "#scaling : k 값만 변환해주면 된다. \n",
    "# unequal scaling \n",
    "# rotation : 역방향으로 회전시켜준다  \n",
    "# horizontal shear : k 값에 따라 찌그러진다. \n",
    "# hyperbolic rotation : 대칭을 만들어 변환하게 된다. \n",
    "\n",
    "# 즉 행렬이 하는 일은 변환이다. "
   ]
  },
  {
   "cell_type": "code",
   "execution_count": null,
   "metadata": {},
   "outputs": [],
   "source": []
  },
  {
   "cell_type": "code",
   "execution_count": 185,
   "metadata": {},
   "outputs": [],
   "source": [
    "# 행렬의 종류\n",
    "# 1. 정방행렬 : 정사각형 ( 행과 열수가 같은 행렬 ) \n",
    "# 2. 대칭행렬 : 우상단과 좌하단이 같은 것\n",
    "# 3. 대각행렬 : scale 을 변화시키는 요소 \n",
    "# 4. 단위행렬(identity) : 행렬곱의 항등원 \n",
    "#                      행렬과 역행렬을 곱하면 단위행렬이다. \n",
    "# 5. 역행렬 : 행렬의 나눗셈을 위해 구해서 곱해지는 행렬 (정방행렬만 가능) \n",
    "# 6. 특이행렬 : 역행렬이 없는 행렬\n",
    "# 7. 직교행렬 : 축의 정직교, 각축간의 내적이 0인 행렬\n",
    "\n",
    "# ** 정방행렬이면서 대칭행렬인 것 : 공분산행렬, 상관계수행렬, 거리행렬 \n",
    "# ** 공분산 : 두 수간의 관계로,  ((하나의 수 - 평균) * (다른수 - 평균))/(n-1)\n",
    "# ** 상관계수 : -1~1 사이의 값으로, 공분산/표준편차의 곱 이다. (표준화한 지표라고 생각하자) \n",
    "\n",
    "\n"
   ]
  },
  {
   "cell_type": "code",
   "execution_count": 187,
   "metadata": {},
   "outputs": [
    {
     "name": "stdout",
     "output_type": "stream",
     "text": [
      "[[1 2]\n",
      " [3 4]]\n",
      "\n",
      "[[2 2]\n",
      " [2 2]]\n",
      "\n",
      "[[3 4]\n",
      " [5 6]]\n",
      "\n",
      "[[2 4]\n",
      " [6 8]]\n",
      "\n",
      "[[ 6  6]\n",
      " [14 14]]\n"
     ]
    }
   ],
   "source": [
    "import numpy as np\n",
    "F1 = np.array([[1,2],[3,4]]) # 2x2 행렬\n",
    "F2 = np.array([[2,2],[2,2]]) # 2x2 행렬\n",
    "print(F1)\n",
    "print()\n",
    "print(F2)\n",
    "print()\n",
    "print(F1 + F2 )  # 요소끼리 합\n",
    "print()\n",
    "print(F1 * F2 )  # 요소끼리 곱\n",
    "print()\n",
    "print( F1 @ F2)  # 행렬끼리의 곱 (행열곱도 내적) \n",
    "\n"
   ]
  },
  {
   "cell_type": "code",
   "execution_count": null,
   "metadata": {},
   "outputs": [],
   "source": [
    "# 방정식의 해\n",
    "# 2 x1 + x2 - 2 x 3 = -3\n",
    "# 3 x1 +      2 x 3 = 5\n",
    "#   x1 + x2-    x 3 = -2 "
   ]
  },
  {
   "cell_type": "code",
   "execution_count": 212,
   "metadata": {},
   "outputs": [
    {
     "name": "stdout",
     "output_type": "stream",
     "text": [
      "[[ 2  1 -2]\n",
      " [ 3  0  1]\n",
      " [ 1  1 -1]]\n",
      "[[-3]\n",
      " [ 5]\n",
      " [-2]]\n"
     ]
    }
   ],
   "source": [
    "A = np.array([[2,1,-2],[3,0,1],[1,1,-1]])\n",
    "print(A)\n",
    "b = np.transpose(np.array([[-3,5,-2]]))  # 열로 전치\n",
    "print(b)\n",
    "             \n"
   ]
  },
  {
   "cell_type": "code",
   "execution_count": 196,
   "metadata": {},
   "outputs": [
    {
     "name": "stdout",
     "output_type": "stream",
     "text": [
      "[[ 1.]\n",
      " [-1.]\n",
      " [ 2.]]\n",
      "[[ 1.]\n",
      " [-1.]\n",
      " [ 2.]]\n",
      "[[ 1.]\n",
      " [-1.]\n",
      " [ 2.]]\n"
     ]
    }
   ],
   "source": [
    "#3개다 같다. \n",
    "\n",
    "x= np.linalg.solve(A,b)  # A 의 역행렬을 구해서 b와 구해줌  \n",
    "print(x)\n",
    "\n",
    "# 2개의 행렬곱을 해라가  dot 이다. \n",
    "y = np.dot(np.linalg.inv(A),b)  # a 의 역행렬을 구해서 b 랑 곱한다. \n",
    "print(y)\n",
    "\n",
    "z= np.linalg.inv(A)@b   #linalg.inv =  역행렬구해준다\n",
    "print(z)\n",
    "# 왜 역행렬을 구하나 ? 행렬을 나눗셈이 없어서 역행렬을 곱해서 해결한다. "
   ]
  },
  {
   "cell_type": "code",
   "execution_count": null,
   "metadata": {},
   "outputs": [],
   "source": [
    "\n",
    "# 2 x1 + x2 - 2 x 3 = -3\n",
    "# 3 x1 +      2 x 3 = 5\n",
    "#   x1 + x2-    x 3 = -2 "
   ]
  },
  {
   "cell_type": "code",
   "execution_count": 201,
   "metadata": {},
   "outputs": [
    {
     "data": {
      "text/plain": [
       "-3"
      ]
     },
     "execution_count": 201,
     "metadata": {},
     "output_type": "execute_result"
    }
   ],
   "source": [
    "# 검산\n",
    "2*1 + (-1) - 2*2 \n",
    "# 3 x1 +      2 x 3 = 5\n",
    "#   x1 + x2-    x 3 = -2 "
   ]
  },
  {
   "cell_type": "code",
   "execution_count": 208,
   "metadata": {},
   "outputs": [
    {
     "name": "stdout",
     "output_type": "stream",
     "text": [
      "0\n"
     ]
    }
   ],
   "source": [
    "a = np.array([0,1,0]) # 이건 y 축\n",
    "b = np.array([1,0,0])  # 이건  x 축\n",
    "c = np.array([0,0,1])\n",
    "res=np.dot(a,b,c)  # 2개의 백터를 내적했음 -> 즉 내적사이각=직각\n",
    "print(res)  # 내적이 0 이면 직각이다. "
   ]
  },
  {
   "cell_type": "code",
   "execution_count": 207,
   "metadata": {},
   "outputs": [
    {
     "name": "stdout",
     "output_type": "stream",
     "text": [
      "1.0\n",
      "1.0\n",
      "1.0\n",
      "cos theta 0.0\n",
      "1.5707963267948966\n",
      "90.0\n"
     ]
    }
   ],
   "source": [
    "print(np.linalg.norm(a)) #norm 이 나타내는 의미 : 벡터의 크기값\n",
    "print(np.linalg.norm(b)) \n",
    "print(np.linalg.norm(a) * np.linalg.norm(b))\n",
    "\n",
    "rad = res / (np.linalg.norm(a) * np.linalg.norm(b)) # 코사인쎄타값이다. \n",
    "print(\"cos theta\", rad) # 라디안값이다. \n",
    "print(np.arccos(rad))  # 쎄타값을 구하기 위해서 아크코사인을 취해준다.!!\n",
    "print(np.degrees(np.arccos(rad))) # degrees 를 취하면 사람이 보는 각도가 나온다. -> 90 도 이다. "
   ]
  },
  {
   "cell_type": "code",
   "execution_count": 209,
   "metadata": {},
   "outputs": [
    {
     "name": "stdout",
     "output_type": "stream",
     "text": [
      "[[1 2]\n",
      " [3 4]]\n",
      "[[-2.   1. ]\n",
      " [ 1.5 -0.5]]\n",
      "[[1.00000000e+00 1.11022302e-16]\n",
      " [0.00000000e+00 1.00000000e+00]]\n"
     ]
    }
   ],
   "source": [
    "x = np.array([[1,2],[3,4]])\n",
    "y = np.linalg.inv(x)\n",
    "print(x)\n",
    "print(y)\n",
    "print(np.dot(x,y))  # 1.11에 -16 승이면 거의 0 이다.  "
   ]
  },
  {
   "cell_type": "code",
   "execution_count": null,
   "metadata": {},
   "outputs": [],
   "source": [
    "# 다음 방정식의 해를 구하고 검산하시요\n",
    "# x + y + z = 6 \n",
    "# 2y + 5z = -4\n",
    "# 2x + 5y -z = 27"
   ]
  },
  {
   "cell_type": "code",
   "execution_count": 214,
   "metadata": {},
   "outputs": [
    {
     "name": "stdout",
     "output_type": "stream",
     "text": [
      "[[ 6]\n",
      " [-4]\n",
      " [27]]\n"
     ]
    }
   ],
   "source": [
    "arr = np.array([[1,1,1],[0,2,5],[2,5,-1]])\n",
    "b = np.transpose(np.array([[6,-4,27]]))\n"
   ]
  },
  {
   "cell_type": "code",
   "execution_count": 216,
   "metadata": {},
   "outputs": [
    {
     "name": "stdout",
     "output_type": "stream",
     "text": [
      "[[ 5.]\n",
      " [ 3.]\n",
      " [-2.]]\n"
     ]
    }
   ],
   "source": [
    "y=np.dot(np.linalg.inv(arr),b)\n",
    "print(y)"
   ]
  },
  {
   "cell_type": "code",
   "execution_count": null,
   "metadata": {},
   "outputs": [],
   "source": []
  },
  {
   "cell_type": "code",
   "execution_count": null,
   "metadata": {},
   "outputs": [],
   "source": []
  },
  {
   "cell_type": "code",
   "execution_count": null,
   "metadata": {},
   "outputs": [],
   "source": []
  }
 ],
 "metadata": {
  "kernelspec": {
   "display_name": "Python 3",
   "language": "python",
   "name": "python3"
  },
  "language_info": {
   "codemirror_mode": {
    "name": "ipython",
    "version": 3
   },
   "file_extension": ".py",
   "mimetype": "text/x-python",
   "name": "python",
   "nbconvert_exporter": "python",
   "pygments_lexer": "ipython3",
   "version": "3.7.4"
  }
 },
 "nbformat": 4,
 "nbformat_minor": 2
}
