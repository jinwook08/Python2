{
 "cells": [
  {
   "cell_type": "markdown",
   "metadata": {},
   "source": [
    "# linux : mariadb== 리눅스에 설치되어 있고 , 서버관리자가 별로 없어 \n",
    "- 서비스 제공을 제어: systemctl\n",
    "    sysyemctl get-default : graphic mode(GUI: graphic user interface)\n",
    "        :text mode()- 서버가 서비스를 제공 그래픽 모드는 데이터가 많이 사용되기 때문에\n",
    "- 보안: firewall - cmd 방화벽\n",
    "- ip.port 포트번호는 막혀 있음\n",
    "firewall - cmd --permanet -- zone= public  -- add-port=3306/tcp\n",
    "HeidiSQL : 원격으로 mariadb 접속 작업 \n",
    "    \n",
    "## HeidiSQL은 윈도우에 있으므로 원격으로 접속 작업\n",
    "\n",
    "vi 편집기\n",
    "- 명령모드 (ESC키를 누르고 난후 치는 명령) ESC키를 누리고 dd를 누르면 한줄 삭제, yy는 복사 , p는 붙여넣기  \n",
    "- 입력모드 i(insert),a(append),o\n",
    "- 마지막행 모드 :(콜론)을치고 명령어를 쳐야한다.  :w --> 저장 :q! --> 저장하지 않고 종료 "
   ]
  },
  {
   "cell_type": "code",
   "execution_count": null,
   "metadata": {},
   "outputs": [],
   "source": []
  },
  {
   "cell_type": "code",
   "execution_count": null,
   "metadata": {},
   "outputs": [],
   "source": [
    ":"
   ]
  }
 ],
 "metadata": {
  "kernelspec": {
   "display_name": "Python 3",
   "language": "python",
   "name": "python3"
  },
  "language_info": {
   "codemirror_mode": {
    "name": "ipython",
    "version": 3
   },
   "file_extension": ".py",
   "mimetype": "text/x-python",
   "name": "python",
   "nbconvert_exporter": "python",
   "pygments_lexer": "ipython3",
   "version": "3.7.4"
  }
 },
 "nbformat": 4,
 "nbformat_minor": 2
}
