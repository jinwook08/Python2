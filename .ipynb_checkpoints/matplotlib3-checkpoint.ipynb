{
 "cells": [
  {
   "cell_type": "markdown",
   "metadata": {},
   "source": [
    "- 미분 :\n",
    "- 분산 : (sigma(관측치 -평균)^2)/n-1\n",
    "- 표준편차 : root(sigma(관측치-평균)^2/n-1)\n",
    "- 공분산 : sigma(x-xbar)(y-ybar)/n-1\n",
    "- 상관계수 : (sigma(x-xbar)(y-ybar)/n-1)/(xsigma*ysigma): -1~1\n",
    "- 벡터 거리값 : 각 요소의 차의 제곱을 루트로 구함\n",
    "- model 평가: MSE(mean square error): 연속된 수치인 경우의 평가 , RMSE(root)\n",
    "- 신경망에서 cost function 비용함수 : (예측치 - 관측치) --> back propagation (역전파를 통해서 가중치를 수정)"
   ]
  },
  {
   "cell_type": "markdown",
   "metadata": {},
   "source": [
    "# 국어, 수학, 점수 vector\n",
    "- 상관계수가 1이다 국어 점수가 높을 수록 수학점수가 낮다 \n",
    "- 내적1 이다 --> 상관계수가 1이다. \n",
    "- 그런데 내적 구하는게 상관계수 구하는것보다 쉽다 그래서 내적을 구한다. \n"
   ]
  },
  {
   "cell_type": "markdown",
   "metadata": {},
   "source": [
    "# 회귀분석, 상관분석\n",
    "\n",
    "- 회귀분석 다중공선성이(독립변수간의 영향) 있다면 종속변수가 과하게 영향을 받을 수 있음\n",
    "- 회귀분석 자기상관성(Autocorelation)이 존재: 시계열 분석을 해야한다. \n",
    "- 시계열 분석에서 가장 기초 : ARMA (Autocorelation + Moving Average) 자기상관성 오늘의 영향이 내일까지 미치는것\n",
    "    - 정산성을 뛴 데이터에만 가능\n",
    "    - 이동평균법 (주파수를 줄여줌 => 복잡하면 분석이 불가능하다.)\n",
    "    - 그러나 정상성을 뛴 데이터가 없다 따라서 비정상성을 정상성으로 바꾸어 줘야한다\n",
    "-그래서 나온게 ARIMA(Intergrated 통합 => 비정상성을 뛴 데이터에도 가능)"
   ]
  },
  {
   "cell_type": "markdown",
   "metadata": {},
   "source": [
    "- pandas 는 시계열 분석을 지원( 시간 index를 지원 )\n"
   ]
  },
  {
   "cell_type": "code",
   "execution_count": null,
   "metadata": {},
   "outputs": [],
   "source": [
    "import numpy as np\n",
    "from statistics import *\n",
    "x = np.array([7,8,9])\n",
    "y = np.array([9,10,20])\n",
    "print(y.mean())     # 통계에서는 mean 대신에 중위수(medians)  # 중위수는 이상치에 영향을 받지 않는다. \n",
    "# 공 분산 행렬 \n",
    "print('공분산',np.cov(x))\n",
    "# 상관계수 행렬 (열2, 행2:4)\n",
    "print('상관계수', np.corrcoef(x,y))"
   ]
  },
  {
   "cell_type": "code",
   "execution_count": null,
   "metadata": {},
   "outputs": [],
   "source": [
    "arr = np.array([[1,2,3],[4,5,6],[7,8,9]])\n",
    "print('원본', arr)\n",
    "print('누적합 (행)= ',arr.cumsum(0))\n",
    "print('누적곱 (열)=', arr.cumprod(1))\n",
    "print('배열의 합계 = ', arr.sum())\n",
    "print('열방향으로의 합계(행평균)= ', arr.mean(axis=1))   # 결국에는 행 합계\n",
    "print('행방으로의 합계 = ', arr.sum(axis = 0))        # 결국에는 열 합계"
   ]
  },
  {
   "cell_type": "code",
   "execution_count": null,
   "metadata": {},
   "outputs": [],
   "source": [
    "# 가중치 (변수의 중요도를 부여)\n",
    "a = np.array([1,2,3,4])\n",
    "wts = np.array([4,3,2,1])     # a 에서 1에는 4의 중요성 2에다 3의 중요성 3에서 2의 중요성 4에서 1의 중요성을 매긴다\n",
    "print(np.average(a,weights = wts))\n",
    "std = np.sqrt(np.mean(abs(a-a.mean())**2))         # 표준편차를 구하는식. \n",
    "print(np.var([1,2,3,4]))                   # 분산을 구한다\n",
    "print(np.std([1,2,3,4]))                        # 표준편차를 구한다. "
   ]
  },
  {
   "cell_type": "markdown",
   "metadata": {},
   "source": [
    "# matplotlib, seaborn, pandas. plot\n",
    "- 기본이 matplotlib로 구성되어 있다\n",
    "- 아나콘다에서는 %matplotlib inline을 사용해야 출력이 가능하다. \n"
   ]
  },
  {
   "cell_type": "code",
   "execution_count": null,
   "metadata": {},
   "outputs": [],
   "source": [
    "# matplotlib, seaborn, pandas. plot\n",
    "\n",
    "%matplotlib inline\n",
    "from numpy import mean           # 전부다 호출하지 않고 메모리 낭비를 줄일수 있음\n",
    "from numpy import std             \n",
    "from numpy.random import randn      # 넘파이의 랜덤이라는 서브 패키지 : linalg, random,/ fft(푸리에 변환), poly (다차방정식)\n",
    "from numpy.random import seed       #randon :의사 난수(데이터 출력 순서 정해짐)   # / 뒤로는 사이파이가 더 훌륭하다\n",
    "from matplotlib import pyplot             \n",
    "seed(300)      # seed가 들어가면 같은수가 발생함 \n",
    "data1 = 20*randn(1000) +100          # 정규분포에서 1000개를 발생시켜라 \n",
    "data2 = data1 + (10* randn(1000)+ 50)\n",
    "print('data1:mean = %.3f stdv = %.3f' % (mean(data1), std(data1)))    # 평균과 표준편차 출력. \n",
    "print('data2:mean = %.3f stdv = %.3f' % (mean(data2), std(data2)))\n",
    "pyplot.scatter (data1, data2)\n",
    "pyplot.show()            # 반드시 show를 호출해야한다. "
   ]
  },
  {
   "cell_type": "code",
   "execution_count": null,
   "metadata": {},
   "outputs": [],
   "source": [
    "import matplotlib.pyplot as plt\n",
    "print(plt.style.available)    # 스타일에 따라그래프가 출력되는 형태가 다르다\n"
   ]
  },
  {
   "cell_type": "code",
   "execution_count": null,
   "metadata": {},
   "outputs": [],
   "source": [
    "plt.style.use(['seaborn'])\n",
    "xs = np.random. normal(0,6,(100,6))   # 평균 = 0, 표준편차:3 100*3 데이터 생성\n",
    "plt.figure(figsize= (14,4))         # 모양을 결정\n",
    "for i in range(0,6):\n",
    "    x = xs[:, i]\n",
    "    plt.plot(range(0, len(x)), x, linewidth = 1, linestyle = '--', label = 'x_{}'.format(i))\n",
    "plt.legend()        #범례 \n",
    "plt.grid(True)\n",
    "plt.show()"
   ]
  },
  {
   "cell_type": "code",
   "execution_count": null,
   "metadata": {},
   "outputs": [],
   "source": [
    "# 화면을 분활하기\n",
    "\n",
    "fig = plt.figure()\n",
    "ax1 = fig.add_subplot(2,2,2)   # 2행 1렬중에 첫번째 놈이 첫번째에 출력되고 \n",
    "ax2 = fig.add_subplot(2,2,3)      # 2행 1렬중에 첫번째 높이 두번째에 출력\n",
    "\n",
    "x = range(0,100)\n",
    "y = [v*v for v in x]\n",
    "\n",
    "ax1.plot(x,y)\n",
    "ax2.bar(x,y)\n",
    "plt.title('plot')\n",
    "plt.show()"
   ]
  },
  {
   "cell_type": "code",
   "execution_count": null,
   "metadata": {},
   "outputs": [],
   "source": [
    "x1 = np.linspace(0.0,5.0)\n",
    "x2 = np.linspace(0.0,2.0)\n",
    "\n",
    "plt.plot(np.exp(x1), 'yo-') # 지수함수의 그래프\n",
    "plt.show()"
   ]
  },
  {
   "cell_type": "code",
   "execution_count": null,
   "metadata": {},
   "outputs": [],
   "source": [
    "y1 = np.cos(2*np.pi*x1)*np.exp(-x1)\n",
    "y2 = np.cos(2*np.pi*x2)\n",
    "\n",
    "ax1 = plt.subplot(2,1,1)\n",
    "plt.plot(x1,y1,'yo-.')       # yellow, point marking linetype\n",
    "plt.title('subplots')\n",
    "print(ax1)\n",
    "ax2 = plt.subplot(2,1,2)\n",
    "plt.plot(x2,y2,'m.-')\n",
    "plt.xlabel('time(s)')\n",
    "print(ax2)\n",
    "plt.show()"
   ]
  },
  {
   "cell_type": "code",
   "execution_count": null,
   "metadata": {},
   "outputs": [],
   "source": [
    "fig = plt.figure(figsize = (20,10))\n",
    "ax1 = fig.add_subplot(121)\n",
    "ax2 = fig.add_subplot(122)\n",
    "\n",
    "# 이산형 막대그래프  bar\n",
    "# 연속형 막대 그래프 histogran\n",
    "ax1.bar([1,2,3],[3,4,5], color = 'y')\n",
    "ax2.barh([0.5,1.2,2.5], [0,1,2])\n",
    "\n",
    "ax1.axvline(0.65)\n",
    "ax2.axhline(0.45)\n",
    "plt.tight_layout() # 여백을 줄여서 표현\n",
    "plt.show()"
   ]
  },
  {
   "cell_type": "code",
   "execution_count": null,
   "metadata": {},
   "outputs": [],
   "source": [
    "# boxplot\n",
    "# IQR (inter quantile range = 3 사분위수 - 1사분위수 )\n",
    "# IQR * +- 1.5 = 상하한선 \n",
    "np.random.seed(19680801)\n",
    "spread = np.random.rand(50)*100              # 분포데이터 \n",
    "center = np.ones(25)*50        # 중심데이터 \n",
    "filter_high = np.random.rand(10)*100 +100         # 상한선을 넘는 데이터\n",
    "filter_low = np.random.rand(10)*-100                   # 하한선을 넘는 데이타\n",
    "data = np.concatenate((spread,center,filter_high,filter_low))          # 데이터를 병합해라\n",
    "fig1,ax1 = plt.subplots()         # 형태를 제어, 도화지\n",
    "ax1.set_title('boxplot')               # 도화지에다가 타이틀을 찍고\n",
    "ax1.boxplot(data)                          # 도화지에다가 박스 프롯 그림을 그림 "
   ]
  },
  {
   "cell_type": "code",
   "execution_count": null,
   "metadata": {},
   "outputs": [],
   "source": [
    "fig2, ax2 = plt.subplots()\n",
    "ax2.set_title('Notched boxes')    # 중간에 홈이 파진다 ==> 95% 신뢰구간의 범위 \n",
    "ax2.boxplot(data,notch = True)\n"
   ]
  },
  {
   "cell_type": "code",
   "execution_count": null,
   "metadata": {},
   "outputs": [],
   "source": [
    "# vertical ,horizontal  수직의 수평의     \n",
    "red_square = dict(markerfacecolor= 'r',marker = 's')      # 마커리 red와 square로 출력해라 \n",
    "fig5, ax5 = plt.subplots()\n",
    "ax5.set_title('Horizontal')     \n",
    "ax5.boxplot(data, vert = False, flierprops = red_square) ## 이상치를 red_square로 표현해라.   #vert = False ==> 수평으로 해라"
   ]
  },
  {
   "cell_type": "code",
   "execution_count": null,
   "metadata": {},
   "outputs": [],
   "source": [
    "# meshgrid  # 그물망 격자 \n",
    "# 그래프에 수식 latex 문법\n",
    "\n",
    "points= np.arange(-5,5,0.01)        # 1000개 를 만들었엉\n",
    "xs,ys = np.meshgrid(points, points)\n",
    "z = np.sqrt(xs**2 + ys**2)\n",
    "\n",
    "plt.imshow(z, cmap = plt.cm.rainbow);  # 데이터를 이미지로 출력해라. # 애는 파레트임 \n",
    "plt.colorbar()\n",
    "plt.title('$\\sqrt{x^2+y^2}$')      # 이게 바로 latex문법이다.  나중에 찾아서 하세요 \n",
    "plt.show()"
   ]
  },
  {
   "cell_type": "code",
   "execution_count": null,
   "metadata": {},
   "outputs": [],
   "source": [
    "# 3차원 Axes3D\n",
    "\n",
    "from mpl_toolkits.mplot3d import Axes3D\n",
    "fig = plt.figure()\n",
    "ax = Axes3D(fig)\n",
    "X = np.arange(-4,4,0.25)\n",
    "Y = np.arange(-4,4,0.25)\n",
    "X,Y = np.meshgrid(X,Y)\n",
    "R = np.sqrt(X**2 + Y**2)\n",
    "Z = R\n",
    "Z = np.sin(R)\n",
    "ax.plot_surface(X,Y,Z, rstride =1 , cstride = 1, cmap = 'hot')\n",
    "plt.show()\n",
    "ax.plot_surface(X,Y,X, rstride =1 , cstride = 1, cmap = plt.cm.rainbow)\n",
    "plt.show()"
   ]
  },
  {
   "cell_type": "code",
   "execution_count": null,
   "metadata": {},
   "outputs": [],
   "source": [
    "from mpl_toolkits.mplot3d import Axes3D\n",
    "# 방정식 \n",
    "def f(x,y): return (1-x/2+x**5+y**3)* np.exp(-x**2-y**2)\n",
    "fig = plt.figure()\n",
    "ax = Axes3D(fig)\n",
    "X = np.arange(-4,4,0.25)\n",
    "Y = np.arange(-4,4,0.25)\n",
    "X,Y = np.meshgrid(X,Y)\n",
    "Z = np.sin(f(X,Y))\n",
    "\n",
    "ax.plot_surface(X,Y,Z, rstride = 1,cstride = 1, cmap = 'hot' )\n",
    "plt.show()"
   ]
  },
  {
   "cell_type": "code",
   "execution_count": null,
   "metadata": {},
   "outputs": [],
   "source": [
    "plt.contourf(X,Y,f(X,Y),40, alpha = .75, cmap = 'jet')\n",
    "plt.colorbar()\n",
    "plt.show()"
   ]
  },
  {
   "cell_type": "code",
   "execution_count": null,
   "metadata": {},
   "outputs": [],
   "source": [
    "a = [0, 0, 1, 0,\n",
    "     1, 0, 1, 0,\n",
    "     1, 1, 0, 1, \n",
    "     0, 0, 1, 0]\n",
    "np1 = np.array(a)\n",
    "print(np1)\n",
    "plt.imshow(np1.reshape(4,4), cmap = 'Greys', interpolation = 'nearest')# 보간법, 컬러값이 지정되지 않으면 보간해서 적용하라 \n",
    "plt.show()"
   ]
  },
  {
   "cell_type": "code",
   "execution_count": null,
   "metadata": {},
   "outputs": [],
   "source": [
    " # matplotlib에서는 불행하게도 한글을 지원하지 않는다. \n",
    "    \n",
    "%matplotlib inline\n",
    "from matplotlib import font_manager, rc\n",
    "import matplotlib\n",
    "import matplotlib.pyplot as plt\n",
    "plt.style.use(['classic'])\n",
    "font_path = 'C:/Windows/Fonts/H2GTRM.TTF'   # 윈도 모든 폰트가 있는 곳\n",
    "font_name = font_manager.FontProperties(fname=font_path).get_name()   # 폰트 이름을 가져온다 . \n",
    "# rc = resource configuration  폰트이름\n",
    "matplotlib.rc('font', family = font_name)    # 가져 font를 출력 한다. \n",
    "plt.plot([1,2,3,4])\n",
    "plt.xlabel('시간')\n",
    "plt.ylabel('거리')\n",
    "plt.show()"
   ]
  },
  {
   "cell_type": "code",
   "execution_count": null,
   "metadata": {},
   "outputs": [],
   "source": [
    "import matplotlib.font_manager as fm\n",
    "path = 'C:\\\\Windows\\\\Fonts\\\\NanumBarunGothic.ttf'\n",
    "fontprop = fm.FontProperties(fname = path, size = 18)\n",
    "data = np.random.randint(-100, 100, 50).cumsum()  # cumsum() # 누적 합계\n",
    "data \n",
    "plt.plot(range(50), data, 'r')\n",
    "plt.title('가격변동 추이', fontproperties = fontprop)\n",
    "plt.ylabel('가격', fontproperties = fontprop)\n",
    "plt.show()"
   ]
  },
  {
   "cell_type": "code",
   "execution_count": null,
   "metadata": {},
   "outputs": [],
   "source": [
    "\n",
    "from pylab import plt\n",
    "plt.style.use('ggplot')\n",
    "import matplotlib as mpl\n",
    "mpl.rcParams['font.family']= '바탕'\n",
    "def f(x):\n",
    "    return np.sin(x) + 0.5*x  # 주기함수 \n",
    "x = np.linspace(-2*np.pi, 2*np.pi,50)\n",
    "plt.plot(x,f(x), 'b')\n",
    "plt.grid(True)\n",
    "plt.xlabel('x')\n",
    "plt.ylabel('f(x)')"
   ]
  },
  {
   "cell_type": "code",
   "execution_count": null,
   "metadata": {},
   "outputs": [],
   "source": [
    "# 최소 제곱법을 이용해서 위의 그래프를 fitting ( 적합 해보자 )\n",
    "#polyfit 다차 방정식으로 계수를 찾아 내는 것\n",
    "\n",
    "reg = np.polyfit(x, f(x),deg=5)  # 최소 제곱법을 이용해서 다차방정식으로 fitting     5차방정식으로 피팅해라 .\n",
    "ry = np.polyval(reg,x)        # 5차 방정식으로 회귀 \n",
    "\n",
    "plt.plot(x, f(x), 'b--', label = 'f(x)')  # 원본 데이터 \n",
    "plt.plot(x, ry, 'r.', label = 'regression')   #최소 제곱법으로 피팅된 데이터 \n",
    "\n",
    "plt.legend(loc= 0)\n",
    "plt.grid(True)\n",
    "plt.xlabel('x')\n",
    "plt.ylabel('f(x)')"
   ]
  },
  {
   "cell_type": "code",
   "execution_count": null,
   "metadata": {},
   "outputs": [],
   "source": [
    "import folium\n",
    "map_1 = folium.Map(location = [37.565711, 126.978090],\n",
    "                  zoom_start = 16 ,       # 확대 축소\n",
    "                 tiles = 'Stamen Terrain')\n",
    "folium.Marker([37.565711, 126.978090], popup = '서울시청').add_to(map_1)\n",
    "folium.Marker([37.565711, 123.978190], popup = '서울시청 밑', icon = folium.Icon(icon='cloud')).add_to(map_1)\n",
    "map_1"
   ]
  },
  {
   "cell_type": "code",
   "execution_count": null,
   "metadata": {},
   "outputs": [],
   "source": [
    "# 숙제 : 서울 소재 10개 대학의 좌표를 출력해보시오 \n",
    "\n",
    "\n",
    "     "
   ]
  },
  {
   "cell_type": "code",
   "execution_count": null,
   "metadata": {},
   "outputs": [],
   "source": [
    "import folium\n",
    "name = ['서울대학교','한양대학교','성균관대학교','서강대학교','연세대학교','고려대학교',\n",
    "        '중앙대학교','홍익대학교','경희대학교','서울시립대학교']\n",
    "location = [[37.460031, 126.951911],[37.566461, 127.044850],[37.588457, 126.993595],[37.551225, 126.941013],[37.565997, 126.938175],\n",
    "            [37.591046, 127.027885],[37.505318, 126.957112],[37.551486, 126.924988],[37.596391, 127.052587],[37.583330, 127.059241]]\n",
    "\n",
    "import folium\n",
    "map_1 = folium.Map(location=[37.460031, 126.951911], zoom_start = 11,tiles = 'Stamen Terrain') \n",
    "\n",
    "for i in range(10):\n",
    "    folium.Marker(location[i], popup=name[i]).add_to(map_1) \n",
    "map_1"
   ]
  },
  {
   "cell_type": "code",
   "execution_count": null,
   "metadata": {},
   "outputs": [],
   "source": []
  },
  {
   "cell_type": "code",
   "execution_count": null,
   "metadata": {},
   "outputs": [],
   "source": []
  },
  {
   "cell_type": "code",
   "execution_count": null,
   "metadata": {},
   "outputs": [],
   "source": []
  },
  {
   "cell_type": "code",
   "execution_count": null,
   "metadata": {},
   "outputs": [],
   "source": []
  },
  {
   "cell_type": "code",
   "execution_count": null,
   "metadata": {},
   "outputs": [],
   "source": []
  },
  {
   "cell_type": "code",
   "execution_count": null,
   "metadata": {},
   "outputs": [],
   "source": []
  },
  {
   "cell_type": "code",
   "execution_count": null,
   "metadata": {},
   "outputs": [],
   "source": []
  },
  {
   "cell_type": "code",
   "execution_count": null,
   "metadata": {},
   "outputs": [],
   "source": []
  },
  {
   "cell_type": "code",
   "execution_count": null,
   "metadata": {},
   "outputs": [],
   "source": []
  },
  {
   "cell_type": "code",
   "execution_count": null,
   "metadata": {},
   "outputs": [],
   "source": []
  },
  {
   "cell_type": "code",
   "execution_count": null,
   "metadata": {},
   "outputs": [],
   "source": []
  },
  {
   "cell_type": "code",
   "execution_count": null,
   "metadata": {},
   "outputs": [],
   "source": []
  },
  {
   "cell_type": "code",
   "execution_count": null,
   "metadata": {},
   "outputs": [],
   "source": []
  },
  {
   "cell_type": "code",
   "execution_count": null,
   "metadata": {},
   "outputs": [],
   "source": []
  },
  {
   "cell_type": "code",
   "execution_count": null,
   "metadata": {},
   "outputs": [],
   "source": []
  },
  {
   "cell_type": "code",
   "execution_count": null,
   "metadata": {},
   "outputs": [],
   "source": []
  },
  {
   "cell_type": "code",
   "execution_count": null,
   "metadata": {},
   "outputs": [],
   "source": []
  },
  {
   "cell_type": "code",
   "execution_count": null,
   "metadata": {},
   "outputs": [],
   "source": []
  },
  {
   "cell_type": "code",
   "execution_count": null,
   "metadata": {},
   "outputs": [],
   "source": []
  },
  {
   "cell_type": "code",
   "execution_count": null,
   "metadata": {},
   "outputs": [],
   "source": []
  },
  {
   "cell_type": "code",
   "execution_count": null,
   "metadata": {},
   "outputs": [],
   "source": []
  },
  {
   "cell_type": "code",
   "execution_count": null,
   "metadata": {},
   "outputs": [],
   "source": []
  },
  {
   "cell_type": "code",
   "execution_count": null,
   "metadata": {},
   "outputs": [],
   "source": []
  },
  {
   "cell_type": "code",
   "execution_count": null,
   "metadata": {},
   "outputs": [],
   "source": []
  },
  {
   "cell_type": "code",
   "execution_count": null,
   "metadata": {},
   "outputs": [],
   "source": []
  },
  {
   "cell_type": "code",
   "execution_count": null,
   "metadata": {},
   "outputs": [],
   "source": []
  }
 ],
 "metadata": {
  "kernelspec": {
   "display_name": "Python 3",
   "language": "python",
   "name": "python3"
  },
  "language_info": {
   "codemirror_mode": {
    "name": "ipython",
    "version": 3
   },
   "file_extension": ".py",
   "mimetype": "text/x-python",
   "name": "python",
   "nbconvert_exporter": "python",
   "pygments_lexer": "ipython3",
   "version": "3.7.4"
  }
 },
 "nbformat": 4,
 "nbformat_minor": 2
}
