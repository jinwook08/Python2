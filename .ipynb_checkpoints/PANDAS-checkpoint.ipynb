{
 "cells": [
  {
   "cell_type": "markdown",
   "metadata": {},
   "source": [
    "# pandas : Series, DataFrame, Panel\n",
    "# numpy  방식의 인덱싱이 가능, + dict (중복을 허용, 순서를 보장)"
   ]
  },
  {
   "cell_type": "code",
   "execution_count": 2,
   "metadata": {},
   "outputs": [
    {
     "name": "stdout",
     "output_type": "stream",
     "text": [
      "0.0\n",
      "0.0\n",
      "nan\n"
     ]
    },
    {
     "data": {
      "text/plain": [
       "[1.0, 2.0, nan, 0.0]"
      ]
     },
     "execution_count": 2,
     "metadata": {},
     "output_type": "execute_result"
    }
   ],
   "source": [
    "import pandas as pd\n",
    "data = {'a': 0., 'b':1., 'c':2.}  #dict 초기화 \n",
    "s = pd.Series(data)   # 1차원 , 키가 인덱스로 변하더라 \n",
    "print(s['a']) # 키이 인덱싱\n",
    "s = pd.Series(data, index = ['b','c','d','a'])  # pandas 는 열 중심이므로 s는 열 이름 이다. s안에 들어 있는 요소는 행이름이 된다. \n",
    "print (s['a'])\n",
    "print (s['d'])  # data에서 맵핑이 안된 d 값은 nan이 된다 \n",
    "list(s)"
   ]
  },
  {
   "cell_type": "code",
   "execution_count": 3,
   "metadata": {},
   "outputs": [
    {
     "name": "stdout",
     "output_type": "stream",
     "text": [
      " 인덱스에 의한 출력  1\n",
      "1\n",
      "a    1\n",
      "b    2\n",
      "c    3\n",
      "dtype: int64\n",
      "음수 c    3\n",
      "d    4\n",
      "e    5\n",
      "dtype: int64\n",
      "100\n",
      "10\n",
      "filtering에 의한 출력  a    100\n",
      "e      5\n",
      "f     10\n",
      "dtype: int64\n",
      "a    100\n",
      "b      2\n",
      "c      3\n",
      "d      4\n",
      "e      5\n",
      "f     10\n",
      "dtype: int64\n",
      "a    200\n",
      "b      4\n",
      "c      6\n",
      "d      8\n",
      "e     10\n",
      "f     20\n",
      "dtype: int64\n"
     ]
    }
   ],
   "source": [
    "s = pd.Series([1,2,3,4,5], index = ['a','b','c','d','e'])\n",
    "print(' 인덱스에 의한 출력 ', s[0])  # 순서에 의한 인덱스\n",
    "print(s['a'])                 # 키에 의한 인덱스 \n",
    "print(s[:3])                     # 넘파이에서 쓰던 놈 \n",
    "print('음수', s[-3:])\n",
    "s['a'] = 100                    # update 인덱스에 값을 넣어줌 \n",
    "print(s['a'])\n",
    "s['f']= 10\n",
    "print(s['f'])\n",
    "print('filtering에 의한 출력 ', s[s>4])   # 인덱스: boolean index 따라서 5만 출력된다.  \n",
    "print(s)\n",
    "print(s*2)"
   ]
  },
  {
   "cell_type": "code",
   "execution_count": 4,
   "metadata": {},
   "outputs": [
    {
     "name": "stdout",
     "output_type": "stream",
     "text": [
      "시리즈 데이터 ['a' 'b' 'c' 'd']\n",
      "시리즈 인덱스 RangeIndex(start=0, stop=4, step=1)\n",
      "시리즈 초기화 0    a\n",
      "1    b\n",
      "2    c\n",
      "3    d\n",
      "dtype: object\n",
      "시리즈 인덱스의 값 [0 1 2 3]\n",
      "a\n",
      "0    a\n",
      "1    b\n",
      "2    c\n",
      "3    d\n",
      "dtype: object\n",
      "d    1\n",
      "a    1\n",
      "c    1\n",
      "b    1\n",
      "dtype: int64\n",
      "d    0.25\n",
      "a    0.25\n",
      "c    0.25\n",
      "b    0.25\n",
      "dtype: float64\n",
      "count     4\n",
      "unique    4\n",
      "top       d\n",
      "freq      1\n",
      "dtype: object\n",
      "데이터 타입은 object\n",
      "차수 (4,)\n"
     ]
    }
   ],
   "source": [
    "# range => list\n",
    "# arnage = > ndarray\n",
    "# rangeindex\n",
    "import numpy as np\n",
    "data = np.array(['a','b','c','d'])#ndarray\n",
    "s = pd.Series(data) # ndarray를 이용해 시리즈 초기화 \n",
    "print('시리즈 데이터', s.values)      # 값만\n",
    "print('시리즈 인덱스', s.index) # rangeindex(0~4까지 스텝 1)\n",
    "print('시리즈 초기화', s)\n",
    "print('시리즈 인덱스의 값', s.index.values)\n",
    "print(s[0])\n",
    "print(s.head()) # tail()\n",
    "print(s.value_counts())   # 도수분포표 # 개수를 센다는 것임. \n",
    "print(s.value_counts(normalize = True))      # 상대 도수 분포표가 된다. \n",
    "print(s.describe())            # 이 객체에 대해 설명해줘라 # 숫자 변수에 대해서만 # 문자열인 경우에 object가 된다\n",
    "print('데이터 타입은', s.dtypes)\n",
    "#print('차원', s.ndim)\n",
    "print('차수', s.shape)"
   ]
  },
  {
   "cell_type": "code",
   "execution_count": 5,
   "metadata": {},
   "outputs": [
    {
     "name": "stdout",
     "output_type": "stream",
     "text": [
      "Ohio      35000\n",
      "Texas     71000\n",
      "Orange    16000\n",
      "Utah       5000\n",
      "dtype: int64\n",
      "(4,)\n",
      "California        NaN\n",
      "Ohio          35000.0\n",
      "Oregon            NaN\n",
      "Texas         71000.0\n",
      "dtype: float64\n",
      "시리즈 인덱스 Index(['Ohio', 'Texas', 'Orange', 'Utah'], dtype='object')\n",
      "시리즈 인덱스 Index(['California', 'Ohio', 'Oregon', 'Texas'], dtype='object')\n",
      "null이 있는가  California     True\n",
      "Ohio          False\n",
      "Oregon         True\n",
      "Texas         False\n",
      "dtype: bool\n",
      "결측치가 있는가 California    False\n",
      "Ohio           True\n",
      "Oregon        False\n",
      "Texas          True\n",
      "dtype: bool\n",
      "객체 출력\n",
      "obj3을 출력합시다 Ohio      35000\n",
      "Texas     71000\n",
      "Orange    16000\n",
      "Utah       5000\n",
      "dtype: int64\n",
      "obj4를 출력합시다 California        NaN\n",
      "Ohio          35000.0\n",
      "Oregon            NaN\n",
      "Texas         71000.0\n",
      "dtype: float64\n",
      "연산결과를 출력합니다 California         NaN\n",
      "Ohio           70000.0\n",
      "Orange             NaN\n",
      "Oregon             NaN\n",
      "Texas         142000.0\n",
      "Utah               NaN\n",
      "dtype: float64\n"
     ]
    }
   ],
   "source": [
    "sdata = {'Ohio':35000, 'Texas':71000, 'Orange':16000, 'Utah':5000}\n",
    "obj3 = pd.Series(sdata)\n",
    "print(obj3)\n",
    "print(obj3.shape)\n",
    "states = ['California', 'Ohio','Oregon', 'Texas']\n",
    "obj4 = pd.Series(sdata, index = states)\n",
    "print(obj4)\n",
    "print('시리즈 인덱스', obj3.index)  # index\n",
    "print('시리즈 인덱스', obj4.index)   # index\n",
    "print('null이 있는가 ', pd.isnull(obj4))    # 데이터가 널인가?\n",
    "print('결측치가 있는가', pd.notnull(obj4))      # 데이터가 널이 아닌가?\n",
    "print('객체 출력')\n",
    "print('obj3을 출력합시다', obj3)\n",
    "print('obj4를 출력합시다', obj4)\n",
    "# 짝이 맞지 않기 때문에: index가 다름 --> 짝이 없으면 nan\n",
    "print('연산결과를 출력합니다', obj3+ obj4)"
   ]
  },
  {
   "cell_type": "code",
   "execution_count": 6,
   "metadata": {},
   "outputs": [
    {
     "data": {
      "text/plain": [
       "0    0.0\n",
       "1    0.0\n",
       "2    2.0\n",
       "3    2.0\n",
       "4    NaN\n",
       "5    0.0\n",
       "6    1.0\n",
       "dtype: float64"
      ]
     },
     "execution_count": 6,
     "metadata": {},
     "output_type": "execute_result"
    }
   ],
   "source": [
    "s = pd.Series(['A', 'B', 'Aaba', 'Baca', np.nan, 'CABA', 'cat'])\n",
    "s.str.count('a')"
   ]
  },
  {
   "cell_type": "code",
   "execution_count": 7,
   "metadata": {},
   "outputs": [
    {
     "data": {
      "text/plain": [
       "<Figure size 640x480 with 1 Axes>"
      ]
     },
     "metadata": {},
     "output_type": "display_data"
    }
   ],
   "source": [
    "import matplotlib.pyplot as plt\n",
    "s = pd.Series([1,2,2.5,3,3.5,4,5])\n",
    "s.plot.kde() # kernel density estimate\n",
    "# 데이터가 없는 부분은 kernal 로 예측한다 --> 가우시안 분포 (= kernal)로 예측한다. \n",
    "plt.show()"
   ]
  },
  {
   "cell_type": "code",
   "execution_count": 8,
   "metadata": {},
   "outputs": [
    {
     "data": {
      "image/png": "[encoded data removed]",
      "text/plain": [
       "<Figure size 432x288 with 1 Axes>"
      ]
     },
     "metadata": {
      "needs_background": "light"
     },
     "output_type": "display_data"
    }
   ],
   "source": [
    "s.plot.kde(bw_method = 0.3) # 과적합  bin width \n",
    "plt.show()"
   ]
  },
  {
   "cell_type": "code",
   "execution_count": 9,
   "metadata": {},
   "outputs": [
    {
     "data": {
      "text/html": [
       "<div>\n",
       "<style scoped>\n",
       "    .dataframe tbody tr th:only-of-type {\n",
       "        vertical-align: middle;\n",
       "    }\n",
       "\n",
       "    .dataframe tbody tr th {\n",
       "        vertical-align: top;\n",
       "    }\n",
       "\n",
       "    .dataframe thead th {\n",
       "        text-align: right;\n",
       "    }\n",
       "</style>\n",
       "<table border=\"1\" class=\"dataframe\">\n",
       "  <thead>\n",
       "    <tr style=\"text-align: right;\">\n",
       "      <th></th>\n",
       "      <th>area</th>\n",
       "      <th>pop</th>\n",
       "    </tr>\n",
       "  </thead>\n",
       "  <tbody>\n",
       "    <tr>\n",
       "      <td>California</td>\n",
       "      <td>423967</td>\n",
       "      <td>38332521</td>\n",
       "    </tr>\n",
       "    <tr>\n",
       "      <td>Texas</td>\n",
       "      <td>695662</td>\n",
       "      <td>26448193</td>\n",
       "    </tr>\n",
       "    <tr>\n",
       "      <td>New York</td>\n",
       "      <td>141297</td>\n",
       "      <td>19651127</td>\n",
       "    </tr>\n",
       "    <tr>\n",
       "      <td>Florida</td>\n",
       "      <td>170312</td>\n",
       "      <td>19552860</td>\n",
       "    </tr>\n",
       "    <tr>\n",
       "      <td>Illinois</td>\n",
       "      <td>149995</td>\n",
       "      <td>12882135</td>\n",
       "    </tr>\n",
       "  </tbody>\n",
       "</table>\n",
       "</div>"
      ],
      "text/plain": [
       "              area       pop\n",
       "California  423967  38332521\n",
       "Texas       695662  26448193\n",
       "New York    141297  19651127\n",
       "Florida     170312  19552860\n",
       "Illinois    149995  12882135"
      ]
     },
     "execution_count": 9,
     "metadata": {},
     "output_type": "execute_result"
    }
   ],
   "source": [
    "import pandas as pd\n",
    "area = pd.Series({'California': 423967, 'Texas': 695662,\n",
    "                  'New York': 141297, 'Florida': 170312,\n",
    "                  'Illinois': 149995})\n",
    "pop = pd.Series({'California': 38332521, 'Texas': 26448193,\n",
    "                 'New York': 19651127, 'Florida': 19552860,\n",
    "                 'Illinois': 12882135})\n",
    "data = pd.DataFrame({'area':area, 'pop':pop})\n",
    "data "
   ]
  },
  {
   "cell_type": "code",
   "execution_count": 10,
   "metadata": {},
   "outputs": [
    {
     "data": {
      "text/plain": [
       "California    423967\n",
       "Texas         695662\n",
       "New York      141297\n",
       "Florida       170312\n",
       "Illinois      149995\n",
       "Name: area, dtype: int64"
      ]
     },
     "execution_count": 10,
     "metadata": {},
     "output_type": "execute_result"
    }
   ],
   "source": [
    "# 열 이름 출력\n",
    "# 두개다 똑같이 참조가능 \n",
    "data['area']\n",
    "data.area"
   ]
  },
  {
   "cell_type": "code",
   "execution_count": 11,
   "metadata": {},
   "outputs": [
    {
     "data": {
      "text/plain": [
       "True"
      ]
     },
     "execution_count": 11,
     "metadata": {},
     "output_type": "execute_result"
    }
   ],
   "source": [
    "data.area is data['area']"
   ]
  },
  {
   "cell_type": "code",
   "execution_count": 12,
   "metadata": {},
   "outputs": [
    {
     "data": {
      "text/html": [
       "<div>\n",
       "<style scoped>\n",
       "    .dataframe tbody tr th:only-of-type {\n",
       "        vertical-align: middle;\n",
       "    }\n",
       "\n",
       "    .dataframe tbody tr th {\n",
       "        vertical-align: top;\n",
       "    }\n",
       "\n",
       "    .dataframe thead th {\n",
       "        text-align: right;\n",
       "    }\n",
       "</style>\n",
       "<table border=\"1\" class=\"dataframe\">\n",
       "  <thead>\n",
       "    <tr style=\"text-align: right;\">\n",
       "      <th></th>\n",
       "      <th>area</th>\n",
       "      <th>pop</th>\n",
       "      <th>density</th>\n",
       "    </tr>\n",
       "  </thead>\n",
       "  <tbody>\n",
       "    <tr>\n",
       "      <td>California</td>\n",
       "      <td>423967</td>\n",
       "      <td>38332521</td>\n",
       "      <td>90.413926</td>\n",
       "    </tr>\n",
       "    <tr>\n",
       "      <td>Texas</td>\n",
       "      <td>695662</td>\n",
       "      <td>26448193</td>\n",
       "      <td>38.018740</td>\n",
       "    </tr>\n",
       "    <tr>\n",
       "      <td>New York</td>\n",
       "      <td>141297</td>\n",
       "      <td>19651127</td>\n",
       "      <td>139.076746</td>\n",
       "    </tr>\n",
       "    <tr>\n",
       "      <td>Florida</td>\n",
       "      <td>170312</td>\n",
       "      <td>19552860</td>\n",
       "      <td>114.806121</td>\n",
       "    </tr>\n",
       "    <tr>\n",
       "      <td>Illinois</td>\n",
       "      <td>149995</td>\n",
       "      <td>12882135</td>\n",
       "      <td>85.883763</td>\n",
       "    </tr>\n",
       "  </tbody>\n",
       "</table>\n",
       "</div>"
      ],
      "text/plain": [
       "              area       pop     density\n",
       "California  423967  38332521   90.413926\n",
       "Texas       695662  26448193   38.018740\n",
       "New York    141297  19651127  139.076746\n",
       "Florida     170312  19552860  114.806121\n",
       "Illinois    149995  12882135   85.883763"
      ]
     },
     "execution_count": 12,
     "metadata": {},
     "output_type": "execute_result"
    }
   ],
   "source": [
    "# 객체에서 변수를 실시간으로 추가하는것이 가능하다\n",
    "# append \n",
    "# pandas에서는\n",
    "data['density']= data['pop']/data['area']\n",
    "data"
   ]
  },
  {
   "cell_type": "code",
   "execution_count": 13,
   "metadata": {},
   "outputs": [
    {
     "data": {
      "text/plain": [
       "array([[4.23967000e+05, 3.83325210e+07, 9.04139261e+01],\n",
       "       [6.95662000e+05, 2.64481930e+07, 3.80187404e+01],\n",
       "       [1.41297000e+05, 1.96511270e+07, 1.39076746e+02],\n",
       "       [1.70312000e+05, 1.95528600e+07, 1.14806121e+02],\n",
       "       [1.49995000e+05, 1.28821350e+07, 8.58837628e+01]])"
      ]
     },
     "execution_count": 13,
     "metadata": {},
     "output_type": "execute_result"
    }
   ],
   "source": [
    "data.values # ndarray ==> numpy의 함수로 처리가능"
   ]
  },
  {
   "cell_type": "code",
   "execution_count": 14,
   "metadata": {},
   "outputs": [
    {
     "data": {
      "text/html": [
       "<div>\n",
       "<style scoped>\n",
       "    .dataframe tbody tr th:only-of-type {\n",
       "        vertical-align: middle;\n",
       "    }\n",
       "\n",
       "    .dataframe tbody tr th {\n",
       "        vertical-align: top;\n",
       "    }\n",
       "\n",
       "    .dataframe thead th {\n",
       "        text-align: right;\n",
       "    }\n",
       "</style>\n",
       "<table border=\"1\" class=\"dataframe\">\n",
       "  <thead>\n",
       "    <tr style=\"text-align: right;\">\n",
       "      <th></th>\n",
       "      <th>California</th>\n",
       "      <th>Texas</th>\n",
       "      <th>New York</th>\n",
       "      <th>Florida</th>\n",
       "      <th>Illinois</th>\n",
       "    </tr>\n",
       "  </thead>\n",
       "  <tbody>\n",
       "    <tr>\n",
       "      <td>area</td>\n",
       "      <td>4.239670e+05</td>\n",
       "      <td>6.956620e+05</td>\n",
       "      <td>1.412970e+05</td>\n",
       "      <td>1.703120e+05</td>\n",
       "      <td>1.499950e+05</td>\n",
       "    </tr>\n",
       "    <tr>\n",
       "      <td>pop</td>\n",
       "      <td>3.833252e+07</td>\n",
       "      <td>2.644819e+07</td>\n",
       "      <td>1.965113e+07</td>\n",
       "      <td>1.955286e+07</td>\n",
       "      <td>1.288214e+07</td>\n",
       "    </tr>\n",
       "    <tr>\n",
       "      <td>density</td>\n",
       "      <td>9.041393e+01</td>\n",
       "      <td>3.801874e+01</td>\n",
       "      <td>1.390767e+02</td>\n",
       "      <td>1.148061e+02</td>\n",
       "      <td>8.588376e+01</td>\n",
       "    </tr>\n",
       "  </tbody>\n",
       "</table>\n",
       "</div>"
      ],
      "text/plain": [
       "           California         Texas      New York       Florida      Illinois\n",
       "area     4.239670e+05  6.956620e+05  1.412970e+05  1.703120e+05  1.499950e+05\n",
       "pop      3.833252e+07  2.644819e+07  1.965113e+07  1.955286e+07  1.288214e+07\n",
       "density  9.041393e+01  3.801874e+01  1.390767e+02  1.148061e+02  8.588376e+01"
      ]
     },
     "execution_count": 14,
     "metadata": {},
     "output_type": "execute_result"
    }
   ],
   "source": [
    "data.T ## 데이처를 전치 시킴"
   ]
  },
  {
   "cell_type": "code",
   "execution_count": 15,
   "metadata": {},
   "outputs": [
    {
     "data": {
      "text/plain": [
       "array([4.23967000e+05, 3.83325210e+07, 9.04139261e+01])"
      ]
     },
     "execution_count": 15,
     "metadata": {},
     "output_type": "execute_result"
    }
   ],
   "source": [
    "data.values[0] # 행값 가져온다. "
   ]
  },
  {
   "cell_type": "code",
   "execution_count": 16,
   "metadata": {},
   "outputs": [
    {
     "data": {
      "text/html": [
       "<div>\n",
       "<style scoped>\n",
       "    .dataframe tbody tr th:only-of-type {\n",
       "        vertical-align: middle;\n",
       "    }\n",
       "\n",
       "    .dataframe tbody tr th {\n",
       "        vertical-align: top;\n",
       "    }\n",
       "\n",
       "    .dataframe thead th {\n",
       "        text-align: right;\n",
       "    }\n",
       "</style>\n",
       "<table border=\"1\" class=\"dataframe\">\n",
       "  <thead>\n",
       "    <tr style=\"text-align: right;\">\n",
       "      <th></th>\n",
       "      <th>area</th>\n",
       "      <th>pop</th>\n",
       "    </tr>\n",
       "  </thead>\n",
       "  <tbody>\n",
       "    <tr>\n",
       "      <td>California</td>\n",
       "      <td>423967</td>\n",
       "      <td>38332521</td>\n",
       "    </tr>\n",
       "    <tr>\n",
       "      <td>Texas</td>\n",
       "      <td>695662</td>\n",
       "      <td>26448193</td>\n",
       "    </tr>\n",
       "    <tr>\n",
       "      <td>New York</td>\n",
       "      <td>141297</td>\n",
       "      <td>19651127</td>\n",
       "    </tr>\n",
       "  </tbody>\n",
       "</table>\n",
       "</div>"
      ],
      "text/plain": [
       "              area       pop\n",
       "California  423967  38332521\n",
       "Texas       695662  26448193\n",
       "New York    141297  19651127"
      ]
     },
     "execution_count": 16,
     "metadata": {},
     "output_type": "execute_result"
    }
   ],
   "source": [
    "data.iloc[:3,:2]  # 행과 열로 입력되어진다.  interger location 순서에 의한 인덱싱"
   ]
  },
  {
   "cell_type": "code",
   "execution_count": 17,
   "metadata": {},
   "outputs": [
    {
     "data": {
      "text/html": [
       "<div>\n",
       "<style scoped>\n",
       "    .dataframe tbody tr th:only-of-type {\n",
       "        vertical-align: middle;\n",
       "    }\n",
       "\n",
       "    .dataframe tbody tr th {\n",
       "        vertical-align: top;\n",
       "    }\n",
       "\n",
       "    .dataframe thead th {\n",
       "        text-align: right;\n",
       "    }\n",
       "</style>\n",
       "<table border=\"1\" class=\"dataframe\">\n",
       "  <thead>\n",
       "    <tr style=\"text-align: right;\">\n",
       "      <th></th>\n",
       "      <th>area</th>\n",
       "      <th>pop</th>\n",
       "    </tr>\n",
       "  </thead>\n",
       "  <tbody>\n",
       "    <tr>\n",
       "      <td>California</td>\n",
       "      <td>423967</td>\n",
       "      <td>38332521</td>\n",
       "    </tr>\n",
       "    <tr>\n",
       "      <td>Texas</td>\n",
       "      <td>695662</td>\n",
       "      <td>26448193</td>\n",
       "    </tr>\n",
       "    <tr>\n",
       "      <td>New York</td>\n",
       "      <td>141297</td>\n",
       "      <td>19651127</td>\n",
       "    </tr>\n",
       "    <tr>\n",
       "      <td>Florida</td>\n",
       "      <td>170312</td>\n",
       "      <td>19552860</td>\n",
       "    </tr>\n",
       "    <tr>\n",
       "      <td>Illinois</td>\n",
       "      <td>149995</td>\n",
       "      <td>12882135</td>\n",
       "    </tr>\n",
       "  </tbody>\n",
       "</table>\n",
       "</div>"
      ],
      "text/plain": [
       "              area       pop\n",
       "California  423967  38332521\n",
       "Texas       695662  26448193\n",
       "New York    141297  19651127\n",
       "Florida     170312  19552860\n",
       "Illinois    149995  12882135"
      ]
     },
     "execution_count": 17,
     "metadata": {},
     "output_type": "execute_result"
    }
   ],
   "source": [
    "data.loc[:'Illinois',:'pop']          # 키를 이용한 인덱싱 "
   ]
  },
  {
   "cell_type": "code",
   "execution_count": 18,
   "metadata": {},
   "outputs": [
    {
     "data": {
      "text/html": [
       "<div>\n",
       "<style scoped>\n",
       "    .dataframe tbody tr th:only-of-type {\n",
       "        vertical-align: middle;\n",
       "    }\n",
       "\n",
       "    .dataframe tbody tr th {\n",
       "        vertical-align: top;\n",
       "    }\n",
       "\n",
       "    .dataframe thead th {\n",
       "        text-align: right;\n",
       "    }\n",
       "</style>\n",
       "<table border=\"1\" class=\"dataframe\">\n",
       "  <thead>\n",
       "    <tr style=\"text-align: right;\">\n",
       "      <th></th>\n",
       "      <th>area</th>\n",
       "      <th>pop</th>\n",
       "      <th>density</th>\n",
       "    </tr>\n",
       "  </thead>\n",
       "  <tbody>\n",
       "    <tr>\n",
       "      <td>California</td>\n",
       "      <td>423967</td>\n",
       "      <td>38332521</td>\n",
       "      <td>90.000000</td>\n",
       "    </tr>\n",
       "    <tr>\n",
       "      <td>Texas</td>\n",
       "      <td>695662</td>\n",
       "      <td>26448193</td>\n",
       "      <td>38.018740</td>\n",
       "    </tr>\n",
       "    <tr>\n",
       "      <td>New York</td>\n",
       "      <td>141297</td>\n",
       "      <td>19651127</td>\n",
       "      <td>139.076746</td>\n",
       "    </tr>\n",
       "    <tr>\n",
       "      <td>Florida</td>\n",
       "      <td>170312</td>\n",
       "      <td>19552860</td>\n",
       "      <td>114.806121</td>\n",
       "    </tr>\n",
       "    <tr>\n",
       "      <td>Illinois</td>\n",
       "      <td>149995</td>\n",
       "      <td>12882135</td>\n",
       "      <td>85.883763</td>\n",
       "    </tr>\n",
       "  </tbody>\n",
       "</table>\n",
       "</div>"
      ],
      "text/plain": [
       "              area       pop     density\n",
       "California  423967  38332521   90.000000\n",
       "Texas       695662  26448193   38.018740\n",
       "New York    141297  19651127  139.076746\n",
       "Florida     170312  19552860  114.806121\n",
       "Illinois    149995  12882135   85.883763"
      ]
     },
     "execution_count": 18,
     "metadata": {},
     "output_type": "execute_result"
    }
   ],
   "source": [
    "data.iloc[0,2]= 90\n",
    "data"
   ]
  },
  {
   "cell_type": "code",
   "execution_count": 19,
   "metadata": {},
   "outputs": [
    {
     "data": {
      "text/html": [
       "<div>\n",
       "<style scoped>\n",
       "    .dataframe tbody tr th:only-of-type {\n",
       "        vertical-align: middle;\n",
       "    }\n",
       "\n",
       "    .dataframe tbody tr th {\n",
       "        vertical-align: top;\n",
       "    }\n",
       "\n",
       "    .dataframe thead th {\n",
       "        text-align: right;\n",
       "    }\n",
       "</style>\n",
       "<table border=\"1\" class=\"dataframe\">\n",
       "  <thead>\n",
       "    <tr style=\"text-align: right;\">\n",
       "      <th></th>\n",
       "      <th>area</th>\n",
       "      <th>pop</th>\n",
       "      <th>density</th>\n",
       "    </tr>\n",
       "  </thead>\n",
       "  <tbody>\n",
       "    <tr>\n",
       "      <td>Florida</td>\n",
       "      <td>170312</td>\n",
       "      <td>19552860</td>\n",
       "      <td>114.806121</td>\n",
       "    </tr>\n",
       "    <tr>\n",
       "      <td>Illinois</td>\n",
       "      <td>149995</td>\n",
       "      <td>12882135</td>\n",
       "      <td>85.883763</td>\n",
       "    </tr>\n",
       "  </tbody>\n",
       "</table>\n",
       "</div>"
      ],
      "text/plain": [
       "            area       pop     density\n",
       "Florida   170312  19552860  114.806121\n",
       "Illinois  149995  12882135   85.883763"
      ]
     },
     "execution_count": 19,
     "metadata": {},
     "output_type": "execute_result"
    }
   ],
   "source": [
    "data['Florida': 'Illinois']## 순서가 보장되기 때문에 이러한 인덱싱도 가능"
   ]
  },
  {
   "cell_type": "code",
   "execution_count": 20,
   "metadata": {},
   "outputs": [],
   "source": [
    "import pandas as pd\n",
    "import numpy as np\n",
    "\n",
    "d = {'Name':pd.Series(['김하나','이하나','삼하나','사하나','오하나','육하나','칠하나', '팔하나']),\n",
    "   'Age':pd.Series([25,26,25,23,30,29,23]),\n",
    "   'Rating':pd.Series([4.23,3.24,3.98,2.56,3.20,4.6,3.8])}"
   ]
  },
  {
   "cell_type": "code",
   "execution_count": 21,
   "metadata": {},
   "outputs": [
    {
     "name": "stdout",
     "output_type": "stream",
     "text": [
      "  Name   Age  Rating\n",
      "0  김하나  25.0    4.23\n",
      "1  이하나  26.0    3.24\n",
      "2  삼하나  25.0    3.98\n",
      "3  사하나  23.0    2.56\n",
      "4  오하나  30.0    3.20\n",
      "5  육하나  29.0    4.60\n",
      "6  칠하나  23.0    3.80\n",
      "7  팔하나   NaN     NaN\n",
      "축 [RangeIndex(start=0, stop=8, step=1), Index(['Name', 'Age', 'Rating'], dtype='object')]\n",
      "데이터 타입 Name       object\n",
      "Age       float64\n",
      "Rating    float64\n",
      "dtype: object\n",
      "데이터 타입 <bound method NDFrame.get_dtype_counts of   Name   Age  Rating\n",
      "0  김하나  25.0    4.23\n",
      "1  이하나  26.0    3.24\n",
      "2  삼하나  25.0    3.98\n",
      "3  사하나  23.0    2.56\n",
      "4  오하나  30.0    3.20\n",
      "5  육하나  29.0    4.60\n",
      "6  칠하나  23.0    3.80\n",
      "7  팔하나   NaN     NaN>\n",
      "비었나 False\n",
      "차원 2\n",
      "차수 (8, 3)\n",
      "사이즈 24\n",
      "값 [['김하나' 25.0 4.23]\n",
      " ['이하나' 26.0 3.24]\n",
      " ['삼하나' 25.0 3.98]\n",
      " ['사하나' 23.0 2.56]\n",
      " ['오하나' 30.0 3.2]\n",
      " ['육하나' 29.0 4.6]\n",
      " ['칠하나' 23.0 3.8]\n",
      " ['팔하나' nan nan]]\n",
      "  Name   Age  Rating\n",
      "0  김하나  25.0    4.23\n",
      "1  이하나  26.0    3.24\n",
      "  Name   Age  Rating\n",
      "6  칠하나  23.0     3.8\n",
      "7  팔하나   NaN     NaN\n"
     ]
    }
   ],
   "source": [
    "df = pd.DataFrame(d)\n",
    "print(df)\n",
    "print('축', df.axes)\n",
    "print('데이터 타입', df.dtypes)\n",
    "print('데이터 타입', df.get_dtype_counts)  #unique( 중복제거 )\n",
    "print('비었나', df.empty)      # 데이터가 비었나?\n",
    "print('차원', df.ndim)\n",
    "print('차수', df.shape)\n",
    "print('사이즈', df.size)\n",
    "print('값', df.values)\n",
    "print(df.head(2))\n",
    "print(df.tail(2))\n"
   ]
  },
  {
   "cell_type": "code",
   "execution_count": 22,
   "metadata": {
    "scrolled": true
   },
   "outputs": [
    {
     "name": "stdout",
     "output_type": "stream",
     "text": [
      "합계 Name      김하나이하나삼하나사하나오하나육하나칠하나팔하나\n",
      "Age                            181\n",
      "Rating                       25.61\n",
      "dtype: object\n",
      "Age       25.857143\n",
      "Rating     3.658571\n",
      "dtype: float64\n",
      "Age       2.734262\n",
      "Rating    0.698628\n",
      "dtype: float64\n",
      "             Age    Rating\n",
      "count   7.000000  7.000000\n",
      "mean   25.857143  3.658571\n",
      "std     2.734262  0.698628\n",
      "min    23.000000  2.560000\n",
      "25%    24.000000  3.220000\n",
      "50%    25.000000  3.800000\n",
      "75%    27.500000  4.105000\n",
      "max    30.000000  4.600000\n",
      "오브젝트        Name\n",
      "count     8\n",
      "unique    8\n",
      "top     오하나\n",
      "freq      1\n",
      "       Name        Age    Rating\n",
      "count     8   7.000000  7.000000\n",
      "unique    8        NaN       NaN\n",
      "top     오하나        NaN       NaN\n",
      "freq      1        NaN       NaN\n",
      "mean    NaN  25.857143  3.658571\n",
      "std     NaN   2.734262  0.698628\n",
      "min     NaN  23.000000  2.560000\n",
      "25%     NaN  24.000000  3.220000\n",
      "50%     NaN  25.000000  3.800000\n",
      "75%     NaN  27.500000  4.105000\n",
      "max     NaN  30.000000  4.600000\n"
     ]
    }
   ],
   "source": [
    "# 위에 데이터에 대한 통계처리\n",
    "\n",
    "print('합계',df.sum())   #전체 데이터합. \n",
    "print(df.mean())   # 숫자에만 적용 \n",
    "print(df.std()) # standard deviation 표준 편차 \n",
    "print(df.describe())\n",
    "print('오브젝트',df.describe(include = ['object']))\n",
    "print(df.describe(include = 'all'))"
   ]
  },
  {
   "cell_type": "code",
   "execution_count": 23,
   "metadata": {},
   "outputs": [],
   "source": [
    "data={'state': ['경기', '강원', '서울', '충북', '인천'],\n",
    "      'year':[2000,2001,2002,2001,2002],\n",
    "      'pop':[1.5,1.7,3.6,2.4,2.9]}\n",
    "\n",
    "frame2=pd.DataFrame(data, columns=['year', 'state', 'pop', 'debt'],\n",
    "                 index=['one', 'two', 'three', 'four', 'five']) "
   ]
  },
  {
   "cell_type": "code",
   "execution_count": 24,
   "metadata": {},
   "outputs": [],
   "source": [
    "# state만 출력하시오\n",
    "# debt 열을 추가하고 모든 값을 16.5.로 입력하시오\n",
    "# debt를 pd.Series([-1.2, -1.5, -1.7]),index= ['two', 'four', 'five']로 수정하시오\n",
    "# 파생변수 'estern'에 주소가 서울인가를 따져 서울은 True 아니면 False가 입력되게 하시오 "
   ]
  },
  {
   "cell_type": "code",
   "execution_count": 25,
   "metadata": {},
   "outputs": [
    {
     "data": {
      "text/plain": [
       "['경기', '강원', '서울', '충북', '인천']"
      ]
     },
     "execution_count": 25,
     "metadata": {},
     "output_type": "execute_result"
    }
   ],
   "source": [
    "data['state']   "
   ]
  },
  {
   "cell_type": "code",
   "execution_count": 26,
   "metadata": {},
   "outputs": [
    {
     "ename": "AttributeError",
     "evalue": "type object 'DataFrame' has no attribute 'dept'",
     "output_type": "error",
     "traceback": [
      "\u001b[1;31m---------------------------------------------------------------------------\u001b[0m",
      "\u001b[1;31mAttributeError\u001b[0m                            Traceback (most recent call last)",
      "\u001b[1;32m<ipython-input-26-09396d261ebe>\u001b[0m in \u001b[0;36m<module>\u001b[1;34m\u001b[0m\n\u001b[1;32m----> 1\u001b[1;33m \u001b[0mdata\u001b[0m \u001b[1;33m=\u001b[0m \u001b[0mpd\u001b[0m\u001b[1;33m.\u001b[0m\u001b[0mDataFrame\u001b[0m\u001b[1;33m.\u001b[0m\u001b[0mdept\u001b[0m\u001b[1;33m(\u001b[0m\u001b[1;33m[\u001b[0m\u001b[1;33m-\u001b[0m\u001b[1;36m1.2\u001b[0m\u001b[1;33m,\u001b[0m \u001b[1;33m-\u001b[0m\u001b[1;36m1.5\u001b[0m\u001b[1;33m,\u001b[0m \u001b[1;33m-\u001b[0m\u001b[1;36m1.7\u001b[0m\u001b[1;33m]\u001b[0m\u001b[1;33m)\u001b[0m\u001b[1;33m\u001b[0m\u001b[1;33m\u001b[0m\u001b[0m\n\u001b[0m",
      "\u001b[1;31mAttributeError\u001b[0m: type object 'DataFrame' has no attribute 'dept'"
     ]
    }
   ],
   "source": [
    "data = pd.DataFrame.dept([-1.2, -1.5, -1.7])"
   ]
  },
  {
   "cell_type": "code",
   "execution_count": 27,
   "metadata": {},
   "outputs": [
    {
     "data": {
      "text/plain": [
       "{'state': ['경기', '강원', '서울', '충북', '인천'],\n",
       " 'year': [2000, 2001, 2002, 2001, 2002],\n",
       " 'pop': [1.5, 1.7, 3.6, 2.4, 2.9]}"
      ]
     },
     "execution_count": 27,
     "metadata": {},
     "output_type": "execute_result"
    }
   ],
   "source": [
    "data"
   ]
  },
  {
   "cell_type": "code",
   "execution_count": 28,
   "metadata": {},
   "outputs": [
    {
     "ename": "SyntaxError",
     "evalue": "EOL while scanning string literal (<ipython-input-28-49beb2501e34>, line 1)",
     "output_type": "error",
     "traceback": [
      "\u001b[1;36m  File \u001b[1;32m\"<ipython-input-28-49beb2501e34>\"\u001b[1;36m, line \u001b[1;32m1\u001b[0m\n\u001b[1;33m    data['dept'] = 16.5'\u001b[0m\n\u001b[1;37m                        ^\u001b[0m\n\u001b[1;31mSyntaxError\u001b[0m\u001b[1;31m:\u001b[0m EOL while scanning string literal\n"
     ]
    }
   ],
   "source": [
    "data['dept'] = 16.5'\n"
   ]
  },
  {
   "cell_type": "code",
   "execution_count": 29,
   "metadata": {},
   "outputs": [
    {
     "ename": "AttributeError",
     "evalue": "'dict' object has no attribute 'index'",
     "output_type": "error",
     "traceback": [
      "\u001b[1;31m---------------------------------------------------------------------------\u001b[0m",
      "\u001b[1;31mAttributeError\u001b[0m                            Traceback (most recent call last)",
      "\u001b[1;32m<ipython-input-29-4c4f12c0d58b>\u001b[0m in \u001b[0;36m<module>\u001b[1;34m\u001b[0m\n\u001b[1;32m----> 1\u001b[1;33m \u001b[0mprint\u001b[0m\u001b[1;33m(\u001b[0m\u001b[0mdata\u001b[0m\u001b[1;33m.\u001b[0m\u001b[0mindex\u001b[0m\u001b[1;33m)\u001b[0m\u001b[1;33m\u001b[0m\u001b[1;33m\u001b[0m\u001b[0m\n\u001b[0m",
      "\u001b[1;31mAttributeError\u001b[0m: 'dict' object has no attribute 'index'"
     ]
    }
   ],
   "source": [
    "print(data.index)"
   ]
  },
  {
   "cell_type": "code",
   "execution_count": 30,
   "metadata": {},
   "outputs": [],
   "source": [
    "s['a'] = 100                    # update 인덱스에 값을 넣어줌 \n"
   ]
  },
  {
   "cell_type": "code",
   "execution_count": 31,
   "metadata": {},
   "outputs": [],
   "source": [
    "# state만 출력하시오\n",
    "# debt 열을 추가하고 모든 값을 16.5.로 입력하시오\n",
    "# debt를 pd.Series([-1.2, -1.5, -1.7]),index= ['two', 'four', 'five']로 수정하시오\n",
    "# 파생변수 'estern'에 주소가 서울인가를 따져 서울은 True 아니면 False가 입력되게 하시오 "
   ]
  },
  {
   "cell_type": "code",
   "execution_count": 32,
   "metadata": {},
   "outputs": [
    {
     "name": "stdout",
     "output_type": "stream",
     "text": [
      "one      경기\n",
      "two      강원\n",
      "three    서울\n",
      "four     충북\n",
      "five     인천\n",
      "Name: state, dtype: object\n",
      "one      경기\n",
      "two      강원\n",
      "three    서울\n",
      "four     충북\n",
      "five     인천\n",
      "Name: state, dtype: object\n"
     ]
    }
   ],
   "source": [
    "#1.\n",
    "print(frame2['state'])\n",
    "print(frame2.state)\n"
   ]
  },
  {
   "cell_type": "code",
   "execution_count": 33,
   "metadata": {},
   "outputs": [
    {
     "name": "stdout",
     "output_type": "stream",
     "text": [
      "dept 값 적용후         year state  pop debt  dept\n",
      "one    2000    경기  1.5  NaN  16.5\n",
      "two    2001    강원  1.7  NaN  16.5\n",
      "three  2002    서울  3.6  NaN  16.5\n",
      "four   2001    충북  2.4  NaN  16.5\n",
      "five   2002    인천  2.9  NaN  16.5\n"
     ]
    }
   ],
   "source": [
    "#2\n",
    "frame2['dept']= 16.5\n",
    "print('dept 값 적용후 ', frame2)\n"
   ]
  },
  {
   "cell_type": "code",
   "execution_count": 34,
   "metadata": {},
   "outputs": [
    {
     "name": "stdout",
     "output_type": "stream",
     "text": [
      "       year state  pop debt  dept\n",
      "one    2000    경기  1.5  NaN   NaN\n",
      "two    2001    강원  1.7  NaN  -1.2\n",
      "three  2002    서울  3.6  NaN   NaN\n",
      "four   2001    충북  2.4  NaN  -1.5\n",
      "five   2002    인천  2.9  NaN  -1.7\n"
     ]
    }
   ],
   "source": [
    "#3.\n",
    "val = pd.Series([-1.2, -1.5, -1.7], index = ['two', 'four', 'five'])\n",
    "frame2['dept'] = val\n",
    "print(frame2)"
   ]
  },
  {
   "cell_type": "code",
   "execution_count": 37,
   "metadata": {},
   "outputs": [
    {
     "name": "stdout",
     "output_type": "stream",
     "text": [
      "Index(['year', 'state', 'pop', 'debt', 'dept', 'estern'], dtype='object')\n",
      "2000\n",
      "2000\n"
     ]
    }
   ],
   "source": [
    "#4.\n",
    "frame2['estern'] = frame2.state = '서울'\n",
    "print(frame2.columns)\n",
    "del frame2['estern']\n",
    "print(frame2['year']['one'])  # 열이 먼저옴\n",
    "print(frame2.loc['one','year'])\n"
   ]
  },
  {
   "cell_type": "code",
   "execution_count": 38,
   "metadata": {},
   "outputs": [],
   "source": [
    "\n",
    "# 시간 함수에 대해서 알아보자 \n",
    "# 리눅스: timestamp ==> 1970년 1월 1일 이후로 경과된 mili/sec로 표현 \n",
    "#  pandas 에서는 nano/sec까지 표현가능 \n",
    "# 시간 인덱스 :시계열 분석: DateTimeIndex, PeriodIndex 주기값. \n",
    "# pandas에 내부적으로 데이터를 저장할때는 timestamp 형식으로 저장한다. \n",
    "# 파이썬 : timte.time() : 2000.1.1 부터 경과된 mili초로 표현 \n",
    "# datetime(날짜와 시간을 표현)"
   ]
  },
  {
   "cell_type": "code",
   "execution_count": 39,
   "metadata": {},
   "outputs": [
    {
     "name": "stdout",
     "output_type": "stream",
     "text": [
      "1578488016.470439\n",
      "time.struct_time(tm_year=2020, tm_mon=1, tm_mday=8, tm_hour=21, tm_min=53, tm_sec=36, tm_wday=2, tm_yday=8, tm_isdst=0)\n",
      "time.struct_time(tm_year=2020, tm_mon=1, tm_mday=7, tm_hour=21, tm_min=53, tm_sec=36, tm_wday=1, tm_yday=7, tm_isdst=0)\n"
     ]
    },
    {
     "data": {
      "text/plain": [
       "'2020, 01, 08'"
      ]
     },
     "execution_count": 39,
     "metadata": {},
     "output_type": "execute_result"
    }
   ],
   "source": [
    "import time \n",
    "print(time.time())       # 밀리초로 표현\n",
    "print(time.localtime())         # 년원일 시분초 \n",
    "yesterday = time.localtime(time.time() - 60*60*24)         # 하루전으로 되돌리기 시간연산 가능 \n",
    "yesterday\n",
    "print(yesterday)\n",
    "time.strftime('%Y, %m, %d')      # 시간을 문자열로 변경해서 출력"
   ]
  },
  {
   "cell_type": "code",
   "execution_count": 40,
   "metadata": {},
   "outputs": [
    {
     "name": "stdout",
     "output_type": "stream",
     "text": [
      "2020-01-08 21:53:37.199489\n"
     ]
    },
    {
     "data": {
      "text/plain": [
       "1578488017.199489"
      ]
     },
     "execution_count": 40,
     "metadata": {},
     "output_type": "execute_result"
    }
   ],
   "source": [
    "from datetime import date, time, datetime, timedelta\n",
    "now = datetime.now()\n",
    "print(now)\n",
    "now.year, now.month, now.day\n",
    "now.timestamp()    # 시간을 밀리초로 표현하고 싶을때 "
   ]
  },
  {
   "cell_type": "code",
   "execution_count": 41,
   "metadata": {},
   "outputs": [
    {
     "data": {
      "text/plain": [
       "'2020-01-08 21:53:37'"
      ]
     },
     "execution_count": 41,
     "metadata": {},
     "output_type": "execute_result"
    }
   ],
   "source": [
    "now_str=now.strftime('%Y-%m-%d %H:%M:%S')    # 년월일시분초 ==> 문자열\n",
    "now_str"
   ]
  },
  {
   "cell_type": "code",
   "execution_count": 42,
   "metadata": {},
   "outputs": [
    {
     "data": {
      "text/plain": [
       "datetime.datetime(2020, 1, 8, 21, 53, 37)"
      ]
     },
     "execution_count": 42,
     "metadata": {},
     "output_type": "execute_result"
    }
   ],
   "source": [
    "datetime.strptime(now_str,'%Y-%m-%d %H:%M:%S')  # 날짜형식으로 변환"
   ]
  },
  {
   "cell_type": "code",
   "execution_count": 43,
   "metadata": {},
   "outputs": [
    {
     "name": "stdout",
     "output_type": "stream",
     "text": [
      "시간차는=  1657 days, 15:45:00 1657 56700\n"
     ]
    }
   ],
   "source": [
    "delta = datetime(2015, 1, 7) - datetime(2010,6,24,8,15)\n",
    "print('시간차는= ', delta, delta.days, delta.seconds)"
   ]
  },
  {
   "cell_type": "code",
   "execution_count": 44,
   "metadata": {},
   "outputs": [
    {
     "name": "stdout",
     "output_type": "stream",
     "text": [
      "2019-01-19 00:00:00\n"
     ]
    },
    {
     "data": {
      "text/plain": [
       "datetime.datetime(2019, 1, 6, 19, 0)"
      ]
     },
     "execution_count": 44,
     "metadata": {},
     "output_type": "execute_result"
    }
   ],
   "source": [
    "start = datetime(2019, 1,7)   \n",
    "print(start + timedelta(12))            # 기본 이날짜 \n",
    "start + timedelta(hours= -5)"
   ]
  },
  {
   "cell_type": "code",
   "execution_count": 45,
   "metadata": {},
   "outputs": [
    {
     "name": "stdout",
     "output_type": "stream",
     "text": [
      "2020-01-08 21:53:40.732038\n",
      "2017-03-01 00:00:00\n",
      "2020-04-24 00:14:15\n"
     ]
    }
   ],
   "source": [
    "import pandas as pd\n",
    "print(pd.datetime.now())\n",
    "print(pd.Timestamp('2017-03-01'))\n",
    "print(pd.Timestamp(1587687255, unit = 's'))"
   ]
  },
  {
   "cell_type": "code",
   "execution_count": 46,
   "metadata": {},
   "outputs": [
    {
     "name": "stdout",
     "output_type": "stream",
     "text": [
      "DatetimeIndex(['2020-01-08 11:00:00', '2020-01-08 11:30:00',\n",
      "               '2020-01-08 12:00:00', '2020-01-08 12:30:00',\n",
      "               '2020-01-08 13:00:00'],\n",
      "              dtype='datetime64[ns]', freq='30T')\n",
      "시간으로 [datetime.time(11, 0) datetime.time(11, 30) datetime.time(12, 0)\n",
      " datetime.time(12, 30) datetime.time(13, 0)]\n",
      "DatetimeIndex(['2020-01-08 11:00:00', '2020-01-08 12:00:00',\n",
      "               '2020-01-08 13:00:00'],\n",
      "              dtype='datetime64[ns]', freq='H')\n"
     ]
    }
   ],
   "source": [
    "# DatetimeIndex 생성: 행 : Index, 열키 : columns\n",
    "# 30분 단위로 \n",
    "print(pd.date_range('11:00', '13:00', freq = '30min'))\n",
    "print('시간으로', pd.date_range('11:00', '13:00', freq = '30min').time)\n",
    "print(pd.date_range('11:00', '13:00', freq ='H'))  # hour 단위 "
   ]
  },
  {
   "cell_type": "code",
   "execution_count": 47,
   "metadata": {},
   "outputs": [
    {
     "name": "stdout",
     "output_type": "stream",
     "text": [
      "0   2009-07-31\n",
      "1   2010-01-10\n",
      "2          NaT\n",
      "dtype: datetime64[ns]\n",
      "DatetimeIndex(['2005-11-23', '2010-12-31', 'NaT'], dtype='datetime64[ns]', freq=None)\n"
     ]
    }
   ],
   "source": [
    "print(pd.to_datetime(pd.Series(['Jul 31, 2009', '2010-01-10', None])))      #  지정된 시간을 index로 만들어준다. DatetimeIndex를 만들어줌\n",
    "print(pd.to_datetime(['2005/11/23', '2010.12.31', None]))                      "
   ]
  },
  {
   "cell_type": "code",
   "execution_count": 48,
   "metadata": {},
   "outputs": [
    {
     "name": "stdout",
     "output_type": "stream",
     "text": [
      "DatetimeIndex(['2017-01-01', '2017-01-02', '2017-01-03', '2017-01-04',\n",
      "               '2017-01-05'],\n",
      "              dtype='datetime64[ns]', freq='D')\n"
     ]
    }
   ],
   "source": [
    "print(pd.date_range('1/1/2017', periods = 5))  # 일간격 : 기본주기는 날짜 \n"
   ]
  },
  {
   "cell_type": "code",
   "execution_count": 49,
   "metadata": {},
   "outputs": [
    {
     "name": "stdout",
     "output_type": "stream",
     "text": [
      "DatetimeIndex(['2017-01-31', '2017-02-28', '2017-03-31', '2017-04-30',\n",
      "               '2017-05-31'],\n",
      "              dtype='datetime64[ns]', freq='M')\n"
     ]
    }
   ],
   "source": [
    "print(pd.date_range('1/1/2017', periods = 5, freq = 'M'))"
   ]
  },
  {
   "cell_type": "code",
   "execution_count": 50,
   "metadata": {},
   "outputs": [
    {
     "data": {
      "text/plain": [
       "<matplotlib.axes._subplots.AxesSubplot at 0x2a75fe7d9c8>"
      ]
     },
     "execution_count": 50,
     "metadata": {},
     "output_type": "execute_result"
    },
    {
     "data": {
      "image/png": "[encoded data removed]",
      "text/plain": [
       "<Figure size 432x288 with 1 Axes>"
      ]
     },
     "metadata": {
      "needs_background": "light"
     },
     "output_type": "display_data"
    },
    {
     "data": {
      "image/png": "[encoded data removed]",
      "text/plain": [
       "<Figure size 432x288 with 1 Axes>"
      ]
     },
     "metadata": {
      "needs_background": "light"
     },
     "output_type": "display_data"
    },
    {
     "data": {
      "image/png": "[encoded data removed]",
      "text/plain": [
       "<Figure size 432x288 with 1 Axes>"
      ]
     },
     "metadata": {
      "needs_background": "light"
     },
     "output_type": "display_data"
    }
   ],
   "source": [
    "ts = pd.Series(np.random.randn(1000),\n",
    "              index = pd.date_range('1/1/2000', periods = 1000))\n",
    "ts = ts.cumsum()\n",
    "ts.plot()\n",
    "\n",
    "df = pd.DataFrame(np.random.randn(1000,4), index = ts.index, columns = list('ABCD'))\n",
    "\n",
    "df = df.cumsum()\n",
    "df.plot()\n",
    "df.plot.bar()"
   ]
  },
  {
   "cell_type": "code",
   "execution_count": 51,
   "metadata": {},
   "outputs": [],
   "source": [
    "# 문제 다음 데이터를 데이터프레임에 저장하시요\n",
    "#         지역  2018     2017 2016 2015 2015-2018 증가율\n",
    "# 서울 수도권  9904312 9631482 9762546 9853972    0.0283\n",
    "# 부산 경상권  3448737 3393191 3512547 3655437    0.0163\n",
    "# 인천 수도권  2890451 2632035 2517680 2466338    0.0982\n",
    "# 대구 경상권  2466052 2431774 2456016 2473990    0.0141 "
   ]
  },
  {
   "cell_type": "code",
   "execution_count": 52,
   "metadata": {},
   "outputs": [],
   "source": [
    "columns = ['지역','2018','2017', '2016','2015', '2015-2018 증가율']\n",
    "index = ['서울', '부산', '인천', '대구']"
   ]
  },
  {
   "cell_type": "code",
   "execution_count": 53,
   "metadata": {},
   "outputs": [],
   "source": [
    "#문제 : '2015 - 2018 증가율'을 %로 변경하시오\n",
    "#문제: 2015-2017 의 증가율을 구해서 변수를 추가하시오     (열이름 : '2015 -2017 증가율')\n"
   ]
  },
  {
   "cell_type": "code",
   "execution_count": 54,
   "metadata": {},
   "outputs": [
    {
     "data": {
      "text/html": [
       "<div>\n",
       "<style scoped>\n",
       "    .dataframe tbody tr th:only-of-type {\n",
       "        vertical-align: middle;\n",
       "    }\n",
       "\n",
       "    .dataframe tbody tr th {\n",
       "        vertical-align: top;\n",
       "    }\n",
       "\n",
       "    .dataframe thead th {\n",
       "        text-align: right;\n",
       "    }\n",
       "</style>\n",
       "<table border=\"1\" class=\"dataframe\">\n",
       "  <thead>\n",
       "    <tr style=\"text-align: right;\">\n",
       "      <th></th>\n",
       "      <th>지역</th>\n",
       "      <th>2015</th>\n",
       "      <th>2016</th>\n",
       "      <th>2017</th>\n",
       "      <th>2018</th>\n",
       "      <th>2015-2018 증가율</th>\n",
       "    </tr>\n",
       "  </thead>\n",
       "  <tbody>\n",
       "    <tr>\n",
       "      <td>서울</td>\n",
       "      <td>수도권</td>\n",
       "      <td>9853972</td>\n",
       "      <td>9762546</td>\n",
       "      <td>9631482</td>\n",
       "      <td>9904312</td>\n",
       "      <td>0.0283</td>\n",
       "    </tr>\n",
       "    <tr>\n",
       "      <td>부산</td>\n",
       "      <td>경상권</td>\n",
       "      <td>3655437</td>\n",
       "      <td>3512547</td>\n",
       "      <td>3393191</td>\n",
       "      <td>3448737</td>\n",
       "      <td>0.0163</td>\n",
       "    </tr>\n",
       "    <tr>\n",
       "      <td>인천</td>\n",
       "      <td>수도권</td>\n",
       "      <td>2466338</td>\n",
       "      <td>2517680</td>\n",
       "      <td>2632035</td>\n",
       "      <td>2890451</td>\n",
       "      <td>0.0982</td>\n",
       "    </tr>\n",
       "    <tr>\n",
       "      <td>대구</td>\n",
       "      <td>경상권</td>\n",
       "      <td>2473990</td>\n",
       "      <td>2456016</td>\n",
       "      <td>2431774</td>\n",
       "      <td>2644052</td>\n",
       "      <td>0.0141</td>\n",
       "    </tr>\n",
       "  </tbody>\n",
       "</table>\n",
       "</div>"
      ],
      "text/plain": [
       "     지역     2015     2016     2017     2018  2015-2018 증가율\n",
       "서울  수도권  9853972  9762546  9631482  9904312         0.0283\n",
       "부산  경상권  3655437  3512547  3393191  3448737         0.0163\n",
       "인천  수도권  2466338  2517680  2632035  2890451         0.0982\n",
       "대구  경상권  2473990  2456016  2431774  2644052         0.0141"
      ]
     },
     "execution_count": 54,
     "metadata": {},
     "output_type": "execute_result"
    }
   ],
   "source": [
    "data={'2016' : [9762546,3512547,2517680,2456016],\n",
    "      '2017' : [9631482,3393191,2632035,2431774],\n",
    "      '2018' : [9904312,3448737,2890451,2644052],\n",
    "      '2015' : [9853972,3655437,2466338,2473990],\n",
    "      '2015-2018 증가율' : [0.0283,0.0163,0.0982,0.0141],\n",
    "      '지역' : ['수도권','경상권', '수도권', '경상권']}\n",
    "\n",
    "df = pd.DataFrame(data,columns=['지역','2015','2016','2017','2018','2015-2018 증가율'],\n",
    "                 index=['서울','부산','인천','대구'])\n",
    "\n",
    "  \n",
    "df"
   ]
  },
  {
   "cell_type": "code",
   "execution_count": 55,
   "metadata": {},
   "outputs": [
    {
     "data": {
      "text/html": [
       "<div>\n",
       "<style scoped>\n",
       "    .dataframe tbody tr th:only-of-type {\n",
       "        vertical-align: middle;\n",
       "    }\n",
       "\n",
       "    .dataframe tbody tr th {\n",
       "        vertical-align: top;\n",
       "    }\n",
       "\n",
       "    .dataframe thead th {\n",
       "        text-align: right;\n",
       "    }\n",
       "</style>\n",
       "<table border=\"1\" class=\"dataframe\">\n",
       "  <thead>\n",
       "    <tr style=\"text-align: right;\">\n",
       "      <th></th>\n",
       "      <th>지역</th>\n",
       "      <th>2015</th>\n",
       "      <th>2016</th>\n",
       "      <th>2017</th>\n",
       "      <th>2018</th>\n",
       "      <th>2015-2018 증가율</th>\n",
       "    </tr>\n",
       "  </thead>\n",
       "  <tbody>\n",
       "    <tr>\n",
       "      <td>서울</td>\n",
       "      <td>수도권</td>\n",
       "      <td>9853972</td>\n",
       "      <td>9762546</td>\n",
       "      <td>9631482</td>\n",
       "      <td>9904312</td>\n",
       "      <td>2.83</td>\n",
       "    </tr>\n",
       "    <tr>\n",
       "      <td>부산</td>\n",
       "      <td>경상권</td>\n",
       "      <td>3655437</td>\n",
       "      <td>3512547</td>\n",
       "      <td>3393191</td>\n",
       "      <td>3448737</td>\n",
       "      <td>1.63</td>\n",
       "    </tr>\n",
       "    <tr>\n",
       "      <td>인천</td>\n",
       "      <td>수도권</td>\n",
       "      <td>2466338</td>\n",
       "      <td>2517680</td>\n",
       "      <td>2632035</td>\n",
       "      <td>2890451</td>\n",
       "      <td>9.82</td>\n",
       "    </tr>\n",
       "    <tr>\n",
       "      <td>대구</td>\n",
       "      <td>경상권</td>\n",
       "      <td>2473990</td>\n",
       "      <td>2456016</td>\n",
       "      <td>2431774</td>\n",
       "      <td>2644052</td>\n",
       "      <td>1.41</td>\n",
       "    </tr>\n",
       "  </tbody>\n",
       "</table>\n",
       "</div>"
      ],
      "text/plain": [
       "     지역     2015     2016     2017     2018  2015-2018 증가율\n",
       "서울  수도권  9853972  9762546  9631482  9904312           2.83\n",
       "부산  경상권  3655437  3512547  3393191  3448737           1.63\n",
       "인천  수도권  2466338  2517680  2632035  2890451           9.82\n",
       "대구  경상권  2473990  2456016  2431774  2644052           1.41"
      ]
     },
     "execution_count": 55,
     "metadata": {},
     "output_type": "execute_result"
    }
   ],
   "source": [
    "df['2015-2018 증가율']=df['2015-2018 증가율']*100\n",
    "df"
   ]
  },
  {
   "cell_type": "code",
   "execution_count": 56,
   "metadata": {},
   "outputs": [
    {
     "data": {
      "text/html": [
       "<div>\n",
       "<style scoped>\n",
       "    .dataframe tbody tr th:only-of-type {\n",
       "        vertical-align: middle;\n",
       "    }\n",
       "\n",
       "    .dataframe tbody tr th {\n",
       "        vertical-align: top;\n",
       "    }\n",
       "\n",
       "    .dataframe thead th {\n",
       "        text-align: right;\n",
       "    }\n",
       "</style>\n",
       "<table border=\"1\" class=\"dataframe\">\n",
       "  <thead>\n",
       "    <tr style=\"text-align: right;\">\n",
       "      <th></th>\n",
       "      <th>지역</th>\n",
       "      <th>2015</th>\n",
       "      <th>2016</th>\n",
       "      <th>2017</th>\n",
       "      <th>2018</th>\n",
       "      <th>2015-2018 증가율</th>\n",
       "      <th>2015-2017 증가율</th>\n",
       "    </tr>\n",
       "  </thead>\n",
       "  <tbody>\n",
       "    <tr>\n",
       "      <td>서울</td>\n",
       "      <td>수도권</td>\n",
       "      <td>9853972</td>\n",
       "      <td>9762546</td>\n",
       "      <td>9631482</td>\n",
       "      <td>9904312</td>\n",
       "      <td>2.83</td>\n",
       "      <td>0.022579</td>\n",
       "    </tr>\n",
       "    <tr>\n",
       "      <td>부산</td>\n",
       "      <td>경상권</td>\n",
       "      <td>3655437</td>\n",
       "      <td>3512547</td>\n",
       "      <td>3393191</td>\n",
       "      <td>3448737</td>\n",
       "      <td>1.63</td>\n",
       "      <td>0.071741</td>\n",
       "    </tr>\n",
       "    <tr>\n",
       "      <td>인천</td>\n",
       "      <td>수도권</td>\n",
       "      <td>2466338</td>\n",
       "      <td>2517680</td>\n",
       "      <td>2632035</td>\n",
       "      <td>2890451</td>\n",
       "      <td>9.82</td>\n",
       "      <td>-0.067183</td>\n",
       "    </tr>\n",
       "    <tr>\n",
       "      <td>대구</td>\n",
       "      <td>경상권</td>\n",
       "      <td>2473990</td>\n",
       "      <td>2456016</td>\n",
       "      <td>2431774</td>\n",
       "      <td>2644052</td>\n",
       "      <td>1.41</td>\n",
       "      <td>0.017064</td>\n",
       "    </tr>\n",
       "  </tbody>\n",
       "</table>\n",
       "</div>"
      ],
      "text/plain": [
       "     지역     2015     2016     2017     2018  2015-2018 증가율  2015-2017 증가율\n",
       "서울  수도권  9853972  9762546  9631482  9904312           2.83       0.022579\n",
       "부산  경상권  3655437  3512547  3393191  3448737           1.63       0.071741\n",
       "인천  수도권  2466338  2517680  2632035  2890451           9.82      -0.067183\n",
       "대구  경상권  2473990  2456016  2431774  2644052           1.41       0.017064"
      ]
     },
     "execution_count": 56,
     "metadata": {},
     "output_type": "execute_result"
    }
   ],
   "source": [
    "df['2015-2017 증가율'] = (df['2015']-df['2017'])/df['2015']\n",
    "df"
   ]
  },
  {
   "cell_type": "code",
   "execution_count": null,
   "metadata": {},
   "outputs": [],
   "source": []
  }
 ],
 "metadata": {
  "kernelspec": {
   "display_name": "Python 3",
   "language": "python",
   "name": "python3"
  },
  "language_info": {
   "codemirror_mode": {
    "name": "ipython",
    "version": 3
   },
   "file_extension": ".py",
   "mimetype": "text/x-python",
   "name": "python",
   "nbconvert_exporter": "python",
   "pygments_lexer": "ipython3",
   "version": "3.7.4"
  }
 },
 "nbformat": 4,
 "nbformat_minor": 2
}
