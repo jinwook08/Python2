{
 "cells": [
  {
   "cell_type": "markdown",
   "metadata": {},
   "source": [
    "# 리스트, 튜플"
   ]
  },
  {
   "cell_type": "code",
   "execution_count": null,
   "metadata": {},
   "outputs": [],
   "source": [
    "## 변수에 값을 저장할 때 [](대괄호)로 묶어주면 리스트가 되며 각 값은, 콤마로 구분해준다, \n",
    "#리스트=[값,값,값]"
   ]
  },
  {
   "cell_type": "code",
   "execution_count": 2,
   "metadata": {},
   "outputs": [
    {
     "data": {
      "text/plain": [
       "[38, 21, 53, 62, 19]"
      ]
     },
     "execution_count": 2,
     "metadata": {},
     "output_type": "execute_result"
    }
   ],
   "source": [
    "#리스트 만들기\n",
    "a = [38,21,53,62,19]\n",
    "a"
   ]
  },
  {
   "cell_type": "code",
   "execution_count": 3,
   "metadata": {},
   "outputs": [
    {
     "data": {
      "text/plain": [
       "['james', 17, 175.3, True]"
      ]
     },
     "execution_count": 3,
     "metadata": {},
     "output_type": "execute_result"
    }
   ],
   "source": [
    "#리스트에 여러 가지 자료형 저장하기 \n",
    "# 리스트는 문자열, 정수 , 실수, 불 등 모든 자료형을 저장할 수 있으며 자료형을 섞어서 저장해도 된다. \n",
    "\n",
    "person = ['james',17,175.3,True]\n",
    "person\n",
    "\n",
    "#이 처럼 리스트에 여러 가지 자료형을 사용하면 관련 정보를 하나로 묶기 좋다. \n"
   ]
  },
  {
   "cell_type": "code",
   "execution_count": 7,
   "metadata": {},
   "outputs": [
    {
     "data": {
      "text/plain": [
       "[]"
      ]
     },
     "execution_count": 7,
     "metadata": {},
     "output_type": "execute_result"
    }
   ],
   "source": [
    "# 빈 리스트 만들기\n",
    "\n",
    "b = list()\n",
    "b\n"
   ]
  },
  {
   "cell_type": "code",
   "execution_count": null,
   "metadata": {},
   "outputs": [],
   "source": [
    "a = []\n",
    "a\n",
    "#위의 두 방법으로 빈 리스트를 만들 수 있다. \n",
    "# 빈 리스트를 이용해서 새 값을 추가 하는 방식으로 사용한다. "
   ]
  },
  {
   "cell_type": "code",
   "execution_count": 8,
   "metadata": {},
   "outputs": [
    {
     "data": {
      "text/plain": [
       "range(0, 10)"
      ]
     },
     "execution_count": 8,
     "metadata": {},
     "output_type": "execute_result"
    }
   ],
   "source": [
    "# range를 이용하여 리스트 만들기\n",
    "\n",
    "range(10)\n",
    "\n",
    "# 이때 결과로 range(0,10)이 나와서 10까지 생성될 것 같지만 10은 포함되지 않습니다. "
   ]
  },
  {
   "cell_type": "code",
   "execution_count": 10,
   "metadata": {},
   "outputs": [
    {
     "data": {
      "text/plain": [
       "[0, 1, 2, 3, 4, 5, 6, 7, 8, 9]"
      ]
     },
     "execution_count": 10,
     "metadata": {},
     "output_type": "execute_result"
    }
   ],
   "source": [
    "a = list(range(10))\n",
    "a\n",
    "# 파이썬은 0 베이스이기 때문에 항상 시작을 0부터 시작한다. "
   ]
  },
  {
   "cell_type": "code",
   "execution_count": 11,
   "metadata": {},
   "outputs": [
    {
     "data": {
      "text/plain": [
       "[5, 6, 7, 8, 9, 10, 11]"
      ]
     },
     "execution_count": 11,
     "metadata": {},
     "output_type": "execute_result"
    }
   ],
   "source": [
    "#리스트 = list(rnage(시작, 끝))\n",
    "\n",
    "b = list(range(5,12))\n",
    "b\n",
    "\n",
    "#5부터 11까지"
   ]
  },
  {
   "cell_type": "code",
   "execution_count": 13,
   "metadata": {},
   "outputs": [
    {
     "data": {
      "text/plain": [
       "[-4, -2, 0, 2, 4, 6, 8, 10, 12, 14]"
      ]
     },
     "execution_count": 13,
     "metadata": {},
     "output_type": "execute_result"
    }
   ],
   "source": [
    "#리스트 = list(range(시작,끝, 증가폭))\n",
    "\n",
    "list(range(-4, 15, 2))\n"
   ]
  },
  {
   "cell_type": "code",
   "execution_count": 17,
   "metadata": {},
   "outputs": [
    {
     "data": {
      "text/plain": [
       "[2, 0, -2, -4, -6, -8, -10, -12, -14]"
      ]
     },
     "execution_count": 17,
     "metadata": {},
     "output_type": "execute_result"
    }
   ],
   "source": [
    "# 증가폭을 음수로 지정할 경우\n",
    "\n",
    "list(range(2,-15,-2))\n"
   ]
  },
  {
   "cell_type": "code",
   "execution_count": null,
   "metadata": {},
   "outputs": [],
   "source": [
    "# 튜플을 사용하기 \n",
    "\n",
    "#튜플은 리스트처럼 요소를 일렬로 저장하지만, 안에 저장된 요소를 변경, 추가, 삭제 할 수 없습니다. \n",
    "#간단하게 읽기 전용 리스트라고 할 수 있다. \n",
    "#변수 값을 저장할 떄 ()로 묶어주면 튜플이 되며 각 값은, ,(콤마)로 구분해준다 .또는\n",
    "#괄호로 묶지 않고 값만 콤마로 구분해도 튜플이 된다. \n",
    "\n",
    "#튜플 = (값,값,값)\n",
    "#튜플 =값,값,값"
   ]
  },
  {
   "cell_type": "code",
   "execution_count": 20,
   "metadata": {},
   "outputs": [
    {
     "data": {
      "text/plain": [
       "tuple"
      ]
     },
     "execution_count": 20,
     "metadata": {},
     "output_type": "execute_result"
    }
   ],
   "source": [
    "# 튜플 만들기\n",
    "\n",
    "a =(1,2,3,4,5)\n",
    "\n",
    "a\n",
    "\n",
    "type(a)"
   ]
  },
  {
   "cell_type": "code",
   "execution_count": 21,
   "metadata": {},
   "outputs": [
    {
     "data": {
      "text/plain": [
       "tuple"
      ]
     },
     "execution_count": 21,
     "metadata": {},
     "output_type": "execute_result"
    }
   ],
   "source": [
    "b = 1,2,3,4,5\n",
    "b\n",
    "type(b)"
   ]
  },
  {
   "cell_type": "code",
   "execution_count": 23,
   "metadata": {},
   "outputs": [
    {
     "data": {
      "text/plain": [
       "tuple"
      ]
     },
     "execution_count": 23,
     "metadata": {},
     "output_type": "execute_result"
    }
   ],
   "source": [
    "# 튜플도 리스트처럼 여러 자료형을 섞어서 저장해도 된다.\n",
    "\n",
    "person = ('james',17,170.5,True)\n",
    "person\n",
    "type(person)"
   ]
  },
  {
   "cell_type": "code",
   "execution_count": null,
   "metadata": {},
   "outputs": [],
   "source": [
    "# 저장된 요소를 변경, 추가,삭제할 수도 없는 튜플을 왜 만들었을까?\n",
    "# 파이썬 프로그래밍에서 튜플을 사용하는 쪽이 더 유리한 때도 있기 때문이다. \n",
    "# 보통 튜플은 요소가 절대 변경되지 않고 유지되어야 한다. \n",
    "\n",
    "#튜플을 만든 상태에서 요소를 변경하게 되면 에러가 발생하게 된다. 따라서 요소를 실수로 변경하는 상황을 방지할 수 있다. \n",
    "# 요소를 자주 변경해야 할 때는 리스트를 사용한다, 보통 실무에서는 요소를 변경하는 경우가 많으므로 튜플보다 리스트를 더 자주 사용하는 편이다. "
   ]
  },
  {
   "cell_type": "markdown",
   "metadata": {},
   "source": [
    "# 요소가 한 개 들어있는 튜플 만들기 "
   ]
  },
  {
   "cell_type": "code",
   "execution_count": 24,
   "metadata": {},
   "outputs": [
    {
     "data": {
      "text/plain": [
       "38"
      ]
     },
     "execution_count": 24,
     "metadata": {},
     "output_type": "execute_result"
    }
   ],
   "source": [
    "(38)\n",
    "\n",
    "# 다음과 같이 값 한 개를 괄호로 묶으면 튜플이 아니라 그냥 값이 된다. "
   ]
  },
  {
   "cell_type": "code",
   "execution_count": 27,
   "metadata": {},
   "outputs": [
    {
     "data": {
      "text/plain": [
       "(38,)"
      ]
     },
     "execution_count": 27,
     "metadata": {},
     "output_type": "execute_result"
    }
   ],
   "source": [
    "#요소가 한 개인 튜플을 만들 때는 () 안에 값 한개를 넣고 , (콤마)를 붙인다. 또는 괄호로 묶지 않고 값 한 개에 , 를 붙여도 된다\n",
    "\n",
    "#튜플 =(값,)\n",
    "#튜플 = 값, \n",
    "\n",
    "# (38,)\n",
    "\n",
    "38,"
   ]
  },
  {
   "cell_type": "code",
   "execution_count": null,
   "metadata": {},
   "outputs": [],
   "source": [
    "# 튜플은 요소를 변경, 추가 , 삭제할 수도 없는데 값 한 개짜리 튜플은 왜 필요할까?\n",
    "#함수를 사용하다 보면 값이 아닌 튜플을 넣어야 할 경우가 생긴다. 이때 값은 한 개지만\n",
    "#튜플을 넣어야 할 때 (값, )과 같은 형식을 사용해야한다. "
   ]
  },
  {
   "cell_type": "markdown",
   "metadata": {},
   "source": [
    "# range를 사용하여 튜플 만들기 "
   ]
  },
  {
   "cell_type": "code",
   "execution_count": 29,
   "metadata": {},
   "outputs": [
    {
     "data": {
      "text/plain": [
       "(0, 1, 2, 3, 4, 5, 6, 7, 8, 9)"
      ]
     },
     "execution_count": 29,
     "metadata": {},
     "output_type": "execute_result"
    }
   ],
   "source": [
    "a = tuple(range(10))\n",
    "a"
   ]
  },
  {
   "cell_type": "code",
   "execution_count": 31,
   "metadata": {},
   "outputs": [
    {
     "data": {
      "text/plain": [
       "(5, 6, 7, 8, 9, 10, 11)"
      ]
     },
     "execution_count": 31,
     "metadata": {},
     "output_type": "execute_result"
    }
   ],
   "source": [
    "b = tuple(range(5,12))\n",
    "b"
   ]
  },
  {
   "cell_type": "code",
   "execution_count": 34,
   "metadata": {},
   "outputs": [
    {
     "data": {
      "text/plain": [
       "(5, 3, 1, -1, -3, -5, -7, -9, -11, -13, -15, -17, -19)"
      ]
     },
     "execution_count": 34,
     "metadata": {},
     "output_type": "execute_result"
    }
   ],
   "source": [
    "c = tuple(range(5,-20,-2))\n",
    "c"
   ]
  },
  {
   "cell_type": "markdown",
   "metadata": {},
   "source": [
    "# 튜플을 리스트로 만들고 리스트를 튜플로 만들기"
   ]
  },
  {
   "cell_type": "code",
   "execution_count": 35,
   "metadata": {},
   "outputs": [
    {
     "data": {
      "text/plain": [
       "(1, 2, 3)"
      ]
     },
     "execution_count": 35,
     "metadata": {},
     "output_type": "execute_result"
    }
   ],
   "source": [
    "a = [1,2,3]         # a = 리스트이다\n",
    "tuple(a)       #리스트를 튜프롤 바꾸어준다"
   ]
  },
  {
   "cell_type": "code",
   "execution_count": 37,
   "metadata": {},
   "outputs": [
    {
     "data": {
      "text/plain": [
       "[1, 2, 3]"
      ]
     },
     "execution_count": 37,
     "metadata": {},
     "output_type": "execute_result"
    }
   ],
   "source": [
    "b = 1,2,3  #b = 튜플\n",
    "b\n",
    "list(b)  #튜플을 리스트로 바꾸어준다"
   ]
  },
  {
   "cell_type": "code",
   "execution_count": 38,
   "metadata": {},
   "outputs": [
    {
     "data": {
      "text/plain": [
       "['H', 'e', 'l', 'l', 'o']"
      ]
     },
     "execution_count": 38,
     "metadata": {},
     "output_type": "execute_result"
    }
   ],
   "source": [
    "list('Hello')"
   ]
  },
  {
   "cell_type": "code",
   "execution_count": 46,
   "metadata": {},
   "outputs": [
    {
     "name": "stdout",
     "output_type": "stream",
     "text": [
      "1 2 3\n",
      "1 ,2 ,3\n"
     ]
    }
   ],
   "source": [
    "# 리스트와 튜플로 변수 만들기\n",
    "\n",
    "a,b,c =[1,2,3]\n",
    "print(a,b,c, end='\\n')\n",
    "\n",
    "\n",
    "a,b,c = (1,2,3)\n",
    "print(a,b,c, sep =' ,')"
   ]
  },
  {
   "cell_type": "code",
   "execution_count": 78,
   "metadata": {},
   "outputs": [
    {
     "name": "stdout",
     "output_type": "stream",
     "text": [
      "1 2 3\n",
      "4 5 6\n",
      "7 8 9\n"
     ]
    }
   ],
   "source": [
    "#리스트 언패킹과 튜플 언패킹 \n",
    "\n",
    "\n",
    "x = list(range(1,4))\n",
    "a,b,c = x\n",
    "print(a,b,c)\n",
    "\n",
    "y = [4,5,6]\n",
    "d,e,f = y\n",
    "print(d,e,f)\n",
    "\n",
    "z = (7,8,9)\n",
    "d,e,f = z\n",
    "print(d,e,f)"
   ]
  },
  {
   "cell_type": "code",
   "execution_count": 82,
   "metadata": {},
   "outputs": [
    {
     "name": "stdout",
     "output_type": "stream",
     "text": [
      "10 20\n"
     ]
    },
    {
     "data": {
      "text/plain": [
       "['10', '20']"
      ]
     },
     "execution_count": 82,
     "metadata": {},
     "output_type": "execute_result"
    }
   ],
   "source": [
    "input().split() #문자열 리스트로 숫자가 나온다 "
   ]
  },
  {
   "cell_type": "code",
   "execution_count": 3,
   "metadata": {},
   "outputs": [
    {
     "name": "stdout",
     "output_type": "stream",
     "text": [
      "10 20\n",
      "10 20\n"
     ]
    }
   ],
   "source": [
    "x = input().split()\n",
    "a,b = x\n",
    "print(a,b)"
   ]
  },
  {
   "cell_type": "code",
   "execution_count": 88,
   "metadata": {},
   "outputs": [
    {
     "name": "stdout",
     "output_type": "stream",
     "text": [
      "[1, 2, 3] (1, 2, 3) (1, 2, 3)\n",
      "<class 'list'>\n",
      "<class 'tuple'>\n",
      "<class 'tuple'>\n"
     ]
    }
   ],
   "source": [
    "# 리스트 패킹과 튜플 패킹은 변수에 리스트 또는 튜플을 할당하는 과정을 뜻한다.\n",
    "\n",
    "a = [1,2,3]\n",
    "b = (1,2,3)\n",
    "c = 1,2,3\n",
    "\n",
    "print(a,b,c)\n",
    "print(type(a))\n",
    "print(type(b))\n",
    "print(type(c))"
   ]
  },
  {
   "cell_type": "code",
   "execution_count": 91,
   "metadata": {},
   "outputs": [
    {
     "name": "stdout",
     "output_type": "stream",
     "text": [
      "3\n",
      "(-10, -7, -4, -1, 2, 5, 8)\n"
     ]
    }
   ],
   "source": [
    "a = int(input())\n",
    "b = tuple(range(-10, 10 , 3))\n",
    "print(b)"
   ]
  }
 ],
 "metadata": {
  "kernelspec": {
   "display_name": "Python 3",
   "language": "python",
   "name": "python3"
  },
  "language_info": {
   "codemirror_mode": {
    "name": "ipython",
    "version": 3
   },
   "file_extension": ".py",
   "mimetype": "text/x-python",
   "name": "python",
   "nbconvert_exporter": "python",
   "pygments_lexer": "ipython3",
   "version": "3.7.4"
  }
 },
 "nbformat": 4,
 "nbformat_minor": 2
}
