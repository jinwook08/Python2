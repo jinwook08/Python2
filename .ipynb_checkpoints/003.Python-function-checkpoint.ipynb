{
 "cells": [
  {
   "cell_type": "markdown",
   "metadata": {},
   "source": [
    "# 함수(function)\n",
    "-함수 이름은 중복이 되면 안된다 (오버로딩은  default 매개변수로 해결)\n",
    "-Required augments( 매개변수를 순서적으로 입력 )\n",
    "-keyword augument( 키이 매개변수의 순서 변경이 가능 )\n",
    "-default augument( 오버로딩 해결 )\n",
    "-variable-length augument( 변동매개변수 : *--> list, **--> dict )\n"
   ]
  },
  {
   "cell_type": "code",
   "execution_count": null,
   "metadata": {},
   "outputs": [],
   "source": []
  },
  {
   "cell_type": "code",
   "execution_count": 3,
   "metadata": {},
   "outputs": [
    {
     "name": "stdout",
     "output_type": "stream",
     "text": [
      "30\n"
     ]
    }
   ],
   "source": [
    "a = 10\n",
    "b = 20\n",
    "result = a+b\n",
    "print(result)\n",
    "\n",
    "a = 390\n",
    "b = 65\n",
    "result = a+b\n",
    "print(result)\n",
    "\n",
    "#이렇게 하는것 보다는 함수를 하나 만들자"
   ]
  },
  {
   "cell_type": "code",
   "execution_count": 6,
   "metadata": {},
   "outputs": [
    {
     "name": "stdout",
     "output_type": "stream",
     "text": [
      "30\n",
      "43\n"
     ]
    }
   ],
   "source": [
    "#사용자 정의 함수\n",
    "\n",
    "\n",
    "def add(a,b):\n",
    "    return a+b\n",
    "print(add(10,20))\n",
    "print(add(10,33))"
   ]
  },
  {
   "cell_type": "code",
   "execution_count": 7,
   "metadata": {},
   "outputs": [
    {
     "name": "stdout",
     "output_type": "stream",
     "text": [
      "30\n",
      "43\n"
     ]
    }
   ],
   "source": [
    "def add(ab,bd):\n",
    "    return ab+bd        #ab= 10, bd= 20 주소값만 전달 call by reference\n",
    "print(add(10,20))          # 호출시 데이터는 힙에 저장 --> 주소값만 전달 \n",
    "print(add(10,33))"
   ]
  },
  {
   "cell_type": "markdown",
   "metadata": {},
   "source": [
    "# 회귀 분석\n",
    "\n",
    "y = ax +b # a=기울기 계수, b = bias 절편"
   ]
  },
  {
   "cell_type": "code",
   "execution_count": 10,
   "metadata": {},
   "outputs": [
    {
     "data": {
      "text/plain": [
       "1030"
      ]
     },
     "execution_count": 10,
     "metadata": {},
     "output_type": "execute_result"
    }
   ],
   "source": [
    "#회귀식\n",
    "\n",
    "def reg(a,b,x):\n",
    "    return a*x+b\n",
    "reg(10,30,100)"
   ]
  },
  {
   "cell_type": "code",
   "execution_count": 12,
   "metadata": {},
   "outputs": [
    {
     "name": "stdout",
     "output_type": "stream",
     "text": [
      "1030\n"
     ]
    }
   ],
   "source": [
    "#그런데 회귀식에서   a값과 b값은 고정된다.\n",
    "# 따라서\n",
    "\n",
    "def reg(x):\n",
    "    a = 10\n",
    "    b = 30\n",
    "    return a*x + b\n",
    "print(reg(100))"
   ]
  },
  {
   "cell_type": "code",
   "execution_count": 16,
   "metadata": {},
   "outputs": [
    {
     "name": "stdout",
     "output_type": "stream",
     "text": [
      "10보다 크다\n"
     ]
    }
   ],
   "source": [
    "# 두수를 더한 값이 10보다 큰지 확인하시오\n",
    "\n",
    "a= 10\n",
    "b= 20\n",
    "result = a+b \n",
    "\n",
    "if result >= 10:\n",
    "    result = '10보다 크다'\n",
    "else:\n",
    "    result = '10보다 작다'\n",
    "\n",
    "print(result)"
   ]
  },
  {
   "cell_type": "code",
   "execution_count": 19,
   "metadata": {},
   "outputs": [
    {
     "data": {
      "text/plain": [
       "'10보다 작다'"
      ]
     },
     "execution_count": 19,
     "metadata": {},
     "output_type": "execute_result"
    }
   ],
   "source": [
    "# 위에것을 함수로 정의하기\n",
    "\n",
    "def sum_1(a,b):\n",
    "    result = a+b\n",
    "    if result >= 10:\n",
    "        result = '10보다 크다'\n",
    "    else:\n",
    "        result = '10보다 작다'\n",
    "    return result\n",
    "sum_1(2,3)"
   ]
  },
  {
   "cell_type": "code",
   "execution_count": 29,
   "metadata": {},
   "outputs": [
    {
     "name": "stdout",
     "output_type": "stream",
     "text": [
      "(10, 20)\n"
     ]
    }
   ],
   "source": [
    "a = 10\n",
    "b = 20\n",
    "def swap(x,y):\n",
    "    return y,x\n",
    "a,b = swap(a,b)\n",
    "x= swap(a,b)\n",
    "print(x)"
   ]
  },
  {
   "cell_type": "code",
   "execution_count": 32,
   "metadata": {},
   "outputs": [
    {
     "name": "stdout",
     "output_type": "stream",
     "text": [
      "결과: 30\n",
      "결과: -10\n",
      "결과: 200\n"
     ]
    }
   ],
   "source": [
    "# 두 수를 입력받아 +.-,* 하는 함수 3개를 작성하시오\n",
    "\n",
    "def add(a,b):\n",
    "    result =(a+b)\n",
    "    return result\n",
    "def substract (a,b):\n",
    "    result = (a-b)\n",
    "    return result\n",
    "def multiply (a,b):\n",
    "    result = (a*b)\n",
    "    return result\n",
    "# 함수는 일급함수: 함수가 매개변수로 전달가능, 리턴값으로 가능\n",
    "def changefun(g,a,b):\n",
    "    return g(a,b)\n",
    "print('결과:', changefun(add,10,20))\n",
    "print('결과:', changefun(substract,10,20))\n",
    "print('결과:', changefun(multiply,10,20))"
   ]
  },
  {
   "cell_type": "code",
   "execution_count": 43,
   "metadata": {},
   "outputs": [
    {
     "name": "stdout",
     "output_type": "stream",
     "text": [
      "함수 내부에서 출력 :  [10, 20, 30, [1, 2, 3, 4]]\n",
      "함수 외부에서 출력: [10, 20, 30, [1, 2, 3, 4]]\n"
     ]
    }
   ],
   "source": [
    "def chan (mylist):                  # mylist = mylist주소 , stack 에 쌓인다   아래와 위의 영역이 다름\n",
    "    mylist.append([1,2,3,4])\n",
    "    print('함수 내부에서 출력 : ', mylist)\n",
    "    return\n",
    "mylist = [10,20,30]   #heap에 저장된다. 이유: 주소값이 넘어갔기 때문에 --> call by reference\n",
    "chan(mylist)\n",
    "print('함수 외부에서 출력:',mylist)"
   ]
  },
  {
   "cell_type": "code",
   "execution_count": null,
   "metadata": {},
   "outputs": [],
   "source": [
    "def chan (mylist):                  # mylist = mylist주소 , stack 에 쌓인다   아래와 위의 영역이 다름\n",
    "    mylist=[1,2,3,4]                     # 넘어 온 영역에서 대입이 일어난다 ==> call by value\n",
    "    print('함수 내부에서 출력 : ', mylist)\n",
    "    return\n",
    "mylist = [10,20,30]   #heap에 저장된다. 이유: 주소값이 넘어갔기 때문에 --> call by reference\n",
    "chan(mylist)\n",
    "print('함수 외부에서 출력:',mylist)"
   ]
  },
  {
   "cell_type": "code",
   "execution_count": 44,
   "metadata": {},
   "outputs": [
    {
     "ename": "AttributeError",
     "evalue": "'set' object has no attribute 'append'",
     "output_type": "error",
     "traceback": [
      "\u001b[1;31m---------------------------------------------------------------------------\u001b[0m",
      "\u001b[1;31mAttributeError\u001b[0m                            Traceback (most recent call last)",
      "\u001b[1;32m<ipython-input-44-36df49dc3135>\u001b[0m in \u001b[0;36m<module>\u001b[1;34m\u001b[0m\n\u001b[0;32m      1\u001b[0m \u001b[0mmylist\u001b[0m \u001b[1;33m=\u001b[0m \u001b[1;33m{\u001b[0m\u001b[1;36m10\u001b[0m\u001b[1;33m,\u001b[0m\u001b[1;36m20\u001b[0m\u001b[1;33m,\u001b[0m\u001b[1;36m30\u001b[0m\u001b[1;33m}\u001b[0m\u001b[1;33m\u001b[0m\u001b[1;33m\u001b[0m\u001b[0m\n\u001b[1;32m----> 2\u001b[1;33m \u001b[0mchan\u001b[0m\u001b[1;33m(\u001b[0m\u001b[0mmylist\u001b[0m\u001b[1;33m)\u001b[0m\u001b[1;33m\u001b[0m\u001b[1;33m\u001b[0m\u001b[0m\n\u001b[0m\u001b[0;32m      3\u001b[0m \u001b[0mprint\u001b[0m\u001b[1;33m(\u001b[0m\u001b[1;34m' 함수 외부에서 출력:'\u001b[0m\u001b[1;33m,\u001b[0m \u001b[0mmylist\u001b[0m\u001b[1;33m)\u001b[0m\u001b[1;33m\u001b[0m\u001b[1;33m\u001b[0m\u001b[0m\n",
      "\u001b[1;32m<ipython-input-43-5a1226b071f2>\u001b[0m in \u001b[0;36mchan\u001b[1;34m(mylist)\u001b[0m\n\u001b[0;32m      1\u001b[0m \u001b[1;32mdef\u001b[0m \u001b[0mchan\u001b[0m \u001b[1;33m(\u001b[0m\u001b[0mmylist\u001b[0m\u001b[1;33m)\u001b[0m\u001b[1;33m:\u001b[0m                  \u001b[1;31m# mylist = mylist주소 , stack 에 쌓인다   아래와 위의 영역이 다름\u001b[0m\u001b[1;33m\u001b[0m\u001b[1;33m\u001b[0m\u001b[0m\n\u001b[1;32m----> 2\u001b[1;33m     \u001b[0mmylist\u001b[0m\u001b[1;33m.\u001b[0m\u001b[0mappend\u001b[0m\u001b[1;33m(\u001b[0m\u001b[1;33m[\u001b[0m\u001b[1;36m1\u001b[0m\u001b[1;33m,\u001b[0m\u001b[1;36m2\u001b[0m\u001b[1;33m,\u001b[0m\u001b[1;36m3\u001b[0m\u001b[1;33m,\u001b[0m\u001b[1;36m4\u001b[0m\u001b[1;33m]\u001b[0m\u001b[1;33m)\u001b[0m\u001b[1;33m\u001b[0m\u001b[1;33m\u001b[0m\u001b[0m\n\u001b[0m\u001b[0;32m      3\u001b[0m     \u001b[0mprint\u001b[0m\u001b[1;33m(\u001b[0m\u001b[1;34m'함수 내부에서 출력 : '\u001b[0m\u001b[1;33m,\u001b[0m \u001b[0mmylist\u001b[0m\u001b[1;33m)\u001b[0m\u001b[1;33m\u001b[0m\u001b[1;33m\u001b[0m\u001b[0m\n\u001b[0;32m      4\u001b[0m     \u001b[1;32mreturn\u001b[0m\u001b[1;33m\u001b[0m\u001b[1;33m\u001b[0m\u001b[0m\n\u001b[0;32m      5\u001b[0m \u001b[0mmylist\u001b[0m \u001b[1;33m=\u001b[0m \u001b[1;33m[\u001b[0m\u001b[1;36m10\u001b[0m\u001b[1;33m,\u001b[0m\u001b[1;36m20\u001b[0m\u001b[1;33m,\u001b[0m\u001b[1;36m30\u001b[0m\u001b[1;33m]\u001b[0m   \u001b[1;31m#heap에 저장된다. 이유: 주소값이 넘어갔기 때문에 --> call by reference\u001b[0m\u001b[1;33m\u001b[0m\u001b[1;33m\u001b[0m\u001b[0m\n",
      "\u001b[1;31mAttributeError\u001b[0m: 'set' object has no attribute 'append'"
     ]
    }
   ],
   "source": [
    "# 실행이 안되는 이유는 딕셔너리여서 위에 43번과 데이터 타입이 달라서 실행이 안됨.\n",
    "# 딕셔너리 안에는 append 함수가 존재하지 않는다. \n",
    "\n",
    "mylist = {10,20,30}           #\n",
    "chan(mylist)             \n",
    "print(' 함수 외부에서 출력:', mylist)"
   ]
  },
  {
   "cell_type": "code",
   "execution_count": 47,
   "metadata": {},
   "outputs": [
    {
     "name": "stdout",
     "output_type": "stream",
     "text": [
      "시작\n",
      "1,2,3,\n",
      "1,2,3,4,5,\n"
     ]
    }
   ],
   "source": [
    "# 변동 매개변수\n",
    "\n",
    "def func1(*args):  #별이 하나!! 리스트가 온다\n",
    "    \n",
    "    for i in args:\n",
    "        print(i,end =',')\n",
    "    print()\n",
    "print('시작')\n",
    "func1(1,2,3)         #매개변수. \n",
    "func1(1,2,3,4,5)        #매개변수의 개수가 다른데도 작동한다 이런걸 변동매개변수라고 한다. "
   ]
  },
  {
   "cell_type": "code",
   "execution_count": 79,
   "metadata": {},
   "outputs": [
    {
     "name": "stdout",
     "output_type": "stream",
     "text": [
      "args is (1, 2)\n",
      "kwargs {'z': 5}\n",
      "Hello Now I'm going to call <function g at 0x000001AC808BC9D8>\n",
      "1\n",
      "2\n",
      "5\n"
     ]
    },
    {
     "data": {
      "text/plain": [
       "0.6"
      ]
     },
     "execution_count": 79,
     "metadata": {},
     "output_type": "execute_result"
    }
   ],
   "source": [
    "\n",
    "def say_hello (f,*args,**kwargs):\n",
    "    print('args is', args)\n",
    "    print('kwargs', kwargs)\n",
    "    print(\"Hello Now I'm going to call %s\" %f)  #함수를 출력하면 주소 값이 나온다 .\n",
    "    return f(*args, **kwargs)\n",
    "\n",
    "def g(x,y,z=1):   # 디폴트 매개변수\n",
    "    print(x)\n",
    "    print(y)\n",
    "    print(z)\n",
    "    return (x+y)/z\n",
    "\n",
    "say_hello(g,1,2 ,z= 5)"
   ]
  },
  {
   "cell_type": "code",
   "execution_count": null,
   "metadata": {},
   "outputs": [],
   "source": []
  },
  {
   "cell_type": "code",
   "execution_count": 56,
   "metadata": {},
   "outputs": [
    {
     "name": "stdout",
     "output_type": "stream",
     "text": [
      "1 0\n",
      "1 3\n",
      "1 2\n"
     ]
    }
   ],
   "source": [
    "def func_test2(a,c ,b =0 ):\n",
    "    print(a,b)\n",
    "func_test2(1,2)         # a = 1 , b = 0\n",
    "func_test2(1,2,3)          # a = 1, b = 2\n",
    "func_test2(b= 2,c= 4, a= 1)       #키이 매개변수 \n"
   ]
  },
  {
   "cell_type": "code",
   "execution_count": 57,
   "metadata": {},
   "outputs": [],
   "source": [
    "def func_test4():       #None  ==>  객체\n",
    "    pass                  # 몸통을 미지정 "
   ]
  },
  {
   "cell_type": "code",
   "execution_count": 62,
   "metadata": {},
   "outputs": [
    {
     "data": {
      "text/plain": [
       "True"
      ]
     },
     "execution_count": 62,
     "metadata": {},
     "output_type": "execute_result"
    }
   ],
   "source": [
    "# ==  숫자나 문자가 같다고 할 때 쓴다\n",
    "result = func_test4()\n",
    "result is None         #객체를 비교할 때는 is 함수를 사용하여 비교한다. "
   ]
  },
  {
   "cell_type": "code",
   "execution_count": 64,
   "metadata": {},
   "outputs": [
    {
     "data": {
      "text/plain": [
       "NoneType"
      ]
     },
     "execution_count": 64,
     "metadata": {},
     "output_type": "execute_result"
    }
   ],
   "source": [
    "##__class__ --> 시스템에서 생성한 변수이다. \n",
    "result.__class__      #f result의 클래스를 확인하면 NoneType이다 ## 멤버변수"
   ]
  },
  {
   "cell_type": "code",
   "execution_count": 65,
   "metadata": {},
   "outputs": [
    {
     "data": {
      "text/plain": [
       "function"
      ]
     },
     "execution_count": 65,
     "metadata": {},
     "output_type": "execute_result"
    }
   ],
   "source": [
    "func_test4.__class__      "
   ]
  },
  {
   "cell_type": "code",
   "execution_count": 71,
   "metadata": {},
   "outputs": [
    {
     "name": "stdout",
     "output_type": "stream",
     "text": [
      "15 5 50\n",
      "<class 'function'>\n"
     ]
    }
   ],
   "source": [
    "def func_test3(a,b):\n",
    "    return a+b,a-b, a*b\n",
    "a,b,c = func_test3(10,5)\n",
    "print(a,b,c)\n",
    "print(type(func_test3))        # 함수도 객체다. "
   ]
  },
  {
   "cell_type": "code",
   "execution_count": 80,
   "metadata": {},
   "outputs": [
    {
     "name": "stdout",
     "output_type": "stream",
     "text": [
      "15\n"
     ]
    }
   ],
   "source": [
    "# 커링\n",
    "\n",
    "def all_number(x,y):\n",
    "    return x+y\n",
    "add_five = lambda y: all_number(5,y)  # 무명함수를 --> 유명함수로 만들어준다. \n",
    "print(add_five(10))"
   ]
  },
  {
   "cell_type": "code",
   "execution_count": 99,
   "metadata": {},
   "outputs": [
    {
     "name": "stdout",
     "output_type": "stream",
     "text": [
      "<function ds at 0x000001AC8088F318>\n"
     ]
    }
   ],
   "source": [
    "# 문제: 두 점 사이의 거리값을 구하는 함수를 작성하시오 \n",
    "# root ==> import math\n",
    "# math.sqrt()  ==> 루트 함수 \n",
    "import math\n",
    "\n",
    "\n",
    "def ds(x= 2,y= 3,x1=3,y1=5):\n",
    "    resultX = (x1-x)\n",
    "    resultY = (y1-y)\n",
    "    dist = math.sqrt((x1-x)**2 + (y1-y)**2)\n",
    "    return dist\n",
    "print(ds)"
   ]
  },
  {
   "cell_type": "code",
   "execution_count": 98,
   "metadata": {},
   "outputs": [
    {
     "name": "stdout",
     "output_type": "stream",
     "text": [
      "1.4142135623730951\n"
     ]
    }
   ],
   "source": [
    "import math\n",
    "\n",
    "\n",
    "def distance (x,x1,y,y1):\n",
    "    '''두 점 사이의 거리를\n",
    "    구하는 함수'''\n",
    "    dx = x-x1\n",
    "    dy = y-y1\n",
    "    dist = math.sqrt(dx**2 + dy**2)\n",
    "    return dist \n",
    "print(distance(1,2,3,4))\n",
    "?distance"
   ]
  },
  {
   "cell_type": "code",
   "execution_count": 103,
   "metadata": {},
   "outputs": [
    {
     "data": {
      "text/plain": [
       "120"
      ]
     },
     "execution_count": 103,
     "metadata": {},
     "output_type": "execute_result"
    }
   ],
   "source": [
    "# 수학에서 factorial 5! = 5*4*3*2*1\n",
    "\n",
    "def factorial(n):\n",
    "    sum = 1           # 항등원: 덧셈의 항등원은 0, 곱셈의 항등원 1, 행렬의 항등원: 단위행렬  \n",
    "    for i in range(n,1,-1):\n",
    "        sum *= i\n",
    "    return sum\n",
    "factorial(5)"
   ]
  },
  {
   "cell_type": "code",
   "execution_count": 101,
   "metadata": {},
   "outputs": [
    {
     "data": {
      "text/plain": [
       "120"
      ]
     },
     "execution_count": 101,
     "metadata": {},
     "output_type": "execute_result"
    }
   ],
   "source": [
    "# 재귀함수\n",
    "\n",
    "def factorial (n, stop = 1):\n",
    "    if n <= stop or n <= 0:          #종료조건, 입력제한.\n",
    "        return 1\n",
    "    return n*factorial(n-1, stop)\n",
    "factorial(5)"
   ]
  },
  {
   "cell_type": "code",
   "execution_count": 104,
   "metadata": {},
   "outputs": [
    {
     "name": "stdout",
     "output_type": "stream",
     "text": [
      "8\n"
     ]
    }
   ],
   "source": [
    "# power 함수를 구현하시오 (2^10)\n",
    "\n",
    "def power(r, n):\n",
    "    value = 1\n",
    "    for i in range(1,n+1):\n",
    "        value = r*value\n",
    "    return value\n",
    "print(power(2,3))"
   ]
  },
  {
   "cell_type": "code",
   "execution_count": 107,
   "metadata": {},
   "outputs": [
    {
     "data": {
      "text/plain": [
       "8"
      ]
     },
     "execution_count": 107,
     "metadata": {},
     "output_type": "execute_result"
    }
   ],
   "source": [
    "def fact (n, stop = 1):\n",
    "    if n <= stop:\n",
    "        return 2\n",
    "    return 2 **n\n",
    "fact(3)"
   ]
  },
  {
   "cell_type": "code",
   "execution_count": 106,
   "metadata": {},
   "outputs": [
    {
     "name": "stdout",
     "output_type": "stream",
     "text": [
      "8\n"
     ]
    }
   ],
   "source": [
    "def power(r, n):\n",
    "    if n == 1:\n",
    "        return r\n",
    "    else:\n",
    "        return r *power(r,n-1)\n",
    "print(power(2,3))"
   ]
  },
  {
   "cell_type": "code",
   "execution_count": 112,
   "metadata": {},
   "outputs": [
    {
     "name": "stdout",
     "output_type": "stream",
     "text": [
      "global inner\n"
     ]
    }
   ],
   "source": [
    "# 내부함수 \n",
    "\n",
    "def outer():\n",
    "    def inner():\n",
    "        print('inner')\n",
    "    inner()\n",
    "def inner():\n",
    "    print('global inner')\n",
    "inner()"
   ]
  },
  {
   "cell_type": "code",
   "execution_count": 113,
   "metadata": {},
   "outputs": [
    {
     "name": "stdout",
     "output_type": "stream",
     "text": [
      "0.5082711092879628\n",
      "0.19732938779056297\n",
      "0.9425717445773827\n",
      "0.2691611209840261\n",
      "0.10351905397613648\n"
     ]
    }
   ],
   "source": [
    "#generator\n",
    "\n",
    "# for in 뒤에 올 수 있는 것\n",
    "# collections(list,tuple, dict, set), iterator(ranges),generator, eneumerator\n",
    "\n",
    "import random\n",
    "def gaus_dist(n):\n",
    "    while n>0:\n",
    "        yield random.random()  #0~1 사이 호출  ### 비동기 호출 함수 제너레이터를 만들때는  yiled 함수가 들어가야한다. \n",
    "        n -=1\n",
    "gd = gaus_dist(5)\n",
    "for i in gd:\n",
    "    print(i)"
   ]
  },
  {
   "cell_type": "code",
   "execution_count": 115,
   "metadata": {},
   "outputs": [
    {
     "name": "stdout",
     "output_type": "stream",
     "text": [
      "python's recipe no.1\n",
      "perl's recipe no.2\n"
     ]
    },
    {
     "data": {
      "text/plain": [
       "(1840402912888, 1840402972744)"
      ]
     },
     "execution_count": 115,
     "metadata": {},
     "output_type": "execute_result"
    }
   ],
   "source": [
    "# 함수가 값을 저장할 수 있는가? 지역변수라 저장이 불가 \n",
    "#원래는 저장할 수 없지만 저장하게하는 방법이 있더라\n",
    "\n",
    "#clouser ( 자바크립트에서 사용하던 방식 )\n",
    "\n",
    "def cookbook(name):\n",
    "    def recipe(no):\n",
    "        print(\"%s's recipe no.%d\" % (name, no))\n",
    "    return recipe\n",
    "python_recipe = cookbook('python')\n",
    "perl_recipe = cookbook('perl')\n",
    "python_recipe(1)\n",
    "perl_recipe(2)\n",
    "id(python_recipe), id(perl_recipe)\n",
    "\n",
    "\n"
   ]
  },
  {
   "cell_type": "code",
   "execution_count": 116,
   "metadata": {},
   "outputs": [
    {
     "name": "stdout",
     "output_type": "stream",
     "text": [
      "         1.7560\n",
      "         2.2220\n",
      "              1\n"
     ]
    }
   ],
   "source": [
    "# clouser  클로저의 응요(장식자: decorator)\n",
    "\n",
    "def format_and_pad (template, space):\n",
    "    def formatter(x):\n",
    "        return (template % x).rjust (space)\n",
    "    return formatter\n",
    "\n",
    "fmt= format_and_pad('%.4f',15)      ##  출력 포맷을 플로트로 소수점 4째자리까지 \n",
    "print(fmt(1.756))\n",
    "print(fmt(2.222))\n",
    "fmt2 = format_and_pad('%d', 15)      #출력 포맷을 정수로. \n",
    "print(fmt2(1.756))"
   ]
  },
  {
   "cell_type": "code",
   "execution_count": 136,
   "metadata": {},
   "outputs": [
    {
     "name": "stdout",
     "output_type": "stream",
     "text": [
      "밑변을 입력하세요:5\n",
      "높이를 입력하세요:6\n"
     ]
    },
    {
     "data": {
      "text/plain": [
       "15.0"
      ]
     },
     "execution_count": 136,
     "metadata": {},
     "output_type": "execute_result"
    }
   ],
   "source": [
    "# 데이터를 입력 받아 \n",
    "#삼각형의 넓이 (밑변 * 높이/2)\n",
    "# 사각형의 넓이 (밑변, 높이)\n",
    "#원의 넓이를 계산하는 함수를 작성해 보시오\n",
    "\n",
    "\n",
    "def tr():\n",
    "    x = int(input('밑변을 입력하세요:'))\n",
    "    y = int(input('높이를 입력하세요:'))\n",
    "    to =x*y/2\n",
    "    return to\n",
    " \n",
    "tr()\n"
   ]
  },
  {
   "cell_type": "code",
   "execution_count": 137,
   "metadata": {},
   "outputs": [
    {
     "name": "stdout",
     "output_type": "stream",
     "text": [
      "밑변을 입력하세요:5\n",
      "높이를 입력하세요:5\n"
     ]
    },
    {
     "data": {
      "text/plain": [
       "25"
      ]
     },
     "execution_count": 137,
     "metadata": {},
     "output_type": "execute_result"
    }
   ],
   "source": [
    "def rec():\n",
    "    x = int(input('밑변을 입력하세요:'))\n",
    "    y = int(input('높이를 입력하세요:'))\n",
    "    to =x*y\n",
    "    return to\n",
    "\n",
    "rec()"
   ]
  },
  {
   "cell_type": "code",
   "execution_count": 138,
   "metadata": {},
   "outputs": [
    {
     "name": "stdout",
     "output_type": "stream",
     "text": [
      " 반지름을 입력해주세요:5\n"
     ]
    },
    {
     "data": {
      "text/plain": [
       "78.53981633974483"
      ]
     },
     "execution_count": 138,
     "metadata": {},
     "output_type": "execute_result"
    }
   ],
   "source": [
    "def cir():\n",
    "    x = int(input(' 반지름을 입력해주세요:'))\n",
    "   \n",
    "    to =math.pi * x**2\n",
    "    return to\n",
    "\n",
    "cir()"
   ]
  },
  {
   "cell_type": "code",
   "execution_count": null,
   "metadata": {},
   "outputs": [],
   "source": []
  },
  {
   "cell_type": "code",
   "execution_count": null,
   "metadata": {},
   "outputs": [],
   "source": []
  },
  {
   "cell_type": "code",
   "execution_count": null,
   "metadata": {},
   "outputs": [],
   "source": []
  },
  {
   "cell_type": "code",
   "execution_count": null,
   "metadata": {},
   "outputs": [],
   "source": []
  },
  {
   "cell_type": "code",
   "execution_count": null,
   "metadata": {},
   "outputs": [],
   "source": []
  },
  {
   "cell_type": "code",
   "execution_count": null,
   "metadata": {},
   "outputs": [],
   "source": []
  },
  {
   "cell_type": "code",
   "execution_count": null,
   "metadata": {},
   "outputs": [],
   "source": []
  },
  {
   "cell_type": "code",
   "execution_count": null,
   "metadata": {},
   "outputs": [],
   "source": []
  },
  {
   "cell_type": "code",
   "execution_count": null,
   "metadata": {},
   "outputs": [],
   "source": []
  },
  {
   "cell_type": "code",
   "execution_count": null,
   "metadata": {},
   "outputs": [],
   "source": []
  },
  {
   "cell_type": "code",
   "execution_count": null,
   "metadata": {},
   "outputs": [],
   "source": []
  },
  {
   "cell_type": "code",
   "execution_count": null,
   "metadata": {},
   "outputs": [],
   "source": []
  }
 ],
 "metadata": {
  "kernelspec": {
   "display_name": "Python 3",
   "language": "python",
   "name": "python3"
  },
  "language_info": {
   "codemirror_mode": {
    "name": "ipython",
    "version": 3
   },
   "file_extension": ".py",
   "mimetype": "text/x-python",
   "name": "python",
   "nbconvert_exporter": "python",
   "pygments_lexer": "ipython3",
   "version": "3.7.4"
  }
 },
 "nbformat": 4,
 "nbformat_minor": 2
}
