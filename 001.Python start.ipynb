{
 "cells": [
  {
   "cell_type": "markdown",
   "metadata": {},
   "source": [
    "### 편집모드와 명령행 모드 (주석)"
   ]
  },
  {
   "cell_type": "code",
   "execution_count": null,
   "metadata": {},
   "outputs": [],
   "source": [
    "a = 10    #주소 값 저장 ---> 맵핑을 생각해라. \n",
    "b = a      #10을 대입하는게 아니라  a가 가리키는 주소가 대입된다. \n",
    "print(a)\n",
    "print(b)"
   ]
  },
  {
   "cell_type": "code",
   "execution_count": null,
   "metadata": {},
   "outputs": [],
   "source": [
    "# 주소 값이 일치한다. \n",
    "print('주소값 대입', id(a)),print(id(b))"
   ]
  },
  {
   "cell_type": "code",
   "execution_count": null,
   "metadata": {},
   "outputs": [],
   "source": [
    "# 주소 값이 다르다. \n",
    "a= 20 \n",
    "print(a)\n",
    "print(b)\n",
    "print(' 주소값 대입 ',  id(a)); print(id(b))"
   ]
  },
  {
   "cell_type": "code",
   "execution_count": null,
   "metadata": {},
   "outputs": [],
   "source": [
    "type(a)\n"
   ]
  },
  {
   "cell_type": "markdown",
   "metadata": {},
   "source": [
    "### 파이썬은 대소문자를 구분한다. "
   ]
  },
  {
   "cell_type": "code",
   "execution_count": null,
   "metadata": {},
   "outputs": [],
   "source": [
    "a = 10 \n",
    "A = 20\n",
    "print(a)\n",
    "print(A)"
   ]
  },
  {
   "cell_type": "code",
   "execution_count": 5,
   "metadata": {},
   "outputs": [
    {
     "name": "stdout",
     "output_type": "stream",
     "text": [
      "수식을 입력하시오10+20\n",
      "10+20\n",
      "30\n"
     ]
    },
    {
     "data": {
      "text/plain": [
       "NoneType"
      ]
     },
     "execution_count": 5,
     "metadata": {},
     "output_type": "execute_result"
    }
   ],
   "source": [
    "# 데이터를 입력할때는 input 함수를 사용한다\n",
    "\n",
    "problem= input('수식을 입력하시오')   # 데이터 입출력은 문자열로 입출력이 된다. 그래서 10+ 20 으로 나오게 된다. \n",
    "print(problem)\n",
    "#print(int(problem))     #데이터를  casting :  이는 데이터의 형변환을 시키는 것. \n",
    "z=print(eval(problem))   ###평가를 하게된다. 따라서 10+ 20의 값을 30으로 출력 시켜준다.\n",
    "\n",
    "#연산을 위해서 데이터 타입을 숫자로 변경해야한다.   int 를 이용해서 수치로 바꾸거나 \n",
    "# eval  을 이용해서 문자열인 수식을 숫자로 바꿀 수 있다. \n"
   ]
  },
  {
   "cell_type": "code",
   "execution_count": 1,
   "metadata": {},
   "outputs": [
    {
     "name": "stdout",
     "output_type": "stream",
     "text": [
      "0.00424\n",
      "127\n"
     ]
    }
   ],
   "source": [
    "a3= 4.24e-3     #exponent  지수형\n",
    "a4= 0o177      # cotal  8진수로 표현\n",
    "print(a3)    \n",
    "print(a4)"
   ]
  },
  {
   "cell_type": "code",
   "execution_count": null,
   "metadata": {},
   "outputs": [],
   "source": [
    "#fulName 문자열: 기본이 1차원 배열 , 숫자  int:4바이트  float : 4바이트 \n",
    "\n",
    "fulName = input('이름을 입력하세요:')\n",
    "n= fulName.rfind(' ' )\n",
    "\n",
    "print(fulName[0])         #배열과 리스트의 인덱싱은 동일하다. \n",
    "print(fulName[1])\n",
    "print(fulName[2])\n",
    "print(n)\n",
    "print(' 이름 :', fulName[n+1:])  #: \n",
    "print(' 성(s):', fulName[:n])"
   ]
  },
  {
   "cell_type": "code",
   "execution_count": null,
   "metadata": {},
   "outputs": [],
   "source": [
    "s= 'korea'\n",
    "print(s+s)    #korea + korea = koreakorea\n",
    "print(s*3)      #korea*3 =koreakoreakorea\n",
    "print(s[0:])\n",
    "print(s[4])\n",
    "print(s[-1])\n",
    "print(s[1:3])     ## 마지막 하나는 제외 \n",
    "print(s[-2:])\n",
    "print(s[-2:-5])\n",
    "print(s[3:-1])\n",
    "print(len(s))\n",
    "s.split('r')   # r 있는 부분을 분리해라 "
   ]
  },
  {
   "cell_type": "code",
   "execution_count": 6,
   "metadata": {},
   "outputs": [
    {
     "name": "stdout",
     "output_type": "stream",
     "text": [
      "['Seoul', 'Incheon', ' won']\n"
     ]
    }
   ],
   "source": [
    "# csv 데이터 : comma로 분리된 데이터 \n",
    "\n",
    "t= 'Seoul,Incheon, won'.split(',')\n",
    "print(t)  # 리스트로 분할"
   ]
  },
  {
   "cell_type": "code",
   "execution_count": null,
   "metadata": {},
   "outputs": [],
   "source": [
    "','.join(t)"
   ]
  },
  {
   "cell_type": "code",
   "execution_count": 17,
   "metadata": {},
   "outputs": [
    {
     "name": "stdout",
     "output_type": "stream",
     "text": [
      "Koeraerkkk\n",
      "3\n",
      "4\n",
      "True\n",
      "False\n",
      "True\n",
      "koeRaeRkkk\n",
      "False\n",
      "True\n"
     ]
    }
   ],
   "source": [
    "# 파이썬은 객체 지향 프로그래밍으로 설계된 언어임: 모든것이 객체임, 함수도 객체임\n",
    "# c, java 는 객체지향을 별도로 학습\n",
    "#  python은 자체가 객체지향언어임. \n",
    "\n",
    "\n",
    "s = 'koeraerkkk'\n",
    "print(s.capitalize())    #  첫 글자가 대문자\n",
    "print(s.find('r'))             \n",
    "print(s.count('k'))  \n",
    "print(s.isalpha())         #알파뱃인가?\n",
    "print(s.isdigit())          #숫자인가?\n",
    "print('0123'.isdigit())     \n",
    "print(s.replace('r','R'))    #대체해라  r 값을 R 로    ## 크롤링할때 의미 없는 걸 공백이나 다른걸로 바꿀때 사용함\n",
    "print(s.startswith('K'))\n",
    "print(s.endswith('k'))"
   ]
  },
  {
   "cell_type": "code",
   "execution_count": null,
   "metadata": {},
   "outputs": [],
   "source": [
    "## 연산자를 하겠다.\n",
    "\n",
    "#산술연산\n",
    "\n",
    "a= 3\n",
    "b= 4\n",
    "\n",
    "print(a+b, a-b, a*b, a/b)\n",
    "print(a/b)\n",
    "print(a%b)   #나머지 연산자 : 경우의 수를 생성할 떄  10가지 경우의 수를 만들때 10으로 나누어 주면된다. --> 변수가 가질 수 있는 경우수를 확인\n",
    "print(1%2)\n",
    "print(2%2)\n",
    "print(3%2)\n",
    "print(4%2)\n",
    "\n",
    "print(7/4)\n",
    "print(7//4)    # 몪연산자\n"
   ]
  },
  {
   "cell_type": "code",
   "execution_count": null,
   "metadata": {},
   "outputs": [],
   "source": [
    "# 내장 함수:\n",
    "# 괄호 --> []: 리스트 {}: 딕셔너리,set  (): 튜플 함수에서 사용 \n",
    "\n",
    "print('sum([1,2,3]):',sum([1,2,3]))\n",
    "print('min([1,2,3]):',min([1,2,3]))\n",
    "print('abs(-11):',abs(-11))\n",
    "print('pow(2,10):',pow(2,10))\n",
    "print('round(3.141592):',round(3.141592))\n",
    "print('round(3.141592):',round(3.141592,2))\n",
    "\n",
    "\n",
    "#함수의 형태가 다르면: 오버로딩 \n",
    "# 파이썬에서는 오버로딩이 없다 => 디폴트 매개변수 "
   ]
  },
  {
   "cell_type": "code",
   "execution_count": null,
   "metadata": {},
   "outputs": [],
   "source": [
    "# 문제 : 4,7,8 을 리스트로 초기화하고 합게를 출력하시오\n",
    "a= [4,7,8]\n",
    "sum(a)\n",
    "\n",
    "li= 4,7,8  # 이라면 디폴트 값이 튜플로 된다 즉 () 임\n"
   ]
  },
  {
   "cell_type": "code",
   "execution_count": null,
   "metadata": {},
   "outputs": [],
   "source": [
    "#문제: 두 수를 입력받아 묷고 나머지를 출력하시오 \n",
    "\n",
    "a= input('값을 입력하세요')\n",
    "b= input('두번째 값을 입력하세요')\n",
    "a=int(a)\n",
    "b=int(b)\n",
    "c= a%b\n",
    "d= a//b\n",
    "print(d,c)\n",
    "\n",
    "\n",
    "\n",
    "\n"
   ]
  },
  {
   "cell_type": "code",
   "execution_count": null,
   "metadata": {},
   "outputs": [],
   "source": [
    "#문제: 두 수를 입력받아 묷고 나머지를 출력하시오 \n",
    "\n",
    "\n",
    "num1= input('정수를 입력하시오')\n",
    "num2= input('정수를 입력하시오')\n",
    "hab= int(num1)+ int(num2)\n",
    "quotient = hab//2\n",
    "remainder= hab %2\n",
    "print('입력된 수를 2로 나눈 결과 몫 = ',  quotient, '나머지', remainder)\n",
    "\n",
    "#파이선의 블록은 들여쓰기임: 블록: 여러일을 묶는 역활\n",
    "# 조건문, 반복문, 함수\n",
    "\n",
    "if remainder== 0:\n",
    "    print(' 짝수입니다. ')\n",
    "    print(' 짝수입니다. ')\n",
    "    print(' 짝수입니다. ')\n",
    "else:\n",
    "    print('홀수입니다')"
   ]
  },
  {
   "cell_type": "markdown",
   "metadata": {},
   "source": [
    "# Scope"
   ]
  },
  {
   "cell_type": "code",
   "execution_count": 18,
   "metadata": {},
   "outputs": [
    {
     "name": "stdout",
     "output_type": "stream",
     "text": [
      "200\n",
      "300\n"
     ]
    }
   ],
   "source": [
    "x= 300         #전역변: global\n",
    "def myfunc(): # 함수도 리턴타입을 지정하지 않음\n",
    "    x= 200          ##지역변수 : 함수와 생사를 같이 함  local\n",
    "    print(x)   \n",
    "myfunc()\n",
    "print(x)"
   ]
  },
  {
   "cell_type": "code",
   "execution_count": null,
   "metadata": {},
   "outputs": [],
   "source": [
    "#어떤 수가 들어 오더라도 나머지가 0: 가위, 1:바위, 2:보 로 출력 하시오\n",
    "\n",
    "def mfc():\n",
    "    x=input('random 값을 넣어주세요')\n",
    "    x= int(x)\n",
    "    if x%3 == 0:\n",
    "        print('가위 입니다')\n",
    "    elif x%3 == 1:\n",
    "        print('바위 입니다')\n",
    "    else:\n",
    "        print('보 입니다')\n",
    "\n",
    "mfc()\n",
    "\n"
   ]
  },
  {
   "cell_type": "code",
   "execution_count": 29,
   "metadata": {},
   "outputs": [
    {
     "name": "stdout",
     "output_type": "stream",
     "text": [
      "4\n",
      "earths\n",
      "['fire', 'air']\n",
      "['air', 1, 'water', 'fire', 'earths']\n"
     ]
    }
   ],
   "source": [
    "# random:  프로그램에서 난수는 의사난수임 \n",
    "\n",
    "import random \n",
    "random.seed(1000)\n",
    "print(random.randint(1,5))                        \n",
    "elements = ['earth',1,'air','fire','water']\n",
    "elements[0]='earths'\n",
    "print(random.choice(elements))\n",
    "print(random.sample(elements,2))\n",
    "random.shuffle(elements)\n",
    "print(elements)"
   ]
  },
  {
   "cell_type": "code",
   "execution_count": null,
   "metadata": {},
   "outputs": [],
   "source": [
    "# 비교연산자와 논리 연산자\n",
    "a= 20\n",
    "b= 10\n",
    "c= a>10 and b<50 \n",
    "print(c)\n",
    "c= 10<a<50\n",
    "print(c)"
   ]
  },
  {
   "cell_type": "code",
   "execution_count": null,
   "metadata": {},
   "outputs": [],
   "source": [
    "x= 5\n",
    "y= 6\n",
    "x,y = y,x  ## 리턴값이 2개 이상도 가능하다. \n",
    "print(x,y)\n",
    "print(x)\n",
    "print(y)"
   ]
  },
  {
   "cell_type": "code",
   "execution_count": null,
   "metadata": {},
   "outputs": [],
   "source": [
    "a = [1,2,3,['a','b','c'],4,5]   #a에 저장된 것: list  주소  , 리스트는 주소를 담아논 항아리 이다. \n",
    "print(a[2:5])                     \n",
    "print(a[3][:2])\n",
    "\n",
    "a= [1,2,['a','b',['Life','is']]]\n",
    "print(a[0])\n",
    "print(a[2][2][0])"
   ]
  },
  {
   "cell_type": "code",
   "execution_count": null,
   "metadata": {},
   "outputs": [],
   "source": [
    "#리스트를 이용한 스택    LIFO 복귀주소저장 (함수의 운용)\n",
    "\n",
    "\n",
    "\n",
    "a= [10,20,30,40,50]\n",
    "a.append(60)    #데이터 추가시  append  함수 사용\n",
    "print(a.pop())     #뒤에서 데이터를 가지고 오면서 삭제\n",
    "a.append(60)\n",
    "print(a.pop())\n",
    "a.append(70)\n",
    "a.append(80)\n",
    "print(a.pop())"
   ]
  },
  {
   "cell_type": "code",
   "execution_count": null,
   "metadata": {},
   "outputs": [],
   "source": [
    "#파이썬 함수= 리턴값의 타입 지정은 없음\n",
    "#define \n",
    "def calc(a,b):                     #함수의 역활은 :작업을 하는 역활 , 매개변수: 작업 할 때 필요헌 데이터 \n",
    "    return a+b, a*b\n",
    "x,y= calc(3,4)\n",
    "print(x,y)\n",
    "print(x)\n",
    "x,y\n",
    "args=(4,5)\n",
    "calc(*args)#포인터  ****이게 중요하다. "
   ]
  },
  {
   "cell_type": "code",
   "execution_count": null,
   "metadata": {},
   "outputs": [],
   "source": [
    "# dictionary\n",
    "d= {'one':1,'two':2}    #key =>  저장될 주소값으로 계산됨 - 검색에서 가장 속도가 빠른 \n",
    "d.items()   # 리스트 방식으로 출력해 줘라 .\n",
    "\n",
    "\n",
    "# mongodb => NOSQL"
   ]
  },
  {
   "cell_type": "code",
   "execution_count": null,
   "metadata": {
    "scrolled": true
   },
   "outputs": [],
   "source": [
    "cities = ['Seoul', 'Incheon', 'Suwon']\n",
    "print( cities.index('Suwon'))\n",
    "print('Incheon' in cities)     #   포함연산자  cities에 인천이 포함되어 있느냐 \n",
    "print(cities.count('Seoul'))\n",
    "print(sorted(cities))   #오름차순\n",
    "sorted(cities,reverse=True)    #내림 차순"
   ]
  },
  {
   "cell_type": "code",
   "execution_count": null,
   "metadata": {},
   "outputs": [],
   "source": [
    "#리스트는 데이터 삭제가 용이\n",
    "\n",
    "print(cities)\n",
    "cities.append('Busna')\n",
    "print(cities)\n",
    "cities.insert(0,'Daegu')\n",
    "print(cities)\n",
    "other_cities= ['Jeju','Kwangju']\n",
    "print('결합', cities + other_cities)\n",
    "cities.append(['Daejun', 'Ulasn'])\n",
    "print(cities)\n",
    "cities.append(['Jeju','Kwangju'])"
   ]
  },
  {
   "cell_type": "code",
   "execution_count": null,
   "metadata": {},
   "outputs": [],
   "source": [
    "del(cities[5][1])\n",
    "print(cities)"
   ]
  },
  {
   "cell_type": "code",
   "execution_count": null,
   "metadata": {},
   "outputs": [],
   "source": [
    "print(cities[5])\n",
    "print(cities[5][1])\n",
    "cities[5][1]='Jeju'\n",
    "print(cities)\n",
    "cities[5].remove(cities[5][1])  ### 이렇게 해야지 지워질수 있어. \n",
    "print(cities)"
   ]
  },
  {
   "cell_type": "code",
   "execution_count": null,
   "metadata": {},
   "outputs": [],
   "source": [
    "# 자료 구조를 데이터 타입화\n",
    "\n",
    "# 리스트: 데이터의 앞뒤에 다음이나 이전 데이터의 주소가 저장\n",
    "#         메모리를 효율적으로 사용하고 삽입 삭제를 용이하게하기 위해서 사용하는 자료구조\n",
    "#         -->속도가 느림 \n",
    "    \n",
    "# 딕셔너리: 키 값이 데이터가 저장되어지는 주소값으로 계산되는 hash  함수를 이용해 데이터 저장 , 검색속도가 빠름\n",
    "#            데이터 주소값으로 변환되어지는 키 :데이터 형식으로 저장됨\n",
    "#             --> 데이터 저장 검색속도가 빠름\n",
    "            \n",
    "# 셋 : 키 값만 저장 (중복 불허): 범주형 데이터의 종류를 확인할 때 사용\n",
    "        \n",
    "# 튜플: list 와 도일한데 변경이 불가능함(함수가 작음), 함수의 매개변수로  값을 전달하거나 여러개의 값을 리턴하고 싶을 때 사용\n",
    "#     --> 속도가 빠름"
   ]
  },
  {
   "cell_type": "code",
   "execution_count": null,
   "metadata": {},
   "outputs": [],
   "source": [
    "print('점수입력:',end=' ')\n",
    "jumsu = int(input())\n",
    "if jumsu >= 95: print('A+')\n",
    "elif jumsu >= 90: print('A')\n",
    "elif jumsu >= 85: print('A-')\n",
    "elif jumsu >= 80: print('B+')\n",
    "elif jumsu >= 75: print('B')\n",
    "elif jumsu >= 70: print('B-')\n",
    "elif jumsu >= 65: print('B')\n",
    "elif jumsu >= 60: print('c+')\n",
    "elif jumsu >= 55: print('c')\n",
    "elif jumsu >= 50: print('c-')\n",
    "elif jumsu >= 45: print('D+')\n",
    "elif jumsu >= 40: print('D')\n",
    "elif jumsu >= 35: print('D-')\n",
    "else: print('F')\n"
   ]
  },
  {
   "cell_type": "code",
   "execution_count": null,
   "metadata": {},
   "outputs": [],
   "source": [
    "# 다음 표 (color와  mode에 따른 날씨)를  if 문을 이용하여 출력하시오 \n",
    "# 반응에 따른 날씨 예측 프로그램\n",
    "\n",
    "\n",
    "print('날씨는 ',end=' ')\n",
    "\n",
    "weather= \n",
    "if weather == 'BLUE' & 'STEADY' :print('화창')\n",
    "    elif weather == 'BLUE' & 'FLASHING' : print('구름')\n",
    "    elif weather == 'RED' & 'STEADY' :print('비')\n",
    "    else :print('눈')\n",
    "\n",
    "\n",
    "\n",
    "\n"
   ]
  },
  {
   "cell_type": "code",
   "execution_count": null,
   "metadata": {},
   "outputs": [],
   "source": [
    "color = input('색입력(BLUE or RED):')\n",
    "mode = input('mode 입력 (STEADY or FLASHING)')\n",
    "color = color.upper()\n",
    "mode = mode.upper()\n",
    "\n",
    "result=' '\n",
    " \n",
    "if color == 'BLUE':\n",
    "    if mode == 'STEADY':\n",
    "        reult= '화창한 날'\n",
    "    else:\n",
    "        result = '구름낀 날'\n",
    "else:\n",
    "    if mode == 'STEADY':\n",
    "        result = '비오는 날'\n",
    "    else:\n",
    "        result = '눈오는 날'\n",
    "print('예측된 날씨는', result)"
   ]
  },
  {
   "cell_type": "code",
   "execution_count": 2,
   "metadata": {},
   "outputs": [
    {
     "name": "stdout",
     "output_type": "stream",
     "text": [
      "수입:1999\n",
      "지출:9999999.99999\n",
      "순손실 -9998001.0\n"
     ]
    }
   ],
   "source": [
    "# 수입 (revenue)과 지출(costs)을 입력 받아 순수입을 출력하는 프로그램을 작성하시오 \n",
    "# - 제약조건: 소수점 이하 2자리까지 출력 (round)\n",
    "#     수입과 지출이 동일한 경우를 고려하시오 (손익분기점)\n",
    "#     결과 출력시 경우에 따라 순이익 , 순손실도 같이 출력하도록 하시오\n",
    "    \n",
    "    \n",
    "revenue = float(input('수입:'))\n",
    "cost= float(input('지출:'))\n",
    "\n",
    "\n",
    "totalcost = revenue -cost\n",
    "totalcost= float(totalcost)\n",
    "\n",
    "\n",
    "if  totalcost > 0: print('순이익', round(totalcost,2))\n",
    "elif totalcost == 0: print('손익분기점')\n",
    "elif totalcost< 0: print('순손실',round(totalcost,2))\n",
    "    \n",
    "    "
   ]
  },
  {
   "cell_type": "code",
   "execution_count": null,
   "metadata": {},
   "outputs": [],
   "source": [
    "# costs= eval(input('총비용을 입력하시오'))\n",
    "# revenue= eval(input('총수익을 입력하시오'))\n",
    "# if costs == revenue:\n",
    "#     result= '손익분기점입니다.'\n",
    "# else:\n",
    "#     if costs < revenue:\n",
    "#         profit = revenue -costs \n",
    "#         result = '순수익= {0:,.2f}.'.format(round(profit,2))  #출력은하는데 소수점 둘째까지만 출력해라. \n",
    "#     else:\n",
    "#         loss = costs - revenue\n",
    "#         result = '순손실 ={ 0:,.2f}.'.format(round(loss,2))"
   ]
  },
  {
   "cell_type": "code",
   "execution_count": null,
   "metadata": {},
   "outputs": [],
   "source": []
  },
  {
   "cell_type": "code",
   "execution_count": null,
   "metadata": {},
   "outputs": [],
   "source": []
  },
  {
   "cell_type": "code",
   "execution_count": null,
   "metadata": {},
   "outputs": [],
   "source": []
  },
  {
   "cell_type": "code",
   "execution_count": null,
   "metadata": {},
   "outputs": [],
   "source": []
  },
  {
   "cell_type": "code",
   "execution_count": null,
   "metadata": {},
   "outputs": [],
   "source": []
  },
  {
   "cell_type": "code",
   "execution_count": null,
   "metadata": {},
   "outputs": [],
   "source": []
  },
  {
   "cell_type": "code",
   "execution_count": null,
   "metadata": {},
   "outputs": [],
   "source": []
  },
  {
   "cell_type": "code",
   "execution_count": null,
   "metadata": {},
   "outputs": [],
   "source": []
  },
  {
   "cell_type": "code",
   "execution_count": null,
   "metadata": {},
   "outputs": [],
   "source": []
  },
  {
   "cell_type": "code",
   "execution_count": null,
   "metadata": {},
   "outputs": [],
   "source": []
  },
  {
   "cell_type": "code",
   "execution_count": null,
   "metadata": {},
   "outputs": [],
   "source": []
  },
  {
   "cell_type": "code",
   "execution_count": null,
   "metadata": {},
   "outputs": [],
   "source": []
  },
  {
   "cell_type": "code",
   "execution_count": null,
   "metadata": {},
   "outputs": [],
   "source": []
  },
  {
   "cell_type": "code",
   "execution_count": null,
   "metadata": {},
   "outputs": [],
   "source": []
  },
  {
   "cell_type": "code",
   "execution_count": null,
   "metadata": {},
   "outputs": [],
   "source": []
  },
  {
   "cell_type": "code",
   "execution_count": null,
   "metadata": {},
   "outputs": [],
   "source": []
  }
 ],
 "metadata": {
  "kernelspec": {
   "display_name": "Python 3",
   "language": "python",
   "name": "python3"
  },
  "language_info": {
   "codemirror_mode": {
    "name": "ipython",
    "version": 3
   },
   "file_extension": ".py",
   "mimetype": "text/x-python",
   "name": "python",
   "nbconvert_exporter": "python",
   "pygments_lexer": "ipython3",
   "version": "3.7.4"
  }
 },
 "nbformat": 4,
 "nbformat_minor": 2
}
