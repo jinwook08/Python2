{
 "cells": [
  {
   "cell_type": "markdown",
   "metadata": {},
   "source": [
    "# 객체 지향 프로그래밍 (class(꼴) ==> (instance : 메모리확보) object (객체))\n",
    " "
   ]
  },
  {
   "cell_type": "markdown",
   "metadata": {},
   "source": [
    "- class : 멤버변수(속성) + 멤버함수 \n",
    "- 인스턴스할 떄 멤버변수(속성)를 저장하는 공간만 확보 "
   ]
  },
  {
   "cell_type": "code",
   "execution_count": null,
   "metadata": {},
   "outputs": [],
   "source": [
    "\n",
    "width = 10\n",
    "height = 20 \n",
    "area = 10 * 20/2\n",
    "area = 10* 20/2\n",
    "\n",
    "print(' 삼각형의 넓이는 ', Area)\n"
   ]
  },
  {
   "cell_type": "code",
   "execution_count": null,
   "metadata": {},
   "outputs": [],
   "source": [
    "class Triangle :\n",
    "    def setData(self,width,height):      #함수를 이용한 초기화 \n",
    "        self.width  = width\n",
    "        self.height = height \n",
    "    def area(self):                # 매개변수 취급은 안함. \n",
    "        return self.width * self.height/2 \n",
    "tri1 = Triangle()                #인스턴스한다.  () 함수처럼 \n",
    "tri1.setData(10,20)\n",
    "print(tri1.width,tri1.height,tri1.area())"
   ]
  },
  {
   "cell_type": "code",
   "execution_count": null,
   "metadata": {},
   "outputs": [],
   "source": [
    "#위와 같지만 간단하게 만든것\n",
    "## 언더바 __ 두개가 붙었다 그러면 어디에 있던거다? 바로 object 에 있는 함수(상속)\n",
    "### 상속: 클래스를 생성하면 자동으로 상속 \n",
    "class Triangle :\n",
    "    def __init__(self,width,height):            #초기화 함수 , 생성자 강제로 호출 불가한 함수\n",
    "        self.width = width \n",
    "        self.height = height\n",
    "    def area(self):         ## 에어리어는 멤버함수\n",
    "        return self.width * self.height/2\n",
    "tri1 = Triangle(10,20)\n",
    "print(tri1.width, tri1.height, tri1.area())"
   ]
  },
  {
   "cell_type": "code",
   "execution_count": null,
   "metadata": {},
   "outputs": [],
   "source": [
    "# 클래스 , 멤버변수, 지역변수\n",
    "\n",
    "class MyClass(object):   ### 선언하는 순간에 메모리에 자리를 잡음 \n",
    "    '''\n",
    "    클래스의 예\n",
    "    '''\n",
    "    i = 12345           ## 클래스 변수 , 공용변수 \n",
    "    def __init__(self):\n",
    "        self.i = 54321          #멤버 변수 \n",
    "        num = 100                  #지역 변수 \n",
    "    def f (self):\n",
    "        return self.i\n",
    "MyClass.__doc__         #문자열 출력  #object의 속성 "
   ]
  },
  {
   "cell_type": "code",
   "execution_count": null,
   "metadata": {},
   "outputs": [],
   "source": [
    "print(MyClass.i)     # 인스턴스하지 않고도 호출가능 "
   ]
  },
  {
   "cell_type": "code",
   "execution_count": null,
   "metadata": {},
   "outputs": [],
   "source": [
    "myclass = MyClass()         # self.i  에 대한 메모리 확보\n",
    "print(myclass.i)             # 멤버변수 호출\n",
    "myclass.f()"
   ]
  },
  {
   "cell_type": "code",
   "execution_count": null,
   "metadata": {},
   "outputs": [],
   "source": [
    "print(MyClass.i)\n",
    "print(MyClass().i)         ## 참조가 없기 때문에 사용과 동시에 메모리에서 사라짐 . \n"
   ]
  },
  {
   "cell_type": "code",
   "execution_count": null,
   "metadata": {},
   "outputs": [],
   "source": [
    "from time import time, ctime, sleep \n",
    "\n",
    "class Life :\n",
    "    def __init__(self):   #생성자\n",
    "        self.birth = ctime()       #현재의 시간을 문자열로 변환\n",
    "        print('생성',self.birth)\n",
    "    def __del__(self):\n",
    "        print('사망', ctime())       #소멸자 , (메모리에서 사라질 때 자동으로 호출)\n",
    "    def test (self):\n",
    "        #mylife = Life()\n",
    "        print('Sleeping for 5 sec')\n",
    "        sleep(5)  #초\n",
    "li = Life()               #오른쪽은 heap에 저장, 왼쪽으로 그 주소를 가리키는  stack에 생성\n",
    "li.test()\n",
    "del li                 #자동으로 가비지 컬렌션됨. \n",
    "        "
   ]
  },
  {
   "cell_type": "code",
   "execution_count": null,
   "metadata": {},
   "outputs": [],
   "source": [
    "## 사원관리\n",
    "\n",
    "class Employee:\n",
    "    empCount = 0 \n",
    "    def __init__(self, name, salary):\n",
    "        self.name = name\n",
    "        self.salary = salary\n",
    "        Employee.empCount += 1\n",
    "    def displayCount(self):\n",
    "        print('직원 수  = %d' % Employee.empCount)\n",
    "    def displayEmployee(self):\n",
    "        print('이름:', self.name, '급여:', self.salary)\n",
    "    def __call__(self, *pargs, **kargs):\n",
    "        print('Called:',pargs, kargs)\n",
    "        "
   ]
  },
  {
   "cell_type": "code",
   "execution_count": null,
   "metadata": {},
   "outputs": [],
   "source": [
    "emp =Employee('김종호',500)\n",
    "emp.displayCount()\n",
    "emp1 = Employee('빅데타',500)\n",
    "emp1.displayCount()\n",
    "emp.displayCount()\n",
    "emp.displayEmployee()\n",
    "emp1.displayEmployee()\n",
    "emp('빅데타', 500,100, c= 100)"
   ]
  },
  {
   "cell_type": "code",
   "execution_count": null,
   "metadata": {},
   "outputs": [],
   "source": [
    "### 멤버변수 실시간으로 변수를 추가 가능. \n",
    "\n",
    "emp1.age = 8\n",
    "emp. age = 8\n",
    "print(emp1.age)"
   ]
  },
  {
   "cell_type": "code",
   "execution_count": null,
   "metadata": {},
   "outputs": [],
   "source": [
    "print(Employee.empCount)"
   ]
  },
  {
   "cell_type": "code",
   "execution_count": null,
   "metadata": {},
   "outputs": [],
   "source": [
    "print(dir(emp))"
   ]
  },
  {
   "cell_type": "code",
   "execution_count": null,
   "metadata": {},
   "outputs": [],
   "source": [
    "## 문제 \n",
    "- 이름과 나이를 저장하는 student class를 생성 하시오\n",
    "- 이름과 나이를 출력하는 pring 함수를 클래스 내에 정의하시오 "
   ]
  },
  {
   "cell_type": "code",
   "execution_count": 1,
   "metadata": {},
   "outputs": [],
   "source": [
    "\n",
    "class student:\n",
    "    \n",
    "    def __init__(self, name, age):\n",
    "        self.name = name\n",
    "        self.age = age\n",
    "    def Personalint(self):\n",
    "        print('이름:', self.name, '나이', self.age)\n",
    "    def __repr__(self):  ##__str__\n",
    "        return '나의 이름은' + self.name\n",
    "    "
   ]
  },
  {
   "cell_type": "code",
   "execution_count": 2,
   "metadata": {},
   "outputs": [
    {
     "name": "stdout",
     "output_type": "stream",
     "text": [
      "이름: 차진욱 나이 26\n"
     ]
    }
   ],
   "source": [
    "pring = student('차진욱',26)\n",
    "pring.Personalint()"
   ]
  },
  {
   "cell_type": "code",
   "execution_count": 5,
   "metadata": {},
   "outputs": [
    {
     "name": "stdout",
     "output_type": "stream",
     "text": [
      "나의 이름은차진욱\n"
     ]
    }
   ],
   "source": [
    "f = student('차진욱',26)\n",
    "print(f)"
   ]
  },
  {
   "cell_type": "code",
   "execution_count": 6,
   "metadata": {},
   "outputs": [
    {
     "name": "stdout",
     "output_type": "stream",
     "text": [
      "<class '__main__.student'>\n"
     ]
    }
   ],
   "source": [
    "# 오브젝트로 부터 상속\n",
    "print(f.__class__)  #어떤 클래스에서부터 인스턴스 되었는지 확인가능"
   ]
  },
  {
   "cell_type": "code",
   "execution_count": null,
   "metadata": {},
   "outputs": [],
   "source": [
    "g = f.__class__('김종호',34)          #인스턴스된 변수로 부터 클래스 생성\n",
    "print(g)"
   ]
  },
  {
   "cell_type": "code",
   "execution_count": 7,
   "metadata": {},
   "outputs": [],
   "source": [
    "import math\n",
    "# 1개를 다루는 클래스를 작성하고 있지만 거리값은 두개를 이용\n",
    "\n",
    "class Point:\n",
    "    def __init__(self,x,y):\n",
    "        self.x = x\n",
    "        self.y = y\n",
    "        \n",
    "    def __str__(self):        ###__repr__  문자열을 요구하는 함수에 들어가면\n",
    "        return ' 좌표는 (%d, %d) ' %(self.x, self.y)\n",
    "    \n",
    "    def dist(self, other):\n",
    "        distance = math.sqrt((self.x - other.x)**2 + (self.y - other.y)**2)\n",
    "        return distance\n",
    "    \n",
    "    def collision (self, other):\n",
    "        return self.dist(other)<3\n",
    "\n"
   ]
  },
  {
   "cell_type": "code",
   "execution_count": 8,
   "metadata": {},
   "outputs": [
    {
     "name": "stdout",
     "output_type": "stream",
     "text": [
      " 좌표는 (7, 3) \n",
      " 좌표는 (5, 7) \n"
     ]
    }
   ],
   "source": [
    "# 위에 만들었으니 instance 를 시킨다\n",
    "\n",
    "pr = Point(7,3)\n",
    "rp = Point(5,7)\n",
    "print(pr)\n",
    "print(rp)"
   ]
  },
  {
   "cell_type": "code",
   "execution_count": 9,
   "metadata": {},
   "outputs": [
    {
     "name": "stdout",
     "output_type": "stream",
     "text": [
      "두점 사이의 거리는  =  4.47213595499958\n",
      " 충돌하지 않았습니다. \n"
     ]
    }
   ],
   "source": [
    "print('두점 사이의 거리는  = ', pr.dist(rp))\n",
    "if pr.collision(rp):\n",
    "    print(' 충돌 했습니다 ')\n",
    "else:\n",
    "    print(' 충돌하지 않았습니다. ')"
   ]
  },
  {
   "cell_type": "markdown",
   "metadata": {},
   "source": [
    "### 문제 : point 클래스를 이용하여 circle 클래스를 정의하시오 \n",
    "- 원: 중심점하고 반지름\n",
    "- 원과 원리 충돌하는 여부를 확인하는 함수를 작성하시오"
   ]
  },
  {
   "cell_type": "code",
   "execution_count": 10,
   "metadata": {},
   "outputs": [],
   "source": [
    "import math\n",
    "# center = Point()\n",
    "class circle:\n",
    "    def __init__(self,center,radius):\n",
    "        self.center = center\n",
    "        self.radius = radius\n",
    "    def __repr__(self):\n",
    "        return '원의 중심은' + str(self.center) + '반지름은' + str(self.radius)\n",
    "    def collision(self, other):\n",
    "        if self.center.dist(other.center)<self.radius + other.radius:\n",
    "            result = '충돌한다.'\n",
    "        else:\n",
    "            return '충돌하지 않는다. '\n",
    "        return result"
   ]
  },
  {
   "cell_type": "code",
   "execution_count": 11,
   "metadata": {},
   "outputs": [
    {
     "name": "stdout",
     "output_type": "stream",
     "text": [
      "원의 중심은 좌표는 (7, 3) 반지름은1\n",
      "원의 중심은 좌표는 (5, 7) 반지름은5\n"
     ]
    }
   ],
   "source": [
    "cir = circle(pr, 1)\n",
    "cir2 = circle(rp, 5)\n",
    "print(cir)\n",
    "print(cir2)"
   ]
  },
  {
   "cell_type": "code",
   "execution_count": 12,
   "metadata": {},
   "outputs": [
    {
     "name": "stdout",
     "output_type": "stream",
     "text": [
      "충돌한다.\n"
     ]
    },
    {
     "data": {
      "text/plain": [
       "'충돌한다.'"
      ]
     },
     "execution_count": 12,
     "metadata": {},
     "output_type": "execute_result"
    }
   ],
   "source": [
    "print(cir.collision(cir2))\n",
    "circle.collision(cir,cir2)"
   ]
  },
  {
   "cell_type": "code",
   "execution_count": null,
   "metadata": {},
   "outputs": [],
   "source": [
    "# point를 이용해서 사각형 Rectangle 클래스를 작성하시오 "
   ]
  },
  {
   "cell_type": "code",
   "execution_count": null,
   "metadata": {},
   "outputs": [],
   "source": [
    "class Rectangle:\n",
    "    def __init__(self, point1, point2):           ##point1 = point()  매핑\n",
    "        self.point1\n",
    "        self.point2\n",
    "    \n",
    "    def area(self):\n",
    "        result = abs((point1.x - point2.x) * (point1.y - point2.y))\n",
    "        return result\n",
    "    \n",
    "    def perimeter(self):\n",
    "        result = abs(point1.x - point2.x) * 2 + abs(point1.y - point2.y)*2\n",
    "        return result\n",
    "    \n",
    "    def diagonal_dist(self):\n",
    "        result = math.sqrt((point1.x - point2.x)**2 + (point1.y - point2.y)**2)\n",
    "        \n",
    "    "
   ]
  },
  {
   "cell_type": "markdown",
   "metadata": {},
   "source": [
    "# 문제 : vevtor class를 작성하시오\n",
    "\n",
    "- x, y의 2차원 벡터 구현\n",
    "- 벡터의 연산(+ , - , *, /): 요소별로 계산하면됨\n",
    "- dot함수를 구현하시오 :벡터의 요소별로 곱하고 모두 더해주면 내적 유사도\n",
    "- cos 값으로 변환하는 함수를 구현하시오 \n",
    "        cos theta = acos(A내적B/|A||B|)\n",
    "        |A| = math.sqrt(x^2 +y^2)\n"
   ]
  },
  {
   "cell_type": "code",
   "execution_count": 14,
   "metadata": {},
   "outputs": [],
   "source": [
    "class Vector:\n",
    "    def __init__(self, x,y):\n",
    "        self.x = x\n",
    "        self.y = y\n",
    "    def __repr__(self):\n",
    "        return '( 좌표는 %d, %d)' %(self.x, self.y )\n",
    "    def __add__(self, other):\n",
    "        return Vector(self.x + other.x, self.y + other.y)\n",
    "    def __mul__ (self, other):\n",
    "        return Vector(self.x * other.x, self.y* other.y)\n",
    "    def __sub__(self, other):\n",
    "        return Vector(self.x - other.x, self.y- other.y)\n",
    "    def __div__ (self, other):\n",
    "        return Vector(self.x / other.x, self.y/ other.y)\n",
    "\n"
   ]
  },
  {
   "cell_type": "code",
   "execution_count": 15,
   "metadata": {},
   "outputs": [
    {
     "name": "stdout",
     "output_type": "stream",
     "text": [
      "( 좌표는 10, 23)\n",
      "( 좌표는 20, 46)\n",
      "( 좌표는 30, 50)\n",
      "( 좌표는 200, 621)\n",
      "( 좌표는 -10, -4)\n"
     ]
    }
   ],
   "source": [
    "f = Vector(10,23)\n",
    "g = Vector(20,27)\n",
    "print(f)\n",
    "print(f+f)\n",
    "print(f + g)\n",
    "print(f * g)\n",
    "# print(f / g)\n",
    "print(f - g)"
   ]
  },
  {
   "cell_type": "code",
   "execution_count": null,
   "metadata": {},
   "outputs": [],
   "source": [
    "# 3차원 벡터는 클래스 생성하기  (연산자 오버로딩하기)\n",
    "\n",
    "class Vector:\n",
    "    def __init__(self, x,y,z ):\n",
    "        self.x = x\n",
    "        self.y = y\n",
    "        self.z = z \n",
    "    def __repr__(self):\n",
    "        return '( 좌표는 %d, %d, %d)' %(self.x, self.y, self.z )\n",
    "    def __add__(self, other):\n",
    "        return Vector(self.x + other.x , self.y + other.y , self.z + other.z)\n",
    "    def __mul__ (self, other):\n",
    "        return Vector(self.x * other.x, self.y* other.y , self.z * other.z )\n",
    "    def __sub__(self, other):\n",
    "        return Vector(self.x - other.x, self.y- other.y, self.z - other.z)\n",
    "    def dist (self):\n",
    "        return math.sqrt(self.x*self.x + self.y*self.y + self.z + self.z)\n",
    "    # 방향만 바뀌어야지 크기까지 바뀌면 안된다 --> 정규화\n",
    "    \n",
    "    def norm (self): # 정규화  크기값이 1인 사이즈로 변경 (반지름이 1인 사이즈 )\n",
    "        dist = self.dist()\n",
    "        return self.x/dist, self.y/dist, self.z/dist\n",
    "    def dot(self, other):\n",
    "        return (self.x * other.x + self.y*other.y + self.z * other.z)\n",
    "    def theta (self, other):\n",
    "        dot = self. dot(other)\n",
    "        dist1 = self.dist()\n",
    "        dist2 = other.dist()    # radian --> degree 로 (컴퓨터는 라디안만 사용)\n",
    "    \n",
    "        return math.acos(dot/(dist1*dist2))*(180/math.pi)    #라디안 --> 디그리로 변경\n",
    "\n",
    "    #변환과정이 필요 --> 사람이 사용하는 각도 입력(90) --> 라디안 변환(math.pi/180)\n",
    "    # ==> 계산후 --> 사람이 사용하는  degree로  변환해서 출력 (180/math.pi)\n"
   ]
  },
  {
   "cell_type": "code",
   "execution_count": null,
   "metadata": {},
   "outputs": [],
   "source": [
    "\n",
    "print(f)\n",
    "print(f+f)\n",
    "print(f + g)\n",
    "print(f * g)\n",
    "# print(f / g) \n",
    "print(f - g)"
   ]
  },
  {
   "cell_type": "code",
   "execution_count": null,
   "metadata": {},
   "outputs": [],
   "source": [
    "f = Vector(10,0,0)\n",
    "g = Vector(0,27,0)\n",
    "print(f)\n",
    "print(f+f)\n",
    "print(f + g)\n",
    "print(f * g)\n",
    "print(f - g)\n",
    "print('f 벡터의 크기 = ',f.dist())\n",
    "print('g 벡터의 크기는 = ',g.dist())\n",
    "print('f의 normallization vecotr  = ',f.norm() )\n",
    "print('g의 normallization vecotr  = ',g.norm() )\n",
    "print('두 벡터의 내적 = ', g.dot(f))\n",
    "print('f와 g의 사이각은 = ',f.theta(g))"
   ]
  },
  {
   "cell_type": "code",
   "execution_count": 16,
   "metadata": {},
   "outputs": [
    {
     "name": "stdout",
     "output_type": "stream",
     "text": [
      "a =  [1, 2, 3]\n",
      "[[1, 2, 3], [4, 5, [1, 2, 3]], 100]\n",
      "[[1, 2, 3], [4, 5, [1, 2, 3]], 100]\n",
      "[[1, 2, 3], [4, 5, [1, 2, 3]], 100]\n",
      "[[1, 2, 3], [4, 5, [1, 2, 3]], 100]\n",
      "[[1, 2, 3, 100], [4, 5, [1, 2, 3, 100]], 100]\n",
      "[[1, 2, 3, 100], [4, 5, [1, 2, 3, 100]], 100]\n",
      "[[1, 2, 3], [4, 5, [1, 2, 3]], 100]\n",
      "[[1, 2, 3], [4, 5, [1, 2, 3]], 100]\n"
     ]
    }
   ],
   "source": [
    "# deeep copy 와 copy의 차이 \n",
    "\n",
    "import copy\n",
    "a = [1,2,3]\n",
    "b = [4,5,a]               # 주소 \n",
    "x = [a,b,100]\n",
    "y = copy.copy(x)        ## 주소복사 \n",
    "t = copy.deepcopy(x)            #원래의 요소를 별도의 공간에 복사한 다음 주소전달 \n",
    "e = copy.deepcopy(y)\n",
    "print('a = ',a)\n",
    "print(x)\n",
    "print(y)\n",
    "print(t)\n",
    "print(e)\n",
    "a.append(100)\n",
    "print(x)\n",
    "print(y)\n",
    "print(t)\n",
    "print(e)"
   ]
  },
  {
   "cell_type": "code",
   "execution_count": null,
   "metadata": {},
   "outputs": [],
   "source": [
    "# 이름, 국어 수학, 영어를 관리하는  student class를 작성하시오 \n",
    "\n",
    "class student:\n",
    "    \n",
    "    def __init__(self, name, kor, math, eng ):\n",
    "        self.name = name\n",
    "        self.kor = kor\n",
    "        self.math = math\n",
    "        selaf.eng = eng\n",
    "    def personal_socre(self):\n",
    "        print('이름: ', slef.name, '국어 성적 : ',self.kor, ' 수학성적: ',self.math, '영어성적: ',self.eng)"
   ]
  },
  {
   "cell_type": "code",
   "execution_count": null,
   "metadata": {},
   "outputs": [],
   "source": [
    "\n",
    "class Student:\n",
    "    studentCount = 0\n",
    "    def __init__(self, name, kor, mat, eng ):\n",
    "        self.name = name\n",
    "        self.kor = kor\n",
    "        self.mat = mat\n",
    "        self.eng = eng\n",
    "        self.tot = self.kor + self.mat + self.eng \n",
    "        self.avg = self.kor + self.mat + self.eng /3\n",
    "        Student.studentCount +=1"
   ]
  },
  {
   "cell_type": "code",
   "execution_count": null,
   "metadata": {},
   "outputs": [],
   "source": [
    "\n",
    "# 메뉴화\n",
    "\n",
    "def start():\n",
    "    Student2 = []\n",
    "    while True:\n",
    "        choice = input('1.입력 2.출력 3.계산 4.종료 =>')\n",
    "        if choice == '1':\n",
    "            name = input('이름: ')\n",
    "            kor = int(input('국어 점수 : '))\n",
    "            eng = int(input('영어 점수 : '))\n",
    "            mat = int(input('수학 점수 : '))\n",
    "            stud = Student(name,kor,eng, mat)\n",
    "            Student2.append(stud)\n",
    "            \n",
    "        elif choice == '2':\n",
    "            for s in Student2:\n",
    "                print('이름: %s 국어:%s 영어:%s 수학:%s 총점: %s 평균:%s '%( s.name, s.kor, s.eng, s.mat,s.tot,s.avg))\n",
    "        \n",
    "        elif choice == '3':\n",
    "            kor_tot = 0\n",
    "            eng_tot = 0\n",
    "            mat_tot = 0\n",
    "            for s in Student2:\n",
    "                kor_tot += s.kor\n",
    "                eng_tot += s.eng\n",
    "                mat_tot += s.mat\n",
    "            kor_avg = round(kor_tot/ len(Student2),2)\n",
    "            eng_avg = round(eng_tot/ len(Student2),2)\n",
    "            mat_avg = round(mat_tot/ len(Student2),2)\n",
    "            print('총 학생수: %s명 ' % len(Student2))\n",
    "            print('국어평균: %s\\t\\t 영어평균: %s\\t\\t 수학평균: %s\\t\\t'%(kor_avg, eng_avg, mat_avg))\n",
    "\n",
    "        elif choice == '4':\n",
    "                break\n",
    "            \n",
    "start()"
   ]
  },
  {
   "cell_type": "markdown",
   "metadata": {},
   "source": [
    "### 2개로 분리되 class \n",
    "- 기본적인 데이터를 저장하는 클래스 \n",
    "- Management(입력, 출력, 검색, 수정 등등)\n",
    "- 메뉴함수 "
   ]
  },
  {
   "cell_type": "code",
   "execution_count": 1,
   "metadata": {},
   "outputs": [],
   "source": [
    "import sys\n",
    "class Student:\n",
    "    def __init__(self):\n",
    "        self.bunho =0\n",
    "        self.name =''\n",
    "        self.kor = 0\n",
    "        self.mat = 0\n",
    "        self.eng = 0\n",
    "        self.total = 0\n",
    "        self.avg = 0\n",
    "        self.grade = 0\n",
    "    def inputData(self):\n",
    "        self.name = input('이름을 입력하세요')\n",
    "        self.kor = eval(input('국어점수:'))\n",
    "        self.mat = eval(input('수학점수:'))\n",
    "        self.eng = eval(input('영어점수:'))\n",
    "    def calc_total_average(self):     #수정도 염두에 두어서 별도의 함수화\n",
    "        self.total = self.kor + self.mat + self.eng\n",
    "        self.avg = round(self.total/3,2)\n",
    "        self.grade = self.calcSemGrade()\n",
    "    def calcSemGrade(self):\n",
    "        if self.avg >=90:  return 'A'\n",
    "        elif self.avg >= 80: return 'B'\n",
    "        elif self.avg >= 70: return 'C'\n",
    "        elif self.avg >= 60: return 'D'\n",
    "        else:                     return 'F'\n",
    "       \n",
    "    def __str__(self):\n",
    "        return '%5s %5s %6.2f %6.2f %6.2f %7.2f  %7.2f   %5s'  %(self.bunho, self.name, self.kor, self.mat, self.eng, self.total,\n",
    "                                                                 self.avg, self.grade)\n",
    "    def __cmp__(self, other):\n",
    "        return self.name == other.name\n",
    "        "
   ]
  },
  {
   "cell_type": "code",
   "execution_count": 2,
   "metadata": {},
   "outputs": [],
   "source": [
    "class Management:\n",
    "    schoolname = '제주 아카데미'\n",
    "    bunho = 0\n",
    "    def __init__(self, count):\n",
    "        print('메뉴를 선택하시오')\n",
    "        self.sungjuk = []\n",
    "        self.count = count\n",
    "    def input(self):\n",
    "        for co_in in range(self.count):\n",
    "            stu = Student()\n",
    "            stu.inputData()\n",
    "            Management.bunho += 1            #번호를 자동으로 입력하기 위해 \n",
    "            stu.bunho = Management.bunho\n",
    "            self.sungjuk.append(stu)\n",
    "    def print_sungjuk(self):\n",
    "        for per in self.sungjuk:\n",
    "            print(per)\n",
    "        print()\n",
    "            \n",
    "    def calc_sungjuk(self):\n",
    "        for per in self.sungjuk:\n",
    "            per.calc_total_average()\n",
    "            \n",
    "    def search_name(self):\n",
    "        name = input('검색할 학생 이름을 추가하시오')\n",
    "        for per in self.sungjuk:\n",
    "            if (per.name == name):\n",
    "                print(per)\n",
    "                return\n",
    "\n",
    "\n",
    "            \n",
    "        print('검색하고자 하는 학생이 없습니다. ')\n",
    "        return"
   ]
  },
  {
   "cell_type": "code",
   "execution_count": null,
   "metadata": {},
   "outputs": [
    {
     "name": "stdout",
     "output_type": "stream",
     "text": [
      "메뉴를 선택하시오\n",
      "['입력(1), 출력(2), 계산(3), 검색(4),이름수정(5),이름삭제(6),정렬(7),종료(8)']1\n",
      "이름을 입력하세요1\n",
      "국어점수:1\n",
      "수학점수:1\n",
      "영어점수:1\n",
      "이름을 입력하세요2\n",
      "국어점수:2\n",
      "수학점수:2\n",
      "영어점수:2\n",
      "이름을 입력하세요3\n",
      "국어점수:3\n",
      "수학점수:3\n",
      "영어점수:3\n",
      "['입력(1), 출력(2), 계산(3), 검색(4),이름수정(5),이름삭제(6),정렬(7),종료(8)']3\n",
      "계산이 완료 되었습니다. - 확인하려면 출력해 보세요\n",
      "['입력(1), 출력(2), 계산(3), 검색(4),이름수정(5),이름삭제(6),정렬(7),종료(8)']2\n",
      "제주 아카데미 성적 계산표 \n",
      "   번호    이름     국어     수학     영어      총점      평균      학점\n",
      "    1     1   1.00   1.00   1.00    3.00     1.00       F\n",
      "    2     2   2.00   2.00   2.00    6.00     2.00       F\n",
      "    3     3   3.00   3.00   3.00    9.00     3.00       F\n",
      "\n",
      "['입력(1), 출력(2), 계산(3), 검색(4),이름수정(5),이름삭제(6),정렬(7),종료(8)']4\n",
      "검색할 학생 이름을 추가하시오1\n",
      "    1     1   1.00   1.00   1.00    3.00     1.00       F\n"
     ]
    }
   ],
   "source": [
    "sj = ['번호','이름','국어','수학','영어','총점','평균','학점']\n",
    "\n",
    "menu = ['입력(1), 출력(2), 계산(3), 검색(4),이름수정(5),이름삭제(6),정렬(7),종료(8)']\n",
    "\n",
    "man_sung = Management(3)\n",
    "\n",
    "while 1:\n",
    "    sel = input(menu)\n",
    "    if sel == '1':\n",
    "        man_sung.input()\n",
    "        continue\n",
    "    elif sel =='2':\n",
    "        print(Management.schoolname + ' 성적 계산표 ')\n",
    "        print('%5s %5s %6s %6s %6s %7s %7s %7s' % ('번호','이름','국어','수학','영어','총점','평균','학점'))\n",
    "        man_sung.print_sungjuk()\n",
    "        continue\n",
    "    elif sel == '3':\n",
    "        man_sung.calc_sungjuk()\n",
    "        print('계산이 완료 되었습니다. - 확인하려면 출력해 보세요')\n",
    "        continue\n",
    "    elif sel == '4':\n",
    "        man_sung.search_name()\n",
    "        continue\n",
    "\n",
    "        \n",
    "    else:\n",
    "        print('잘못된 입력입니다. 다시 입력하세요')\n",
    "        continue"
   ]
  },
  {
   "cell_type": "code",
   "execution_count": null,
   "metadata": {},
   "outputs": [],
   "source": []
  },
  {
   "cell_type": "code",
   "execution_count": null,
   "metadata": {},
   "outputs": [],
   "source": []
  },
  {
   "cell_type": "code",
   "execution_count": null,
   "metadata": {},
   "outputs": [],
   "source": []
  },
  {
   "cell_type": "code",
   "execution_count": null,
   "metadata": {},
   "outputs": [],
   "source": []
  },
  {
   "cell_type": "code",
   "execution_count": null,
   "metadata": {},
   "outputs": [],
   "source": []
  }
 ],
 "metadata": {
  "kernelspec": {
   "display_name": "Python 3",
   "language": "python",
   "name": "python3"
  },
  "language_info": {
   "codemirror_mode": {
    "name": "ipython",
    "version": 3
   },
   "file_extension": ".py",
   "mimetype": "text/x-python",
   "name": "python",
   "nbconvert_exporter": "python",
   "pygments_lexer": "ipython3",
   "version": "3.7.4"
  }
 },
 "nbformat": 4,
 "nbformat_minor": 2
}
