{
 "cells": [
  {
   "cell_type": "code",
   "execution_count": 1,
   "metadata": {},
   "outputs": [],
   "source": [
    "# 신경망 학습\n",
    "# 신경망에서는 가중치를 학습한다. ( 가중치는 행렬로 이루어져있다. )\n",
    "# 입력  data도 행렬로 이루어져있다. , 계수도 행렬로 이루어져있다. \n",
    "# 둘이 곱하는것 ( = 내적) : 내적을 통해서 설명력을 얻는다. \n",
    "\n",
    "# 선형문제를 비선형문제로 풀기위해서는 activation function을 달아준다. \n",
    "# activation function에는 sigmoid(0~1 사이의 값을 가진다.) \n",
    "# tanh(-1~1 사이의 값을 갖는다. )\n",
    "# softmax (분류기이다. )\n",
    "# 위와 같은 3가지의 activation function을 이용하면 선형문제를 비선형문제로 푼다. \n",
    "# 즉 activation function을 달아줘야지 xor 문제가 해결이 된다.\n",
    "# (가중치와 가중치를 곱하고 activation function을 곱해줘야한다.)\n",
    "\n",
    "# tensorflow로 가중치를 풀 수 있기 때문에 요새는 딥러닝이 각광받고 있다. \n",
    "# 가중치 사이즈만 잘 구해주면 된다. \n",
    "# 가중치는 학습만 끝나면 예측, 분류를 쉽게 할 수 있다. \n",
    "# 데이터를 통해서 가중치를 학습한다. \n",
    "\n",
    "#예측: mse   /분류 : entropy( entropy나 mse나 같다고 본다(?))\n",
    "\n",
    "# cost function 을 통해서 가중치를 학습하게 된다.\n",
    "\n",
    "# 데이터를 잘라서 하나씩 넘기는 것을 mini batch라고 한다. \n",
    "# (하나하나씩 가중치를 수정하다보면 복잡하니까 일정한 사이즈로 나누는 \n",
    "# 미니배치를 사용하면 지역해 문제를 해결하고 속도가 빨라진다. )\n",
    "\n",
    "# optimizer 가 control 하는것은 learning rate( 얼마나 학습할것인지 )와 기울기 이다. \n",
    "# 학습률이 크면 빨리빨리 학습이 되나 미세하게 넘어가지 못하고  크게 넘어간다.\n",
    "# learning rate 와 모멘텀 전부 고려해서 만든 optimizer 가 adam dlek \n",
    "\n",
    "## 아담~~!"
   ]
  },
  {
   "cell_type": "code",
   "execution_count": 2,
   "metadata": {},
   "outputs": [],
   "source": [
    "# 오늘 내일, 가중치를 조절하는 것, \n",
    "# 가중치 조절 전 행렬에 대한 지식을 볼 것이다. \n",
    "# 예측과 분류를 해볼것이다. \n"
   ]
  },
  {
   "cell_type": "code",
   "execution_count": 3,
   "metadata": {},
   "outputs": [],
   "source": [
    "# scikits에서 특성 추출을 할땐 PCA로 했다 \n",
    "# 그런데 PCA는 선형만으로 특성을 뽑아낸다. ( 그래서 비선형에는 약하다 )\n",
    "# 비지도 학습에서는 GAN이나 AZ를 이용한다\n",
    "# 요즘 대세는 GAN이더라. \n"
   ]
  },
  {
   "cell_type": "code",
   "execution_count": 4,
   "metadata": {},
   "outputs": [],
   "source": [
    "# anaconda prompt:\n",
    "# conda install tensorflow = 1.14.0\n"
   ]
  },
  {
   "cell_type": "code",
   "execution_count": 5,
   "metadata": {},
   "outputs": [
    {
     "name": "stdout",
     "output_type": "stream",
     "text": [
      "1.14.0\n"
     ]
    }
   ],
   "source": [
    "import tensorflow as tf\n",
    "print(tf.__version__)\n"
   ]
  },
  {
   "cell_type": "code",
   "execution_count": 6,
   "metadata": {},
   "outputs": [],
   "source": [
    "# cuda, cudnn을 설치를 하고 세팅을 해야 GPU를 이용해서 고속으로 처리할 수 있다. \n"
   ]
  },
  {
   "cell_type": "code",
   "execution_count": 7,
   "metadata": {},
   "outputs": [],
   "source": [
    "# constant, variable, plraceholder \n",
    "# feeding을 할땐 for 문이 들어간다 ( 반복되기 때문에)\n",
    "# 데이터가 많으면 메모리에 다 올라올수 없다. 메모리에 미니배치사이즈만큼\n",
    "# queue를 만들어 넣고 , queue에 넣어뒀다개 뺏다가 한다. "
   ]
  },
  {
   "cell_type": "code",
   "execution_count": 8,
   "metadata": {},
   "outputs": [],
   "source": [
    "# tensorflow 도 대용량 데이터를 처리하기 때문에 데이터가 잘게 나누어져 있다. "
   ]
  },
  {
   "cell_type": "code",
   "execution_count": 10,
   "metadata": {},
   "outputs": [
    {
     "name": "stdout",
     "output_type": "stream",
     "text": [
      "Tensor(\"Const:0\", shape=(), dtype=string)\n",
      "b'Hello, Tensorflow'\n"
     ]
    }
   ],
   "source": [
    "# 데이터 타입\n",
    "import tensorflow as tf\n",
    "hello = tf.constant(\"Hello, Tensorflow\")# 상수로 선언했다\n",
    "# 프로그래밍에서는 int나 string이나 전부 상수로 선언가능\n",
    "\n",
    "sess = tf.Session()\n",
    "\n",
    "print(hello)  # 텐서플로의 데이터는 직접 확인이 불가능하다. \n",
    "# tensor라는 내용만 출력하여주고 그 외에는 내용은 안보여준다\n",
    "print(sess.run(hello))  # sess.run하면 numpy 데이터로 변경해서 출력이 된다. "
   ]
  },
  {
   "cell_type": "code",
   "execution_count": 11,
   "metadata": {},
   "outputs": [],
   "source": [
    "# anaconda propmpt 에서 가상화면 깔아보자 (안해도 될듯)\n",
    "# conda create --name tf_test python anaconda\n",
    "# 깔고 나서 \n",
    "# activate tf_test 해보면 tf_test 라고 앞에 띈다 ( 가상화면 으로 바뀐것)\n",
    "# conda update conda\n",
    "##conda update pip\n",
    "# conda install numpy\n",
    "# conda install pandas\n",
    "# conda install jupyter\n",
    "#conda install scipy \n",
    "#conda install scikit-image\n",
    "# conda install seaborn\n",
    "# conda install tensorflow=1.14.0\n",
    "# jupyter kernel install "
   ]
  },
  {
   "cell_type": "code",
   "execution_count": 13,
   "metadata": {},
   "outputs": [
    {
     "name": "stdout",
     "output_type": "stream",
     "text": [
      "<tf.Variable 'y_1:0' shape=() dtype=int32_ref>\n",
      "40\n"
     ]
    }
   ],
   "source": [
    "x = tf.constant(35,name ='x')\n",
    "# x = 35 라고 주면되는데 왜 또 name에 이름을 주고 있는건가??\n",
    "# 1 . model의 그래프 구조에서 확인하기 위해서\n",
    "# 2. 모델을 그대로 저장할 때 메모리 위치를 확인하기 위해서\n",
    "\n",
    "y = tf.Variable(x+5, name = 'y')# Variable 을 선언\n",
    "# name ='y'에서 꼭 y라고 지정할 필요 없다. \n",
    "\n",
    "print(y)  # 이것 또한 tensor만 보여준다. \n",
    "\n",
    "# 변수가 있는 경우 (Variable에 있는 경우) 반드시 초기화는 해줘야한다. \n",
    "init = tf.global_variables_initializer() # 이문장을 통해서 '변수를 초기화' 한다.\n",
    "# constant 일대는 안했지만 variable일때는 해야한다. \n",
    "\n",
    "## 여기서 부터 학습을 시키는 과정이다ㅓ#########\n",
    "with tf.Session() as sess :   # with을 통해서 인스턴스를 선언하면\n",
    "    # 전부 실행후 인스턴스는 메모리에서 삭제된다. \n",
    "    sess.run(init)\n",
    "    print(sess.run(y))  "
   ]
  },
  {
   "cell_type": "code",
   "execution_count": 14,
   "metadata": {},
   "outputs": [
    {
     "name": "stdout",
     "output_type": "stream",
     "text": [
      "[5 7 9]\n"
     ]
    }
   ],
   "source": [
    "# pandas 에서 데이터를 초기화할때 list나 dict에 넣어서 초기화 했었는데\n",
    "# 텐서플로에서도 마찬가지로 그렇다!!!!! \n",
    "\n",
    "a = tf.constant([1,2,3], name = 'a')\n",
    "b = tf.constant([4,5,6], name = 'b')\n",
    "add_op = a+b\n",
    "\n",
    "with tf.Session() as sess:\n",
    "    print(sess.run(add_op))\n",
    "    # 요소끼리 계산된것을 확인이 가능하다 \n",
    "    # 즉 행렬연산했다. "
   ]
  },
  {
   "cell_type": "code",
   "execution_count": 16,
   "metadata": {},
   "outputs": [],
   "source": [
    "# 주입변수 placeholder\n",
    "\n",
    "a =tf.placeholder(tf.int16) # 텐서플로에서 placeholder를 호출한다.\n",
    "# 데이터 없이 공간만을 확보한다. \n",
    "b = tf.placeholder(tf.int16)\n",
    "\n",
    "add = tf.add(a,b)\n",
    "mul = tf.multiply(a,b)\n",
    "total = tf.multiply(add, mul)\n",
    "\n",
    "# 순차적으로 계산이 되어게 만들었다\n",
    "# 자료구조가 graph 로 구성이 된다. \n",
    "# 위와 같이 구조를 만들었다 ( 골격을 만들었다. )\n",
    "# 이제 session 을 연결해서 실행해보자"
   ]
  },
  {
   "cell_type": "code",
   "execution_count": 19,
   "metadata": {},
   "outputs": [
    {
     "name": "stdout",
     "output_type": "stream",
     "text": [
      "feed 변수합 : 5\n",
      "feed 변수합 : 6\n",
      "feed 변수합 : 30\n"
     ]
    }
   ],
   "source": [
    "\n",
    "with tf.Session() as sess: \n",
    "    print(\"feed 변수합 : %i\" % sess.run(add,feed_dict={a:2, b:3}))  # feed_dict 이라는 옵션에 dictionary로 데이터를 준다 \n",
    "    print(\"feed 변수합 : %i\" % sess.run(mul, feed_dict={a:2, b:3}))\n",
    "    print(\"feed 변수합 : %i\" % sess.run(total, feed_dict={a:2, b:3}))"
   ]
  },
  {
   "cell_type": "code",
   "execution_count": 20,
   "metadata": {},
   "outputs": [
    {
     "name": "stdout",
     "output_type": "stream",
     "text": [
      "feed 변수합 : 30\n"
     ]
    }
   ],
   "source": [
    "with tf.Session() as sess: # 이렇게 토탈만 적어도\n",
    "    # 위에 다른것들도 전부 같이 실행된다. \n",
    "    print(\"feed 변수합 : %i\" % sess.run(total, feed_dict = {a:2, b:3}))\n",
    "    "
   ]
  },
  {
   "cell_type": "code",
   "execution_count": 22,
   "metadata": {},
   "outputs": [
    {
     "name": "stdout",
     "output_type": "stream",
     "text": [
      "[[12.]]\n"
     ]
    }
   ],
   "source": [
    "matrix1 = tf.constant([[3.,3. ]]) # 1x2 \n",
    "matrix2 = tf.constant([[2.], [2.]]) #이것은 2x1 이다.\n",
    "product = tf.matmul(matrix1, matrix2) #matrix multiply ( 둘이 곱하면 1X1이 나와야한다.)\n",
    "\n",
    "with tf.Session() as sess:\n",
    "    result = sess.run(product)\n",
    "    print(result)"
   ]
  },
  {
   "cell_type": "code",
   "execution_count": 40,
   "metadata": {},
   "outputs": [
    {
     "name": "stdout",
     "output_type": "stream",
     "text": [
      "[[0. 0.]\n",
      " [0. 0.]]\n",
      "[1. 1. 1. 1. 1. 1.]\n",
      "균등분포\n",
      "[[[0.64557195 3.0061197  8.335694  ]\n",
      "  [7.741499   3.684014   2.2128022 ]\n",
      "  [7.724081   5.9877253  0.11654019]]\n",
      "\n",
      " [[9.337621   1.3221323  4.1372833 ]\n",
      "  [2.1155941  4.4027576  8.087738  ]\n",
      "  [2.9948127  1.969769   4.8629165 ]]\n",
      "\n",
      " [[5.775818   4.250307   1.6439056 ]\n",
      "  [0.01060486 5.5276623  4.219198  ]\n",
      "  [6.40368    9.383324   5.156893  ]]]\n",
      "\n",
      "\n",
      "정규분포\n",
      "[[[-1.6005331  -0.69599795 -0.95216566]\n",
      "  [-0.05835099  0.50853884 -1.2071543 ]\n",
      "  [ 2.9600298  -2.2364492  -0.00931015]]\n",
      "\n",
      " [[ 0.38735574 -4.1962585  -0.6376088 ]\n",
      "  [ 2.5193918  -2.3754156   1.82618   ]\n",
      "  [ 1.555583    0.0849499  -2.2376926 ]]\n",
      "\n",
      " [[ 0.94111246 -3.512566   -1.3886105 ]\n",
      "  [-0.46746346 -0.40654686 -0.6608142 ]\n",
      "  [-2.3925905  -2.477575    1.6937858 ]]]\n",
      "\n",
      "\n",
      "truncated\n",
      "[[5.0881014 4.734453 ]\n",
      " [5.6099477 5.0176697]]\n"
     ]
    }
   ],
   "source": [
    "zeros = tf.zeros([2,2]) # zeros 는 2x2 즉 4개의 요소를 0으로 만든다\n",
    "ones = tf.ones([6])  # 1로 초기화 된다. \n",
    "with tf.Session() as sess:\n",
    "    print(sess.run(zeros))\n",
    "    print(sess.run(ones))\n",
    "    \n",
    "uniform = tf.random_uniform([3,3,3], minval = 0.0, maxval = 10)\n",
    "# random_uniform 균등분포\n",
    "normal = tf.random_normal([3,3,3], mean = 0.0, stddev = 2.0)\n",
    "# 정규분포\n",
    "trunc = tf.truncated_normal([2,2],mean = 5.0, stddev = 1.0)\n",
    "# truncated_normal ==> 정규분포는 정규분포인데 \n",
    "# 표준편자 2배수 내의 숫자로만 초기화 한다.\n",
    "random_var = tf.Variable(tf.truncated_normal([2,2]))\n",
    "\n",
    "init = tf.global_variables_initializer() \n",
    "sess = tf.Session()\n",
    "sess.run(init)\n",
    "with tf.Session() as sess:\n",
    "    print('균등분포')\n",
    "    print(sess.run(uniform))\n",
    "    print('\\n')\n",
    "    print('정규분포')\n",
    "    print(sess.run(normal))\n",
    "    print('\\n')\n",
    "    print('truncated')\n",
    "    print(sess.run(trunc))"
   ]
  },
  {
   "cell_type": "code",
   "execution_count": 39,
   "metadata": {},
   "outputs": [
    {
     "name": "stdout",
     "output_type": "stream",
     "text": [
      "[[4.7066317 4.660183 ]\n",
      " [6.062248  5.6961946]]\n",
      "변수초기화  [[ 0.90311736  0.6701646 ]\n",
      " [ 0.57964957 -0.4426123 ]]\n"
     ]
    }
   ],
   "source": [
    "init = tf.global_variables_initializer() \n",
    "sess = tf.Session()\n",
    "sess.run(init) # init은 초기화함수이고 sess.run에 넣어서 실행시킨다. \n",
    "print(sess.run(trunc))\n",
    "print('변수초기화 ', sess.run(random_var))"
   ]
  },
  {
   "cell_type": "code",
   "execution_count": 49,
   "metadata": {},
   "outputs": [
    {
     "name": "stdout",
     "output_type": "stream",
     "text": [
      "[[0 0]\n",
      " [0 0]\n",
      " [0 0]\n",
      " [0 0]\n",
      " [0 0]\n",
      " [0 0]]\n",
      "(6, 2)\n",
      "\n",
      "\n",
      "전치 시킨거\n",
      "[[0 0 0 0 0 0]\n",
      " [0 0 0 0 0 0]]\n",
      "(2, 6)\n"
     ]
    }
   ],
   "source": [
    "import tensorflow as tf\n",
    "my_tensor = tf.constant(0, shape = [6,2])\n",
    "# constant 로 0으로 초기화하고 shape 를 6x2 로 주었다 \n",
    "# (즉 6x2 의 행렬로 되고 상수화돼서 저장이된다) \n",
    "# 상수화되면 값을 못바꿈\n",
    "my_static_shape = my_tensor.get_shape()\n",
    "\n",
    "# 전치시켜보자 \n",
    "my_tensor_transposed = tf.transpose(my_tensor)\n",
    "with tf.Session() as sess:\n",
    "    print(sess.run(my_tensor))  #  0으로 초기화되고 6X2행렬\n",
    "    print(my_tensor.get_shape())\n",
    "    print('\\n')\n",
    "    print('전치 시킨거')\n",
    "\n",
    "    print(sess.run(my_tensor_transposed))\n",
    "    print(my_tensor_transposed.get_shape())"
   ]
  },
  {
   "cell_type": "code",
   "execution_count": 50,
   "metadata": {},
   "outputs": [
    {
     "name": "stdout",
     "output_type": "stream",
     "text": [
      "[0. 0.]\n"
     ]
    }
   ],
   "source": [
    "import tensorflow as tf\n",
    "# 대화형 세션 호출하기  with 없이도 session 쓰기\n",
    "tf.InteractiveSession()\n",
    "tf.zeros(2)\n",
    "a =tf.zeros(2)\n",
    "print(a.eval()) # 바로 값이 보인다. \n",
    "# 즉 대화형세션일때는 호출하고나서  eval함수를 사용해준다.,"
   ]
  },
  {
   "cell_type": "code",
   "execution_count": 54,
   "metadata": {},
   "outputs": [],
   "source": [
    "def showvalue(t):\n",
    "    sess = tf.InteractiveSession()\n",
    "    tf.global_variables_initializer().run()   #chining\n",
    "    print(t.eval())\n",
    "    sess.close()"
   ]
  },
  {
   "cell_type": "code",
   "execution_count": 55,
   "metadata": {},
   "outputs": [
    {
     "name": "stdout",
     "output_type": "stream",
     "text": [
      "[ 3.5 10.1]\n",
      "[-8  7 17]\n"
     ]
    }
   ],
   "source": [
    "# 프로그램이 길어졌을대  InteractoveSession을 이요해서 사용하면 값을 확인 가능\n",
    "\n",
    "c2, c3 = tf.constant([1.2,5.6]), tf.constant([-4,1,7])\n",
    "v2, v3 = tf.Variable([2.3,4.5]), tf.Variable([-2,3,5])\n",
    "showvalue(tf.add_n([c2,v2]))\n",
    "showvalue(tf.add_n([c3,v3,v3]))"
   ]
  },
  {
   "cell_type": "code",
   "execution_count": 56,
   "metadata": {},
   "outputs": [],
   "source": [
    "# 2x +y+z=1\n",
    "# 4x+3y+4x=2\n",
    "# -4x+2y+2z=-6 을 풀어보자\n",
    "\n",
    "# A dot x =[1,2,-6]   이런꼴이다 --> 이걸 풀려면 A의 역행렬을 양변에 곱한다. 그럼  x,y,z 를 구할 수 있다 \n",
    "#       y\n",
    "#       z"
   ]
  },
  {
   "cell_type": "code",
   "execution_count": 58,
   "metadata": {},
   "outputs": [
    {
     "name": "stdout",
     "output_type": "stream",
     "text": [
      "[[ 2.  1.  1.]\n",
      " [ 4.  3.  4.]\n",
      " [-4.  2.  2.]]\n",
      "\n",
      "\n",
      "[[ 1.]\n",
      " [ 2.]\n",
      " [-6.]]\n"
     ]
    }
   ],
   "source": [
    "sess=tf.Session()\n",
    "\n",
    "x=tf.constant([2.0, 1.0, 1.0, 4,3,4,-4,2,2],shape=[3,3]) \n",
    "# 일단초기화한다  (앞에있는것을 행렬로 만든다)\n",
    "print(sess.run(x))\n",
    "print('\\n')\n",
    "y=tf.constant([1.0, 2,-6], shape=[3,1]) # 뒤에있는 것을 행렬로 만든다\n",
    "print(sess.run(y))\n"
   ]
  },
  {
   "cell_type": "code",
   "execution_count": 59,
   "metadata": {},
   "outputs": [
    {
     "name": "stdout",
     "output_type": "stream",
     "text": [
      "계수: [[ 1.0000001]\n",
      " [-2.0000002]\n",
      " [ 1.0000001]]\n",
      "[[ 1.0000001]\n",
      " [-2.0000002]\n",
      " [ 1.0000001]]\n"
     ]
    }
   ],
   "source": [
    "z = tf.matrix_solve(x,y)\n",
    "# matrix_solve 는 앞에 있는 데이터의 역행렬을 구해서 \n",
    "# 그걸 곱해서 결과를 구해주는 함수이다 \n",
    "# 즉 위에서 구한 행렬을 가져와서 역행렬을 구하고 곱해서 답을 구하는 것\n",
    "\n",
    "result = sess.run(z)\n",
    "print('계수:', result)\n",
    "print(sess.run(z))"
   ]
  },
  {
   "cell_type": "code",
   "execution_count": 60,
   "metadata": {},
   "outputs": [
    {
     "name": "stdout",
     "output_type": "stream",
     "text": [
      "[1.0000001]\n",
      "[[ 1.0000001]\n",
      " [ 2.       ]\n",
      " [-6.000001 ]]\n"
     ]
    }
   ],
   "source": [
    "print(2.0 * result[0] + 1.0*result[1]+1.0 *result[2])\n",
    "print(sess.run(tf.matmul(x,z))) # matmul 하면 [1,2,-6] 이란 결과 즉 y 가 나온다 "
   ]
  },
  {
   "cell_type": "code",
   "execution_count": null,
   "metadata": {},
   "outputs": [],
   "source": []
  }
 ],
 "metadata": {
  "kernelspec": {
   "display_name": "Python 3",
   "language": "python",
   "name": "python3"
  },
  "language_info": {
   "codemirror_mode": {
    "name": "ipython",
    "version": 3
   },
   "file_extension": ".py",
   "mimetype": "text/x-python",
   "name": "python",
   "nbconvert_exporter": "python",
   "pygments_lexer": "ipython3",
   "version": "3.7.4"
  }
 },
 "nbformat": 4,
 "nbformat_minor": 2
}
