{
 "cells": [
  {
   "cell_type": "markdown",
   "metadata": {},
   "source": [
    "# if 조건문 사용하기\n",
    "\n",
    "if 조건문은 if에 조건식을 지정하고 :(콜론)을 붙이며 다음 줄에 실행할 코드가 옵니다. 이때 실행할 코드는 반드시 들여쓰기를 해야한다. "
   ]
  },
  {
   "cell_type": "code",
   "execution_count": 2,
   "metadata": {},
   "outputs": [
    {
     "name": "stdout",
     "output_type": "stream",
     "text": [
      "x는 10 입니다\n"
     ]
    }
   ],
   "source": [
    "x = 10 \n",
    "if x == 10 :\n",
    "    print('x는 10 입니다')### print 앞에 4 칸을 들여쓰기 해야한다. \n"
   ]
  },
  {
   "cell_type": "code",
   "execution_count": 9,
   "metadata": {},
   "outputs": [
    {
     "name": "stdout",
     "output_type": "stream",
     "text": [
      "x는 10입니다\n"
     ]
    }
   ],
   "source": [
    "# 들여쓰기 하지 않으면 에러가 발생한다\n",
    "\n",
    "x = 10 \n",
    "if x == 10:\n",
    "  print('x는 10입니다')\n",
    "\n",
    "###????? 왜 되는거야들여쓰기 3칸으로 했는데?\n",
    "## 코딩도장 181 페이지"
   ]
  },
  {
   "cell_type": "code",
   "execution_count": 10,
   "metadata": {},
   "outputs": [],
   "source": [
    "## if 중첩 조건문 사용하기 \n"
   ]
  },
  {
   "cell_type": "code",
   "execution_count": 17,
   "metadata": {},
   "outputs": [
    {
     "name": "stdout",
     "output_type": "stream",
     "text": [
      "50\n",
      "10 이상 입니다\n",
      "20 이상  입니다. \n"
     ]
    }
   ],
   "source": [
    "x = int(input())\n",
    "\n",
    "if x >= 10:\n",
    "    print('10 이상 입니다')\n",
    "    if x == 15 :\n",
    "        print('15 입니다')\n",
    "    if x >= 20:\n",
    "        print('20 이상  입니다. ')"
   ]
  },
  {
   "cell_type": "code",
   "execution_count": 27,
   "metadata": {},
   "outputs": [
    {
     "name": "stdout",
     "output_type": "stream",
     "text": [
      "30000\n",
      "cash3000\n",
      "27000\n"
     ]
    }
   ],
   "source": [
    "money = int(input())\n",
    "coupon = input()\n",
    "cash3000 = 3000\n",
    "cash5000 = 5000\n",
    "\n",
    "if coupon == 'cash3000':\n",
    "    print(money - cash3000)\n",
    "if coupon == 'cash5000':\n",
    "    print(money - cash5000)"
   ]
  },
  {
   "cell_type": "code",
   "execution_count": 28,
   "metadata": {},
   "outputs": [
    {
     "name": "stdout",
     "output_type": "stream",
     "text": [
      "30000\n",
      "cash3000\n",
      "27000\n"
     ]
    }
   ],
   "source": [
    "money = int(input())\n",
    "coupon = input()\n",
    "\n",
    "\n",
    "if coupon == 'cash3000':\n",
    "    money -= 3000\n",
    "    print(money)\n",
    "if coupon == 'cash5000':\n",
    "    money -= 5000\n",
    "    print(money)"
   ]
  },
  {
   "cell_type": "markdown",
   "metadata": {},
   "source": [
    "# else를 사용하여 두 반향으로 분기하기 "
   ]
  },
  {
   "cell_type": "code",
   "execution_count": null,
   "metadata": {},
   "outputs": [],
   "source": []
  },
  {
   "cell_type": "code",
   "execution_count": null,
   "metadata": {},
   "outputs": [],
   "source": []
  },
  {
   "cell_type": "code",
   "execution_count": null,
   "metadata": {},
   "outputs": [],
   "source": []
  },
  {
   "cell_type": "code",
   "execution_count": null,
   "metadata": {},
   "outputs": [],
   "source": []
  },
  {
   "cell_type": "code",
   "execution_count": null,
   "metadata": {},
   "outputs": [],
   "source": []
  },
  {
   "cell_type": "code",
   "execution_count": null,
   "metadata": {},
   "outputs": [],
   "source": []
  }
 ],
 "metadata": {
  "kernelspec": {
   "display_name": "Python 3",
   "language": "python",
   "name": "python3"
  },
  "language_info": {
   "codemirror_mode": {
    "name": "ipython",
    "version": 3
   },
   "file_extension": ".py",
   "mimetype": "text/x-python",
   "name": "python",
   "nbconvert_exporter": "python",
   "pygments_lexer": "ipython3",
   "version": "3.7.4"
  }
 },
 "nbformat": 4,
 "nbformat_minor": 2
}
