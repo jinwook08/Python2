{
 "cells": [
  {
   "cell_type": "code",
   "execution_count": 42,
   "metadata": {},
   "outputs": [
    {
     "name": "stdout",
     "output_type": "stream",
     "text": [
      "None\n"
     ]
    },
    {
     "data": {
      "text/plain": [
       "<bound method Connection.close of <pymysql.connections.Connection object at 0x0000022C91634188>>"
      ]
     },
     "execution_count": 42,
     "metadata": {},
     "output_type": "execute_result"
    }
   ],
   "source": [
    "import pymysql\n",
    "# 네트워크관리 \n",
    "conn = pymysql.connect(host = '192.168.1.232',\n",
    "                     user = 'root', port = 3306, password ='123456!', db = 'PEOPLE',\n",
    "                     charset = 'utf8mb4', use_unicode = True,\n",
    "                                    cursorclass = pymysql.cursors.DictCursor)\n",
    "\n",
    "cur = conn.cursor()\n",
    "cur.execute('''CREATE TABLE if not exists personal2( \n",
    "            id  INT NOT NULL AUTO_INCREMENT,\n",
    "            name VARCHAR(30),\n",
    "            tell VARCHAR(30),\n",
    "            address VARCHAR(30),\n",
    "            sex CHAR(2),\n",
    "            birth DATE, \n",
    "            PRIMARY KEY (id)) ENGINE = InnoDB AUTO_INCREMENT = 1''')\n",
    "print(cur.description)\n",
    "conn.close"
   ]
  },
  {
   "cell_type": "code",
   "execution_count": 156,
   "metadata": {},
   "outputs": [
    {
     "name": "stdout",
     "output_type": "stream",
     "text": [
      "4\n"
     ]
    },
    {
     "data": {
      "text/plain": [
       "<bound method Connection.close of <pymysql.connections.Connection object at 0x0000022C94219708>>"
      ]
     },
     "execution_count": 156,
     "metadata": {},
     "output_type": "execute_result"
    }
   ],
   "source": [
    "import pymysql\n",
    "# 네트워크관리 \n",
    "conn = pymysql.connect(host = '192.168.1.232',\n",
    "                     user = 'root', port = 3306, password ='123456!', db = 'PEOPLE',\n",
    "                     charset = 'utf8mb4', use_unicode = True,\n",
    "                                    cursorclass = pymysql.cursors.DictCursor)\n",
    "\n",
    "cur = conn.cursor()\n",
    "\n",
    "val = '''INSERT INTO personal2 (name, tell, address, sex , birth)\n",
    "VALUES(%s, %s, %s, %s, %s)'''\n",
    "\n",
    "cur.execute(val, ('진욱', '010-2113-8534', '서귀포', 'M', '1994-8-8'))\n",
    "cur.execute(val, ('신혁', '010-2222-2222', '대구', 'M', '1991-2-2'))\n",
    "cur.execute(val, ('주현', '010-3333-3333', '제주', 'M', '1994-3-3'))\n",
    "cur.execute(val, ('서윤', '010-4444-4444', '서울', 'F', '1994-1-1'))\n",
    "cur.execute(val, ('하림', '010-5555-5555', '제주', 'F', '1996-1-6'))\n",
    "\n",
    "conn.commit() ## 수정하거나 뭔가 추가할떄마다 해줘야하는게 바로 이 커밋!!\n",
    "\n",
    "\n",
    "### 아래의 방식을 이용하면 한번에 많이 넣을수 있다. \n",
    "cur.executemany(\n",
    "    '''INSERT INTO personal2(name, tell, address, sex, birth)VALUES(%s, %s, %s, %s, %s)''',\n",
    "    [('욱진', '111-1111-1111','강원도','M', '2000-9-9'),\n",
    "     ('혁신', '222-2222-2222', '부산','M','1888-8-8'),\n",
    "     ('현주', '333-3333-3333', '세종','F', '2003-6-6'),\n",
    "     ('윤서', '444-4444-4444', '거제','F', '2303-6-9')])\n",
    "\n",
    "conn.commit()\n",
    "print(cur.rowcount)\n",
    "conn.close"
   ]
  },
  {
   "cell_type": "code",
   "execution_count": 157,
   "metadata": {},
   "outputs": [
    {
     "data": {
      "text/plain": [
       "<bound method Connection.close of <pymysql.connections.Connection object at 0x0000022C946BF188>>"
      ]
     },
     "execution_count": 157,
     "metadata": {},
     "output_type": "execute_result"
    }
   ],
   "source": [
    "## INSERT 하는 PROCEDURE 를 생성\n",
    "\n",
    "conn = pymysql.connect(host = '192.168.1.232',\n",
    "                     user = 'root', port = 3306, password ='123456!', db = 'PEOPLE',\n",
    "                     charset = 'utf8mb4', use_unicode = True,\n",
    "                                    cursorclass = pymysql.cursors.DictCursor)\n",
    "\n",
    "cur = conn.cursor()\n",
    "\n",
    "data = ('진수', '777-7777-7777', '경기', 'M', '1999-9-9')\n",
    "cur.callproc('personal2_insert', data)\n",
    "conn.commit()\n",
    "\n",
    "cur.close()\n",
    "conn.close"
   ]
  },
  {
   "cell_type": "code",
   "execution_count": 158,
   "metadata": {},
   "outputs": [
    {
     "name": "stdout",
     "output_type": "stream",
     "text": [
      "10\n",
      "{'id': 101, 'name': '진욱', 'tell': '010-2113-8534', 'address': '서귀포', 'sex': 'M', 'birth': datetime.date(1994, 8, 8)}\n",
      "{'id': 102, 'name': '신혁', 'tell': '010-2222-2222', 'address': '대구', 'sex': 'M', 'birth': datetime.date(1991, 2, 2)}\n",
      "{'id': 103, 'name': '주현', 'tell': '010-3333-3333', 'address': '제주', 'sex': 'M', 'birth': datetime.date(1994, 3, 3)}\n",
      "{'id': 104, 'name': '서윤', 'tell': '010-4444-4444', 'address': '서울', 'sex': 'F', 'birth': datetime.date(1994, 1, 1)}\n",
      "{'id': 105, 'name': '하림', 'tell': '010-5555-5555', 'address': '제주', 'sex': 'F', 'birth': datetime.date(1996, 1, 6)}\n",
      "{'id': 106, 'name': '욱진', 'tell': '111-1111-1111', 'address': '강원도', 'sex': 'M', 'birth': datetime.date(2000, 9, 9)}\n",
      "{'id': 107, 'name': '혁신', 'tell': '222-2222-2222', 'address': '부산', 'sex': 'M', 'birth': datetime.date(1888, 8, 8)}\n",
      "{'id': 108, 'name': '현주', 'tell': '333-3333-3333', 'address': '세종', 'sex': 'F', 'birth': datetime.date(2003, 6, 6)}\n",
      "{'id': 109, 'name': '윤서', 'tell': '444-4444-4444', 'address': '거제', 'sex': 'F', 'birth': datetime.date(2303, 6, 9)}\n",
      "{'id': 110, 'name': '진수', 'tell': '777-7777-7777', 'address': '경기', 'sex': 'M', 'birth': datetime.date(1999, 9, 9)}\n"
     ]
    }
   ],
   "source": [
    "conn = pymysql.connect(host = '192.168.1.232',\n",
    "                     user = 'root', port = 3306, password ='123456!', db = 'PEOPLE',\n",
    "                     charset = 'utf8mb4', use_unicode = True,\n",
    "                                    cursorclass = pymysql.cursors.DictCursor)\n",
    "\n",
    "cur = conn.cursor()\n",
    "\n",
    "cur.execute('select * from personal2')\n",
    "print(cur.rowcount)\n",
    "cur.description\n",
    "\n",
    "recs = cur.fetchall()\n",
    "for rec in recs:\n",
    "    print(rec)\n",
    "    \n",
    "cur.close()\n",
    "conn.close()"
   ]
  },
  {
   "cell_type": "code",
   "execution_count": 159,
   "metadata": {
    "scrolled": true
   },
   "outputs": [
    {
     "name": "stdout",
     "output_type": "stream",
     "text": [
      "0\n",
      "성공적으로 수정되었습니다. \n"
     ]
    }
   ],
   "source": [
    "# UPDATE 하는 PROCEDURE  를 생성\n",
    "\n",
    "\n",
    "conn = pymysql.connect(host = '192.168.1.232',\n",
    "                     user = 'root', port = 3306, password ='123456!', db = 'PEOPLE',\n",
    "                     charset = 'utf8mb4', use_unicode = True,\n",
    "                                    cursorclass = pymysql.cursors.DictCursor)\n",
    "\n",
    "cur= conn.cursor()\n",
    "\n",
    "data = ('신혁' , '혁수', 0)\n",
    "cur.callproc('personal2_update',data)\n",
    "cur.execute('SELECT @_personal2_update_2')\n",
    "result = cur.fetchone()\n",
    "print(result['@_personal2_update_2'])\n",
    "if result['@_personal2_update_2'] == 2:\n",
    "    print('수정할 이름이 없습니다. ')\n",
    "else:\n",
    "    print('성공적으로 수정되었습니다. ')\n",
    "    \n",
    "conn.commit()\n",
    "cur.close()\n",
    "conn.close()"
   ]
  },
  {
   "cell_type": "code",
   "execution_count": 155,
   "metadata": {},
   "outputs": [
    {
     "name": "stdout",
     "output_type": "stream",
     "text": [
      "0\n",
      "성공적으로 수정되었습니다. \n"
     ]
    }
   ],
   "source": [
    "conn = pymysql.connect(host = '192.168.1.232',\n",
    "                     user = 'root', port = 3306, password ='123456!', db = 'PEOPLE',\n",
    "                     charset = 'utf8mb4', use_unicode = True,\n",
    "                                    cursorclass = pymysql.cursors.DictCursor)\n",
    "cur = conn.cursor()\n",
    "\n",
    "data = ('진욱', 0)\n",
    "cur.callproc('personal2_delete',data)\n",
    "cur.execute('SELECT @_personal2_delete_1')\n",
    "result = cur.fetchone()\n",
    "print(result['@_personal2_delete_1'])\n",
    "if result['@_personal2_delete_1'] == 2:\n",
    "    print('수정할 이름이 없습니다. ')\n",
    "else:\n",
    "    print('성공적으로 수정되었습니다. ')\n",
    "    \n",
    "\n",
    "conn.commit()\n",
    "cur.close()\n",
    "conn.close()\n",
    "\n"
   ]
  },
  {
   "cell_type": "code",
   "execution_count": null,
   "metadata": {},
   "outputs": [],
   "source": []
  },
  {
   "cell_type": "code",
   "execution_count": null,
   "metadata": {},
   "outputs": [],
   "source": []
  },
  {
   "cell_type": "code",
   "execution_count": null,
   "metadata": {},
   "outputs": [],
   "source": []
  },
  {
   "cell_type": "code",
   "execution_count": null,
   "metadata": {},
   "outputs": [],
   "source": []
  },
  {
   "cell_type": "code",
   "execution_count": null,
   "metadata": {},
   "outputs": [],
   "source": []
  },
  {
   "cell_type": "code",
   "execution_count": null,
   "metadata": {},
   "outputs": [],
   "source": []
  },
  {
   "cell_type": "code",
   "execution_count": null,
   "metadata": {},
   "outputs": [],
   "source": []
  },
  {
   "cell_type": "code",
   "execution_count": null,
   "metadata": {},
   "outputs": [],
   "source": []
  },
  {
   "cell_type": "code",
   "execution_count": null,
   "metadata": {},
   "outputs": [],
   "source": []
  },
  {
   "cell_type": "code",
   "execution_count": null,
   "metadata": {},
   "outputs": [],
   "source": []
  }
 ],
 "metadata": {
  "kernelspec": {
   "display_name": "Python 3",
   "language": "python",
   "name": "python3"
  },
  "language_info": {
   "codemirror_mode": {
    "name": "ipython",
    "version": 3
   },
   "file_extension": ".py",
   "mimetype": "text/x-python",
   "name": "python",
   "nbconvert_exporter": "python",
   "pygments_lexer": "ipython3",
   "version": "3.7.4"
  }
 },
 "nbformat": 4,
 "nbformat_minor": 2
}
