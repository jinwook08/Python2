{
 "cells": [
  {
   "cell_type": "markdown",
   "metadata": {},
   "source": [
    "# 함수(function)\n",
    "-함수 이름은 중복이 되면 안된다 (오버로딩은  default 매개변수로 해결)\n",
    "-Required augments( 매개변수를 순서적으로 입력 )\n",
    "-keyword augument( 키이 매개변수의 순서 변경이 가능 )\n",
    "-default augument( 오버로딩 해결 )\n",
    "-variable-length augument( 변동매개변수 : *--> list, **--> dict )\n"
   ]
  },
  {
   "cell_type": "code",
   "execution_count": null,
   "metadata": {},
   "outputs": [],
   "source": []
  },
  {
   "cell_type": "code",
   "execution_count": null,
   "metadata": {},
   "outputs": [],
   "source": [
    "a = 10\n",
    "b = 20\n",
    "result = a+b\n",
    "print(result)\n",
    "\n",
    "a = 390\n",
    "b = 65\n",
    "result = a+b\n",
    "print(result)\n",
    "\n",
    "#이렇게 하는것 보다는 함수를 하나 만들자"
   ]
  },
  {
   "cell_type": "code",
   "execution_count": null,
   "metadata": {},
   "outputs": [],
   "source": [
    "#사용자 정의 함수\n",
    "\n",
    "\n",
    "def add(a,b):\n",
    "    return a+b\n",
    "print(add(10,20))\n",
    "print(add(10,33))"
   ]
  },
  {
   "cell_type": "code",
   "execution_count": null,
   "metadata": {},
   "outputs": [],
   "source": [
    "def add(ab,bd):\n",
    "    return ab+bd        #ab= 10, bd= 20 주소값만 전달 call by reference\n",
    "print(add(10,20))          # 호출시 데이터는 힙에 저장 --> 주소값만 전달 \n",
    "print(add(10,33))"
   ]
  },
  {
   "cell_type": "markdown",
   "metadata": {},
   "source": [
    "# 회귀 분석\n",
    "\n",
    "y = ax +b # a=기울기 계수, b = bias 절편"
   ]
  },
  {
   "cell_type": "code",
   "execution_count": null,
   "metadata": {},
   "outputs": [],
   "source": [
    "#회귀식\n",
    "\n",
    "def reg(a,b,x):\n",
    "    return a*x+b\n",
    "reg(10,30,100)"
   ]
  },
  {
   "cell_type": "code",
   "execution_count": null,
   "metadata": {},
   "outputs": [],
   "source": [
    "#그런데 회귀식에서   a값과 b값은 고정된다.\n",
    "# 따라서\n",
    "\n",
    "def reg(x):\n",
    "    a = 10\n",
    "    b = 30\n",
    "    return a*x + b\n",
    "print(reg(100))"
   ]
  },
  {
   "cell_type": "code",
   "execution_count": null,
   "metadata": {},
   "outputs": [],
   "source": [
    "# 두수를 더한 값이 10보다 큰지 확인하시오\n",
    "\n",
    "a= 10\n",
    "b= 20\n",
    "result = a+b \n",
    "\n",
    "if result >= 10:\n",
    "    result = '10보다 크다'\n",
    "else:\n",
    "    result = '10보다 작다'\n",
    "\n",
    "print(result)"
   ]
  },
  {
   "cell_type": "code",
   "execution_count": null,
   "metadata": {},
   "outputs": [],
   "source": [
    "# 위에것을 함수로 정의하기\n",
    "\n",
    "def sum_1(a,b):\n",
    "    result = a+b\n",
    "    if result >= 10:\n",
    "        result = '10보다 크다'\n",
    "    else:\n",
    "        result = '10보다 작다'\n",
    "    return result\n",
    "sum_1(2,3)"
   ]
  },
  {
   "cell_type": "code",
   "execution_count": null,
   "metadata": {},
   "outputs": [],
   "source": [
    "a = 10\n",
    "b = 20\n",
    "def swap(x,y):\n",
    "    return y,x\n",
    "a,b = swap(a,b)\n",
    "x= swap(a,b)\n",
    "print(x)"
   ]
  },
  {
   "cell_type": "code",
   "execution_count": null,
   "metadata": {},
   "outputs": [],
   "source": [
    "# 두 수를 입력받아 +.-,* 하는 함수 3개를 작성하시오\n",
    "\n",
    "def add(a,b):\n",
    "    result =(a+b)\n",
    "    return result\n",
    "def substract (a,b):\n",
    "    result = (a-b)\n",
    "    return result\n",
    "def multiply (a,b):\n",
    "    result = (a*b)\n",
    "    return result\n",
    "# 함수는 일급함수: 함수가 매개변수로 전달가능, 리턴값으로 가능\n",
    "def changefun(g,a,b):\n",
    "    return g(a,b)\n",
    "print('결과:', changefun(add,10,20))\n",
    "print('결과:', changefun(substract,10,20))\n",
    "print('결과:', changefun(multiply,10,20))"
   ]
  },
  {
   "cell_type": "code",
   "execution_count": null,
   "metadata": {},
   "outputs": [],
   "source": [
    "def chan (mylist):                  # mylist = mylist주소 , stack 에 쌓인다   아래와 위의 영역이 다름\n",
    "    mylist.append([1,2,3,4])\n",
    "    print('함수 내부에서 출력 : ', mylist)\n",
    "    return\n",
    "mylist = [10,20,30]   #heap에 저장된다. 이유: 주소값이 넘어갔기 때문에 --> call by reference\n",
    "chan(mylist)\n",
    "print('함수 외부에서 출력:',mylist)"
   ]
  },
  {
   "cell_type": "code",
   "execution_count": null,
   "metadata": {},
   "outputs": [],
   "source": [
    "def chan (mylist):                  # mylist = mylist주소 , stack 에 쌓인다   아래와 위의 영역이 다름\n",
    "    mylist=[1,2,3,4]                     # 넘어 온 영역에서 대입이 일어난다 ==> call by value\n",
    "    print('함수 내부에서 출력 : ', mylist)\n",
    "    return\n",
    "mylist = [10,20,30]   #heap에 저장된다. 이유: 주소값이 넘어갔기 때문에 --> call by reference\n",
    "chan(mylist)\n",
    "print('함수 외부에서 출력:',mylist)"
   ]
  },
  {
   "cell_type": "code",
   "execution_count": null,
   "metadata": {},
   "outputs": [],
   "source": [
    "# 실행이 안되는 이유는 딕셔너리여서 위에 43번과 데이터 타입이 달라서 실행이 안됨.\n",
    "# 딕셔너리 안에는 append 함수가 존재하지 않는다. \n",
    "\n",
    "mylist = {10,20,30}           #\n",
    "chan(mylist)             \n",
    "print(' 함수 외부에서 출력:', mylist)"
   ]
  },
  {
   "cell_type": "code",
   "execution_count": null,
   "metadata": {},
   "outputs": [],
   "source": [
    "# 변동 매개변수\n",
    "\n",
    "def func1(*args):  #별이 하나!! 리스트가 온다\n",
    "    \n",
    "    for i in args:\n",
    "        print(i,end =',')\n",
    "    print()\n",
    "print('시작')\n",
    "func1(1,2,3)         #매개변수. \n",
    "func1(1,2,3,4,5)        #매개변수의 개수가 다른데도 작동한다 이런걸 변동매개변수라고 한다. "
   ]
  },
  {
   "cell_type": "code",
   "execution_count": null,
   "metadata": {},
   "outputs": [],
   "source": [
    "\n",
    "def say_hello (f,*args,**kwargs):\n",
    "    print('args is', args)\n",
    "    print('kwargs', kwargs)\n",
    "    print(\"Hello Now I'm going to call %s\" %f)  #함수를 출력하면 주소 값이 나온다 .\n",
    "    return f(*args, **kwargs)\n",
    "\n",
    "def g(x,y,z=1):   # 디폴트 매개변수\n",
    "    print(x)\n",
    "    print(y)\n",
    "    print(z)\n",
    "    return (x+y)/z\n",
    "\n",
    "say_hello(g,1,2 ,z= 5)"
   ]
  },
  {
   "cell_type": "code",
   "execution_count": null,
   "metadata": {},
   "outputs": [],
   "source": []
  },
  {
   "cell_type": "code",
   "execution_count": null,
   "metadata": {},
   "outputs": [],
   "source": [
    "def func_test2(a,c ,b =0 ):\n",
    "    print(a,b)\n",
    "func_test2(1,2)         # a = 1 , b = 0\n",
    "func_test2(1,2,3)          # a = 1, b = 2\n",
    "func_test2(b= 2,c= 4, a= 1)       #키이 매개변수 \n"
   ]
  },
  {
   "cell_type": "code",
   "execution_count": null,
   "metadata": {},
   "outputs": [],
   "source": [
    "def func_test4():       #None  ==>  객체\n",
    "    pass                  # 몸통을 미지정 "
   ]
  },
  {
   "cell_type": "code",
   "execution_count": null,
   "metadata": {},
   "outputs": [],
   "source": [
    "# ==  숫자나 문자가 같다고 할 때 쓴다\n",
    "result = func_test4()\n",
    "result is None         #객체를 비교할 때는 is 함수를 사용하여 비교한다. "
   ]
  },
  {
   "cell_type": "code",
   "execution_count": null,
   "metadata": {},
   "outputs": [],
   "source": [
    "##__class__ --> 시스템에서 생성한 변수이다. \n",
    "result.__class__      #f result의 클래스를 확인하면 NoneType이다 ## 멤버변수"
   ]
  },
  {
   "cell_type": "code",
   "execution_count": null,
   "metadata": {},
   "outputs": [],
   "source": [
    "func_test4.__class__      "
   ]
  },
  {
   "cell_type": "code",
   "execution_count": null,
   "metadata": {},
   "outputs": [],
   "source": [
    "def func_test3(a,b):\n",
    "    return a+b,a-b, a*b\n",
    "a,b,c = func_test3(10,5)\n",
    "print(a,b,c)\n",
    "print(type(func_test3))        # 함수도 객체다. "
   ]
  },
  {
   "cell_type": "code",
   "execution_count": null,
   "metadata": {},
   "outputs": [],
   "source": [
    "# 커링\n",
    "\n",
    "def all_number(x,y):\n",
    "    return x+y\n",
    "add_five = lambda y: all_number(5,y)  # 무명함수를 --> 유명함수로 만들어준다. \n",
    "print(add_five(10))"
   ]
  },
  {
   "cell_type": "code",
   "execution_count": null,
   "metadata": {},
   "outputs": [],
   "source": [
    "# 문제: 두 점 사이의 거리값을 구하는 함수를 작성하시오 \n",
    "# root ==> import math\n",
    "# math.sqrt()  ==> 루트 함수 \n",
    "import math\n",
    "\n",
    "\n",
    "def ds(x= 2,y= 3,x1=3,y1=5):\n",
    "    resultX = (x1-x)\n",
    "    resultY = (y1-y)\n",
    "    dist = math.sqrt((x1-x)**2 + (y1-y)**2)\n",
    "    return dist\n",
    "print(ds)"
   ]
  },
  {
   "cell_type": "code",
   "execution_count": null,
   "metadata": {},
   "outputs": [],
   "source": [
    "import math\n",
    "\n",
    "\n",
    "def distance (x,x1,y,y1):\n",
    "    '''두 점 사이의 거리를\n",
    "    구하는 함수'''\n",
    "    dx = x-x1\n",
    "    dy = y-y1\n",
    "    dist = math.sqrt(dx**2 + dy**2)\n",
    "    return dist \n",
    "print(distance(1,2,3,4))\n",
    "?distance"
   ]
  },
  {
   "cell_type": "code",
   "execution_count": null,
   "metadata": {},
   "outputs": [],
   "source": [
    "# 수학에서 factorial 5! = 5*4*3*2*1\n",
    "\n",
    "def factorial(n):\n",
    "    sum = 1           # 항등원: 덧셈의 항등원은 0, 곱셈의 항등원 1, 행렬의 항등원: 단위행렬  \n",
    "    for i in range(n,1,-1):\n",
    "        sum *= i\n",
    "    return sum\n",
    "factorial(5)"
   ]
  },
  {
   "cell_type": "code",
   "execution_count": null,
   "metadata": {},
   "outputs": [],
   "source": [
    "# 재귀함수\n",
    "\n",
    "def factorial (n, stop = 1):\n",
    "    if n <= stop or n <= 0:          #종료조건, 입력제한.\n",
    "        return 1\n",
    "    return n*factorial(n-1, stop)\n",
    "factorial(5)"
   ]
  },
  {
   "cell_type": "code",
   "execution_count": null,
   "metadata": {},
   "outputs": [],
   "source": [
    "# power 함수를 구현하시오 (2^10)\n",
    "\n",
    "def power(r, n):\n",
    "    value = 1\n",
    "    for i in range(1,n+1):\n",
    "        value = r*value\n",
    "    return value\n",
    "print(power(2,3))"
   ]
  },
  {
   "cell_type": "code",
   "execution_count": null,
   "metadata": {},
   "outputs": [],
   "source": [
    "def fact (n, stop = 1):\n",
    "    if n <= stop:\n",
    "        return 2\n",
    "    return 2 **n\n",
    "fact(3)"
   ]
  },
  {
   "cell_type": "code",
   "execution_count": null,
   "metadata": {},
   "outputs": [],
   "source": [
    "def power(r, n):\n",
    "    if n == 1:\n",
    "        return r\n",
    "    else:\n",
    "        return r *power(r,n-1)\n",
    "print(power(2,3))"
   ]
  },
  {
   "cell_type": "code",
   "execution_count": null,
   "metadata": {},
   "outputs": [],
   "source": [
    "# 내부함수 \n",
    "\n",
    "def outer():\n",
    "    def inner():\n",
    "        print('inner')\n",
    "    inner()\n",
    "def inner():\n",
    "    print('global inner')\n",
    "inner()"
   ]
  },
  {
   "cell_type": "code",
   "execution_count": null,
   "metadata": {},
   "outputs": [],
   "source": [
    "#generator\n",
    "\n",
    "# for in 뒤에 올 수 있는 것\n",
    "# collections(list,tuple, dict, set), iterator(ranges),generator, eneumerator\n",
    "\n",
    "import random\n",
    "def gaus_dist(n):\n",
    "    while n>0:\n",
    "        yield random.random()  #0~1 사이 호출  ### 비동기 호출 함수 제너레이터를 만들때는  yiled 함수가 들어가야한다. \n",
    "        n -=1\n",
    "gd = gaus_dist(5)\n",
    "for i in gd:\n",
    "    print(i)"
   ]
  },
  {
   "cell_type": "code",
   "execution_count": null,
   "metadata": {},
   "outputs": [],
   "source": [
    "# 함수가 값을 저장할 수 있는가? 지역변수라 저장이 불가 \n",
    "#원래는 저장할 수 없지만 저장하게하는 방법이 있더라\n",
    "\n",
    "#clouser ( 자바크립트에서 사용하던 방식 )\n",
    "\n",
    "def cookbook(name):\n",
    "    def recipe(no):\n",
    "        print(\"%s's recipe no.%d\" % (name, no))\n",
    "    return recipe\n",
    "python_recipe = cookbook('python')\n",
    "perl_recipe = cookbook('perl')\n",
    "python_recipe(1)\n",
    "perl_recipe(2)\n",
    "id(python_recipe), id(perl_recipe)\n",
    "\n",
    "\n"
   ]
  },
  {
   "cell_type": "code",
   "execution_count": null,
   "metadata": {},
   "outputs": [],
   "source": [
    "# clouser  클로저의 응요(장식자: decorator)\n",
    "\n",
    "def format_and_pad (template, space):\n",
    "    def formatter(x):\n",
    "        return (template % x).rjust (space)\n",
    "    return formatter\n",
    "\n",
    "fmt= format_and_pad('%.4f',15)      ##  출력 포맷을 플로트로 소수점 4째자리까지 \n",
    "print(fmt(1.756))\n",
    "print(fmt(2.222))\n",
    "fmt2 = format_and_pad('%d', 15)      #출력 포맷을 정수로. \n",
    "print(fmt2(1.756))"
   ]
  },
  {
   "cell_type": "code",
   "execution_count": null,
   "metadata": {},
   "outputs": [],
   "source": [
    "# 데이터를 입력 받아 \n",
    "#삼각형의 넓이 (밑변 * 높이/2)\n",
    "# 사각형의 넓이 (밑변, 높이)\n",
    "#원의 넓이를 계산하는 함수를 작성해 보시오\n",
    "\n",
    "\n",
    "def tr():\n",
    "    x = int(input('밑변을 입력하세요:'))\n",
    "    y = int(input('높이를 입력하세요:'))\n",
    "    to =x*y/2\n",
    "    return to\n",
    " \n",
    "tr()\n"
   ]
  },
  {
   "cell_type": "code",
   "execution_count": null,
   "metadata": {},
   "outputs": [],
   "source": [
    "def rec():\n",
    "    x = int(input('밑변을 입력하세요:'))\n",
    "    y = int(input('높이를 입력하세요:'))\n",
    "    to =x*y\n",
    "    return to\n",
    "\n",
    "rec()"
   ]
  },
  {
   "cell_type": "code",
   "execution_count": null,
   "metadata": {},
   "outputs": [],
   "source": [
    "def cir():\n",
    "    x = int(input(' 반지름을 입력해주세요:'))\n",
    "   \n",
    "    to =math.pi * x**2\n",
    "    return to\n",
    "\n",
    "cir()"
   ]
  },
  {
   "cell_type": "markdown",
   "metadata": {},
   "source": [
    "#### 시간과 시간당 급여를 입력받아 주급을 계산하는 프로그램을 작성하시오 \n",
    "- 조건 : 40 시간이 넘으면 1.5배 하여 지급합니다. \n",
    "    -매개변수(시간, 시간당급여)\n",
    "    "
   ]
  },
  {
   "cell_type": "code",
   "execution_count": null,
   "metadata": {},
   "outputs": [],
   "source": [
    "\n",
    "def money(time = int(input('시간을 입력해주세요: ')), income=int(input(' 시급을 입력해주세요 '))):\n",
    "    total_income = time *income\n",
    "    if time>40:\n",
    "        ext = time - 40\n",
    "        return total_income + (ext*(income*1.5))\n",
    "    else:\n",
    "        return total_income\n",
    "\n",
    "money()\n",
    "\n",
    "## 잘못된거 다시 수정"
   ]
  },
  {
   "cell_type": "code",
   "execution_count": null,
   "metadata": {},
   "outputs": [],
   "source": [
    "\n",
    "bast = 40\n",
    "def pay(wage, hours):\n",
    "    if hours<= bast:\n",
    "        amount= wage * hours\n",
    "    else:\n",
    "        amount = (wage* bast)+((1.5)*wage*(hours-bast))\n",
    "    return amount\n",
    "hourlyWage = eval(input('시간당 급여는:'))\n",
    "hoursWorked = eval(input(' 주간 총 근무시간: '))\n",
    "eqrnings = pay(hourlyWage, hoursWorked)\n",
    "print('주간 수입은 :{0:.2f} 원 '. format(earnings))\n"
   ]
  },
  {
   "cell_type": "markdown",
   "metadata": {},
   "source": [
    "### 이자율이 주어졌을 때 기간거치후의  총액과 이자수익을 출력하시오\n",
    "### 복리계산 = (원가1 + 이율 0.04) ** 거치년수\n",
    "INTER _RATE = 0.04\n",
    "### 매개변수 : 원금, 거치기간\n",
    "\n",
    "### 단서조건 :입력 함수, 계산함수 , 출력함수로 분리해서 출력하시오"
   ]
  },
  {
   "cell_type": "code",
   "execution_count": null,
   "metadata": {},
   "outputs": [],
   "source": [
    "\n",
    "def fin (money= int(input(' 원금을 입력해주세요')), period = int(input(' 거치 기간을 입력해주세요 '))):\n",
    "    return fin\n",
    "def fin2 (money,period):\n",
    "    INTER_RATE ==0.04\n",
    "    total_amount = (money + INTER_RATE)**period\n",
    "    iz = total_amount - money \n",
    "    return total_amount, iz\n",
    "def fin3 (total_amount, iz):\n",
    "    print('총액은:', total_amount)\n",
    "    print('이자 수익은', iz)\n",
    "    \n",
    "fin3()"
   ]
  },
  {
   "cell_type": "code",
   "execution_count": null,
   "metadata": {},
   "outputs": [],
   "source": [
    "INTEREST_RATE = 0.04\n",
    "\n",
    "def getinput():\n",
    "    principal = eval(input('예금액: '))\n",
    "    numberOfyears = eval(input('기간: '))\n",
    "    return (principal, numberOfyears)\n",
    "def bal (prin, numYears):\n",
    "    balance = prin*((1+INTEREST_RATE)**numYears)\n",
    "    interestEarned = balance - prin\n",
    "    return (balance, interestEarned)\n",
    "def displayOutput (ball,intEarned):\n",
    "    print('예금 총액 : ${0:,.2f} 이자 총액: ${1:,.2f}'.format(ball, intEarned))\n",
    "def main ():\n",
    "    principal, numberOfyears= getinput()\n",
    "    ball, intEarned = bal(principal,numberOfyears)\n",
    "    displayOutput(ball,intEarned)\n",
    "    # displayOutput(*(balanceAndInterest(*(getinput))))\n",
    "main()"
   ]
  },
  {
   "cell_type": "markdown",
   "metadata": {},
   "source": [
    "# 함수화 프로그래밍 for + 함수를 적용\n",
    "lambda 함수를 이용한 처리가 많음"
   ]
  },
  {
   "cell_type": "code",
   "execution_count": null,
   "metadata": {},
   "outputs": [],
   "source": [
    "(lambda x: x*x)(10)"
   ]
  },
  {
   "cell_type": "code",
   "execution_count": null,
   "metadata": {},
   "outputs": [],
   "source": [
    "incr = lambda x, incr = 1: x+incr #무명함수 --> 유명함수\n",
    "print(incr(10))\n",
    "incr(10,5)"
   ]
  },
  {
   "cell_type": "code",
   "execution_count": null,
   "metadata": {},
   "outputs": [],
   "source": [
    "strings = ['foo','card','bar','aaa','abab']\n",
    "# strings.sort() ## 원래는  key라는 디폴트 매개변수가 있는거임 그런데 내가 원하는 정렬 기준에 따라서 아래와 같이 만들수 있음\n",
    "strings.sort(key=lambda x: len(set(list(x)))) # 중복되지 않는 데이터 개수에 따라\n",
    "print(strings)"
   ]
  },
  {
   "cell_type": "code",
   "execution_count": null,
   "metadata": {},
   "outputs": [],
   "source": [
    "#디폴트가 업기 때문에. \n",
    "m = map(lambda x: x*x, [3,4])       #맵은 위와 달리 디폴트 값이 없다. \n",
    "print(m)\n",
    "print(list(m))  ##map로 나온 고유포맷을 리스트로 캐스팅해야 출력이 가능하다. "
   ]
  },
  {
   "cell_type": "code",
   "execution_count": null,
   "metadata": {},
   "outputs": [],
   "source": [
    "# iterate에 함수 적용해보기 \n",
    "list(map(lambda x: x*x, range(5)))\n"
   ]
  },
  {
   "cell_type": "code",
   "execution_count": null,
   "metadata": {},
   "outputs": [],
   "source": [
    "sqr = lambda x: x*x \n",
    "list(map(sqr, range(5)))"
   ]
  },
  {
   "cell_type": "code",
   "execution_count": null,
   "metadata": {},
   "outputs": [],
   "source": [
    "def sqr2(x):\n",
    "    return x*x\n",
    "list(map(sqr2,range(5)))"
   ]
  },
  {
   "cell_type": "markdown",
   "metadata": {},
   "source": [
    "### 문제: 다음 출근 시간 데이터에 대하여 기본금 10000원 시간당 7500원의 급여를 계산하고 \n",
    "### lambda 함수와  map 함수를 이용하여 구하시오"
   ]
  },
  {
   "cell_type": "code",
   "execution_count": null,
   "metadata": {},
   "outputs": [],
   "source": [
    "total_time = [160,150,120,180,300,400]\n",
    "calc = lambda x:10000 + 7500*x\n",
    "pay = list(map(calc,total_time))\n",
    "print(pay\n",
    "     )"
   ]
  },
  {
   "cell_type": "code",
   "execution_count": null,
   "metadata": {},
   "outputs": [],
   "source": [
    "## 위에를 한줄로 써보면\n",
    "\n",
    "pay = list(map(lambda x: 10000 + 7500 * x, total_time))\n",
    "print(pay)"
   ]
  },
  {
   "cell_type": "code",
   "execution_count": null,
   "metadata": {},
   "outputs": [],
   "source": [
    "\n",
    "def odd(p):\n",
    "    return[i for i in p if i%2]  # 이때 참이라면 홀수 라는 소리임\n",
    "odd(range(10))\n",
    "\n"
   ]
  },
  {
   "cell_type": "code",
   "execution_count": null,
   "metadata": {},
   "outputs": [],
   "source": [
    "# 필터의 함수는  True,/ False 를 리턴하는 함수여야 한다. \n",
    "\n",
    "def odd(k):\n",
    "    return k%2\n",
    "print(list(filter(odd,range(100))), end = ',')"
   ]
  },
  {
   "cell_type": "code",
   "execution_count": null,
   "metadata": {},
   "outputs": [],
   "source": [
    "# 문제 : 1부터 99사이의 데이터중 3으로ㅓ 나누어 떨어지는 데이터를 filter 를 이용해 구하시오\n",
    "\n",
    "\n",
    "def odd99(a):\n",
    "    return a% 3==0\n",
    "print(list(filter(odd99,range(99))),end = ',')"
   ]
  },
  {
   "cell_type": "code",
   "execution_count": null,
   "metadata": {},
   "outputs": [],
   "source": [
    "# reduce (분산처리시 값을 계산할 때 사용)\n",
    "\n",
    "from functools import reduce\n",
    "reduce(lambda x, y: x+y, range(11))  #이전에 계산된 값이  x로 \n",
    "\n"
   ]
  },
  {
   "cell_type": "code",
   "execution_count": null,
   "metadata": {},
   "outputs": [],
   "source": [
    "reduce(lambda x,y: x*y, range(1,10))"
   ]
  },
  {
   "cell_type": "code",
   "execution_count": null,
   "metadata": {},
   "outputs": [],
   "source": [
    "reduce(lambda x, y: y+x, 'abcde')"
   ]
  },
  {
   "cell_type": "code",
   "execution_count": null,
   "metadata": {},
   "outputs": [],
   "source": [
    "# 함수 배열\n",
    "func_choice = [lambda x,y: x**y, lambda x,y:x/y]\n",
    "func_choice[0](10,2)\n",
    "func_choice[1](10,2)"
   ]
  },
  {
   "cell_type": "code",
   "execution_count": null,
   "metadata": {},
   "outputs": [],
   "source": [
    "# 문제 : 다음 데이터에서 4보다 큰 수만을 출력하도록 필터링 해보시오\n",
    "\n",
    "data = [1,2,3,4,5,6,7,8,3,4,2,1]\n",
    "\n",
    "fil = list(filter(lambda x:x>4, data))\n",
    "print(fil)"
   ]
  },
  {
   "cell_type": "code",
   "execution_count": null,
   "metadata": {},
   "outputs": [],
   "source": [
    "# 문제: 숫자를 입력 받아서 홀수 인 경우는 ' 나는 행복합니다. ' 라고 출력하고\n",
    "#짝수인 경우는 '나는 귀중한 사람이다' 라고 출력하는 함수 선택을 구현해 보시오\n",
    "\n",
    "func_choice = [lambda: print('나는 귀중한 사람입니다'),  lambda:print('나는 행복 합니다. ')]\n",
    "condi = eval(input('숫자를 입력하시오!'))\n",
    "condi %=2\n",
    "func_choice[condi]()\n",
    "##  True나오려면 홀수가 되어야 나옴 그때 나는 행복합니다. "
   ]
  },
  {
   "cell_type": "code",
   "execution_count": 9,
   "metadata": {
    "scrolled": true
   },
   "outputs": [
    {
     "name": "stdout",
     "output_type": "stream",
     "text": [
      "이름을 입력하시오: 차진욱\n",
      "국어 성적을 입력하시오: 10\n",
      "영어 성적을 입력하시오: 10\n",
      "수학 성적을 입력하시오: 10\n",
      "이름: 차진욱 \n",
      "국어 성적: 10 \n",
      "영어 성적 :10 \n",
      "수학 성적: 10 \n",
      "총점 :30 \n",
      "평균:10.0\n"
     ]
    }
   ],
   "source": [
    "# 성적프로그램을 입력, 처리, 출력 함수를 이용해서 구하시오\n",
    "#이름, 국어, 영어, 수학, 총점,평균\n",
    "score =[]\n",
    "\n",
    "def get_input():\n",
    "    name =input('이름을 입력하시오: ')\n",
    "    kor = int(input('국어 성적을 입력하시오: '))\n",
    "    eng = int(input('영어 성적을 입력하시오: '))\n",
    "    math = int(input('수학 성적을 입력하시오: '))\n",
    "    score.append(name)\n",
    "    score.append(kor)\n",
    "    score.append(eng)\n",
    "    score.append(math)\n",
    "#     return(name, kor, eng, math)\n",
    "def score1():\n",
    "    total = sum([score[1],score[2],score[3]])\n",
    "    mean = sum([score[1],score[2],score[3]])/3\n",
    "    score.append(total)\n",
    "    score.append(mean)\n",
    "#     return(total, mean)\n",
    "def disp():\n",
    "    print('이름: {} \\n국어 성적: {} \\n영어 성적 :{} \\n수학 성적: {} \\n총점 :{} \\n평균:{}'.format(score[0],score[1],score[2],score[3],score[4],score[5]))\n",
    "    \n",
    "def main ():\n",
    "    get_input()\n",
    "    score1()\n",
    "    disp()\n",
    "main()"
   ]
  },
  {
   "cell_type": "code",
   "execution_count": null,
   "metadata": {},
   "outputs": [],
   "source": []
  },
  {
   "cell_type": "code",
   "execution_count": null,
   "metadata": {},
   "outputs": [],
   "source": []
  }
 ],
 "metadata": {
  "kernelspec": {
   "display_name": "Python 3",
   "language": "python",
   "name": "python3"
  },
  "language_info": {
   "codemirror_mode": {
    "name": "ipython",
    "version": 3
   },
   "file_extension": ".py",
   "mimetype": "text/x-python",
   "name": "python",
   "nbconvert_exporter": "python",
   "pygments_lexer": "ipython3",
   "version": "3.7.4"
  }
 },
 "nbformat": 4,
 "nbformat_minor": 2
}
