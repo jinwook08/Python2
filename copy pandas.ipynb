{
 "cells": [
  {
   "cell_type": "markdown",
   "metadata": {},
   "source": [
    "## numpy 방식의 인덱싱이 가능, + dict (중복을 허용, 순서를 보장)\n"
   ]
  },
  {
   "cell_type": "code",
   "execution_count": 12,
   "metadata": {},
   "outputs": [
    {
     "name": "stdout",
     "output_type": "stream",
     "text": [
      "a    0\n",
      "b    1\n",
      "c    2\n",
      "dtype: int64\n",
      "1\n",
      "1\n",
      "-------------------------\n",
      "b    1.0\n",
      "c    2.0\n",
      "d    NaN\n",
      "a    0.0\n",
      "dtype: float64\n"
     ]
    },
    {
     "data": {
      "text/plain": [
       "[1.0, 2.0, nan, 0.0]"
      ]
     },
     "execution_count": 12,
     "metadata": {},
     "output_type": "execute_result"
    }
   ],
   "source": [
    "import pandas as pd\n",
    "data = {'a':0, 'b':1, 'c':2} #dict 초기화\n",
    "\n",
    "s = pd.Series(data)\n",
    "print(s)\n",
    "print(s['b'])\n",
    "print(s[1])\n",
    "\n",
    "print('-------------------------')\n",
    "s = pd.Series(data, index = ['b','c','d','a'])\n",
    "print(s)\n",
    "\n",
    "list(s)"
   ]
  },
  {
   "cell_type": "code",
   "execution_count": 30,
   "metadata": {},
   "outputs": [
    {
     "name": "stdout",
     "output_type": "stream",
     "text": [
      "a    1\n",
      "b    2\n",
      "c    3\n",
      "d    4\n",
      "e    5\n",
      "dtype: int64\n",
      "---------------\n",
      "인덱스에 의한 출력\n",
      "1\n",
      "---------------\n",
      "키에 의한 출력\n",
      "1\n",
      "---------------\n",
      "a    1\n",
      "b    2\n",
      "c    3\n",
      "dtype: int64\n",
      "---------------\n",
      "음수\n",
      "a    1\n",
      "b    2\n",
      "dtype: int64\n",
      "---------------\n",
      "update\n",
      "a= 100\n",
      "b= 200\n",
      "c= 300\n",
      "d= 400\n",
      "e= 500\n",
      "---------------\n",
      "a    100\n",
      "b    200\n",
      "c    300\n",
      "d    400\n",
      "e    500\n",
      "dtype: int64\n",
      "---------------\n",
      "600\n",
      "a    100\n",
      "b    200\n",
      "c    300\n",
      "d    400\n",
      "e    500\n",
      "f    600\n",
      "dtype: int64\n",
      "---------------\n",
      "filltering에 의한 출력\n",
      "d    400\n",
      "e    500\n",
      "f    600\n",
      "dtype: int64\n",
      "e    1000\n",
      "f    1200\n",
      "dtype: int64\n"
     ]
    }
   ],
   "source": [
    "s = pd.Series([1,2,3,4,5], index= ['a','b','c','d','e'])\n",
    "print(s)\n",
    "print('---------------')\n",
    "\n",
    "print('인덱스에 의한 출력')\n",
    "print(s[0])\n",
    "print('---------------')\n",
    "print('키에 의한 출력')\n",
    "print(s['a'])\n",
    "print('---------------')\n",
    "print(s[:3])\n",
    "print('---------------')\n",
    "print('음수')\n",
    "print(s[:-3])           # 0부터 -3까지 이므로 즉 앞에부터 -3까지 \n",
    "print('---------------')\n",
    "print('update')\n",
    "s['a'] = 100\n",
    "print('a=',s['a'])\n",
    "s['b'] = 200\n",
    "print('b=', s['b'])\n",
    "s['c'] = 300\n",
    "print('c=' , s['c'])\n",
    "s['d'] = 400\n",
    "print('d=', s['d'])\n",
    "s['e'] = 500\n",
    "print('e=', s['e'])\n",
    "print('---------------')\n",
    "\n",
    "print(s)\n",
    "\n",
    "print('---------------')\n",
    "\n",
    "s['f'] = 600\n",
    "print(s['f'])\n",
    "print(s)\n",
    "print('---------------')\n",
    "\n",
    "print('filltering에 의한 출력')\n",
    "print(s[s>300])  # 인덱스: boolean index 따라서 300이상만 출력된다. \n",
    "print('---------------')\n",
    "print(s[s>400]*2)"
   ]
  },
  {
   "cell_type": "code",
   "execution_count": 46,
   "metadata": {},
   "outputs": [
    {
     "name": "stdout",
     "output_type": "stream",
     "text": [
      "0    a\n",
      "1    b\n",
      "2    c\n",
      "3    d\n",
      "4    e\n",
      "5    a\n",
      "6    a\n",
      "dtype: object\n",
      "a\n",
      "---------------\n",
      "시리즈 데이터\n",
      "['a' 'b' 'c' 'd' 'e' 'a' 'a']\n",
      "---------------\n",
      "시리즈 인덱스\n",
      "RangeIndex(start=0, stop=7, step=1)\n",
      "---------------\n",
      "a    3\n",
      "d    1\n",
      "b    1\n",
      "c    1\n",
      "e    1\n",
      "dtype: int64\n",
      "---------------\n",
      "a    0.428571\n",
      "d    0.142857\n",
      "b    0.142857\n",
      "c    0.142857\n",
      "e    0.142857\n",
      "dtype: float64\n",
      "---------------\n",
      "count     7\n",
      "unique    5\n",
      "top       a\n",
      "freq      3\n",
      "dtype: object\n"
     ]
    }
   ],
   "source": [
    "# range = list\n",
    "# arange = ndarray\n",
    "# rangeindex\n",
    "\n",
    "import numpy as np\n",
    "data = np.array(['a','b','c','d','e','a','a'])\n",
    "s = pd.Series(data) \n",
    "print(s)\n",
    "print(s[0])\n",
    "print('---------------')\n",
    "print('시리즈 데이터')\n",
    "print(s.values)\n",
    "print('---------------')\n",
    "print('시리즈 인덱스')\n",
    "print(s.index)  #RangeIndex(start=0, stop=5, step=1)\n",
    "print('---------------')\n",
    "print(s.value_counts())\n",
    "print('---------------')\n",
    "print(s.value_counts(normalize = True)) # 상대 도수 분포표가 된다 \n",
    "print('---------------')   # 상대 도수분포표가 무엇인가?\n",
    "print(s.describe())\n"
   ]
  },
  {
   "cell_type": "code",
   "execution_count": null,
   "metadata": {},
   "outputs": [],
   "source": []
  },
  {
   "cell_type": "code",
   "execution_count": null,
   "metadata": {},
   "outputs": [],
   "source": []
  },
  {
   "cell_type": "code",
   "execution_count": null,
   "metadata": {},
   "outputs": [],
   "source": []
  },
  {
   "cell_type": "code",
   "execution_count": null,
   "metadata": {},
   "outputs": [],
   "source": []
  },
  {
   "cell_type": "code",
   "execution_count": null,
   "metadata": {},
   "outputs": [],
   "source": []
  },
  {
   "cell_type": "code",
   "execution_count": null,
   "metadata": {},
   "outputs": [],
   "source": []
  },
  {
   "cell_type": "code",
   "execution_count": null,
   "metadata": {},
   "outputs": [],
   "source": []
  }
 ],
 "metadata": {
  "kernelspec": {
   "display_name": "Python 3",
   "language": "python",
   "name": "python3"
  },
  "language_info": {
   "codemirror_mode": {
    "name": "ipython",
    "version": 3
   },
   "file_extension": ".py",
   "mimetype": "text/x-python",
   "name": "python",
   "nbconvert_exporter": "python",
   "pygments_lexer": "ipython3",
   "version": "3.7.4"
  }
 },
 "nbformat": 4,
 "nbformat_minor": 2
}
