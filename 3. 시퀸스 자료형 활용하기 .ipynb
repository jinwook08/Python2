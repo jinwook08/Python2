{
 "cells": [
  {
   "cell_type": "markdown",
   "metadata": {},
   "source": [
    "# 시퀸스 자료형"
   ]
  },
  {
   "cell_type": "code",
   "execution_count": null,
   "metadata": {},
   "outputs": [],
   "source": [
    "# 리스트, 튜플, rnage, 문자열을 보면 모두 연속적으로 이어져 있다\n",
    "\n",
    "#이를 바로 sequence (시퀸스라고 한다)\n",
    "# 연속적으로 이어진 자료형을 시퀸스 자료형이라고 한다,"
   ]
  },
  {
   "cell_type": "markdown",
   "metadata": {},
   "source": [
    "# 시퀸스 자료형 공통 기능 사용하기 "
   ]
  },
  {
   "cell_type": "code",
   "execution_count": null,
   "metadata": {},
   "outputs": [],
   "source": [
    "# 시퀸스 자료형의 가장 큰 특징은 공통 동작과 기능을 제공한다는 점이다. \n",
    "# 시퀸스 자료형으로 만든 객체를 시퀸스 객체라고 하며, 시퀸스 객체에 들어있는 각 값을 요소 라고 한다. "
   ]
  },
  {
   "cell_type": "code",
   "execution_count": null,
   "metadata": {},
   "outputs": [],
   "source": [
    "# 시퀸스 객체 : 값A 값B 값C 값D 이떄 각각의 값을 요소라고 한다"
   ]
  },
  {
   "cell_type": "code",
   "execution_count": null,
   "metadata": {},
   "outputs": [],
   "source": [
    "# 특정 값이 있는지 확인하기\n",
    "\n",
    "a = [10,20,30,40,50,60,70,80,90]\n",
    "print(30 in a)\n",
    "\n",
    "print(100 in a)\n",
    "\n",
    "# 시퀸스 객체에 in 연사자를 사용했을때 특정 값이 있으면 True, 없으면 False가 나온다 "
   ]
  },
  {
   "cell_type": "code",
   "execution_count": null,
   "metadata": {},
   "outputs": [],
   "source": [
    "# not을 사용하여 특정 값이 있는지 확인하기\n",
    "\n",
    "print(30 not in a)\n",
    "print(100 not in a)\n",
    "\n",
    "# not을 이용하였기에 30이 있으므로 False \n",
    "# 100이 없으므로 True가 된다. \n",
    "    "
   ]
  },
  {
   "cell_type": "code",
   "execution_count": null,
   "metadata": {},
   "outputs": [],
   "source": [
    "# range를 이용하여 특정 값 확인하기 \n",
    "\n",
    "43 in (10,20,30,40,50)\n",
    "\n"
   ]
  },
  {
   "cell_type": "code",
   "execution_count": null,
   "metadata": {},
   "outputs": [],
   "source": [
    "1 in range(10)"
   ]
  },
  {
   "cell_type": "code",
   "execution_count": null,
   "metadata": {},
   "outputs": [],
   "source": [
    "'P' in 'Hello, Python'"
   ]
  },
  {
   "cell_type": "code",
   "execution_count": null,
   "metadata": {},
   "outputs": [],
   "source": [
    "# 시퀸스 객체 연결하기 \n",
    "\n",
    "a= [0,10,20,30]\n",
    "b = [0,40,50,60,70]\n",
    "a+b"
   ]
  },
  {
   "cell_type": "code",
   "execution_count": null,
   "metadata": {},
   "outputs": [],
   "source": [
    "range(0,10) + range(10,20)\n",
    "\n",
    "# 시퀸스 자료형 중에서 range는 + 연산자로 객체를 연결할 수 없다. "
   ]
  },
  {
   "cell_type": "code",
   "execution_count": null,
   "metadata": {},
   "outputs": [],
   "source": [
    "#위와 같은 상황이 나올때 리스트 또는 튜플로 만들어서 연결한다\n",
    "\n",
    "list(range(0,10))+list(range(10,20))\n",
    "\n"
   ]
  },
  {
   "cell_type": "code",
   "execution_count": null,
   "metadata": {},
   "outputs": [],
   "source": [
    "tuple(range(0,10))+tuple(range(10,20))"
   ]
  },
  {
   "cell_type": "code",
   "execution_count": null,
   "metadata": {},
   "outputs": [],
   "source": [
    "list(range(0,10))+ tuple(range(10,20)) \n",
    "\n",
    "#서로 다른 타입은 불가 "
   ]
  },
  {
   "cell_type": "code",
   "execution_count": null,
   "metadata": {},
   "outputs": [],
   "source": [
    "# 문자열에 숫자 연결하기 \n",
    "\n",
    "'Hello, '+ 10\n",
    "\n",
    "# 문자열에 정수를 연결하려고 하면 에러가 발생한다. (정수를 문자열로 변활할 수 없어서 Type Error가 발생한다)\n",
    "# 이 문제를 해결하려면 str을 사용하여 숫자(정수, 실수)를 문자열로 변환하면 된다. "
   ]
  },
  {
   "cell_type": "code",
   "execution_count": null,
   "metadata": {},
   "outputs": [],
   "source": [
    "# '문자열' + str(정수)\n",
    "# '문자열' + str(실수)\n",
    "\n",
    "'Hello, ' + str(10)"
   ]
  },
  {
   "cell_type": "code",
   "execution_count": null,
   "metadata": {},
   "outputs": [],
   "source": [
    "'Hello, world' + str(1.5)"
   ]
  },
  {
   "cell_type": "code",
   "execution_count": null,
   "metadata": {},
   "outputs": [],
   "source": [
    "# 시퀸스 객체 반복하기 \n",
    "# * 연산자는 시퀸스 객체를 특정 횟수만큼 반복하여 새 시퀸스 객체를 만듭니다\n",
    "# 0 또는 음수를 곱하면 빈 객체가 나오며 실수는 곱할 수 없다."
   ]
  },
  {
   "cell_type": "code",
   "execution_count": null,
   "metadata": {},
   "outputs": [],
   "source": [
    "#시퀸스객체 * 정수\n",
    "# 정수 * 시퀸스객체\n",
    "\n",
    "[0,10,20,30,40] *3 "
   ]
  },
  {
   "cell_type": "code",
   "execution_count": null,
   "metadata": {},
   "outputs": [],
   "source": [
    "# 앞에서와 마찬가지로 range만 사용하면 * 연산이 안된다\n",
    "\n",
    "range(0,5,2)*3"
   ]
  },
  {
   "cell_type": "code",
   "execution_count": null,
   "metadata": {},
   "outputs": [],
   "source": [
    "# 사용하기 위해서는 리스트나 튜플로 만들어서 반복한다\n",
    "\n",
    "list(range(0,5,2))*2"
   ]
  },
  {
   "cell_type": "code",
   "execution_count": null,
   "metadata": {},
   "outputs": [],
   "source": [
    "tuple(range(0,5,2))*2"
   ]
  },
  {
   "cell_type": "code",
   "execution_count": null,
   "metadata": {},
   "outputs": [],
   "source": [
    "# 문자열은 * 연산자를 사용하여 반복할 수 있다. \n",
    "\n",
    "'Hello, world!' * 3"
   ]
  },
  {
   "cell_type": "code",
   "execution_count": null,
   "metadata": {},
   "outputs": [],
   "source": [
    "# 리스트와 튜플의 요소 개수 구하기 \n",
    "\n",
    "a = [0,10,20,39,49,59,69]\n",
    "len(a)"
   ]
  },
  {
   "cell_type": "code",
   "execution_count": null,
   "metadata": {},
   "outputs": [],
   "source": [
    "#range의 숫자 생성 개수 구하기\n",
    "len(range(0,10,2))"
   ]
  },
  {
   "cell_type": "code",
   "execution_count": null,
   "metadata": {},
   "outputs": [],
   "source": [
    "# 문자열의 길이 구하기 \n",
    "\n",
    "hello = 'Hello world'\n",
    "len(hello)"
   ]
  },
  {
   "cell_type": "code",
   "execution_count": null,
   "metadata": {},
   "outputs": [],
   "source": [
    "# UTF-8 문자열의 바이트 수 구하기 \n",
    "\n",
    "hello = '안녕하세요'\n",
    "len(hello.encode('utf-8'))"
   ]
  },
  {
   "cell_type": "code",
   "execution_count": null,
   "metadata": {},
   "outputs": [],
   "source": [
    "# 인덱스 사용하기 \n",
    "# 시퀸스 객체의 각 요소는 순서가 정해져 있으며, 이 순서를 인덱스라고 부른다.\n",
    "\n",
    "#시퀸스객체[인덱스]"
   ]
  },
  {
   "cell_type": "code",
   "execution_count": null,
   "metadata": {},
   "outputs": [],
   "source": [
    "c = [1,2,3,4,5,6,7,8]\n",
    "print(c[0])\n",
    "print(c[1])\n",
    "print(c[2])\n",
    "\n",
    "# 시퀸스 객체의 인덱스는 항상 0부터 시작한다. "
   ]
  },
  {
   "cell_type": "code",
   "execution_count": null,
   "metadata": {},
   "outputs": [],
   "source": [
    "# 음수 인덱스 지정하기\n",
    "a = [34,23,56,45,33]\n",
    "a[-2]"
   ]
  },
  {
   "cell_type": "code",
   "execution_count": null,
   "metadata": {},
   "outputs": [],
   "source": [
    "# 마지막 요소에 근접하기 \n",
    "# len()함수를 이용해서 len()-1 을 하면 마지막 요소의 인덱스 값\n",
    "print(len(a))\n",
    "a[len(a)-1]  # 4번 인덱스 33 출력"
   ]
  },
  {
   "cell_type": "code",
   "execution_count": null,
   "metadata": {},
   "outputs": [],
   "source": [
    "# 요소에 값 할당하기 \n",
    "\n",
    "a = [0,0,0,0,0,0]\n",
    "len(a)\n",
    "a[0] = 20\n",
    "a[1] = 30\n",
    "a[2] = 40\n",
    "a[3] = 50\n",
    "a[4] = 60 \n",
    "a[5] = 70\n",
    "\n",
    "a \n",
    "\n",
    "#인덱스의 범위를 벗어나면 값을 지정할 수 없다. "
   ]
  },
  {
   "cell_type": "code",
   "execution_count": null,
   "metadata": {},
   "outputs": [],
   "source": [
    "#del로 요소 삭제하기 \n",
    "a = [34,23,56,45,33]\n",
    "\n",
    "del a[2]\n",
    "a"
   ]
  },
  {
   "cell_type": "code",
   "execution_count": null,
   "metadata": {},
   "outputs": [],
   "source": [
    "# 리스트와 달리 튜플은 요소를 삭제할 수 없다\n",
    "\n",
    "a = (34,23,56,45,33)\n",
    "del a[2]\n",
    "\n",
    "#TypeError: 'tuple' object doesn't support item deletion"
   ]
  },
  {
   "cell_type": "code",
   "execution_count": null,
   "metadata": {},
   "outputs": [],
   "source": [
    "# range 와  str 객체는 값 삭제를 지원하지 않음\n",
    "\n",
    "r = range(0,10,2)\n",
    "del r[2]\n",
    "\n",
    "#TypeError: 'range' object doesn't support item deletion"
   ]
  },
  {
   "cell_type": "code",
   "execution_count": null,
   "metadata": {},
   "outputs": [],
   "source": [
    "hello = 'Hello world'\n",
    "del hello[2]\n",
    "\n",
    "#TypeError: 'str' object doesn't support item deletion"
   ]
  },
  {
   "cell_type": "code",
   "execution_count": null,
   "metadata": {},
   "outputs": [],
   "source": [
    "# 슬라이스 사용하기 \n",
    "# 시퀸스 자료형은 슬라이스라는 기능을 자주 사용한다.\n",
    "# 슬라이스는 무엇인가의 일부를 잘라낸다는 뜻으로 시퀸스 슬라이스도 말 그대로 시퀸스 객체의 일부를 잘라낸다\n"
   ]
  },
  {
   "cell_type": "code",
   "execution_count": null,
   "metadata": {},
   "outputs": [],
   "source": [
    "#시퀸스객체[시작인덱스:끝인덱스]\n",
    "\n",
    "a = [0,10,20,30,40,50,60,70,80]\n",
    "a[0:4]    #인덱스를 0부터 3까지 잘라서 새로운 리스트를 만든다. "
   ]
  },
  {
   "cell_type": "code",
   "execution_count": null,
   "metadata": {},
   "outputs": [],
   "source": [
    "a = (1,2,3,4,5,6)\n",
    "a[0:4]"
   ]
  },
  {
   "cell_type": "markdown",
   "metadata": {},
   "source": [
    "\n",
    "# slice 객체 사용하기\n",
    "\n"
   ]
  },
  {
   "cell_type": "code",
   "execution_count": null,
   "metadata": {},
   "outputs": [],
   "source": [
    "### 파이썬에서는 slice 객체를 사용하여 시퀸스 객체(시퀸스 자료형으로 만든 변수)를 잘래낼 수도 있다. \n",
    "\n",
    "# 슬라이스객체 = slice(끝인덱스) \n",
    "# 슬라이스객체 = slice(시작인덱스,끝인덱스)\n",
    "# 슬라이스객체 = slice(시작인덱스, 끝인덱스, 인덱스 증가폭)\n",
    "# 시퀸스객체[슬라이스객체]\n",
    "# 시퀸스객체.__getitem__(슬라이스객체)\n"
   ]
  },
  {
   "cell_type": "code",
   "execution_count": null,
   "metadata": {},
   "outputs": [],
   "source": [
    "#시퀸스객체[슬라이스객체]\n",
    "\n",
    "range(10)[slice(4,7,2)]\n"
   ]
  },
  {
   "cell_type": "code",
   "execution_count": null,
   "metadata": {},
   "outputs": [],
   "source": [
    "## 시퀸스객체.__getitem__(슬라이스객체)\n",
    "\n",
    "range(10).__getitem__(slice(4,7,2))\n"
   ]
  },
  {
   "cell_type": "code",
   "execution_count": null,
   "metadata": {},
   "outputs": [],
   "source": [
    "# 슬라이스객체 = slice(끝인덱스) \n",
    "# 슬라이스객체 = slice(시작인덱스,끝인덱스)\n",
    "# 슬라이스객체 = slice(시작인덱스, 끝인덱스, 인덱스 증가폭)"
   ]
  },
  {
   "cell_type": "code",
   "execution_count": null,
   "metadata": {},
   "outputs": [],
   "source": [
    "a = [10,20,30,40,50,60,70,80]\n",
    "s = slice(4,7)\n",
    "a[s]"
   ]
  },
  {
   "cell_type": "code",
   "execution_count": null,
   "metadata": {},
   "outputs": [],
   "source": [
    "r =range(10)\n",
    "r[s]\n",
    "list(r[s])"
   ]
  },
  {
   "cell_type": "code",
   "execution_count": null,
   "metadata": {},
   "outputs": [],
   "source": [
    "hello = 'Hello, world!'\n",
    "\n",
    "hello[s]"
   ]
  },
  {
   "cell_type": "code",
   "execution_count": null,
   "metadata": {},
   "outputs": [],
   "source": [
    "# 슬라이스에 요소 할당하기\n",
    "\n",
    "#시퀸스객체[시작인덱스:끝인덱스] =시퀸스객체\n",
    "\n",
    "# 튜플 , range, 문자열은 슬라이스 범위를 지정하더라도 요소를 할당할 수 없다. "
   ]
  },
  {
   "cell_type": "code",
   "execution_count": null,
   "metadata": {},
   "outputs": [],
   "source": [
    "a = [0,10,20,30,40,50,60,70,80,90]\n",
    "a[4:8] = ['a','c','f','g']\n",
    "a\n",
    "\n",
    "#이렇게 범위를 지정해서 요소를 할당할 경우에 원래 있던 리스트가 변경되며 새 리트스는 생성되지 않습니다. "
   ]
  },
  {
   "cell_type": "code",
   "execution_count": null,
   "metadata": {},
   "outputs": [],
   "source": [
    "# 위에서는 슬라이스범위와 할당할 리스트의 요소 개수를 정확히 맞추었지만, 사실 개수를 맞추지 않아도 상관없이\n",
    "#할당된다. \n",
    "\n",
    "a = [0,10,20,30,40,50,60,70,80,90]\n",
    "a [0:2] = ['a','r','t','g']\n",
    "a\n",
    "\n",
    "#리스트의 요소개수가 늘어난다. \n"
   ]
  },
  {
   "cell_type": "code",
   "execution_count": null,
   "metadata": {},
   "outputs": [],
   "source": [
    "# 위에는 리스트 요소가 더 많았지만 리스트 요소가 슬라이스 범위보다 더 작을 경우\n",
    "\n",
    "a = [0,10,20,30,40,50,60,70,80,90]\n",
    "a[0:6]=['a']\n",
    "a\n"
   ]
  },
  {
   "cell_type": "code",
   "execution_count": null,
   "metadata": {},
   "outputs": [],
   "source": [
    "# 리스트 요소를 할당하는데 슬라이스에서의 인덱스 증가폭을 설정이 가능하다\n",
    "# 따라서 여기서 해보겠다\n",
    "\n",
    "a = [0,10,20,30,40,50,60,70,80,90]\n",
    "a[2:8:2] =  ['a','c','d']\n",
    "a\n"
   ]
  },
  {
   "cell_type": "code",
   "execution_count": null,
   "metadata": {},
   "outputs": [],
   "source": [
    "a = [0,10,20,30,40,50,60,70,80,90]\n",
    "a[2:8:2] =  ['a','c','d']\n",
    "a\n",
    "\n",
    "#인덱스 증가폭을 지정했을 때는 슬라이스 범위의 요소 개수와 할당을 요소 개수가 정확히 일치해야한다. \n"
   ]
  },
  {
   "cell_type": "code",
   "execution_count": null,
   "metadata": {},
   "outputs": [],
   "source": [
    "# 튜플 , range, 문자열은 슬라이스 범위를 지정하더라도 요소를 할당할 수 없다. "
   ]
  },
  {
   "cell_type": "markdown",
   "metadata": {},
   "source": [
    "# del로 슬라이스 삭제하기 "
   ]
  },
  {
   "cell_type": "code",
   "execution_count": null,
   "metadata": {},
   "outputs": [],
   "source": [
    "#del 시퀸스객체[시작인덱스:끝인덱스]\n",
    "\n",
    "a = [0,10,20,30,40,50,60,70,80,90]\n",
    "del a[0:7]  #0부터 60까지 삭제\n",
    "a\n",
    "\n",
    "#원래 있던 리스트가 변경되는것임 새로운 리스트가 생성되는게 아니라"
   ]
  },
  {
   "cell_type": "code",
   "execution_count": null,
   "metadata": {},
   "outputs": [],
   "source": [
    "# 인덱스 증가폭을 지정하면 인덱스를 건너 뛰면서 삭제한다.\n",
    "\n",
    "a = [0,10,20,30,40,50,60,70,80,90]\n",
    "del a[0::2]  #두칸씩 건너뛰며 지우기 --> 짝수만 제거\n",
    "a         "
   ]
  },
  {
   "cell_type": "code",
   "execution_count": null,
   "metadata": {},
   "outputs": [],
   "source": [
    "a = [0,10,20,30,40,50,60,70,80,90]\n",
    "del a[0:2]\n",
    "a\n",
    "del a[0::2]\n",
    "a"
   ]
  },
  {
   "cell_type": "code",
   "execution_count": null,
   "metadata": {},
   "outputs": [],
   "source": [
    "# 튜플 ,range, 문자열은 del로 슬라이스를 삭제할 수 없다. \n"
   ]
  },
  {
   "cell_type": "code",
   "execution_count": 2,
   "metadata": {},
   "outputs": [
    {
     "data": {
      "text/plain": [
       "[5, 6, 7]"
      ]
     },
     "execution_count": 2,
     "metadata": {},
     "output_type": "execute_result"
    }
   ],
   "source": [
    "a = [0,1,2,3,4,5,6,7]\n",
    "a[5:]\n",
    "\n",
    "a[-3:]"
   ]
  },
  {
   "cell_type": "code",
   "execution_count": 6,
   "metadata": {},
   "outputs": [
    {
     "name": "stdout",
     "output_type": "stream",
     "text": [
      "1 2 3 4 5 6 7 8 9 10 11 12\n",
      "('1', '2', '3', '4', '5', '6', '7')\n"
     ]
    }
   ],
   "source": [
    "x = input().split()\n",
    "a,b,c,d,e,f,g,h,i,j,k,l = x\n",
    "del x[7:]\n",
    "\n",
    "print(tuple(x))"
   ]
  },
  {
   "cell_type": "code",
   "execution_count": 7,
   "metadata": {},
   "outputs": [
    {
     "name": "stdout",
     "output_type": "stream",
     "text": [
      "1 2 3 4 5 6 7 8 9 10\n",
      "('1', '2', '3', '4', '5')\n"
     ]
    }
   ],
   "source": [
    "x = input().split()\n",
    "a,b,c,d,e,f,g,h,i,j = x\n",
    "del x[5:]\n",
    "print(tuple(x))"
   ]
  },
  {
   "cell_type": "code",
   "execution_count": 14,
   "metadata": {},
   "outputs": [
    {
     "name": "stdout",
     "output_type": "stream",
     "text": [
      "Python\n",
      "Python\n",
      "yhn\n",
      "Pto\n",
      "yhnPto\n"
     ]
    }
   ],
   "source": [
    "x= input()\n",
    "y= input()\n",
    "x1 = x[1::2]\n",
    "print(x1)\n",
    "y1 = y[0::2]\n",
    "print(y1)\n",
    "print(x1+y1)"
   ]
  },
  {
   "cell_type": "code",
   "execution_count": null,
   "metadata": {},
   "outputs": [],
   "source": []
  },
  {
   "cell_type": "code",
   "execution_count": null,
   "metadata": {},
   "outputs": [],
   "source": []
  },
  {
   "cell_type": "code",
   "execution_count": null,
   "metadata": {},
   "outputs": [],
   "source": []
  }
 ],
 "metadata": {
  "kernelspec": {
   "display_name": "Python 3",
   "language": "python",
   "name": "python3"
  },
  "language_info": {
   "codemirror_mode": {
    "name": "ipython",
    "version": 3
   },
   "file_extension": ".py",
   "mimetype": "text/x-python",
   "name": "python",
   "nbconvert_exporter": "python",
   "pygments_lexer": "ipython3",
   "version": "3.7.4"
  }
 },
 "nbformat": 4,
 "nbformat_minor": 2
}
