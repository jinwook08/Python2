{
 "cells": [
  {
   "cell_type": "code",
   "execution_count": null,
   "metadata": {},
   "outputs": [],
   "source": [
    "# 반복문"
   ]
  },
  {
   "cell_type": "code",
   "execution_count": null,
   "metadata": {},
   "outputs": [],
   "source": [
    "num1 = 6\n",
    "num1 += 1\n",
    "num2 = 7\n",
    "num2 -= 5\n",
    "num3 = 8\n",
    "num3 /= 2\n",
    "print(num1, num2, round(num3))\n",
    "\n",
    "num1 = 1\n",
    "num1 *= 3\n",
    "num2 = 2\n",
    "num2 **= 3\n",
    "print(num1, num2)"
   ]
  },
  {
   "cell_type": "code",
   "execution_count": null,
   "metadata": {},
   "outputs": [],
   "source": [
    "# 3항 연산자\n",
    "\n",
    "x = 5\n",
    "ans = 'Non-negative' if x>=0 else 'Negative'     ##???? if문의 다른 형태인가?\n",
    "print(ans)\n",
    "type(ans)   #문자열"
   ]
  },
  {
   "cell_type": "code",
   "execution_count": null,
   "metadata": {},
   "outputs": [],
   "source": [
    "city =True           ## 문자열 거짓 이다. // 참고로 공백도 문자열이 된다. //  숫자의 거짓은 0이고 # 리스트의 거짓은 list:[]\n",
    "if city:              # 조건이 참인 경우만 실행.                             // 딕셔너리의 거짓은 dict:[] . /// 튜플의 거짓은 tuple:()\n",
    "    print('empty city')  ##따라서 공백은 거짓이므로 if문이 실행이 안된다. \n",
    "    "
   ]
  },
  {
   "cell_type": "code",
   "execution_count": null,
   "metadata": {},
   "outputs": [],
   "source": [
    "## 날짜를 한번 보고가겠다. \n",
    "#날짜의 입력은 문자열이다. \n",
    "#문자열인 데이터를 특수하게 해석해서 년월일로 해석한다. \n",
    "import datetime\n",
    "dt = datetime.datetime.now()    ##함수는 ()를 사용 해야한다. \n",
    "print(dt)\n",
    "print()\n",
    "#데이터 입력\n",
    "age = input('생년월일(19940808)을 입력하시오')\n",
    "#데이터 처리 \n",
    "year= int(age[0:4])        #마지막은 포함되지 않는다. \n",
    "month = int(age[4:6])\n",
    "day = int(age[6:])\n",
    "#빼기 연산 \n",
    "#분산: 상계방지 ( 제곱 )\n",
    "year_diff = dt.year - year\n",
    "month_diff = dt.month - month\n",
    "day_diff = dt.day - day\n",
    "if day_diff<0:\n",
    "    month_diff -=1\n",
    "if month_diff <0:\n",
    "    year_diff -= 1\n",
    "    \n",
    "# 데이터 출력\n",
    "\n",
    "print('당신의 나이는', year_diff + 1)\n",
    "if year_diff<18:\n",
    "    print('당신은 미성년자 입니다')\n",
    "else:\n",
    "    print('당신은 미성년자가 아닙니다.')"
   ]
  },
  {
   "cell_type": "code",
   "execution_count": null,
   "metadata": {},
   "outputs": [],
   "source": [
    "#데이터입력 --> 처리 (연산자), 제어문(판단문, 한가지 규칙을 여러데이터에 적용: 반복문)\n",
    "#그중에 대표적인게 바로  for 문"
   ]
  },
  {
   "cell_type": "code",
   "execution_count": null,
   "metadata": {},
   "outputs": [],
   "source": [
    "# for \n",
    "# for(i= 0: i<100;i++) : 인덱스 오버플로우가 나타난다 따라서 이런한것을 사용하지 않고\n",
    "\n",
    "# for in  문을 사용한다. "
   ]
  },
  {
   "cell_type": "code",
   "execution_count": null,
   "metadata": {},
   "outputs": [],
   "source": [
    "#데이터를 이용하는 방법\n",
    "elements = ['earth','air','fire','water']\n",
    "for i in elements:   # i = 'earth'    #Collections, iterator, generator, enumerate\n",
    "    print(i, end = ' ')"
   ]
  },
  {
   "cell_type": "code",
   "execution_count": null,
   "metadata": {},
   "outputs": [],
   "source": [
    "#Collections : list, tuple. dict. set\n",
    "#iterator : range   for(i= 0: i<100;i++) 이러한 방식도 지원해줘야 하기때문에 있는게 range(start, end , step)\n",
    "#generator : 데이터 생성  , 실시간으로 데이터를 생성하므로 메모리를 차지하지 않음\n",
    "#enumerate       리스트나 컬렉션스 데이터에 매핑을 해줌 0:earth, 1:air, 2:fire "
   ]
  },
  {
   "cell_type": "code",
   "execution_count": null,
   "metadata": {},
   "outputs": [],
   "source": [
    "for i in range(1,100,1):\n",
    "    print(i, end= ' ')"
   ]
  },
  {
   "cell_type": "code",
   "execution_count": null,
   "metadata": {},
   "outputs": [],
   "source": [
    "#인덱스를 이용하는 방법\n",
    "for i in range(4):    # 0,1,2,3을 순서대로 만들어 낼때마다  elements에 있는 문자열이 아래에 같이 나옴\n",
    "    print(i)\n",
    "    print(elements[i])"
   ]
  },
  {
   "cell_type": "code",
   "execution_count": null,
   "metadata": {},
   "outputs": [],
   "source": [
    "#range라는 객체를 만들어 버린다. 얘는 for in 문 뒤에만 제대로 잘 작동한다. \n",
    "\n",
    "ra = reversed(range(4))        ##반대로 정렬하고 싶다면 reversed를 사용\n",
    "ra\n",
    "\n",
    "#애를 제대로 잘 보고 싶다 그러면 리스트로 캐스팅 시켜줘야한다\n",
    "\n",
    "print(list(ra))"
   ]
  },
  {
   "cell_type": "code",
   "execution_count": null,
   "metadata": {},
   "outputs": [],
   "source": [
    "print(list(range(5,-1,-1)))"
   ]
  },
  {
   "cell_type": "code",
   "execution_count": null,
   "metadata": {},
   "outputs": [],
   "source": [
    "# 증가변수와 누적변수 \n",
    "\n",
    "sum = 10\n",
    "for x in  range(1,11):\n",
    "    sum += x\n",
    "print(sum)"
   ]
  },
  {
   "cell_type": "code",
   "execution_count": null,
   "metadata": {},
   "outputs": [],
   "source": [
    "# 중첩된 for 문\n",
    "for x in range(2,4):\n",
    "    print()\n",
    "    for y in range(2,10):\n",
    "        print(x, '*',y,'=',x+y,end='    ')"
   ]
  },
  {
   "cell_type": "code",
   "execution_count": null,
   "metadata": {},
   "outputs": [],
   "source": [
    "for x in range(2,9):\n",
    "    print()\n",
    "    for y in range(2,10):\n",
    "        print(x, '*',y,'=',x*y,end=' ')"
   ]
  },
  {
   "cell_type": "code",
   "execution_count": null,
   "metadata": {},
   "outputs": [],
   "source": [
    "# 내장리스트 : 동적으로 데이터 생성\n",
    "\n",
    "[i for i in range(10)]\n",
    "\n"
   ]
  },
  {
   "cell_type": "code",
   "execution_count": null,
   "metadata": {},
   "outputs": [],
   "source": [
    "[i **2 for i in range(10)]"
   ]
  },
  {
   "cell_type": "code",
   "execution_count": null,
   "metadata": {},
   "outputs": [],
   "source": [
    "{i : i**3 for i in range(10)}  ##딕셔너리도 가능하다"
   ]
  },
  {
   "cell_type": "code",
   "execution_count": null,
   "metadata": {},
   "outputs": [],
   "source": [
    "[i** 2 for i in range(10) if i%2 ==0 ]  #1부터 10까지 2의 제곱을 했을때 그 값들을 2로 나누엇을때 0이 되는 짝수 판별 법"
   ]
  },
  {
   "cell_type": "code",
   "execution_count": null,
   "metadata": {},
   "outputs": [],
   "source": [
    "# 내장리스트 안에서의 2중 for 문\n",
    "\n",
    "# for r in rows: \n",
    "#     for c in cols:\n",
    "#         (r,c)\n",
    "rows = range(1,5)\n",
    "cols = range(10,15)\n",
    "vector = [(r,c) for r in rows for c in cols]\n",
    "vector\n",
    "\n",
    "\n"
   ]
  },
  {
   "cell_type": "code",
   "execution_count": null,
   "metadata": {
    "scrolled": false
   },
   "outputs": [],
   "source": [
    "#문자열 연산자 + , *(문자열의 횟수만큼 반복)\n",
    "#앞이 참이면 뒤의 것은 계산하지 않음\n",
    "# True == 1, False ==0\n",
    "['3의배수'*(i%3==0) + '5의배수'* (i%5==0) or i for i in range(1,21)]"
   ]
  },
  {
   "cell_type": "code",
   "execution_count": null,
   "metadata": {},
   "outputs": [],
   "source": [
    "## 점수를 입력받아 A,B,C,D,F 학점으로 출력하시오\n",
    "\n",
    "while True: #무한루프 \n",
    "    print('점수입력:',end=' ')\n",
    "    jumsu = int(input())\n",
    "    if jumsu >= 95: print('A+')\n",
    "    elif jumsu >= 90: print('A')\n",
    "    elif jumsu >= 85: print('A-')\n",
    "    elif jumsu >= 80: print('B+')\n",
    "    elif jumsu >= 75: print('B')\n",
    "    elif jumsu >= 70: print('B-')\n",
    "    elif jumsu >= 65: print('B')\n",
    "    elif jumsu >= 60: print('c+')\n",
    "    elif jumsu >= 55: print('c')\n",
    "    elif jumsu >= 50: print('c-')\n",
    "    elif jumsu >= 45: print('D+')\n",
    "    elif jumsu >= 40: print('D')\n",
    "    elif jumsu >= 35: print('D-')\n",
    "    else: print('F')\n",
    "    if jumsu == 0:   #무한루프인 경우 종료조건 지정\n",
    "        break   ##반복문 종료 \n",
    "    \n"
   ]
  },
  {
   "cell_type": "code",
   "execution_count": null,
   "metadata": {},
   "outputs": [],
   "source": [
    "# 국어 영어 수학 점수를 입력하는 프로그램 작성 (3명 분)\n",
    "# 2차원 리스트를 3개 생성하면 된다. "
   ]
  },
  {
   "cell_type": "code",
   "execution_count": null,
   "metadata": {},
   "outputs": [],
   "source": [
    "# 2차원 리스트\n",
    "#파이썬은 주소 값을 저장한다. \n",
    "final = []\n",
    "for i in range(3):\n",
    "    score=[]  ## for문이 시작될때 한번 초기화 시키고 다시 한번 for문이 들어갈때 초기화를 시켜야 하나의리스트 안에 3개의 리스트가 들어가 수 있다. \n",
    "    num = input('번호를 입력하시오:')\n",
    "    name = input('이름을 입력하시오:')\n",
    "    kor = int(input('국어 점수를 입력하시오:'))\n",
    "    eng = int(input('영어 점수를 입력하시오:'))\n",
    "    math = int(input('수학 점수를 입력하시오:'))\n",
    "    score.append(num)\n",
    "    score.append(name)\n",
    "    score.append(kor)\n",
    "    score.append(eng)\n",
    "    score.append(math)\n",
    "    final.append(score)\n",
    "print(final)"
   ]
  },
  {
   "cell_type": "code",
   "execution_count": null,
   "metadata": {},
   "outputs": [],
   "source": [
    "## 문제 합계와 평균을 구해서 추가시켜 보시오, 평균은 소수점 3째자리에서 반올림하고 2째 자리에서 반올림 하시오\n",
    "\n",
    "\n",
    "\n",
    "\n",
    "final = []\n",
    "for i in range(3):\n",
    "    score=[]  ## for문이 시작될때 한번 초기화 시키고 다시 한번 for문이 들어갈때 초기화를 시켜야 하나의리스트 안에 3개의 리스트가 들어가 수 있다. \n",
    "    num = input('번호를 입력하시오:')\n",
    "    name = input('이름을 입력하시오:')\n",
    "    kor = int(input('국어 점수를 입력하시오:'))\n",
    "    eng = int(input('영어 점수를 입력하시오:'))\n",
    "    math = int(input('수학 점수를 입력하시오:'))\n",
    "    tot = kor + eng + math\n",
    "    avg = round(tot/3 ,2)\n",
    "    if avg >= 90:\n",
    "        grade = 'A'\n",
    "    elif avg >= 80:\n",
    "        grade = 'B'\n",
    "    elif avg >= 70:\n",
    "        grade = 'C'\n",
    "    elif avg >= 60:\n",
    "        grade = 'D'\n",
    "    else:\n",
    "        grade = 'F'\n",
    "        \n",
    "    #프로그램은 순서적으로 실행됨 : 순서를 변경하는 것 - 제어문과 함수\n",
    "    # 순서가 있는 자료구조\n",
    "    score.append(num)\n",
    "    score.append(name)\n",
    "    score.append(kor)\n",
    "    score.append(eng)\n",
    "    score.append(math)\n",
    "    score.append(avg)\n",
    "    score.append(tot)\n",
    "    final.append(score)\n",
    " \n",
    "    \n",
    "print(final)\n",
    "\n",
    "\n"
   ]
  },
  {
   "cell_type": "code",
   "execution_count": null,
   "metadata": {},
   "outputs": [],
   "source": [
    "# 정렬하고 싶은 경우\n",
    "# 기본데이터타입 : str, int, float, list, dict, set, tuple\n",
    "# 파이썬은 모든 것이 객체( 변수 + 함수 ): 사용자 정의 데이터 타입\n",
    "\n",
    "final.sort()\n",
    "\n",
    "#번호순 정렬"
   ]
  },
  {
   "cell_type": "code",
   "execution_count": null,
   "metadata": {},
   "outputs": [],
   "source": [
    "#함수를 키로 한다.\n",
    "#이름순 정렬\n",
    "def getKey(a1):\n",
    "    return a1[1]   #리턴 값에 따라서 이름으로 할 수 있고 아니면 번호순 아니면 점수 순으로도 전부 가능하다. \n",
    "final.sort(key = getKey, reverse = True )#내림차순\n",
    "final"
   ]
  },
  {
   "cell_type": "code",
   "execution_count": null,
   "metadata": {},
   "outputs": [],
   "source": [
    "# lambda 함수 : 무명함수, 간단한 함수를 작성할 때 사용\n",
    "\n",
    "final.sort(key = lambda row: row[1], reverse = True)\n"
   ]
  },
  {
   "cell_type": "code",
   "execution_count": null,
   "metadata": {},
   "outputs": [],
   "source": [
    "# 등수를 입력하는 필드를 추가하시오\n",
    "a = 0\n",
    "def getKey(a6):\n",
    "    return a6[6]\n",
    "final.sort(key = getKey, reverse = True)\n",
    "final\n",
    "\n",
    "\n"
   ]
  },
  {
   "cell_type": "code",
   "execution_count": null,
   "metadata": {},
   "outputs": [],
   "source": [
    "rank = 0\n",
    "\n",
    "for i in range(len(final)):\n",
    "    rank = rank + 1\n",
    "    final[i].append(rank)\n",
    "final.sort(key = lambda row:row[0])\n",
    "tot_list = ['번호','이름','국어','수학','영어','합계','평균','순위']\n",
    "for j in range(len(final[0])):\n",
    "    print(tot_list[j],end= ' ')\n",
    "for i in range(len(final)):\n",
    "    print(end = '\\n')\n",
    "    for j in range(8):\n",
    "        print(final[i][j], end= ' ')"
   ]
  },
  {
   "cell_type": "code",
   "execution_count": null,
   "metadata": {},
   "outputs": [],
   "source": [
    "# 문제 number guess ( 숫자 맞추기 게임 1:1 )\n",
    "\n",
    "1) computer는 숫자를 랜덤으로 발생시킵니다.(1~100)\n",
    "2) 사용자는 숫자를 입력합니다. \n",
    "3) 컴퓨터가 낸 숫자와 사용자가 입력한 숫자가 일치하는지 확인하고 일치하면 확인하고 다시 다음 게임으로 진행합니다. \n",
    "4) 만약 맞추지 못하였으면 사용자가 입력한 숫자가 컴퓨터가 가지고 있는 수 보다 큰지 작은지를 알려줍니다. \n",
    "5) 무한루프로 진행하던 게임은 q가 눌리면 종료합니다.\n",
    "6) 몇회만에 맞추었는지 확인하여 출력해 줍니다. \n",
    "7) 총 진행회수하고  guess횟수를 누적시킨다음 평균 시도횟수를 출력하시오 "
   ]
  },
  {
   "cell_type": "code",
   "execution_count": null,
   "metadata": {},
   "outputs": [],
   "source": [
    "# 필요 변수 \n",
    "from random import randint\n",
    "n = randint(1,101)\n",
    "cnt = 0\n",
    "while True:\n",
    "    i = input()\n",
    "    if i == 'q' :\n",
    "        break\n",
    "    else: \n",
    "        int(i)\n",
    "        if i == n :\n",
    "            n = randint(1,101)\n",
    "            print(\"정답입니다!!\")\n",
    "\n",
    "        if eval(i > n ):\n",
    "            print('사용자가 더 큽니다.')\n",
    "            cnt += 1\n",
    "            print(cnt)\n",
    "        if eval(i < n) :\n",
    "            print('컴퓨터가 더 큽니다')\n",
    "            cnt += 1\n",
    "            print(cnt)\n",
    "\n",
    "        \n"
   ]
  },
  {
   "cell_type": "code",
   "execution_count": null,
   "metadata": {},
   "outputs": [],
   "source": [
    "## 문제 정답\n",
    "\n",
    "from random import randint\n",
    "import sys\n",
    "tot_game = 0  #전체 게임수 \n",
    "win = 0  #이긴 경우수\n",
    "\n",
    "tot_attempt = []  #전체 시도회수 \n",
    "\n",
    "while True:\n",
    "    n = randint(1,101)   # 컴퓨터는 수하나 선택\n",
    "    tot_game +=1\n",
    "    game = 0 \n",
    "    while True:\n",
    "        ans = input('상상의 수를 입력(Q to exit):')\n",
    "        game+= 1\n",
    "        if ans.upper()== 'Q':\n",
    "            print('총 게임수 ',tot_game-1,'이긴게임수',win)\n",
    "            game_tot = sum (tot_attempt)\n",
    "            print('평균시도 횟수',game_tot/(tot_game-1))\n",
    "            sys.exit(0)          #프로그램을 종료 시켜라 \n",
    "        ians = int(ans)\n",
    "        if (n == ians):\n",
    "            print('정답!')\n",
    "            win += 1\n",
    "            tot_attempt.append(game)\n",
    "            break\n",
    "        elif (n > ians):\n",
    "            print('높은 수를 선택하시오')\n",
    "        else:\n",
    "            print('작은 수를 선택하시오')\n",
    "            \n"
   ]
  },
  {
   "cell_type": "code",
   "execution_count": null,
   "metadata": {},
   "outputs": [],
   "source": [
    "# 경우의 수는 3가지 (정답, 작은경우, )\n",
    "\n",
    "\n",
    "from random import randint\n",
    "import sys\n",
    "while True:\n",
    "    n = randint(1,101)   # 컴퓨터는 수하나 선택\n",
    "    while True:\n",
    "        ans = input('상상의 수를 입력(Q to exit):')\n",
    "        if ans.upper()== 'Q':\n",
    "            sys.exit(0)          #프로그램을 종료 시켜라 \n",
    "        ians = int(ans)\n",
    "        if (n == ians):\n",
    "            print('정답!')\n",
    "            win += 1\n",
    "            tot_attempt.append(game)\n",
    "            break\n",
    "        elif (n > ians):\n",
    "            print('높은 수를 선택하시오')\n",
    "        else:\n",
    "            print('작은 수를 선택하시오')\n",
    "            "
   ]
  },
  {
   "cell_type": "code",
   "execution_count": 4,
   "metadata": {},
   "outputs": [
    {
     "name": "stdout",
     "output_type": "stream",
     "text": [
      " 아파트 면적을 제곱미터로 입력해주세요: 80\n",
      "소형 입니다.\n"
     ]
    }
   ],
   "source": [
    "#문제 1 제곱미터로 입력되는 아파트 면적을 평형으로 계산하여 종류 판정\n",
    "# (30평을 기준으로 판정)하는 프로그램 작성\n",
    "\n",
    "#소형(17) 중소형(25) 중형(30)\n",
    "#평형수 = 제곱미터/3.305 \n",
    "\n",
    "\n",
    "rnaAPT = int(input(' 아파트 면적을 제곱미터로 입력해주세요: '))\n",
    "\n",
    "\n",
    "pk = rnaAPT/3.305\n",
    "\n",
    "if pk >= 30:\n",
    "\n",
    "    print('중형 입니다.')\n",
    "elif 30>pk >=25:\n",
    "    print('중소형 입니다.')\n",
    "elif 35>pk >=17:\n",
    "    print('소형 입니다.')\n",
    "else:\n",
    "    print('나머지')\n",
    "    \n",
    "\n",
    "\n",
    "\n",
    "\n",
    "\n",
    "\n",
    "\n",
    "\n",
    "\n",
    "\n"
   ]
  },
  {
   "cell_type": "code",
   "execution_count": 7,
   "metadata": {},
   "outputs": [
    {
     "name": "stdout",
     "output_type": "stream",
     "text": [
      " 날짜를 입력해주세요 50\n",
      "4320000\n"
     ]
    }
   ],
   "source": [
    "#문제 2 날 수를 입력하면 이를 초로 변경하는 프로그램 작성\n",
    "\n",
    "day = int(input(' 날짜를 입력해주세요 '))\n",
    "sec = int(86400)\n",
    "\n",
    "pro = day * sec \n",
    "\n",
    "print(pro)\n",
    "\n",
    "\n"
   ]
  },
  {
   "cell_type": "code",
   "execution_count": 20,
   "metadata": {},
   "outputs": [
    {
     "name": "stdout",
     "output_type": "stream",
     "text": [
      "연봉을 입력해주세요555\n",
      "527.25\n"
     ]
    }
   ],
   "source": [
    "# 소득세 계산: 소득 세율표를 구해보고 이를 이용하여 소득이 들어오면 세금이 \n",
    "# 얼마인지 계산해 보시오(연봉, 단순히 세율만 적용합니다)\n",
    "#1천만원 미만시 연봉 9.5%/ 1천~4천: 19% / 4천~8천 : 28% /8천 이상 : 37%\n",
    "income = int(input('연봉을 입력해주세요'))\n",
    "if income >= 8000 :\n",
    "    a=income*0.63\n",
    "    print(a)\n",
    "elif 8000> income >= 4000:\n",
    "    b= income*0.72\n",
    "    print(b)\n",
    "elif 4000> income >=1000:\n",
    "    c = income *0.81\n",
    "    print(c)\n",
    "elif 1000>income :\n",
    "    d= income *0.95\n",
    "    print(d)\n",
    "\n",
    "\n",
    "\n",
    "\n",
    "\n",
    "\n",
    "\n",
    "\n",
    "\n",
    "\n",
    "\n"
   ]
  },
  {
   "cell_type": "code",
   "execution_count": null,
   "metadata": {},
   "outputs": [],
   "source": [
    "# 위에 문제 정답\n",
    "\n",
    "annual_income = int(input('연봉을 입력하세요'))\n",
    "tax= 0.0 ## float  형 초기화\n",
    "\n",
    "if income <100000000:\n",
    "    tax= annual_income *0.95\n",
    "elif annual_income <40000000:\n",
    "    tax= 10000000*0.095 + \n",
    "\n",
    "\n",
    "\n",
    "\n"
   ]
  },
  {
   "cell_type": "code",
   "execution_count": 19,
   "metadata": {},
   "outputs": [
    {
     "name": "stdout",
     "output_type": "stream",
     "text": [
      "초딩이 몇명인가요?5\n",
      "청소년이 몇명인가요?3\n",
      "일반인이 몇명인가요?2\n",
      "경로대상이 몇명인가요?1\n"
     ]
    },
    {
     "ename": "NameError",
     "evalue": "name 'c' is not defined",
     "output_type": "error",
     "traceback": [
      "\u001b[1;31m---------------------------------------------------------------------------\u001b[0m",
      "\u001b[1;31mNameError\u001b[0m                                 Traceback (most recent call last)",
      "\u001b[1;32m<ipython-input-19-363de8f36519>\u001b[0m in \u001b[0;36m<module>\u001b[1;34m\u001b[0m\n\u001b[0;32m     18\u001b[0m \u001b[1;32melif\u001b[0m \u001b[0mno\u001b[0m \u001b[1;33m>\u001b[0m \u001b[1;36m0\u001b[0m\u001b[1;33m:\u001b[0m\u001b[1;33m\u001b[0m\u001b[1;33m\u001b[0m\u001b[0m\n\u001b[0;32m     19\u001b[0m     \u001b[0md\u001b[0m \u001b[1;33m=\u001b[0m \u001b[0mno\u001b[0m \u001b[1;33m*\u001b[0m \u001b[1;36m3000\u001b[0m\u001b[1;33m\u001b[0m\u001b[1;33m\u001b[0m\u001b[0m\n\u001b[1;32m---> 20\u001b[1;33m \u001b[0mprint\u001b[0m\u001b[1;33m(\u001b[0m\u001b[0msum\u001b[0m\u001b[1;33m(\u001b[0m\u001b[1;33m[\u001b[0m\u001b[0ma\u001b[0m\u001b[1;33m,\u001b[0m\u001b[0mb\u001b[0m\u001b[1;33m,\u001b[0m\u001b[0mc\u001b[0m\u001b[1;33m,\u001b[0m\u001b[0md\u001b[0m\u001b[1;33m]\u001b[0m\u001b[1;33m)\u001b[0m\u001b[1;33m)\u001b[0m\u001b[1;33m\u001b[0m\u001b[1;33m\u001b[0m\u001b[0m\n\u001b[0m\u001b[0;32m     21\u001b[0m \u001b[1;33m\u001b[0m\u001b[0m\n\u001b[0;32m     22\u001b[0m \u001b[1;33m\u001b[0m\u001b[0m\n",
      "\u001b[1;31mNameError\u001b[0m: name 'c' is not defined"
     ]
    }
   ],
   "source": [
    "# 놀이공원 매표소 단체 입장료 계산하기 \n",
    "# 조건: 팀별 인원 구성을 입력(초등, 청소년, 일반인, 경로대상)하면 입장료 소견표에 \n",
    "# 정산요금 : 초등(5000원), 청소년(10000원), 일반인(15000원), 경로대상(3000원)\n",
    "# 팀별 할인 카드 확인\n",
    "# 카드 없음 : 할인 무, 일반카드: 10%,VIP :20% \n",
    "\n",
    "ele = int(input('초딩이 몇명인가요?'))\n",
    "mid = int(input('청소년이 몇명인가요?'))\n",
    "old = int(input('일반인이 몇명인가요?'))\n",
    "no = int(input('경로대상이 몇명인가요?'))\n",
    "\n",
    "if ele >0 :\n",
    "    a=ele * 5000 \n",
    "elif mid >0:\n",
    "    b= mid *10000\n",
    "elif old >0 :\n",
    "    c= old *15000\n",
    "elif no > 0:\n",
    "    d = no * 3000\n",
    "\n",
    "    \n",
    "\n",
    "\n",
    "\n",
    "\n",
    "\n",
    "\n"
   ]
  },
  {
   "cell_type": "code",
   "execution_count": 22,
   "metadata": {},
   "outputs": [
    {
     "name": "stdout",
     "output_type": "stream",
     "text": [
      "초딩이 몇명인가요?6\n",
      "청소년이 몇명인가요?2\n",
      "일반인이 몇명인가요?5\n",
      "경로대상이 몇명인가요?32\n",
      "카드없음(0),일반카드(1),VIP(2)를 선택해주세요2\n",
      "총 요금은  176800.0 원 입니다\n"
     ]
    }
   ],
   "source": [
    "## 위에 문제 정답\n",
    "\n",
    "ele = int(input('초딩이 몇명인가요?'))\n",
    "mid = int(input('청소년이 몇명인가요?'))\n",
    "adult = int(input('일반인이 몇명인가요?'))\n",
    "old = int(input('경로대상이 몇명인가요?'))\n",
    "\n",
    "ele_tot = 5000* ele\n",
    "mid_tot = 10000* mid\n",
    "adult_tot = 15000* adult\n",
    "old_tot = 3000*old\n",
    "tot = ele_tot + mid_tot+ adult_tot+ old_tot\n",
    "\n",
    "dis = int(input('카드없음(0),일반카드(1),VIP(2)를 선택해주세요'))\n",
    "select= [tot,tot*0.9,tot*0.8]\n",
    "print('총 요금은 ',select[dis], '원 입니다')"
   ]
  },
  {
   "cell_type": "code",
   "execution_count": null,
   "metadata": {},
   "outputs": [],
   "source": []
  },
  {
   "cell_type": "code",
   "execution_count": null,
   "metadata": {},
   "outputs": [],
   "source": []
  },
  {
   "cell_type": "code",
   "execution_count": null,
   "metadata": {},
   "outputs": [],
   "source": []
  },
  {
   "cell_type": "code",
   "execution_count": null,
   "metadata": {},
   "outputs": [],
   "source": []
  },
  {
   "cell_type": "code",
   "execution_count": null,
   "metadata": {},
   "outputs": [],
   "source": []
  },
  {
   "cell_type": "code",
   "execution_count": null,
   "metadata": {},
   "outputs": [],
   "source": []
  },
  {
   "cell_type": "code",
   "execution_count": null,
   "metadata": {},
   "outputs": [],
   "source": []
  },
  {
   "cell_type": "code",
   "execution_count": null,
   "metadata": {},
   "outputs": [],
   "source": []
  },
  {
   "cell_type": "code",
   "execution_count": null,
   "metadata": {},
   "outputs": [],
   "source": []
  },
  {
   "cell_type": "code",
   "execution_count": null,
   "metadata": {},
   "outputs": [],
   "source": []
  },
  {
   "cell_type": "code",
   "execution_count": null,
   "metadata": {},
   "outputs": [],
   "source": []
  },
  {
   "cell_type": "code",
   "execution_count": null,
   "metadata": {},
   "outputs": [],
   "source": []
  },
  {
   "cell_type": "code",
   "execution_count": null,
   "metadata": {},
   "outputs": [],
   "source": []
  },
  {
   "cell_type": "code",
   "execution_count": null,
   "metadata": {},
   "outputs": [],
   "source": []
  },
  {
   "cell_type": "code",
   "execution_count": null,
   "metadata": {},
   "outputs": [],
   "source": []
  },
  {
   "cell_type": "code",
   "execution_count": null,
   "metadata": {},
   "outputs": [],
   "source": []
  },
  {
   "cell_type": "code",
   "execution_count": null,
   "metadata": {},
   "outputs": [],
   "source": []
  },
  {
   "cell_type": "code",
   "execution_count": null,
   "metadata": {},
   "outputs": [],
   "source": []
  },
  {
   "cell_type": "code",
   "execution_count": null,
   "metadata": {},
   "outputs": [],
   "source": []
  },
  {
   "cell_type": "code",
   "execution_count": null,
   "metadata": {},
   "outputs": [],
   "source": []
  },
  {
   "cell_type": "code",
   "execution_count": null,
   "metadata": {},
   "outputs": [],
   "source": []
  },
  {
   "cell_type": "code",
   "execution_count": null,
   "metadata": {},
   "outputs": [],
   "source": []
  },
  {
   "cell_type": "code",
   "execution_count": null,
   "metadata": {},
   "outputs": [],
   "source": []
  },
  {
   "cell_type": "code",
   "execution_count": null,
   "metadata": {},
   "outputs": [],
   "source": []
  },
  {
   "cell_type": "code",
   "execution_count": null,
   "metadata": {},
   "outputs": [],
   "source": []
  },
  {
   "cell_type": "code",
   "execution_count": null,
   "metadata": {},
   "outputs": [],
   "source": []
  },
  {
   "cell_type": "code",
   "execution_count": null,
   "metadata": {},
   "outputs": [],
   "source": []
  },
  {
   "cell_type": "code",
   "execution_count": null,
   "metadata": {},
   "outputs": [],
   "source": []
  }
 ],
 "metadata": {
  "kernelspec": {
   "display_name": "Python 3",
   "language": "python",
   "name": "python3"
  },
  "language_info": {
   "codemirror_mode": {
    "name": "ipython",
    "version": 3
   },
   "file_extension": ".py",
   "mimetype": "text/x-python",
   "name": "python",
   "nbconvert_exporter": "python",
   "pygments_lexer": "ipython3",
   "version": "3.7.4"
  }
 },
 "nbformat": 4,
 "nbformat_minor": 2
}
