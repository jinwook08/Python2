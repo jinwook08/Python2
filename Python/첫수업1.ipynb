{
 "cells": [
  {
   "cell_type": "code",
   "execution_count": 5,
   "metadata": {},
   "outputs": [
    {
     "name": "stdout",
     "output_type": "stream",
     "text": [
      "['155', '156', '165', '166', '169', '176']\n",
      "NO\n"
     ]
    }
   ],
   "source": [
    "def 최솟값(value):\n",
    "    m = value[0]\n",
    "    for i in range(len(value)):\n",
    "        if m>value[i]:\n",
    "            m= value[i]\n",
    "    return m\n",
    "\n",
    "s = '176 156 155 165 166 169'\n",
    "l = s.split(' ')\n",
    "sorted_l = []\n",
    "for i in range(len(l)):\n",
    "    minValue = 최솟값(l)\n",
    "    sorted_l.append(min(l))\n",
    "    l.remove(min(l))\n",
    "    \n",
    "print(sorted_l)\n",
    "\n",
    "if l == sorted_l:\n",
    "    print('YES')\n",
    "else:\n",
    "    print('NO')"
   ]
  },
  {
   "cell_type": "markdown",
   "metadata": {},
   "source": [
    "def f(val1, val2, val3, val4....):\n",
    "    기능\n",
    "    return f(val1)+ f(val2) + val3+ val4\n",
    "\n",
    "1.종료조건\n",
    "2.for로 대체하게 되면 더 쉬운가?\n",
    "3.효율성이 for보다 괜찮은가?"
   ]
  },
  {
   "cell_type": "code",
   "execution_count": 15,
   "metadata": {},
   "outputs": [
    {
     "name": "stdout",
     "output_type": "stream",
     "text": [
      "5050\n"
     ]
    }
   ],
   "source": [
    "s = 0 \n",
    "for i in range(101):\n",
    "    s += i\n",
    "print(s)\n",
    "def f(n):\n",
    "    if n <1:\n",
    "        return n\n",
    "    else:\n",
    "        return f(n-1) +n\n",
    "    print(f(100))"
   ]
  },
  {
   "cell_type": "code",
   "execution_count": 19,
   "metadata": {},
   "outputs": [
    {
     "name": "stdout",
     "output_type": "stream",
     "text": [
      "0\n",
      "120\n"
     ]
    }
   ],
   "source": [
    "s = 0 \n",
    "for i in range(1,6):\n",
    "    s *= i\n",
    "print(s)\n",
    "def f(n):\n",
    "    if n <1:\n",
    "        return 1\n",
    "    else:\n",
    "        return f(n-1) *n\n",
    "print(f(5))"
   ]
  },
  {
   "cell_type": "code",
   "execution_count": 70,
   "metadata": {},
   "outputs": [
    {
     "name": "stdout",
     "output_type": "stream",
     "text": [
      "2500\n",
      "2550\n"
     ]
    }
   ],
   "source": [
    "s = 0\n",
    "for i in range(1, 101, 2):\n",
    "    s += i\n",
    "print(s)\n",
    "\n",
    "def f(n):\n",
    "    if n <2:\n",
    "        return n\n",
    "    else:\n",
    "        return f(n-2) +n\n",
    "print(f(100))"
   ]
  },
  {
   "cell_type": "code",
   "execution_count": 86,
   "metadata": {},
   "outputs": [
    {
     "name": "stdout",
     "output_type": "stream",
     "text": [
      "2500\n",
      "2499\n"
     ]
    }
   ],
   "source": [
    "s = 0\n",
    "for i in range(1, 101, 2):\n",
    "    s += i\n",
    "print(s)\n",
    "def f(n):\n",
    "    if n <1:\n",
    "        return n\n",
    "    else:\n",
    "        return f(n-2) +n\n",
    "print(f(99))"
   ]
  },
  {
   "cell_type": "code",
   "execution_count": 101,
   "metadata": {},
   "outputs": [
    {
     "ename": "SyntaxError",
     "evalue": "'continue' not properly in loop (<ipython-input-101-34da34a51793>, line 10)",
     "output_type": "error",
     "traceback": [
      "\u001b[1;36m  File \u001b[1;32m\"<ipython-input-101-34da34a51793>\"\u001b[1;36m, line \u001b[1;32m10\u001b[0m\n\u001b[1;31mSyntaxError\u001b[0m\u001b[1;31m:\u001b[0m 'continue' not properly in loop\n"
     ]
    }
   ],
   "source": [
    "s = 'paullab CEO leehojun'\n",
    "def f(ss):\n",
    "    if ss == '':\n",
    "        return ''\n",
    "    else:\n",
    "        return f(ss[1:])+ ss[:1]\n",
    "    continue\n",
    "print(f(s))"
   ]
  },
  {
   "cell_type": "code",
   "execution_count": 102,
   "metadata": {},
   "outputs": [
    {
     "name": "stdout",
     "output_type": "stream",
     "text": [
      "nujoheel OEC balluap\n",
      "paullab CEO leehojun\n",
      "nujoheel OEC balluap\n"
     ]
    }
   ],
   "source": [
    "s = 'paullab CEO leehojun'\n",
    "def f(ss):\n",
    "    if ss == '':\n",
    "        return ''\n",
    "    else:\n",
    "        return f(ss[1:])+ ss[:1]\n",
    "\n",
    "print(f(s))\n",
    "\n",
    "k=''\n",
    "for i in s:\n",
    "   k += i\n",
    "\n",
    "print(k)\n",
    "print(k[::-1])"
   ]
  },
  {
   "cell_type": "code",
   "execution_count": 104,
   "metadata": {},
   "outputs": [
    {
     "name": "stdout",
     "output_type": "stream",
     "text": [
      "nujoheel OEC balluap\n",
      "nujoheel OEC balluap\n"
     ]
    }
   ],
   "source": [
    "s = 'paullab CEO leehojun'\n",
    "def f(ss):\n",
    "    if ss == '':\n",
    "        return ''\n",
    "    else:\n",
    "        return f(ss[1:])+ ss[:1]\n",
    "\n",
    "print(f(s))\n",
    "\n",
    "k=''\n",
    "for i in s:\n",
    "   k = i + k\n",
    "\n",
    "print(k)\n"
   ]
  },
  {
   "cell_type": "code",
   "execution_count": 106,
   "metadata": {},
   "outputs": [
    {
     "name": "stdout",
     "output_type": "stream",
     "text": [
      "10,000,000,000,000\n"
     ]
    }
   ],
   "source": [
    "print(format(10000000000000, ','))"
   ]
  },
  {
   "cell_type": "code",
   "execution_count": 112,
   "metadata": {},
   "outputs": [
    {
     "data": {
      "text/plain": [
       "[1, 0, 0]"
      ]
     },
     "execution_count": 112,
     "metadata": {},
     "output_type": "execute_result"
    }
   ],
   "source": [
    "a = [1, 000, 000, 000]\n",
    "a[0:3:]"
   ]
  },
  {
   "cell_type": "code",
   "execution_count": 115,
   "metadata": {},
   "outputs": [
    {
     "name": "stdout",
     "output_type": "stream",
     "text": [
      "1,000,000,000,000\n",
      "1,000,000,000,000\n"
     ]
    }
   ],
   "source": [
    "k = '1000000000000'\n",
    "def f(s):\n",
    "    if len(s)<3:\n",
    "        return s\n",
    "    else:\n",
    "        return f(s[:len(s)-3])+ ','+ s[len(s)-3:]\n",
    "print(f(k))\n",
    "\n",
    "z= ''\n",
    "for i in range(len(k)//3):\n",
    "    z+=','+k[len(k)-3:]\n",
    "    k= k[:len(k)-3]\n",
    "z = k[:3]+ z\n",
    "\n",
    "print(z)"
   ]
  },
  {
   "cell_type": "markdown",
   "metadata": {},
   "source": [
    "1,1,2,3,5,8,13,21,34...\n",
    "f(n+2) = "
   ]
  },
  {
   "cell_type": "code",
   "execution_count": 118,
   "metadata": {},
   "outputs": [
    {
     "ename": "IndentationError",
     "evalue": "expected an indented block (<ipython-input-118-ef96ae5c8431>, line 11)",
     "output_type": "error",
     "traceback": [
      "\u001b[1;36m  File \u001b[1;32m\"<ipython-input-118-ef96ae5c8431>\"\u001b[1;36m, line \u001b[1;32m11\u001b[0m\n\u001b[1;33m    return 0\u001b[0m\n\u001b[1;37m         ^\u001b[0m\n\u001b[1;31mIndentationError\u001b[0m\u001b[1;31m:\u001b[0m expected an indented block\n"
     ]
    }
   ],
   "source": [
    "a = 1\n",
    "b = 1\n",
    "print(a)\n",
    "print(b)\n",
    "\n",
    "for i in range(10):\n",
    "    print(a+b)\n",
    "\n",
    "def f(n):\n",
    "    if n == 0:\n",
    "    return 0\n",
    "    if n == 1:\n",
    "    return 1\n",
    "    return f(n)+f(n+1)"
   ]
  },
  {
   "cell_type": "code",
   "execution_count": 122,
   "metadata": {},
   "outputs": [
    {
     "name": "stdout",
     "output_type": "stream",
     "text": [
      "0\n",
      "1\n",
      "1\n",
      "2\n",
      "3\n",
      "5\n",
      "8\n",
      "13\n",
      "21\n",
      "34\n"
     ]
    }
   ],
   "source": [
    "\n",
    "def f(n):\n",
    "    if n == 0:  return 0\n",
    "    if n == 1:  return 1\n",
    "    return f(n-2) + f(n-1)\n",
    "\n",
    "for i in range(10):\n",
    "    print(f(i))\n"
   ]
  },
  {
   "cell_type": "code",
   "execution_count": 124,
   "metadata": {},
   "outputs": [
    {
     "name": "stdout",
     "output_type": "stream",
     "text": [
      "1\n",
      "1\n",
      "2\n",
      "3\n",
      "5\n",
      "8\n",
      "13\n",
      "21\n",
      "34\n",
      "55\n",
      "89\n",
      "144\n"
     ]
    }
   ],
   "source": [
    "a = 1\n",
    "b = 1\n",
    "print(a)\n",
    "print(b)\n",
    "\n",
    "for i in range(10):\n",
    "    print(a+b)\n",
    "    a,b =b, a+b"
   ]
  },
  {
   "cell_type": "code",
   "execution_count": 126,
   "metadata": {},
   "outputs": [
    {
     "name": "stdout",
     "output_type": "stream",
     "text": [
      "100\n",
      "1000\n",
      "10000\n"
     ]
    }
   ],
   "source": [
    "#factory 함수\n",
    "\n",
    "def one(n):\n",
    "    def two(value):\n",
    "        return value ** n\n",
    "    return two\n",
    "a= one(2)\n",
    "b= one(3)\n",
    "c= one(4)\n",
    "\n",
    "print(a(10))\n",
    "print(b(10))\n",
    "print(c(10))\n",
    "\n"
   ]
  },
  {
   "cell_type": "code",
   "execution_count": 127,
   "metadata": {},
   "outputs": [
    {
     "ename": "SyntaxError",
     "evalue": "invalid syntax (<ipython-input-127-a9838768aeb8>, line 2)",
     "output_type": "error",
     "traceback": [
      "\u001b[1;36m  File \u001b[1;32m\"<ipython-input-127-a9838768aeb8>\"\u001b[1;36m, line \u001b[1;32m2\u001b[0m\n\u001b[1;33m    for i in range (1,10)\u001b[0m\n\u001b[1;37m                         ^\u001b[0m\n\u001b[1;31mSyntaxError\u001b[0m\u001b[1;31m:\u001b[0m invalid syntax\n"
     ]
    }
   ],
   "source": [
    "k = int(input())\n",
    "for i in range (1,10)\n",
    "    print (k)"
   ]
  },
  {
   "cell_type": "code",
   "execution_count": 133,
   "metadata": {},
   "outputs": [
    {
     "data": {
      "text/plain": [
       "0"
      ]
     },
     "execution_count": 133,
     "metadata": {},
     "output_type": "execute_result"
    }
   ],
   "source": [
    "K= (\"원영원영은비은비은비은비채연 채연\")\n",
    "k.count('원영')\n"
   ]
  },
  {
   "cell_type": "code",
   "execution_count": 138,
   "metadata": {},
   "outputs": [
    {
     "name": "stdout",
     "output_type": "stream",
     "text": [
      "4000\n"
     ]
    }
   ],
   "source": [
    "print(str(list(range(10001))).count('8'))"
   ]
  },
  {
   "cell_type": "code",
   "execution_count": 145,
   "metadata": {},
   "outputs": [
    {
     "ename": "ValueError",
     "evalue": "empty separator",
     "output_type": "error",
     "traceback": [
      "\u001b[1;31m---------------------------------------------------------------------------\u001b[0m",
      "\u001b[1;31mValueError\u001b[0m                                Traceback (most recent call last)",
      "\u001b[1;32m<ipython-input-145-eb78de0cfc70>\u001b[0m in \u001b[0;36m<module>\u001b[1;34m\u001b[0m\n\u001b[0;32m      1\u001b[0m \u001b[0ms\u001b[0m \u001b[1;33m=\u001b[0m \u001b[1;34m'97 86 75 66 55 97 85 97 97 95'\u001b[0m\u001b[1;33m\u001b[0m\u001b[1;33m\u001b[0m\u001b[0m\n\u001b[1;32m----> 2\u001b[1;33m \u001b[0ml\u001b[0m\u001b[1;33m=\u001b[0m \u001b[0ms\u001b[0m\u001b[1;33m.\u001b[0m\u001b[0msplit\u001b[0m\u001b[1;33m(\u001b[0m\u001b[1;34m''\u001b[0m\u001b[1;33m)\u001b[0m\u001b[1;33m\u001b[0m\u001b[1;33m\u001b[0m\u001b[0m\n\u001b[0m\u001b[0;32m      3\u001b[0m \u001b[0mll\u001b[0m \u001b[1;33m=\u001b[0m \u001b[1;33m[\u001b[0m\u001b[1;33m]\u001b[0m\u001b[1;33m\u001b[0m\u001b[1;33m\u001b[0m\u001b[0m\n\u001b[0;32m      4\u001b[0m \u001b[1;32mfor\u001b[0m \u001b[0mi\u001b[0m \u001b[1;32min\u001b[0m \u001b[0mrange\u001b[0m\u001b[1;33m(\u001b[0m\u001b[1;36m3\u001b[0m\u001b[1;33m)\u001b[0m\u001b[1;33m:\u001b[0m\u001b[1;33m\u001b[0m\u001b[1;33m\u001b[0m\u001b[0m\n\u001b[0;32m      5\u001b[0m     \u001b[1;32mfor\u001b[0m \u001b[0mi\u001b[0m \u001b[1;32min\u001b[0m \u001b[0mrange\u001b[0m\u001b[1;33m(\u001b[0m\u001b[0ml\u001b[0m\u001b[1;33m.\u001b[0m\u001b[0mcount\u001b[0m\u001b[1;33m(\u001b[0m\u001b[0mmax\u001b[0m\u001b[1;33m(\u001b[0m\u001b[0ml\u001b[0m\u001b[1;33m)\u001b[0m\u001b[1;33m)\u001b[0m\u001b[1;33m)\u001b[0m\u001b[1;33m:\u001b[0m\u001b[1;33m\u001b[0m\u001b[1;33m\u001b[0m\u001b[0m\n",
      "\u001b[1;31mValueError\u001b[0m: empty separator"
     ]
    }
   ],
   "source": [
    "s = '97 86 75 66 55 97 85 97 97 95'\n",
    "l= s.split('')\n",
    "ll = []\n",
    "for i in range(3):\n",
    "    for i in range(l.count(max(l))):\n",
    "        ll.append(max(l))\n",
    "        l.remove(max(l))\n",
    "print(ll)\n",
    "print(len(ll))"
   ]
  },
  {
   "cell_type": "code",
   "execution_count": null,
   "metadata": {},
   "outputs": [],
   "source": []
  }
 ],
 "metadata": {
  "kernelspec": {
   "display_name": "Python 3",
   "language": "python",
   "name": "python3"
  },
  "language_info": {
   "codemirror_mode": {
    "name": "ipython",
    "version": 3
   },
   "file_extension": ".py",
   "mimetype": "text/x-python",
   "name": "python",
   "nbconvert_exporter": "python",
   "pygments_lexer": "ipython3",
   "version": "3.7.4"
  }
 },
 "nbformat": 4,
 "nbformat_minor": 2
}
