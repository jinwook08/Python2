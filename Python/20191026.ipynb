{
 "cells": [
  {
   "cell_type": "code",
   "execution_count": null,
   "metadata": {},
   "outputs": [],
   "source": [
    "##40\n",
    "\n",
    "limt= int(input())\n",
    "friend= int(input())\n",
    "count = 0\n",
    "\n",
    "\n",
    "for i in range(friend)\n",
    "    if limit<= 50:\n",
    "    "
   ]
  },
  {
   "cell_type": "code",
   "execution_count": null,
   "metadata": {},
   "outputs": [],
   "source": [
    "lim = int(input())\n",
    "n = int(input())\n",
    "f  = []\n",
    "for i in range (n):\n",
    "    f.append(int(input()))\n",
    "print(f)\n",
    "\n",
    "total = 0\n",
    "for i in f:\n",
    "    if total +i <= im:\n",
    "    \n",
    "        total+= i\n",
    "        count+=1\n",
    "print(count)\n"
   ]
  },
  {
   "cell_type": "markdown",
   "metadata": {},
   "source": []
  },
  {
   "cell_type": "code",
   "execution_count": null,
   "metadata": {},
   "outputs": [],
   "source": [
    "lim = int(input())\n",
    "n = int(input())\n",
    "total = 0\n",
    "count = 0\n",
    "\n",
    "for i in range (n):\n",
    "    f = int(input())\n",
    "    if total+f <= lim:\n",
    "        total+=f\n",
    "        count +=1\n",
    "print(count)\n"
   ]
  },
  {
   "cell_type": "code",
   "execution_count": null,
   "metadata": {},
   "outputs": [],
   "source": [
    "#소수판별 41\n",
    "n = input()\n",
    "a = 2\n",
    "while True:\n",
    "    if n % a == 0:\n",
    "        break\n",
    "    else :\n",
    "        "
   ]
  },
  {
   "cell_type": "code",
   "execution_count": null,
   "metadata": {},
   "outputs": [],
   "source": [
    "def sol(n):\n",
    "    i = 2\n",
    "    while i<n:\n",
    "        if n%i == 0:\n",
    "            break\n",
    "        i+=1\n",
    "    if i == n:\n",
    "        print('YES')\n",
    "    else:\n",
    "        pritn('NO')"
   ]
  },
  {
   "cell_type": "code",
   "execution_count": null,
   "metadata": {},
   "outputs": [],
   "source": [
    "import calendar\n",
    "print(calendar.calendar(2020))"
   ]
  },
  {
   "cell_type": "code",
   "execution_count": null,
   "metadata": {},
   "outputs": [],
   "source": [
    "#날짜 구하기\n",
    "\n",
    "\n",
    "import datetime\n",
    "\n",
    "m = int(input())\n",
    "n = int(input())\n",
    "def 날짜(a,b):\n",
    "    c = ['MON', 'TUE', 'WED', 'THU', 'FRI', 'SAT','SUN']\n",
    "    return c[datetime.date(2020,a,b).weekday()]\n",
    "\n",
    "print(날짜(m,n))\n"
   ]
  },
  {
   "cell_type": "code",
   "execution_count": null,
   "metadata": {},
   "outputs": [],
   "source": [
    "b = int(input())\n",
    "a =[]\n",
    "\n",
    "while b:\n",
    "    a.append(b%2)\n",
    "    b=int()\n",
    "   \n",
    "\n",
    "    .reverse()\n",
    "print()\n"
   ]
  },
  {
   "cell_type": "code",
   "execution_count": null,
   "metadata": {},
   "outputs": [],
   "source": [
    "n = int(input())\n",
    "b = []\n",
    "\n",
    "while n:\n",
    "    b.append(str(n%2))\n",
    "    n = int(n/2)\n",
    "b.reverse()\n",
    "             \n",
    "             \n",
    "print(' '.join(b))"
   ]
  },
  {
   "cell_type": "code",
   "execution_count": 2,
   "metadata": {},
   "outputs": [
    {
     "name": "stdout",
     "output_type": "stream",
     "text": [
      "1\n",
      "1\n",
      "0b1 + 0b1\n"
     ]
    }
   ],
   "source": [
    "n = int(input())\n",
    "a = int(input())\n",
    "\n",
    "print(bin(a),'+',bin(n))"
   ]
  },
  {
   "cell_type": "code",
   "execution_count": 6,
   "metadata": {},
   "outputs": [
    {
     "name": "stdout",
     "output_type": "stream",
     "text": [
      "1233\n",
      "1\n",
      "3\n",
      "6\n",
      "9\n"
     ]
    }
   ],
   "source": [
    "a = list(input())\n",
    "out = 0\n",
    "\n",
    "for i in a:\n",
    "    out +=int(i)\n",
    "    \n",
    "    print(out)\n",
    "    "
   ]
  },
  {
   "cell_type": "code",
   "execution_count": 7,
   "metadata": {},
   "outputs": [
    {
     "name": "stdout",
     "output_type": "stream",
     "text": [
      "1234\n"
     ]
    }
   ],
   "source": [
    "n = input()\n",
    "total = 0\n",
    "for i in n:\n",
    "    total += int(i)\n",
    "    \n",
    "    "
   ]
  },
  {
   "cell_type": "code",
   "execution_count": 9,
   "metadata": {},
   "outputs": [
    {
     "name": "stdout",
     "output_type": "stream",
     "text": [
      "1234\n",
      "10\n"
     ]
    }
   ],
   "source": [
    "#진행형 리스트\n",
    "\n",
    "n = list(input())\n",
    "print(sum([int(i) for i in n]))"
   ]
  },
  {
   "cell_type": "code",
   "execution_count": 11,
   "metadata": {},
   "outputs": [
    {
     "data": {
      "text/plain": [
       "1572077590.4955773"
      ]
     },
     "execution_count": 11,
     "metadata": {},
     "output_type": "execute_result"
    }
   ],
   "source": [
    "import time\n",
    "time.time()"
   ]
  },
  {
   "cell_type": "code",
   "execution_count": 14,
   "metadata": {},
   "outputs": [
    {
     "name": "stdout",
     "output_type": "stream",
     "text": [
      "120\n"
     ]
    }
   ],
   "source": [
    "a = 0\n",
    "for i in list(range(1,21)):\n",
    "    a += int(i)\n",
    "    \n",
    "print(a)\n"
   ]
  },
  {
   "cell_type": "code",
   "execution_count": 25,
   "metadata": {},
   "outputs": [
    {
     "name": "stdout",
     "output_type": "stream",
     "text": [
      "21\n"
     ]
    }
   ],
   "source": [
    "#46\n",
    "\n",
    "# for i in range(15):\n",
    "#     f.append(str(i))\n",
    "\n",
    "\n",
    "f= ''.join([str(i) for i in range(10,16)])\n",
    "\n",
    "total = 0\n",
    "f=''.join(f)\n",
    "for i in f:\n",
    "    total += int(i)\n",
    "print(total)\n"
   ]
  },
  {
   "cell_type": "code",
   "execution_count": 31,
   "metadata": {},
   "outputs": [
    {
     "name": "stdout",
     "output_type": "stream",
     "text": [
      "{('이준호', '01050342904'), ('이호상', '01051442904'), ('이호', '01050443904'), ('이호준', '01050442903'), ('이준', '01050412904')}\n"
     ]
    },
    {
     "data": {
      "text/plain": [
       "5"
      ]
     },
     "execution_count": 31,
     "metadata": {},
     "output_type": "execute_result"
    }
   ],
   "source": [
    "people = [\n",
    "         ('이호준', '01050442903'),\n",
    "         ('이호상', '01051442904'),\n",
    "         ('이준호', '01050342904'),\n",
    "         ('이호준', '01050442903'),\n",
    "         ('이준', '01050412904'),\n",
    "         ('이호', '01050443904'),\n",
    "         ('이호준', '01050442903'),\n",
    "         ]\n",
    "\n",
    "print(set(people))\n",
    "\n",
    "len(set(people))"
   ]
  },
  {
   "cell_type": "code",
   "execution_count": 34,
   "metadata": {},
   "outputs": [
    {
     "name": "stdout",
     "output_type": "stream",
     "text": [
      "aaabbbCCCDDD\n"
     ]
    }
   ],
   "source": [
    "a = 'AAABBBcccddd'\n",
    "b = []\n",
    "\n",
    "for i in a:\n",
    "    if i.islower():\n",
    "        b.append(i.upper())\n",
    "    else:\n",
    "        b.append(i.lower())\n",
    "        \n",
    "print(''.join(b))\n",
    "\n"
   ]
  },
  {
   "cell_type": "code",
   "execution_count": 35,
   "metadata": {},
   "outputs": [],
   "source": [
    "a = '10 9 8 7 6 5 4 3 2 1'"
   ]
  },
  {
   "cell_type": "code",
   "execution_count": 36,
   "metadata": {},
   "outputs": [
    {
     "ename": "SyntaxError",
     "evalue": "invalid syntax (<ipython-input-36-dd3a76faeb13>, line 8)",
     "output_type": "error",
     "traceback": [
      "\u001b[1;36m  File \u001b[1;32m\"<ipython-input-36-dd3a76faeb13>\"\u001b[1;36m, line \u001b[1;32m8\u001b[0m\n\u001b[1;33m    빈칸을 채워주세요\u001b[0m\n\u001b[1;37m            ^\u001b[0m\n\u001b[1;31mSyntaxError\u001b[0m\u001b[1;31m:\u001b[0m invalid syntax\n"
     ]
    }
   ],
   "source": [
    "#버블정렬\n",
    "\n",
    "\n",
    "def bubble(n, data):\n",
    "\tfor i in range(n-1):\n",
    "\t\tfor j in range(n-i-1):\n",
    "\t\t\tif data[j] > data[j+1]:\n",
    "\t\t\t\t빈칸을 채워주세요\n",
    "\tfor i in range(n):\n",
    "\t\tprint(data[i], end = \" \")\n",
    "\n",
    "n = int(input())\n",
    "data = list(map(int, input().split()))\n",
    "\n",
    "bubble(n, data)"
   ]
  },
  {
   "cell_type": "code",
   "execution_count": 47,
   "metadata": {},
   "outputs": [
    {
     "name": "stdout",
     "output_type": "stream",
     "text": [
      "4432433 44 3333 22 1\n",
      "['1', '22', '3333', '44', '4432433']\n"
     ]
    }
   ],
   "source": [
    "def 병합정렬(입력리스트):\n",
    "    입력리스트길이 = len(입력리스트)\n",
    "    if 입력리스트길이 <= 1:\n",
    "        return 입력리스트\n",
    "    중간값 = 입력리스트길이 // 2\n",
    "    그룹_하나 = 병합정렬(입력리스트[:중간값])\n",
    "    그룹_둘 = 병합정렬(입력리스트[중간값:])\n",
    "    결과값 = []\n",
    "\n",
    "    while (그룹_하나) and (그룹_둘) :\n",
    "        if (그룹_하나[0]< 그룹_둘[0]):\n",
    "            결과값.append(그룹_하나.pop(0))\n",
    "        else:\n",
    "            결과값.append(그룹_둘.pop(0))\n",
    "\n",
    "    while 그룹_하나:\n",
    "        결과값.append(그룹_하나.pop(0))\n",
    "    while 그룹_둘:\n",
    "        결과값.append(그룹_둘.pop(0))\n",
    "    return 결과값\n",
    "\n",
    "주어진리스트 = input().split(' ')\n",
    "주어진리스트 = [i for i in 주어진리스트]\n",
    "\n",
    "print(병합정렬(주어진리스트))"
   ]
  }
 ],
 "metadata": {
  "kernelspec": {
   "display_name": "Python 3",
   "language": "python",
   "name": "python3"
  },
  "language_info": {
   "codemirror_mode": {
    "name": "ipython",
    "version": 3
   },
   "file_extension": ".py",
   "mimetype": "text/x-python",
   "name": "python",
   "nbconvert_exporter": "python",
   "pygments_lexer": "ipython3",
   "version": "3.7.4"
  }
 },
 "nbformat": 4,
 "nbformat_minor": 2
}
