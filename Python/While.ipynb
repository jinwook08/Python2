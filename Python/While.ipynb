{
 "cells": [
  {
   "cell_type": "code",
   "execution_count": null,
   "metadata": {},
   "outputs": [],
   "source": [
    "# while문은 조건문이 참인 동안 계속해서 while문 안의 내용을 반복적으로 수행한다.\n",
    "\n",
    "prompt = '''\n",
    "1.Add\n",
    "2.Del\n",
    "3.List\n",
    "4.Quite\n",
    "\n",
    "Enter number:'''\n",
    "\n",
    "number = 0\n",
    "while number !=4 :\n",
    "    print(prompt)\n",
    "    number = int(input())"
   ]
  },
  {
   "cell_type": "code",
   "execution_count": null,
   "metadata": {
    "scrolled": true
   },
   "outputs": [],
   "source": [
    "# 강제로 while문 빠져나가기\n",
    "\n",
    "coffee = 10\n",
    "money = 300\n",
    "while money:\n",
    "    print('돈을 받았으니 커피를 줘')\n",
    "    coffee = coffee -1\n",
    "    print('남은 커피의 양은 %d 개입니다.' % coffee)\n",
    "    if coffee == 0:\n",
    "        print('커피 sold out')\n",
    "        break\n",
    "        "
   ]
  },
  {
   "cell_type": "code",
   "execution_count": null,
   "metadata": {},
   "outputs": [],
   "source": []
  },
  {
   "cell_type": "code",
   "execution_count": null,
   "metadata": {},
   "outputs": [],
   "source": [
    "coffee = 20\n",
    "while True:\n",
    "    money = int(input('돈을 넣어 주세요:'))\n",
    "    if money == 600:\n",
    "        print('커피를 줍니다. ')\n",
    "        coffee = coffee - 1\n",
    "    elif money >600:\n",
    "        print('거스름돈 %d를 주고 커피를 줍니다.' % (money - 600))\n",
    "        coffee = coffee - 1\n",
    "    else:\n",
    "        print('돈이 부족합니다.')\n",
    "    if coffee == 0:\n",
    "        print('sold out')\n",
    "        break\n",
    "        "
   ]
  },
  {
   "cell_type": "code",
   "execution_count": null,
   "metadata": {},
   "outputs": [],
   "source": [
    "a = 40\n",
    "while a> 10:\n",
    "    a = a-1\n",
    "    if a  == 40: continue\n",
    "    print(a)\n",
    "    "
   ]
  },
  {
   "cell_type": "code",
   "execution_count": null,
   "metadata": {},
   "outputs": [],
   "source": [
    "a = 0\n",
    "while a < 10:\n",
    "    a = a + 1\n",
    "    if a % 2 == 0: continue   # 2로 나누었을때 0이 나오면 다시 처음으로 돌아간다. \n",
    "                            #즉 print(a) 까지 가지 않으므로 출력이 안됨.\n",
    "    print(a)\n",
    "    \n"
   ]
  },
  {
   "cell_type": "code",
   "execution_count": 2,
   "metadata": {},
   "outputs": [
    {
     "name": "stdout",
     "output_type": "stream",
     "text": [
      "1\n",
      "3\n",
      "5\n",
      "7\n",
      "9\n"
     ]
    }
   ],
   "source": [
    "a = 0\n",
    "while a < 10:\n",
    "    a = a + 1\n",
    "    if a % 2 == 0: continue  \n",
    "                           \n",
    "    print(a)\n",
    "    \n",
    "# 2로 나누었을때 0이 나오면 다시 처음으로 돌아간다. \n",
    "    #즉 print(a) 까지 가지 않으므로 출력이 안됨."
   ]
  },
  {
   "cell_type": "code",
   "execution_count": null,
   "metadata": {},
   "outputs": [],
   "source": []
  },
  {
   "cell_type": "code",
   "execution_count": null,
   "metadata": {},
   "outputs": [],
   "source": []
  },
  {
   "cell_type": "code",
   "execution_count": null,
   "metadata": {},
   "outputs": [],
   "source": []
  },
  {
   "cell_type": "code",
   "execution_count": null,
   "metadata": {},
   "outputs": [],
   "source": []
  },
  {
   "cell_type": "code",
   "execution_count": null,
   "metadata": {},
   "outputs": [],
   "source": []
  },
  {
   "cell_type": "code",
   "execution_count": null,
   "metadata": {},
   "outputs": [],
   "source": []
  }
 ],
 "metadata": {
  "kernelspec": {
   "display_name": "Python 3",
   "language": "python",
   "name": "python3"
  },
  "language_info": {
   "codemirror_mode": {
    "name": "ipython",
    "version": 3
   },
   "file_extension": ".py",
   "mimetype": "text/x-python",
   "name": "python",
   "nbconvert_exporter": "python",
   "pygments_lexer": "ipython3",
   "version": "3.7.4"
  }
 },
 "nbformat": 4,
 "nbformat_minor": 2
}
