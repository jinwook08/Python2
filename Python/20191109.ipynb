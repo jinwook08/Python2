{
 "cells": [
  {
   "cell_type": "code",
   "execution_count": 1,
   "metadata": {},
   "outputs": [],
   "source": [
    "#최우선 탐색은 너비우선 탐색으로 찾는다. \n",
    "#포트폴리오를 작성하여 어떤걸 만들었는지 뭘 공부했는지 작성하여 놓자 하루하루 한거.\n"
   ]
  },
  {
   "cell_type": "code",
   "execution_count": 2,
   "metadata": {},
   "outputs": [],
   "source": [
    "#71번 문제 풀고 연습하기\n"
   ]
  },
  {
   "cell_type": "code",
   "execution_count": 6,
   "metadata": {},
   "outputs": [
    {
     "name": "stdout",
     "output_type": "stream",
     "text": [
      "string1: asd\n",
      "string2: asdd\n",
      "\n",
      "2\n",
      "'sd'\n"
     ]
    }
   ],
   "source": [
    "def set_str_array(s):\n",
    "    return {s[i:j] for i in range(len(s)) for j in range(i, len(s)+1)}\n",
    "\n",
    "\n",
    "in1 = input(\"string1: \")\n",
    "in2 = input(\"string2: \")\n",
    "\n",
    "result = max(set_str_array(in1) & set_str_array(in2))\n",
    "\n",
    "print(\"\\n%d\\n'%s'\" % (len(result), result))"
   ]
  },
  {
   "cell_type": "code",
   "execution_count": null,
   "metadata": {},
   "outputs": [],
   "source": [
    "\n",
    "from itertools import combinations\n",
    "\n",
    "import itertools\n",
    "\n",
    "user_input = input().split(',')\n",
    "user_input_int = int(input())\n",
    "\n",
    "\n",
    "print(list(map(''.join, combinations(user_input, user_input_int))))"
   ]
  },
  {
   "cell_type": "code",
   "execution_count": null,
   "metadata": {},
   "outputs": [],
   "source": []
  },
  {
   "cell_type": "code",
   "execution_count": null,
   "metadata": {},
   "outputs": [],
   "source": [
    "from itertools import permutations\n",
    "\n",
    "import itertools\n",
    "\n",
    "user_input = input().split(',')\n",
    "user_input_int = int(input())\n",
    "\n",
    "#print(list(itertools.combinations(a, 3)))\n",
    "\n",
    "print(list(map(''.join, combinations(user_input, user_input_int))))\n"
   ]
  },
  {
   "cell_type": "code",
   "execution_count": null,
   "metadata": {},
   "outputs": [],
   "source": []
  },
  {
   "cell_type": "code",
   "execution_count": null,
   "metadata": {},
   "outputs": [],
   "source": []
  }
 ],
 "metadata": {
  "kernelspec": {
   "display_name": "Python 3",
   "language": "python",
   "name": "python3"
  },
  "language_info": {
   "codemirror_mode": {
    "name": "ipython",
    "version": 3
   },
   "file_extension": ".py",
   "mimetype": "text/x-python",
   "name": "python",
   "nbconvert_exporter": "python",
   "pygments_lexer": "ipython3",
   "version": "3.7.4"
  }
 },
 "nbformat": 4,
 "nbformat_minor": 2
}
