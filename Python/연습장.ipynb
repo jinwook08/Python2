{
 "cells": [
  {
   "cell_type": "code",
   "execution_count": 18,
   "metadata": {},
   "outputs": [
    {
     "name": "stdout",
     "output_type": "stream",
     "text": [
      "<class 'str'>\n",
      "Jin Woo\n",
      "\n",
      "\n",
      "kooW ni\n",
      "ahc kooW niJ\n",
      "Jin Wook cha\n",
      "['__add__', '__class__', '__contains__', '__delattr__', '__dir__', '__doc__', '__eq__', '__format__', '__ge__', '__getattribute__', '__getitem__', '__getnewargs__', '__gt__', '__hash__', '__init__', '__init_subclass__', '__iter__', '__le__', '__len__', '__lt__', '__mod__', '__mul__', '__ne__', '__new__', '__reduce__', '__reduce_ex__', '__repr__', '__rmod__', '__rmul__', '__setattr__', '__sizeof__', '__str__', '__subclasshook__', 'capitalize', 'casefold', 'center', 'count', 'encode', 'endswith', 'expandtabs', 'find', 'format', 'format_map', 'index', 'isalnum', 'isalpha', 'isascii', 'isdecimal', 'isdigit', 'isidentifier', 'islower', 'isnumeric', 'isprintable', 'isspace', 'istitle', 'isupper', 'join', 'ljust', 'lower', 'lstrip', 'maketrans', 'partition', 'replace', 'rfind', 'rindex', 'rjust', 'rpartition', 'rsplit', 'rstrip', 'split', 'splitlines', 'startswith', 'strip', 'swapcase', 'title', 'translate', 'upper', 'zfill']\n",
      "JIN WOOK CHA\n",
      "jin wook cha\n",
      "jinwook\n",
      "jinwook             \n",
      "                     jinwook\n",
      "                     jinwook             \n",
      "Jin!Wook!cha\n",
      "제 이름은 26입니다. 제 나이는 차진욱입니다..\n"
     ]
    }
   ],
   "source": [
    "s = 'Jin Wook cha'\n",
    "print(type(s))\n",
    "print(s[0:7])\n",
    "print(s[7:0])\n",
    "print(s[0:7:-1])\n",
    "print(s[7:0:-1])\n",
    "print(s[::-1])\n",
    "print(s[::1])\n",
    "print(dir(s))\n",
    "\n",
    "\n",
    "print(s.upper())\n",
    "print(s.lower())\n",
    "s.count('i')\n",
    "ss = '                     jinwook             '\n",
    "print(ss.strip())\n",
    "print(ss.lstrip())\n",
    "print(ss.rstrip())\n",
    "print(ss)\n",
    "a = s.split(' ') \n",
    "print('!'.join(a))\n",
    "print('제 이름은 {1}입니다. 제 나이는 {0}입니다..'.format('차진욱', 26) )"
   ]
  },
  {
   "cell_type": "code",
   "execution_count": 29,
   "metadata": {},
   "outputs": [
    {
     "name": "stdout",
     "output_type": "stream",
     "text": [
      "2019/9/24 2019 9 24\n"
     ]
    }
   ],
   "source": [
    "a= 2019\n",
    "b= 9\n",
    "c= 24\n",
    "# 2019/9/24\n",
    "print(a, b, c, sep = '/', end =' ')\n",
    "print(a, b, c)"
   ]
  },
  {
   "cell_type": "code",
   "execution_count": 30,
   "metadata": {},
   "outputs": [
    {
     "name": "stdout",
     "output_type": "stream",
     "text": [
      "1010\n"
     ]
    }
   ],
   "source": [
    "a=10\n",
    "b='10'\n",
    "print(str(a)+b)"
   ]
  }
 ],
 "metadata": {
  "kernelspec": {
   "display_name": "Python 3",
   "language": "python",
   "name": "python3"
  },
  "language_info": {
   "codemirror_mode": {
    "name": "ipython",
    "version": 3
   },
   "file_extension": ".py",
   "mimetype": "text/x-python",
   "name": "python",
   "nbconvert_exporter": "python",
   "pygments_lexer": "ipython3",
   "version": "3.7.4"
  }
 },
 "nbformat": 4,
 "nbformat_minor": 2
}
