{
 "cells": [
  {
   "cell_type": "code",
   "execution_count": 8,
   "metadata": {},
   "outputs": [],
   "source": [
    "# flask \n",
    "import flask # 웹서버 기능      5000번 포트로 서비스를 하는게 디폴트 값\n"
   ]
  },
  {
   "cell_type": "code",
   "execution_count": 10,
   "metadata": {},
   "outputs": [
    {
     "name": "stdout",
     "output_type": "stream",
     "text": [
      "1.16.5\n",
      "type:<class 'numpy.ndarray'>\n",
      "shape:(3,), dimention:1, dtype:float64\n",
      "Array's Data :\n",
      " [1. 2. 3.]\n"
     ]
    }
   ],
   "source": [
    "#numpy 시작\n",
    "\n",
    "import matplotlib    # 시각화 패키지\n",
    "import numpy as np      # 별칭 class\n",
    "print( np.__version__)          #상위 오브젝트가 가진 속성\n",
    "def pprint(arr):            # ndarray : 넘파이의 기본 데이터 배열\n",
    "    print(\"type:{}\".format(type(arr)))     \n",
    "    print(\"shape:{}, dimention:{}, dtype:{}\".format(arr.shape, arr.ndim, arr.dtype))          \n",
    "    print(\"Array's Data :\\n\", arr)\n",
    "    # 숫자의 디폴트는 int 32 형이다 \n",
    "arr = [1.0,2.0,3.0]       # 리스트 \n",
    "a = np.array([1.0,2.0,3.0])           #ndarray 생성함수 ( 매개변수: 리스트)\n",
    "pprint(a)"
   ]
  },
  {
   "cell_type": "code",
   "execution_count": 15,
   "metadata": {},
   "outputs": [
    {
     "name": "stdout",
     "output_type": "stream",
     "text": [
      "2415306376176\n",
      "10\n",
      "[0. 1. 2. 3. 4. 5. 6. 7. 8. 9.]\n",
      "40\n"
     ]
    },
    {
     "data": {
      "text/plain": [
       "array([ 0,  1,  2,  3,  4,  5,  6,  7,  8,  9, 10, 11, 12, 13, 14, 15, 16,\n",
       "       17, 18, 19, 20, 21, 22, 23, 24, 25, 26, 27, 28, 29, 30, 31, 32, 33,\n",
       "       34, 35, 36, 37, 38, 39, 40, 41, 42, 43, 44, 45, 46, 47, 48, 49, 50,\n",
       "       51, 52, 53, 54, 55, 56, 57, 58, 59, 60, 61, 62, 63, 64, 65, 66, 67,\n",
       "       68, 69, 70, 71, 72, 73, 74, 75, 76, 77, 78, 79, 80, 81, 82, 83, 84,\n",
       "       85, 86, 87, 88, 89, 90, 91, 92, 93, 94, 95, 96, 97, 98, 99])"
      ]
     },
     "execution_count": 15,
     "metadata": {},
     "output_type": "execute_result"
    }
   ],
   "source": [
    "# 인스턴스상태가 되어진다. \n",
    "a= np.array([0,1,2,3,4,5,6,7,8,9])   # ndarray 상태\n",
    "print(id(a))                           # python core 주소값 확인\n",
    "print(a.size)                                 # 데이터 개수\n",
    "print(a.astype(np.float32))                      # 데이터 타입 변경, numpy 는 행중심 , 데이터는 동질적\n",
    "print(a.dtype.itemsize * a.size)                      #  전체 메모리 사이즈 (바이트로)\n",
    "# iterator for in range문을 사용하면 리스트를 만든다\n",
    "# arange 를 사용하면 ndarray를 만든다\n",
    "a = np.arange(100)\n",
    "a"
   ]
  },
  {
   "cell_type": "code",
   "execution_count": 17,
   "metadata": {},
   "outputs": [
    {
     "name": "stdout",
     "output_type": "stream",
     "text": [
      "[[0. 0. 0. 0.]\n",
      " [0. 0. 0. 0.]\n",
      " [0. 0. 0. 0.]]\n",
      "[[[1 1 1 1]\n",
      "  [1 1 1 1]\n",
      "  [1 1 1 1]]\n",
      "\n",
      " [[1 1 1 1]\n",
      "  [1 1 1 1]\n",
      "  [1 1 1 1]]]\n",
      "[[7 7]\n",
      " [7 7]]\n",
      "[[1. 0. 0. 0.]\n",
      " [0. 1. 0. 0.]\n",
      " [0. 0. 1. 0.]\n",
      " [0. 0. 0. 1.]]\n",
      "[[0.00000000e+000 0.00000000e+000]\n",
      " [0.00000000e+000 0.00000000e+000]\n",
      " [0.00000000e+000 7.07502005e-321]\n",
      " [1.24611741e-306 1.11261027e-306]]\n"
     ]
    }
   ],
   "source": [
    "## ndarray 초기화 함수들 \n",
    "\n",
    "print(np.zeros((3,4)))\n",
    "print(np.ones((2,3,4),dtype = np.int16))      #데이터 타입을 지정해줄수 있습니다. (면, 행, 열)\n",
    "print(np.full((2,2),7))\n",
    "print(np.eye(4))      # 대각 행렬  identity  # 행렬연산에서의 항등원\n",
    "print(np.empty((4,2)))   # 쓰레기 값이 나온다. # 주소값을 지우고 남은것임. "
   ]
  },
  {
   "cell_type": "code",
   "execution_count": 18,
   "metadata": {},
   "outputs": [
    {
     "name": "stdout",
     "output_type": "stream",
     "text": [
      "[1, 5, -1]\n",
      "[ 0 10 20 30 40 50 60 70 80 90]\n",
      "[10 50 90]\n"
     ]
    }
   ],
   "source": [
    "a = np.arange(0,100,10)        # ndarray \n",
    "indices = [1,5,-1]             # 리스트 \n",
    "print(indices)\n",
    "b = a[indices]                  #리스트를 첨자로 사용한다. \n",
    "print(a)\n",
    "print(b)\n"
   ]
  },
  {
   "cell_type": "code",
   "execution_count": 27,
   "metadata": {},
   "outputs": [
    {
     "name": "stdout",
     "output_type": "stream",
     "text": [
      "[11 12 13 14 15 16 17 18 19 20 21 22 23 24 25 26 27 28 29 30 31 32 33 34\n",
      " 35]\n",
      "[[11 12 13 14 15]\n",
      " [16 17 18 19 20]\n",
      " [21 22 23 24 25]\n",
      " [26 27 28 29 30]\n",
      " [31 32 33 34 35]]\n",
      "<class 'numpy.ndarray'>\n",
      "int32\n",
      "25\n",
      "(5, 5)\n",
      "2\n",
      "100\n",
      "(20, 4)\n"
     ]
    }
   ],
   "source": [
    "a = np.arange(11,36)         #여기서 1차원으로 만들어진다 \n",
    "print(a)                   \n",
    "a.shape = (5,5)                   # 이걸 5,5행으로 만들어 줘라 하고 실행 시킴\n",
    "print(a)                                # 1차원 배열의 개수가 행렬의 정상 모양을 갖추도록 해줘야한다. \n",
    "print(type(a))\n",
    "print(a.dtype)\n",
    "print(a.size)\n",
    "print(a.shape)\n",
    "print(a.ndim)\n",
    "#dir(a)\n",
    "print(a.nbytes)                # 100바이트 25 * 4\n",
    "print(a.strides)             # (20,4) 다음열의 데이터는 몇 바이트를 건너 뛰어야 하는가. \n",
    "                            # 다음 행은 몇 바이트를 건너뛰어야 하는가?  한 행에 5개의 숫자 이므로 4*5를 사용 즉 20 바이트 \n",
    "                                # 넘파이에서는 메모리에 행으로 즉 일렬로 쭉 저장되어 있기 때문에 사용"
   ]
  },
  {
   "cell_type": "code",
   "execution_count": 29,
   "metadata": {},
   "outputs": [
    {
     "name": "stdout",
     "output_type": "stream",
     "text": [
      "<class 'numpy.ndarray'>\n",
      "[0 1 2 3 4 5 6 7 8 9]\n",
      "5\n",
      "[5 6 7]\n",
      "[ 1  2  3  4 12]\n"
     ]
    }
   ],
   "source": [
    "arr = np.arange(10)\n",
    "print(type(arr))\n",
    "print(arr)\n",
    "print(arr[5])\n",
    "print(arr[5:8]) # 마지막 불포함  \n",
    "arr[5:8]= 12          # 데이터 update\n",
    "print(arr[1:6])"
   ]
  },
  {
   "cell_type": "code",
   "execution_count": 31,
   "metadata": {},
   "outputs": [
    {
     "name": "stdout",
     "output_type": "stream",
     "text": [
      "[1 2 3]\n",
      "3\n",
      "3\n",
      "[[1 2 3]\n",
      " [4 5 6]]\n",
      "[[2 3]\n",
      " [5 6]]\n",
      "[4 5]\n",
      "[7]\n",
      "[[0 2 3]\n",
      " [0 5 6]\n",
      " [7 8 9]]\n"
     ]
    }
   ],
   "source": [
    "#numpy 첨자 생략이 불가 [,4]\n",
    "\n",
    "arr2d = np.array([[1,2,3],[4,5,6],[7,8,9]])\n",
    "print(arr2d[0])      # 행우선 이므로 첫번째 행이 온다 \n",
    "print(arr2d[0][2])         \n",
    "print(arr2d[0,2])\n",
    "print(arr2d[:2])\n",
    "print(arr2d[:2,1:])\n",
    "print(arr2d[1,:2])\n",
    "print(arr2d[2, :1])\n",
    "arr2d[:2,:1 ] = 0\n",
    "arr2d[:2,:1] = 0\n",
    "print(arr2d)\n"
   ]
  },
  {
   "cell_type": "code",
   "execution_count": 33,
   "metadata": {},
   "outputs": [
    {
     "name": "stdout",
     "output_type": "stream",
     "text": [
      "스트라이드의 값 (160, 40, 8)\n"
     ]
    }
   ],
   "source": [
    "# 실제 저장은 일렬로 사람이 데이터를 다루는 것은 입체로 \n",
    "# 행렬 연산에서 앞의 행렬연수와 뒤의 행렬의 행수를 일치 시켜야 행렬의 곱이 가능\n",
    "# 행렬곱에서 행렬 앞뒤로 바뀌면 안된다. \n",
    "\n",
    "print(\"스트라이드의 값\", np.ones((3,4,5), dtype = np.float64).strides)         "
   ]
  },
  {
   "cell_type": "code",
   "execution_count": 61,
   "metadata": {},
   "outputs": [
    {
     "name": "stdout",
     "output_type": "stream",
     "text": [
      "[[[ 1  2  3]\n",
      "  [ 4  5  6]]\n",
      "\n",
      " [[ 7  8  9]\n",
      "  [10 11 12]]]\n",
      "int32\n",
      "12\n",
      "(2, 2, 3)\n",
      "3\n",
      "첫면은= [[1 2 3]\n",
      " [4 5 6]]\n",
      "첫면 첫행, 첫요소는 =  1\n",
      "8\n",
      "12\n"
     ]
    }
   ],
   "source": [
    "# 문제\n",
    "arr3d = np.array([[[1,2,3], [4,5,6]], [[7,8,9], [10,11,12]]])\n",
    "print(arr3d)\n",
    "print(arr3d.dtype)\n",
    "print(arr3d.size)\n",
    "print(arr3d.shape)\n",
    "print(arr3d.ndim)\n",
    "print('첫면은=',arr3d[0])  # 0번면\n",
    "print('첫면 첫행, 첫요소는 = ', arr3d[0][0][0])\n",
    "print(arr3d[1][0][1])\n",
    "print(arr3d[1][1][2])"
   ]
  },
  {
   "cell_type": "code",
   "execution_count": 59,
   "metadata": {
    "scrolled": false
   },
   "outputs": [
    {
     "name": "stdout",
     "output_type": "stream",
     "text": [
      "값의 변경후\n",
      "[[[42 42 42]\n",
      "  [42 42 42]]\n",
      "\n",
      " [[ 7  8  9]\n",
      "  [10 11 12]]]\n",
      "이전 값으로 복구\n",
      "[[[42 42 42]\n",
      "  [42 42 42]]\n",
      "\n",
      " [[ 7  8  9]\n",
      "  [10 11 12]]]\n"
     ]
    }
   ],
   "source": [
    "old_values = arr3d    # 대입 : 주소를 복사 \n",
    "arr3d[0] = 42\n",
    "print('값의 변경후')\n",
    "print(arr3d)\n",
    "print('이전 값으로 복구')\n",
    "arr3d = old_values      ## 이전값을 가지고 백업 시켜 놓아도 주소가 같아지기 때문에 백업이 되지 않는다\n",
    "print(arr3d)             ## 그래서 copy라는 함수를 사용하여 백업을 시킨다. \n"
   ]
  },
  {
   "cell_type": "code",
   "execution_count": 62,
   "metadata": {},
   "outputs": [
    {
     "name": "stdout",
     "output_type": "stream",
     "text": [
      "값의 변경후\n",
      "[[[42 42 42]\n",
      "  [42 42 42]]\n",
      "\n",
      " [[ 7  8  9]\n",
      "  [10 11 12]]]\n",
      "이전 값으로 복구\n",
      "[[[ 1  2  3]\n",
      "  [ 4  5  6]]\n",
      "\n",
      " [[ 7  8  9]\n",
      "  [10 11 12]]]\n"
     ]
    }
   ],
   "source": [
    "old_values = arr3d.copy()    # 대입 : 주소를 복사 \n",
    "arr3d[0] = 42\n",
    "print('값의 변경후')\n",
    "print(arr3d)\n",
    "print('이전 값으로 복구')\n",
    "arr3d = old_values      ## 이전값을 가지고 백업 시켜 놓아도 주소가 같아지기 때문에 백업이 되지 않는다\n",
    "print(arr3d)   "
   ]
  },
  {
   "cell_type": "code",
   "execution_count": 66,
   "metadata": {},
   "outputs": [
    {
     "name": "stdout",
     "output_type": "stream",
     "text": [
      "[ 0  1  2  3  4  5  6  7  8  9 10 11 12 13 14 15 16 17 18 19 20 21 22 23\n",
      " 24 25 26 27 28 29 30 31 32 33 34 35]\n",
      "[[[ 0  1  2  3  4  5]\n",
      "  [ 6  7  8  9 10 11]\n",
      "  [12 13 14 15 16 17]]\n",
      "\n",
      " [[18 19 20 21 22 23]\n",
      "  [24 25 26 27 28 29]\n",
      "  [30 31 32 33 34 35]]]\n"
     ]
    }
   ],
   "source": [
    "Z = np.arange(36)\n",
    "print(Z)\n",
    "Z = Z.reshape(6,6)\n",
    "reshape2 = Z.reshape((2,3,6))\n",
    "print(reshape2)"
   ]
  },
  {
   "cell_type": "code",
   "execution_count": 14,
   "metadata": {
    "scrolled": true
   },
   "outputs": [
    {
     "name": "stdout",
     "output_type": "stream",
     "text": [
      "[[ 0  1  2  3]\n",
      " [ 4  5  6  7]\n",
      " [ 8  9 10 11]\n",
      " [12 13 14 15]\n",
      " [16 17 18 19]\n",
      " [20 21 22 23]\n",
      " [24 25 26 27]\n",
      " [28 29 30 31]]\n",
      "\n",
      "[[ 4  5  6  7]\n",
      " [20 21 22 23]\n",
      " [28 29 30 31]\n",
      " [ 8  9 10 11]]\n",
      "\n",
      "[[28 29 30 31]\n",
      " [12 13 14 15]\n",
      " [ 4  5  6  7]\n",
      " [24 25 26 27]]\n",
      "\n",
      "[ 4 23 29 10]\n",
      "\n",
      "[[ 4  5  6  7]\n",
      " [ 8  9 10 11]\n",
      " [20 21 22 23]\n",
      " [28 29 30 31]]\n",
      "\n",
      "[[ 4  7  5  6]\n",
      " [20 23 21 22]\n",
      " [28 31 29 30]\n",
      " [ 8 11  9 10]]\n"
     ]
    }
   ],
   "source": [
    "arr = np.arange(32).reshape((8,4))\n",
    "print(arr)\n",
    "print()\n",
    "print(arr[[1,5,7,2]])          ##행을 인덱싱 행중심이라 앞에는 행을 의미 \n",
    "print()\n",
    "print(arr[[-1,-5,-7,-2]])\n",
    "print()\n",
    "print(arr[[1,5,7,2],[0,3,1,2]])\n",
    "print()\n",
    "print(arr[[1,2,5,7]][:,[0,1,2,3]]) #fancy 인덱싱\n",
    "print()\n",
    "print(arr[[1,5,7,2]][:,[0,3,1,2]])"
   ]
  },
  {
   "cell_type": "code",
   "execution_count": 48,
   "metadata": {},
   "outputs": [
    {
     "name": "stdout",
     "output_type": "stream",
     "text": [
      "[[0, 1, 2, 3, 4, 5], [10, 11, 12, 13, 14, 15], [20, 21, 22, 23, 24, 25], [30, 31, 32, 33, 34, 35], [40, 41, 42, 43, 44, 45], [50, 51, 52, 53, 54, 55]]\n",
      "\n",
      "[[ 0  1  2  3  4  5]\n",
      " [10 11 12 13 14 15]\n",
      " [20 21 22 23 24 25]\n",
      " [30 31 32 33 34 35]\n",
      " [40 41 42 43 44 45]\n",
      " [50 51 52 53 54 55]]\n",
      "\n",
      "\n",
      "[ 1 12 23 34 45]\n",
      "[ 2 22 52]\n",
      "[[30 42 55]\n",
      " [30 42 55]\n",
      " [30 42 55]]\n",
      "[[30 32 35]\n",
      " [40 42 45]\n",
      " [50 52 55]]\n"
     ]
    }
   ],
   "source": [
    "# 문제 \n",
    "\n",
    "arr = []\n",
    "for i in range(6):\n",
    "    ad = []\n",
    "    for j in range(6):\n",
    "        ad.append(i*10 +j)\n",
    "    arr.append(ad)\n",
    "print(arr)\n",
    "arr = np.array(arr).reshape((6,6))\n",
    "print()\n",
    "print(arr)\n",
    "print('\\n')\n",
    "print(arr[[0,1,2,3,4],[1,2,3,4,5]])  #주황\n",
    "print(arr[[0,2,5], [2,2,2]]) # 빨강           print(arr[[0,2,5],2])\n",
    "\n",
    "\n",
    "print(arr[3:6][:,[0,2,5]]) # 하늘색"
   ]
  },
  {
   "cell_type": "code",
   "execution_count": 57,
   "metadata": {},
   "outputs": [
    {
     "name": "stdout",
     "output_type": "stream",
     "text": [
      "[ 2 12 22 32 42 52]\n",
      "[3 4]\n",
      "[[20 22 24]\n",
      " [40 42 44]]\n",
      "[[44 45]\n",
      " [54 55]]\n"
     ]
    }
   ],
   "source": [
    "print( arr [:][:,2])     # 빨강\n",
    "\n",
    "print(arr [0,[3,4]])          # 0번 행에 대해서 3,4 주황\n",
    "\n",
    "print(arr [[2,4]][:,[0,2,4]])\n",
    "\n",
    "print(arr [4:][:,[4,5]])"
   ]
  },
  {
   "cell_type": "code",
   "execution_count": 71,
   "metadata": {},
   "outputs": [
    {
     "name": "stdout",
     "output_type": "stream",
     "text": [
      "[[ 1  2  3]\n",
      " [ 4  5  6]\n",
      " [ 7  8  9]\n",
      " [10 11 12]]\n",
      "\n",
      "[[ 2  2  4]\n",
      " [ 5  5  7]\n",
      " [ 8  8 10]\n",
      " [11 11 13]]\n",
      "\n",
      "타일 출력\n",
      "[[1 0 1]\n",
      " [1 0 1]\n",
      " [1 0 1]\n",
      " [1 0 1]]\n",
      "\n",
      "[[ 2  2  4]\n",
      " [ 5  5  7]\n",
      " [ 8  8 10]\n",
      " [11 11 13]]\n"
     ]
    },
    {
     "data": {
      "text/plain": [
       "array([[ 4,  5,  6],\n",
       "       [ 7,  8,  9],\n",
       "       [10, 11, 12],\n",
       "       [13, 14, 15]])"
      ]
     },
     "execution_count": 71,
     "metadata": {},
     "output_type": "execute_result"
    }
   ],
   "source": [
    "x = np.array ([[1,2,3],[4,5,6],[7,8,9],[10,11,12]])        #4*3 행렬\n",
    "print(x)\n",
    "print()\n",
    "v = np.array ([1,0,1])\n",
    "print(y)\n",
    "print()\n",
    "print('타일 출력')\n",
    "vv= np.tile(v,(4,1))  # v라는 옴을 행으로 \n",
    "print(vv)\n",
    "print()\n",
    "y = x+vv\n",
    "print(y)\n",
    "x+v           #각 행이 맞지 않지만 연산이 가능하다 이게 바로 broadcast   --> 배열 연산에서는 양쪽 차원이 일치해야한다. \n",
    "# 각 행이나 열 요소중에 차원이 일치하는것과 브로드 캐스팅한다. \n",
    "x+3            # 상수는 모든 데이터에 더해진다. "
   ]
  },
  {
   "cell_type": "code",
   "execution_count": 79,
   "metadata": {},
   "outputs": [
    {
     "name": "stdout",
     "output_type": "stream",
     "text": [
      "[[0 1]\n",
      " [2 3]\n",
      " [4 5]]\n",
      "[[ 1  3  5]\n",
      " [ 3 13 23]\n",
      " [ 5 23 41]]\n",
      "[[0 2 4]\n",
      " [1 3 5]]\n"
     ]
    }
   ],
   "source": [
    "x =np.arange(6).reshape((3,2))\n",
    "print(x)\n",
    "# 거듭제곱 (행열곱)\n",
    " # x @ x   #이러면 에러난다 앞의 행렬의 열수와 뒤의 행렬의 행수가 일치해야한다. \n",
    "# 즉 (3 *2 )  (3*2 )를 전치해줘야한다 \n",
    "# (3*2)(2*3)으로\n",
    "# 전치행렬\n",
    "print(x@x.T)          ## 행렬 곱이다. \n",
    "print(np.transpose(x))"
   ]
  },
  {
   "cell_type": "code",
   "execution_count": 88,
   "metadata": {},
   "outputs": [
    {
     "name": "stdout",
     "output_type": "stream",
     "text": [
      "[[[ 0  1  2  3]\n",
      "  [ 4  5  6  7]\n",
      "  [ 8  9 10 11]]\n",
      "\n",
      " [[12 13 14 15]\n",
      "  [16 17 18 19]\n",
      "  [20 21 22 23]]] \n",
      "\n",
      "----------------\n",
      "[[[ 0  1  2  3]\n",
      "  [12 13 14 15]]\n",
      "\n",
      " [[ 4  5  6  7]\n",
      "  [16 17 18 19]]\n",
      "\n",
      " [[ 8  9 10 11]\n",
      "  [20 21 22 23]]]\n",
      "----------------\n",
      "[[[ 0  4  8]\n",
      "  [ 1  5  9]\n",
      "  [ 2  6 10]\n",
      "  [ 3  7 11]]\n",
      "\n",
      " [[12 16 20]\n",
      "  [13 17 21]\n",
      "  [14 18 22]\n",
      "  [15 19 23]]]\n"
     ]
    }
   ],
   "source": [
    "# tranpose\n",
    "\n",
    "arr = np.arange(24).reshape((2,3,4))         # 2면 3행 4열 \n",
    "print(arr ,'\\n')\n",
    "print('----------------')\n",
    "print(arr.transpose((1,0,2)))                      #3면 2행 4열\n",
    "print('----------------')\n",
    "print(arr.transpose((0,2,1)))                       # 2면 4행 3열 "
   ]
  },
  {
   "cell_type": "code",
   "execution_count": 94,
   "metadata": {},
   "outputs": [
    {
     "name": "stdout",
     "output_type": "stream",
     "text": [
      "[ True False False False False False False]\n",
      "[[ 0.60677861 -1.90549689  0.21004658 -1.6963073 ]]\n",
      "[[ 0.21004658 -1.6963073 ]]\n",
      "[-1.6963073]\n",
      "[False  True  True  True  True  True  True]\n",
      "[False  True  True  True  True  True  True]\n",
      "[ True False  True False  True False False]\n",
      "[[ 0.60677861 -1.90549689  0.21004658 -1.6963073 ]\n",
      " [ 0.08160329 -1.3284238   0.3448216  -0.30663429]\n",
      " [ 0.82147275 -0.08240642 -0.84644276  1.15303491]]\n"
     ]
    }
   ],
   "source": [
    "## Boolean indexing(True/False)\n",
    "### 문자열은 대 소문자를 구분한다. \n",
    "\n",
    "names = np.array(['Seoul', 'Daejun', 'chungju', 'seoul', 'chungju',\n",
    "                 'Daejun', 'Daejun'])\n",
    "data = np.random.randn(7,4)\n",
    "print(names == 'Seoul')       #True, False로 나와 있지만 1,0,0,0,0,0 이렇게 매핑 되어 있음 \n",
    "print(data[names =='Seoul'])  ## 첫번째 있는 0번행만 출력해라 \n",
    "print(data[names =='Seoul',2:])\n",
    "print(data[names =='Seoul',3])\n",
    "print(names != 'Seoul')\n",
    "print(~(names =='Seoul'))\n",
    "mask = (names =='Seoul')|(names =='chungju')\n",
    "print(mask)\n",
    "print(data[mask])"
   ]
  },
  {
   "cell_type": "code",
   "execution_count": 98,
   "metadata": {},
   "outputs": [
    {
     "name": "stdout",
     "output_type": "stream",
     "text": [
      "<zip object at 0x0000026318956F08>\n",
      "[(1.1, 2.1, True), (1.2, 2.2, False), (1.3, 2.3, True), (1.4, 2.4, True), (1.5, 2.5, False)]\n",
      "result= [1.1, 2.2, 1.3, 1.4, 2.5]\n",
      "[1.1 2.2 1.3 1.4 2.5]\n",
      "[[ 0.38447848  0.29207352  0.88014954 -1.5959945 ]\n",
      " [-0.54172594  0.32900973 -0.44913996  0.24362845]\n",
      " [-0.28607989  0.51248145 -0.65319904 -0.02249199]\n",
      " [-0.03965195 -0.75281628 -0.52199033 -1.88302661]]\n",
      "[[ 2  2  2 -2]\n",
      " [-2  2 -2  2]\n",
      " [-2  2 -2 -2]\n",
      " [-2 -2 -2 -2]]\n"
     ]
    }
   ],
   "source": [
    "xarr = np.array([1.1,1.2,1.3,1.4,1.5])\n",
    "yarr = np.array([2.1,2.2,2.3,2.4,2.5])\n",
    "cond = np.array([True, False, True, True, False])\n",
    "print(zip(xarr, yarr, cond))          ## 요소별로 데이터를 묶음, zip 고유 포멧으로 출력 되므로 \n",
    "print(list(zip(xarr,yarr,cond)))             # 리스트로 바꾸어서 출력해줘야한다. \n",
    "result = [(x if c else y)for x,y,c in zip(xarr,yarr,cond)]           # 3 항 연산자\n",
    "print('result=', result)\n",
    "\n",
    "result = np.where(cond,xarr,yarr)       #참이면 x값을 출력 거짓이면 y 값을 출력한다. \n",
    "print(result)\n",
    "\n",
    "arr = np.random.randn(4,4)\n",
    "print(arr)\n",
    "print(np.where(arr>0,2,-2))          # arr의 값이 0 보다 크다면 2  0보다 작다면 -2 "
   ]
  },
  {
   "cell_type": "code",
   "execution_count": 122,
   "metadata": {},
   "outputs": [
    {
     "name": "stdout",
     "output_type": "stream",
     "text": [
      "[ True False  True  True False False  True]\n",
      "[False  True  True  True False  True  True]\n",
      "<zip object at 0x000002631790AF88>\n",
      "[]\n",
      "조건문 [1, 2, 0, 0, 3, 2, 0]\n",
      "3항연산자 [1 2 0 0 3 2 0]\n",
      "수식을 이용한  [1 2 0 0 3 2 0]\n"
     ]
    }
   ],
   "source": [
    "# 문제) 다음 데이터를 이용하여 두개다 참일 떄는 0, cond1이 참일 떄는 1, cond2가 참일 때는 2 그 외일 때는 3으로 처리하여\n",
    "# 출력 하도록 하시오 \n",
    "\n",
    "result = []\n",
    "cond1 = np.array([1,0,1,1,0,0,1],dtype = bool)\n",
    "cond2  = np.array([0,1,1,1,0,1,1],dtype = bool)\n",
    "print(cond1)\n",
    "print(cond2)\n",
    "result2 = zip(cond1,cond2)\n",
    "print(result1)\n",
    "print(list(result1))\n",
    "\n",
    "for i in range(len(cond1)):\n",
    "    if(cond1[i]and cond2[i]):\n",
    "        result.append(0)\n",
    "    elif cond1[i]:\n",
    "        result.append(1)\n",
    "    elif cond2[i]:\n",
    "        result.append(2)\n",
    "    else:\n",
    "        result.append(3)\n",
    "print('조건문',result)\n",
    "\n",
    "\n",
    "\n",
    "\n",
    "result =np.where(cond1&cond2, 0, np.where(cond1,1,np.where(cond2,2,3)))\n",
    "print('3항연산자', result)\n",
    "\n",
    "\n",
    "result = 1*(cond1&~cond2)+ 2*(cond2&~cond1) + 3*~(cond1 |cond2)\n",
    "print('수식을 이용한 ',result)"
   ]
  },
  {
   "cell_type": "code",
   "execution_count": 127,
   "metadata": {},
   "outputs": [
    {
     "name": "stdout",
     "output_type": "stream",
     "text": [
      "30000\n"
     ]
    }
   ],
   "source": [
    "x = np.arange (1, 10001)\n",
    "y = np.arange (10001, 20001)\n",
    "\n",
    "z = np.zeros_like(x)             #z 행렬과 같은 사이즈의 메모리 공간을 확보해준다. 초기화 \n",
    "for i in range(10000):\n",
    "    z[i]= x[i]+y[i]\n",
    "    \n",
    "print(z[i])"
   ]
  },
  {
   "cell_type": "code",
   "execution_count": 129,
   "metadata": {},
   "outputs": [
    {
     "name": "stdout",
     "output_type": "stream",
     "text": [
      "False\n",
      "True\n",
      "[ 2.71828183  7.3890561  20.08553692 54.59815003]\n"
     ]
    }
   ],
   "source": [
    "a = np.array([1,2,3,4])\n",
    "b = np.array([4,2,2,4])\n",
    "print(np.all(a==b))      #전체가 참일 때 참\n",
    "print(np.any(a==b))        #하나라도 참이라면 참\n",
    "print(np.exp(a))             #지수함수(자연대수 :2.718)\n",
    "\n"
   ]
  },
  {
   "cell_type": "code",
   "execution_count": null,
   "metadata": {},
   "outputs": [],
   "source": [
    "# 선형대수: 선형으로 해결하자 --> 비션형도 잘게 나누어보면 선형으로 보인다. \n"
   ]
  },
  {
   "cell_type": "code",
   "execution_count": 130,
   "metadata": {},
   "outputs": [
    {
     "ename": "SyntaxError",
     "evalue": "invalid syntax (<ipython-input-130-0ff0ad1bd826>, line 2)",
     "output_type": "error",
     "traceback": [
      "\u001b[1;36m  File \u001b[1;32m\"<ipython-input-130-0ff0ad1bd826>\"\u001b[1;36m, line \u001b[1;32m2\u001b[0m\n\u001b[1;33m    - 정방행렬 : 정사각형 (행과 열수가 같은 행렬)\u001b[0m\n\u001b[1;37m                        ^\u001b[0m\n\u001b[1;31mSyntaxError\u001b[0m\u001b[1;31m:\u001b[0m invalid syntax\n"
     ]
    }
   ],
   "source": [
    "# 행렬의 종류 \n",
    "- 정방행렬 : 정사각형 (행과 열수가 같은 행렬)\n",
    "- 대칭행렬 : 우상단과 좌하단이 같은 것\n",
    "- 대각행렬 : scale을 변화시키는 요소 \n",
    "- 단위행렬(identity) : 행렬곱의 항등원  , 행렬과 역행렬을 곱하면 단위행렬\n",
    "- 역행렬 : 행렬의 나눗셈을 위해 구해서 곱해지는 행렬 ( 정방행렬만 역행렬이 가능하다 )\n",
    "- 특이행렬: 역행렬이 없는 행렬 \n",
    "- 직교행렬: 축의 정직교를 만들어 줘야한다. 각 축간의 내적이 0인 행렬\n",
    "- 정방행렬이면서 대칭행렬: 공분산행렬, 상관계수행렬, 거리행렬\n",
    "- 공분산 : 두수간의 관계 ((하나의 수 - 평균) * (다른수 -평균))/n-1\\\n",
    "- 상관계수(표준화): 공분산/ 표준편차의 곱을 이용하여 표준화 시킨다 --> -1~1 사이의 값 "
   ]
  },
  {
   "cell_type": "code",
   "execution_count": null,
   "metadata": {},
   "outputs": [],
   "source": []
  },
  {
   "cell_type": "code",
   "execution_count": null,
   "metadata": {},
   "outputs": [],
   "source": []
  },
  {
   "cell_type": "code",
   "execution_count": null,
   "metadata": {},
   "outputs": [],
   "source": []
  },
  {
   "cell_type": "code",
   "execution_count": null,
   "metadata": {},
   "outputs": [],
   "source": []
  },
  {
   "cell_type": "code",
   "execution_count": null,
   "metadata": {},
   "outputs": [],
   "source": []
  },
  {
   "cell_type": "code",
   "execution_count": null,
   "metadata": {},
   "outputs": [],
   "source": []
  },
  {
   "cell_type": "code",
   "execution_count": null,
   "metadata": {},
   "outputs": [],
   "source": []
  },
  {
   "cell_type": "code",
   "execution_count": null,
   "metadata": {},
   "outputs": [],
   "source": []
  },
  {
   "cell_type": "code",
   "execution_count": null,
   "metadata": {},
   "outputs": [],
   "source": []
  },
  {
   "cell_type": "code",
   "execution_count": null,
   "metadata": {},
   "outputs": [],
   "source": []
  },
  {
   "cell_type": "code",
   "execution_count": null,
   "metadata": {},
   "outputs": [],
   "source": []
  },
  {
   "cell_type": "code",
   "execution_count": null,
   "metadata": {},
   "outputs": [],
   "source": []
  },
  {
   "cell_type": "code",
   "execution_count": null,
   "metadata": {},
   "outputs": [],
   "source": []
  },
  {
   "cell_type": "code",
   "execution_count": null,
   "metadata": {},
   "outputs": [],
   "source": []
  },
  {
   "cell_type": "code",
   "execution_count": null,
   "metadata": {},
   "outputs": [],
   "source": []
  },
  {
   "cell_type": "code",
   "execution_count": null,
   "metadata": {},
   "outputs": [],
   "source": []
  },
  {
   "cell_type": "code",
   "execution_count": null,
   "metadata": {},
   "outputs": [],
   "source": []
  },
  {
   "cell_type": "code",
   "execution_count": null,
   "metadata": {},
   "outputs": [],
   "source": []
  },
  {
   "cell_type": "code",
   "execution_count": null,
   "metadata": {},
   "outputs": [],
   "source": []
  },
  {
   "cell_type": "code",
   "execution_count": null,
   "metadata": {},
   "outputs": [],
   "source": []
  },
  {
   "cell_type": "code",
   "execution_count": null,
   "metadata": {},
   "outputs": [],
   "source": []
  },
  {
   "cell_type": "code",
   "execution_count": null,
   "metadata": {},
   "outputs": [],
   "source": []
  },
  {
   "cell_type": "code",
   "execution_count": null,
   "metadata": {},
   "outputs": [],
   "source": []
  },
  {
   "cell_type": "code",
   "execution_count": null,
   "metadata": {},
   "outputs": [],
   "source": []
  },
  {
   "cell_type": "code",
   "execution_count": null,
   "metadata": {},
   "outputs": [],
   "source": []
  },
  {
   "cell_type": "code",
   "execution_count": null,
   "metadata": {},
   "outputs": [],
   "source": []
  }
 ],
 "metadata": {
  "kernelspec": {
   "display_name": "Python 3",
   "language": "python",
   "name": "python3"
  },
  "language_info": {
   "codemirror_mode": {
    "name": "ipython",
    "version": 3
   },
   "file_extension": ".py",
   "mimetype": "text/x-python",
   "name": "python",
   "nbconvert_exporter": "python",
   "pygments_lexer": "ipython3",
   "version": "3.7.4"
  }
 },
 "nbformat": 4,
 "nbformat_minor": 2
}
